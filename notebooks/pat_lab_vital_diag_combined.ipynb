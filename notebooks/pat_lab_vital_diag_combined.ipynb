{
 "cells": [
  {
   "cell_type": "markdown",
   "metadata": {},
   "source": [
    "## Purpose\n",
    "* Merge the different patient data to create the final dataframe. lab_vital_merged_time.csv contains the filtered data (negative class sampled days 2-5, negative patients that underwent dialysis). Use this table to filter the patient info and past history.\n",
    "* Get rid of columns with most missing values in the positive class.\n",
    "* Get rid of rows with most missing values."
   ]
  },
  {
   "cell_type": "code",
   "execution_count": 4,
   "metadata": {},
   "outputs": [
    {
     "name": "stdout",
     "output_type": "stream",
     "text": [
      "90804\n",
      "51079\n",
      "90804\n"
     ]
    }
   ],
   "source": [
    "import pandas as pd\n",
    "import numpy as np\n",
    "import matplotlib.pyplot as plt\n",
    "pat_adm = pd.read_csv('../data/intermediate/pat_admit_diag_cleaned.csv')\n",
    "lab_vit = pd.read_csv('../data/intermediate/lab_vital_merged_time.csv')\n",
    "past_hist = pd.read_csv('../data/intermediate/pasthist_processed.csv')\n",
    "print(len(pat_adm))\n",
    "print(len(lab_vit))\n",
    "print(len(past_hist))"
   ]
  },
  {
   "cell_type": "code",
   "execution_count": 21,
   "metadata": {},
   "outputs": [],
   "source": [
    "pat_adm.set_index('patientunitstayid', inplace=True)\n",
    "past_hist.set_index('patientunitstayid', inplace=True)\n",
    "lab_vit.set_index('patientunitstayid', inplace=True)"
   ]
  },
  {
   "cell_type": "code",
   "execution_count": 23,
   "metadata": {},
   "outputs": [
    {
     "data": {
      "text/plain": [
       "51079"
      ]
     },
     "execution_count": 23,
     "metadata": {},
     "output_type": "execute_result"
    }
   ],
   "source": [
    "combined_df = lab_vit.merge(pat_adm, right_index=True, left_index=True)\n",
    "combined_df = combined_df.merge(past_hist, right_index=True, left_index=True)\n",
    "len(combined_df)"
   ]
  },
  {
   "cell_type": "code",
   "execution_count": 29,
   "metadata": {},
   "outputs": [
    {
     "name": "stdout",
     "output_type": "stream",
     "text": [
      "2295\n"
     ]
    },
    {
     "data": {
      "text/plain": [
       "min_result_FiO2                 0.273203\n",
       "min_result_HCO3                 0.299346\n",
       "min_result_MCH                  0.129847\n",
       "min_result_MPV                  0.426144\n",
       "min_result_RDW                  0.128976\n",
       "min_result_anion gap            0.195207\n",
       "min_result_bedside glucose      0.215686\n",
       "min_result_magnesium            0.209586\n",
       "min_result_pH                   0.285403\n",
       "min_result_paCO2                0.296296\n",
       "min_result_paO2                 0.285403\n",
       "max_result_FiO2                 0.273203\n",
       "max_result_HCO3                 0.299346\n",
       "max_result_MCH                  0.129847\n",
       "max_result_MPV                  0.426144\n",
       "max_result_RDW                  0.128976\n",
       "max_result_anion gap            0.195207\n",
       "max_result_bedside glucose      0.215686\n",
       "max_result_magnesium            0.209586\n",
       "max_result_pH                   0.285403\n",
       "max_result_paCO2                0.296296\n",
       "max_result_paO2                 0.285403\n",
       "delta_result_FiO2               0.273203\n",
       "delta_result_HCO3               0.299346\n",
       "delta_result_MCH                0.129847\n",
       "delta_result_MPV                0.426144\n",
       "delta_result_RDW                0.128976\n",
       "delta_result_anion gap          0.195207\n",
       "delta_result_bedside glucose    0.215686\n",
       "delta_result_magnesium          0.209586\n",
       "delta_result_pH                 0.285403\n",
       "delta_result_paCO2              0.296296\n",
       "delta_result_paO2               0.285403\n",
       "dtype: float64"
      ]
     },
     "execution_count": 29,
     "metadata": {},
     "output_type": "execute_result"
    }
   ],
   "source": [
    "pos_mis_val = combined_df[combined_df['aki_label']==1].isna().sum()\n",
    "num_pos_class = len(combined_df[combined_df['aki_label']==1])\n",
    "print(num_pos_class)\n",
    "pos_mis_val_fract = pos_mis_val/num_pos_class\n",
    "cols_to_drop = pos_mis_val_fract[pos_mis_val_fract>0.1]\n",
    "cols_to_drop"
   ]
  },
  {
   "cell_type": "code",
   "execution_count": 31,
   "metadata": {},
   "outputs": [
    {
     "name": "stdout",
     "output_type": "stream",
     "text": [
      "(51079, 333)\n",
      "(51079, 300)\n"
     ]
    }
   ],
   "source": [
    "print(combined_df.shape)\n",
    "combined_df.drop(columns=cols_to_drop.index.tolist(), inplace=True)\n",
    "print(combined_df.shape)"
   ]
  },
  {
   "cell_type": "code",
   "execution_count": 56,
   "metadata": {},
   "outputs": [
    {
     "data": {
      "text/plain": [
       "3384"
      ]
     },
     "execution_count": 56,
     "metadata": {},
     "output_type": "execute_result"
    }
   ],
   "source": [
    "row_null_sum_neg = combined_df.loc[combined_df['aki_label']==0].isnull().sum(axis=1).sort_values(ascending=True)\n",
    "neg_to_drop = row_null_sum_neg[row_null_sum_neg>6]\n",
    "len(neg_to_drop)"
   ]
  },
  {
   "cell_type": "code",
   "execution_count": 55,
   "metadata": {},
   "outputs": [
    {
     "data": {
      "text/plain": [
       "165"
      ]
     },
     "execution_count": 55,
     "metadata": {},
     "output_type": "execute_result"
    }
   ],
   "source": [
    "row_null_sum_pos = combined_df.loc[combined_df['aki_label']==1].isnull().sum(axis=1).sort_values(ascending=True)\n",
    "pos_to_drop = row_null_sum_pos[row_null_sum_pos>6]\n",
    "len(pos_to_drop)"
   ]
  },
  {
   "cell_type": "code",
   "execution_count": 59,
   "metadata": {},
   "outputs": [
    {
     "data": {
      "text/plain": [
       "3549"
      ]
     },
     "execution_count": 59,
     "metadata": {},
     "output_type": "execute_result"
    }
   ],
   "source": [
    "total_rows_todrop = neg_to_drop.index.tolist() + pos_to_drop.index.tolist()\n",
    "#combined_df\n",
    "len(total_rows_todrop)"
   ]
  },
  {
   "cell_type": "code",
   "execution_count": 60,
   "metadata": {},
   "outputs": [
    {
     "name": "stdout",
     "output_type": "stream",
     "text": [
      "51079\n",
      "47530\n"
     ]
    }
   ],
   "source": [
    "print(len(combined_df))\n",
    "combined_df = combined_df[~combined_df.index.isin(total_rows_todrop)]\n",
    "print(len(combined_df))"
   ]
  },
  {
   "cell_type": "code",
   "execution_count": 68,
   "metadata": {},
   "outputs": [
    {
     "name": "stdout",
     "output_type": "stream",
     "text": [
      "0.046279958829583884\n",
      "0.046537273930304365\n",
      "0.04929422143802382\n"
     ]
    }
   ],
   "source": [
    "from sklearn.model_selection import train_test_split\n",
    "# generate unique pateint set for splitting\n",
    "patient_set = combined_df.groupby('patienthealthsystemstayid')['aki_label'].sum()\n",
    "# if a pateint had more than one episode of aki, set it to 1\n",
    "patient_set.loc[patient_set > 1]=1\n",
    "train_val, test = train_test_split(patient_set, test_size=0.2)\n",
    "train, val = train_test_split(train_val, test_size=0.25)\n",
    "print(sum(train)/len(train))\n",
    "print(sum(val)/len(val))\n",
    "print(sum(test)/len(test))"
   ]
  },
  {
   "cell_type": "code",
   "execution_count": 72,
   "metadata": {},
   "outputs": [
    {
     "name": "stdout",
     "output_type": "stream",
     "text": [
      "27204\n",
      "9068\n",
      "9068\n"
     ]
    }
   ],
   "source": [
    "print(len(train))\n",
    "print(len(val))\n",
    "print(len(test))"
   ]
  },
  {
   "cell_type": "code",
   "execution_count": 73,
   "metadata": {},
   "outputs": [
    {
     "name": "stdout",
     "output_type": "stream",
     "text": [
      "28543\n",
      "9488\n",
      "9499\n"
     ]
    }
   ],
   "source": [
    "train_df = combined_df[combined_df['patienthealthsystemstayid'].isin(train.index.tolist())]\n",
    "val_df = combined_df[combined_df['patienthealthsystemstayid'].isin(val.index.tolist())]\n",
    "test_df = combined_df[combined_df['patienthealthsystemstayid'].isin(test.index.tolist())]\n",
    "print(len(train_df))\n",
    "print(len(val_df))\n",
    "print(len(test_df))"
   ]
  },
  {
   "cell_type": "code",
   "execution_count": 75,
   "metadata": {},
   "outputs": [
    {
     "data": {
      "text/plain": [
       "['min_sao2',\n",
       " 'max_sao2',\n",
       " 'mean_sao2',\n",
       " 'min_heartrate',\n",
       " 'max_heartrate',\n",
       " 'mean_heartrate',\n",
       " 'min_respiration',\n",
       " 'max_respiration',\n",
       " 'mean_respiration',\n",
       " 'days_of_data',\n",
       " 'min_result_BUN',\n",
       " 'min_result_Hct',\n",
       " 'min_result_Hgb',\n",
       " 'min_result_MCHC',\n",
       " 'min_result_MCV',\n",
       " 'min_result_RBC',\n",
       " 'min_result_WBC x 1000',\n",
       " 'min_result_bicarbonate',\n",
       " 'min_result_calcium',\n",
       " 'min_result_chloride',\n",
       " 'min_result_creatinine',\n",
       " 'min_result_glucose',\n",
       " 'min_result_platelets x 1000',\n",
       " 'min_result_potassium',\n",
       " 'min_result_sodium',\n",
       " 'max_result_BUN',\n",
       " 'max_result_Hct',\n",
       " 'max_result_Hgb',\n",
       " 'max_result_MCHC',\n",
       " 'max_result_MCV',\n",
       " 'max_result_RBC',\n",
       " 'max_result_WBC x 1000',\n",
       " 'max_result_bicarbonate',\n",
       " 'max_result_calcium',\n",
       " 'max_result_chloride',\n",
       " 'max_result_creatinine',\n",
       " 'max_result_glucose',\n",
       " 'max_result_platelets x 1000',\n",
       " 'max_result_potassium',\n",
       " 'max_result_sodium',\n",
       " 'delta_result_BUN',\n",
       " 'delta_result_Hct',\n",
       " 'delta_result_Hgb',\n",
       " 'delta_result_MCHC',\n",
       " 'delta_result_MCV',\n",
       " 'delta_result_RBC',\n",
       " 'delta_result_WBC x 1000',\n",
       " 'delta_result_bicarbonate',\n",
       " 'delta_result_calcium',\n",
       " 'delta_result_chloride',\n",
       " 'delta_result_creatinine',\n",
       " 'delta_result_glucose',\n",
       " 'delta_result_platelets x 1000',\n",
       " 'delta_result_potassium',\n",
       " 'delta_result_sodium',\n",
       " 'organsys_Cardiovascular',\n",
       " 'organsys_Gastrointestinal',\n",
       " 'organsys_Genitourinary',\n",
       " 'organsys_Hematology',\n",
       " 'organsys_Metabolic/Endocrine',\n",
       " 'organsys_Musculoskeletal/Skin',\n",
       " 'organsys_Neurologic',\n",
       " 'organsys_Respiratory',\n",
       " 'organsys_Trauma',\n",
       " 'from_or_Yes',\n",
       " 'gender_Female',\n",
       " 'ethnicity_African American',\n",
       " 'ethnicity_Asian',\n",
       " 'ethnicity_Caucasian',\n",
       " 'ethnicity_Hispanic',\n",
       " 'ethnicity_Other/Unknown',\n",
       " 'unittype_CCU-CTICU',\n",
       " 'unittype_CSICU',\n",
       " 'unittype_Cardiac ICU',\n",
       " 'unittype_MICU',\n",
       " 'unittype_Med-Surg ICU',\n",
       " 'unittype_Neuro ICU',\n",
       " 'unittype_SICU',\n",
       " 'unitdischargestatus_Alive',\n",
       " 'age',\n",
       " 'patienthealthsystemstayid',\n",
       " 'unitvisitnumber',\n",
       " 'unitdischargeoffset',\n",
       " 'aki_label',\n",
       " 'aki_offset',\n",
       " '>= 20 mg prednisone per day or equivalent',\n",
       " 'A paced',\n",
       " 'A/V paced',\n",
       " 'AICD',\n",
       " 'AIDS',\n",
       " 'ALL',\n",
       " 'AML',\n",
       " 'AR',\n",
       " 'AS',\n",
       " 'Alkylating agents (bleomycin, cytoxan, cyclophos.)',\n",
       " 'Anthracyclines (adriamycin, daunorubicin)',\n",
       " 'BMT within past 12 mos.',\n",
       " 'CABG - date unknown',\n",
       " 'CABG - remote',\n",
       " 'CABG - within 2 years',\n",
       " 'CABG - within 5 years',\n",
       " 'CABG - within 6 months',\n",
       " 'CHF',\n",
       " 'CHF - class I',\n",
       " 'CHF - class II',\n",
       " 'CHF - class III',\n",
       " 'CHF - class IV',\n",
       " 'CHF - severity unknown',\n",
       " 'CLL',\n",
       " 'CML',\n",
       " 'COPD  - moderate',\n",
       " 'COPD  - no limitations',\n",
       " 'COPD  - severe',\n",
       " 'Cis-platinum',\n",
       " \"Cushing's syndrome\",\n",
       " 'DLCO 31-40',\n",
       " 'DLCO 41-50',\n",
       " 'DLCO 51-60',\n",
       " 'DLCO 61-70',\n",
       " 'DLCO 71-80',\n",
       " 'DLCO <30',\n",
       " 'DLCO >80',\n",
       " 'DVT - date unknown',\n",
       " 'DVT - remote',\n",
       " 'DVT - within 2 years',\n",
       " 'DVT - within 5 years',\n",
       " 'DVT - within 6 months',\n",
       " 'FEV1 31-40',\n",
       " 'FEV1 41-50',\n",
       " 'FEV1 51-60',\n",
       " 'FEV1 61-70',\n",
       " 'FEV1 71-80',\n",
       " 'FEV1 <30',\n",
       " 'FEV1 >80',\n",
       " 'FEV1/FVC ratio 31-40',\n",
       " 'FEV1/FVC ratio 41-50',\n",
       " 'FEV1/FVC ratio 51-60',\n",
       " 'FEV1/FVC ratio 61-70',\n",
       " 'FEV1/FVC ratio 71-80',\n",
       " 'FEV1/FVC ratio <30',\n",
       " 'FEV1/FVC ratio >80',\n",
       " 'FVC 31-40',\n",
       " 'FVC 41-50',\n",
       " 'FVC 51-60',\n",
       " 'FVC 61-70',\n",
       " 'FVC 71-80',\n",
       " 'FVC <30',\n",
       " 'FVC >80',\n",
       " 'HIV positive',\n",
       " 'Hodgkins disease',\n",
       " 'ITP',\n",
       " 'MAT',\n",
       " 'MI - date unknown',\n",
       " 'MI - remote',\n",
       " 'MI - within 2 years',\n",
       " 'MI - within 5 years',\n",
       " 'MI - within 6 months',\n",
       " 'MR',\n",
       " 'MS',\n",
       " 'No Health Problems',\n",
       " 'Not Obtainable',\n",
       " 'Not Performed',\n",
       " 'PS',\n",
       " 'Performed',\n",
       " 'SLE',\n",
       " 'SVT- other',\n",
       " 'TIA(s) - date unknown',\n",
       " 'TIA(s) - remote',\n",
       " 'TIA(s) - within 2 years',\n",
       " 'TIA(s) - within 5 years',\n",
       " 'TIA(s) - within 6 months',\n",
       " 'TR',\n",
       " 'UGI bleeding',\n",
       " 'V paced',\n",
       " 'Vincristine',\n",
       " 'angina',\n",
       " 'angina - class I',\n",
       " 'angina - class II',\n",
       " 'angina - class III',\n",
       " 'angina - class IV',\n",
       " 'angina - severity unknown',\n",
       " 'aplastic anemia',\n",
       " 'ascites',\n",
       " 'asthma',\n",
       " 'atrial fibrillation - chronic',\n",
       " 'atrial fibrillation - intermittent',\n",
       " 'bile duct',\n",
       " 'biopsy proven',\n",
       " 'bladder',\n",
       " 'bone',\n",
       " 'both prednisone and other immunosuppressive medications',\n",
       " 'brain',\n",
       " 'breast',\n",
       " 'carcinomatosis',\n",
       " 'chemotherapy within past 6 mos.',\n",
       " 'chemotherapy within past mo.',\n",
       " 'chronic kidney stones',\n",
       " 'clinical diagnosis',\n",
       " 'clotting disorder',\n",
       " 'colon',\n",
       " 'coma',\n",
       " 'dementia',\n",
       " 'dermatomyositis',\n",
       " 'encephalopathy',\n",
       " 'esophagus',\n",
       " 'essential thrombocytosis',\n",
       " 'excellent - strenuous exercise (>10 mets)',\n",
       " 'focal seizures',\n",
       " 'generalized seizures',\n",
       " 'head and neck',\n",
       " 'hemolytic anemia',\n",
       " 'home oxygen',\n",
       " 'hypercalcemia',\n",
       " 'hypercoagulable condition',\n",
       " 'hypertension requiring treatment',\n",
       " 'hyperthyroidism',\n",
       " 'hypothyroidism',\n",
       " 'insulin dependent diabetes',\n",
       " 'intra-abdominal',\n",
       " 'intracranial mass',\n",
       " 'jaundice',\n",
       " 'kidney',\n",
       " 'leukemia - other',\n",
       " 'limited - household activities (1-4 mets)',\n",
       " 'liver',\n",
       " 'lung',\n",
       " 'medication dependent',\n",
       " 'melanoma',\n",
       " 'moderate - stairs/brisk walking (5-10 mets)',\n",
       " 'multiple',\n",
       " 'multiple myeloma',\n",
       " 'myelofibrosis',\n",
       " 'neurogenic bladder',\n",
       " 'neuromuscular disease',\n",
       " 'nodes',\n",
       " 'non-Hodgkins lymphoma',\n",
       " 'non-medication dependent',\n",
       " 'none',\n",
       " 'none - bed-ridden',\n",
       " 'other',\n",
       " 'other hematologic malignancy',\n",
       " 'other immunosuppressive medications',\n",
       " 'other seizures',\n",
       " 'ovary',\n",
       " 'pancreas - adenocarcinoma',\n",
       " 'pancreas - islet cell',\n",
       " 'peptic ulcer disease',\n",
       " 'peptic ulcer disease with h/o GI bleeding',\n",
       " 'peripheral vascular disease',\n",
       " 'petite mal seizures',\n",
       " 'polycythemia vera',\n",
       " 'primary site',\n",
       " 'procedural coronary intervention - date unknown',\n",
       " 'procedural coronary intervention - remote',\n",
       " 'procedural coronary intervention - within 2 years',\n",
       " 'procedural coronary intervention - within 5 years',\n",
       " 'procedural coronary intervention - within 6 months',\n",
       " 'prostate',\n",
       " 'pulmonary embolism - date unknown',\n",
       " 'pulmonary embolism - remote',\n",
       " 'pulmonary embolism - within 2 years',\n",
       " 'pulmonary embolism - within 5 years',\n",
       " 'pulmonary embolism - within 6 months',\n",
       " 'recent steroid use for > 10 days',\n",
       " 'renal tubular acidosis',\n",
       " 'respiratory failure - date unknown',\n",
       " 'respiratory failure - remote',\n",
       " 'respiratory failure - within 2 years',\n",
       " 'respiratory failure - within 5 years',\n",
       " 'respiratory failure - within 6 months',\n",
       " 'restrictive pulmonary disease',\n",
       " 'rheumatoid arthritis',\n",
       " 's/p AVR',\n",
       " 's/p MVR',\n",
       " 's/p TVR',\n",
       " 's/p heart transplant',\n",
       " 's/p liver transplant',\n",
       " 's/p lung transplant',\n",
       " 's/p renal transplant',\n",
       " 'sarcoidosis',\n",
       " 'sarcoma',\n",
       " 'scleroderma',\n",
       " 'sick sinus syndrome',\n",
       " 'sickle cell disease',\n",
       " 'splenomegaly',\n",
       " 'stomach',\n",
       " 'stroke - date unknown',\n",
       " 'stroke - remote',\n",
       " 'stroke - within 2 years',\n",
       " 'stroke - within 5 years',\n",
       " 'stroke - within 6 months',\n",
       " 'testes',\n",
       " 'unknown',\n",
       " 'unknown pacer',\n",
       " 'uterus',\n",
       " 'varices',\n",
       " 'vasculitis',\n",
       " 'ventricular ectopy',\n",
       " 'ventricular fibrillation',\n",
       " 'ventricular tachycardia']"
      ]
     },
     "execution_count": 75,
     "metadata": {},
     "output_type": "execute_result"
    }
   ],
   "source": [
    "combined_df.columns.tolist()"
   ]
  },
  {
   "cell_type": "code",
   "execution_count": null,
   "metadata": {},
   "outputs": [],
   "source": [
    "not_predictors = ['days_of_data', 'unitdischargestatus_Alive', 'patienthealthsystemstayid',\\\n",
    "                  'unitdischargeoffset', 'aki_offset']\n",
    "train_df.drop(columns=not_predictors).to_csv('../data/intermediate/06162010_train.csv')\n",
    "val_df.drop(columns=not_predictors).to_csv('../data/intermediate/06162010_val.csv')\n",
    "test_df.drop(columns=not_predictors).to_csv('../data/intermediate/06162010_test.csv')"
   ]
  }
 ],
 "metadata": {
  "kernelspec": {
   "display_name": "Python 3",
   "language": "python",
   "name": "python3"
  },
  "language_info": {
   "codemirror_mode": {
    "name": "ipython",
    "version": 3
   },
   "file_extension": ".py",
   "mimetype": "text/x-python",
   "name": "python",
   "nbconvert_exporter": "python",
   "pygments_lexer": "ipython3",
   "version": "3.8.3"
  }
 },
 "nbformat": 4,
 "nbformat_minor": 4
}
