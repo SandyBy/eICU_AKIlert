{
 "cells": [
  {
   "cell_type": "markdown",
   "metadata": {},
   "source": [
    "# Purpose - prepare for machine learning\n",
    "* drop hopeless columns with too many missing values\n",
    "* impute the remaining values\n",
    "* one-hot encode categorical features"
   ]
  },
  {
   "cell_type": "code",
   "execution_count": 2,
   "metadata": {},
   "outputs": [],
   "source": [
    "import pandas as pd\n",
    "import numpy as np\n",
    "import matplotlib.pyplot as plt\n",
    "%matplotlib inline"
   ]
  },
  {
   "cell_type": "code",
   "execution_count": 17,
   "metadata": {},
   "outputs": [],
   "source": [
    "train_df = pd.read_csv('../data/final/train_spliton_pat.csv')\n",
    "val_df = pd.read_csv('../data/final/val_spliton_pat.csv')\n",
    "test_df = pd.read_csv('../data/final/test_spliton_pat.csv')"
   ]
  },
  {
   "cell_type": "code",
   "execution_count": 18,
   "metadata": {},
   "outputs": [
    {
     "data": {
      "text/plain": [
       "dischargeweight                 0.378615\n",
       "min_result_FiO2                 0.274378\n",
       "min_result_HCO3                 0.299933\n",
       "min_result_MCH                  0.151311\n",
       "min_result_MPV                  0.442502\n",
       "min_result_RDW                  0.137861\n",
       "min_result_anion gap            0.212508\n",
       "min_result_bedside glucose      0.229321\n",
       "min_result_magnesium            0.209818\n",
       "min_result_pH                   0.288500\n",
       "min_result_paCO2                0.300605\n",
       "min_result_paO2                 0.287828\n",
       "max_result_FiO2                 0.274378\n",
       "max_result_HCO3                 0.299933\n",
       "max_result_MCH                  0.151311\n",
       "max_result_MPV                  0.442502\n",
       "max_result_RDW                  0.137861\n",
       "max_result_anion gap            0.212508\n",
       "max_result_bedside glucose      0.229321\n",
       "max_result_magnesium            0.209818\n",
       "max_result_pH                   0.288500\n",
       "max_result_paCO2                0.300605\n",
       "max_result_paO2                 0.287828\n",
       "delta_result_FiO2               0.274378\n",
       "delta_result_HCO3               0.299933\n",
       "delta_result_MCH                0.151311\n",
       "delta_result_MPV                0.442502\n",
       "delta_result_RDW                0.137861\n",
       "delta_result_anion gap          0.212508\n",
       "delta_result_bedside glucose    0.229321\n",
       "delta_result_magnesium          0.209818\n",
       "delta_result_pH                 0.288500\n",
       "delta_result_paCO2              0.300605\n",
       "delta_result_paO2               0.287828\n",
       "dtype: float64"
      ]
     },
     "execution_count": 18,
     "metadata": {},
     "output_type": "execute_result"
    }
   ],
   "source": [
    "pos_null_value_fract = train_df[train_df['aki_label']==1].isnull().sum()/len(train_df[train_df['aki_label']==1])\n",
    "to_drop = pos_null_value_fract[pos_null_value_fract>0.1]\n",
    "to_drop"
   ]
  },
  {
   "cell_type": "code",
   "execution_count": 19,
   "metadata": {},
   "outputs": [],
   "source": [
    "cols_to_drop = to_drop.index.tolist() + ['Unnamed: 0']\n",
    "train_df.drop(columns=cols_to_drop, inplace=True)\n",
    "val_df.drop(columns=cols_to_drop, inplace=True)\n",
    "test_df.drop(columns=cols_to_drop, inplace=True)"
   ]
  },
  {
   "cell_type": "code",
   "execution_count": 20,
   "metadata": {},
   "outputs": [
    {
     "data": {
      "text/plain": [
       "Series([], dtype: float64)"
      ]
     },
     "execution_count": 20,
     "metadata": {},
     "output_type": "execute_result"
    }
   ],
   "source": [
    "pos_null_value_fract_val = val_df[val_df['aki_label']==1].isnull().sum()/len(val_df[val_df['aki_label']==1])\n",
    "pos_null_value_fract_val[pos_null_value_fract_val>0.1]"
   ]
  },
  {
   "cell_type": "code",
   "execution_count": 22,
   "metadata": {},
   "outputs": [
    {
     "data": {
      "text/plain": [
       "Series([], dtype: float64)"
      ]
     },
     "execution_count": 22,
     "metadata": {},
     "output_type": "execute_result"
    }
   ],
   "source": [
    "pos_null_value_fract_test = test_df[test_df['aki_label']==1].isnull().sum()/len(test_df[test_df['aki_label']==1])\n",
    "pos_null_value_fract_test[pos_null_value_fract_test>0.1]"
   ]
  },
  {
   "cell_type": "code",
   "execution_count": 24,
   "metadata": {},
   "outputs": [
    {
     "data": {
      "text/plain": [
       "['patienthealthsystemstayid',\n",
       " 'patientunitstayid',\n",
       " 'gender',\n",
       " 'age',\n",
       " 'ethnicity',\n",
       " 'unittype',\n",
       " 'unitadmittime24',\n",
       " 'unitadmitsource',\n",
       " 'unitvisitnumber',\n",
       " 'unitstaytype',\n",
       " 'admissionweight',\n",
       " 'unitdischargetime24',\n",
       " 'unitdischargeoffset',\n",
       " 'unitdischargestatus',\n",
       " 'aki_label',\n",
       " 'aki_offset',\n",
       " 'organ_system',\n",
       " 'from_OR',\n",
       " 'min_sao2',\n",
       " 'max_sao2',\n",
       " 'mean_sao2',\n",
       " 'min_heartrate',\n",
       " 'max_heartrate',\n",
       " 'mean_heartrate',\n",
       " 'min_respiration',\n",
       " 'max_respiration',\n",
       " 'mean_respiration',\n",
       " 'days_of_data',\n",
       " 'min_result_BUN',\n",
       " 'min_result_Hct',\n",
       " 'min_result_Hgb',\n",
       " 'min_result_MCHC',\n",
       " 'min_result_MCV',\n",
       " 'min_result_RBC',\n",
       " 'min_result_WBC x 1000',\n",
       " 'min_result_bicarbonate',\n",
       " 'min_result_calcium',\n",
       " 'min_result_chloride',\n",
       " 'min_result_creatinine',\n",
       " 'min_result_glucose',\n",
       " 'min_result_platelets x 1000',\n",
       " 'min_result_potassium',\n",
       " 'min_result_sodium',\n",
       " 'max_result_BUN',\n",
       " 'max_result_Hct',\n",
       " 'max_result_Hgb',\n",
       " 'max_result_MCHC',\n",
       " 'max_result_MCV',\n",
       " 'max_result_RBC',\n",
       " 'max_result_WBC x 1000',\n",
       " 'max_result_bicarbonate',\n",
       " 'max_result_calcium',\n",
       " 'max_result_chloride',\n",
       " 'max_result_creatinine',\n",
       " 'max_result_glucose',\n",
       " 'max_result_platelets x 1000',\n",
       " 'max_result_potassium',\n",
       " 'max_result_sodium',\n",
       " 'delta_result_BUN',\n",
       " 'delta_result_Hct',\n",
       " 'delta_result_Hgb',\n",
       " 'delta_result_MCHC',\n",
       " 'delta_result_MCV',\n",
       " 'delta_result_RBC',\n",
       " 'delta_result_WBC x 1000',\n",
       " 'delta_result_bicarbonate',\n",
       " 'delta_result_calcium',\n",
       " 'delta_result_chloride',\n",
       " 'delta_result_creatinine',\n",
       " 'delta_result_glucose',\n",
       " 'delta_result_platelets x 1000',\n",
       " 'delta_result_potassium',\n",
       " 'delta_result_sodium',\n",
       " 'unitdischargestatus_alive']"
      ]
     },
     "execution_count": 24,
     "metadata": {},
     "output_type": "execute_result"
    }
   ],
   "source": [
    "# before imputing need to fill out categorical column and one-hot-encode\n",
    "train_df.columns.tolist()"
   ]
  },
  {
   "cell_type": "code",
   "execution_count": 26,
   "metadata": {},
   "outputs": [],
   "source": [
    "more_cols_to_drop = ['unitadmittime24',\n",
    " 'unitadmitsource',\n",
    " 'unitvisitnumber',\n",
    " 'unitstaytype',\n",
    " 'admissionweight',\n",
    " 'unitdischargetime24',\n",
    " 'unitdischargeoffset']\n",
    "train_df.drop(columns=more_cols_to_drop, inplace=True)\n",
    "val_df.drop(columns=more_cols_to_drop, inplace=True)\n",
    "test_df.drop(columns=more_cols_to_drop, inplace=True)\n",
    "\n",
    "cat_cols = ['gender',\n",
    " 'age',\n",
    " 'ethnicity',\n",
    " 'unittype',\n",
    " 'organ_system',\n",
    " 'from_OR']\n",
    "\n",
    "#train_cat = pd.get_dummies(train_df, prefix_sep='_', columns=cat_cols) "
   ]
  },
  {
   "cell_type": "code",
   "execution_count": 30,
   "metadata": {},
   "outputs": [
    {
     "data": {
      "text/plain": [
       "gender           0\n",
       "age              0\n",
       "ethnicity       12\n",
       "unittype         0\n",
       "organ_system     0\n",
       "from_OR          0\n",
       "dtype: int64"
      ]
     },
     "execution_count": 30,
     "metadata": {},
     "output_type": "execute_result"
    }
   ],
   "source": [
    "train_df[train_df['aki_label']==1][cat_cols].isnull().sum()"
   ]
  },
  {
   "cell_type": "code",
   "execution_count": 34,
   "metadata": {},
   "outputs": [
    {
     "data": {
      "text/plain": [
       "gender          0\n",
       "age             0\n",
       "ethnicity       0\n",
       "unittype        0\n",
       "organ_system    0\n",
       "from_OR         0\n",
       "dtype: int64"
      ]
     },
     "execution_count": 34,
     "metadata": {},
     "output_type": "execute_result"
    }
   ],
   "source": [
    "train_df = train_df.loc[(train_df.gender=='Male') | (train_df.gender=='Female')]\n",
    "train_df.loc[(train_df.ethnicity.isnull()) & (train_df.aki_label==1), 'ethnicity'] = 'Other/Unknown'\n",
    "train_df = train_df[~train_df.ethnicity.isnull()]\n",
    "train_df[cat_cols].isnull().sum()"
   ]
  },
  {
   "cell_type": "code",
   "execution_count": 35,
   "metadata": {},
   "outputs": [
    {
     "data": {
      "text/plain": [
       "gender          0\n",
       "age             0\n",
       "ethnicity       0\n",
       "unittype        0\n",
       "organ_system    0\n",
       "from_OR         0\n",
       "dtype: int64"
      ]
     },
     "execution_count": 35,
     "metadata": {},
     "output_type": "execute_result"
    }
   ],
   "source": [
    "val_df = val_df.loc[(val_df.gender=='Male') | (val_df.gender=='Female')]\n",
    "val_df.loc[(val_df.ethnicity.isnull()) & (val_df.aki_label==1), 'ethnicity'] = 'Other/Unknown'\n",
    "val_df = train_df[~train_df.ethnicity.isnull()]\n",
    "val_df[cat_cols].isnull().sum()"
   ]
  },
  {
   "cell_type": "code",
   "execution_count": 37,
   "metadata": {},
   "outputs": [
    {
     "data": {
      "text/plain": [
       "gender          0\n",
       "age             0\n",
       "ethnicity       0\n",
       "unittype        0\n",
       "organ_system    0\n",
       "from_OR         0\n",
       "dtype: int64"
      ]
     },
     "execution_count": 37,
     "metadata": {},
     "output_type": "execute_result"
    }
   ],
   "source": [
    "test_df = test_df.loc[(val_df.gender=='Male') | (test_df.gender=='Female')]\n",
    "test_df.loc[(test_df.ethnicity.isnull()) & (test_df.aki_label==1), 'ethnicity'] = 'Other/Unknown'\n",
    "test_df = test_df[~test_df.ethnicity.isnull()]\n",
    "test_df[cat_cols].isnull().sum()"
   ]
  },
  {
   "cell_type": "code",
   "execution_count": 39,
   "metadata": {},
   "outputs": [],
   "source": [
    "train_cat = pd.get_dummies(train_df, prefix_sep='_', columns=cat_cols) \n",
    "val_cat = pd.get_dummies(val_df, prefix_sep='_', columns=cat_cols) \n",
    "test_cat = pd.get_dummies(test_df, prefix_sep='_', columns=cat_cols) "
   ]
  },
  {
   "cell_type": "code",
   "execution_count": 41,
   "metadata": {},
   "outputs": [],
   "source": [
    "categorical_encoded = ['unitdischargestatus_alive',\n",
    " 'gender_Female',\n",
    " 'gender_Male',\n",
    "    'ethnicity_African American',\n",
    " 'ethnicity_Asian',\n",
    " 'ethnicity_Caucasian',\n",
    " 'ethnicity_Hispanic',\n",
    " 'ethnicity_Native American',\n",
    " 'ethnicity_Other/Unknown',\n",
    " 'unittype_CCU-CTICU',\n",
    " 'unittype_CSICU',\n",
    " 'unittype_CTICU',\n",
    " 'unittype_Cardiac ICU',\n",
    " 'unittype_MICU',\n",
    " 'unittype_Med-Surg ICU',\n",
    " 'unittype_Neuro ICU',\n",
    " 'unittype_SICU',\n",
    " 'organ_system_Cardiovascular',\n",
    " 'organ_system_Gastrointestinal',\n",
    " 'organ_system_Genitourinary',\n",
    " 'organ_system_Hematology',\n",
    " 'organ_system_Metabolic/Endocrine',\n",
    " 'organ_system_Musculoskeletal/Skin',\n",
    " 'organ_system_Neurologic',\n",
    " 'organ_system_Respiratory',\n",
    " 'organ_system_Transplant',\n",
    " 'organ_system_Trauma',\n",
    " 'from_OR_No',\n",
    " 'from_OR_Yes']"
   ]
  },
  {
   "cell_type": "code",
   "execution_count": 43,
   "metadata": {},
   "outputs": [],
   "source": [
    "numerical_cols = ['age',\n",
    "    'min_sao2',\n",
    " 'max_sao2',\n",
    " 'mean_sao2',\n",
    " 'min_heartrate',\n",
    " 'max_heartrate',\n",
    " 'mean_heartrate',\n",
    " 'min_respiration',\n",
    " 'max_respiration',\n",
    " 'mean_respiration',\n",
    " 'min_result_BUN',\n",
    " 'min_result_Hct',\n",
    " 'min_result_Hgb',\n",
    " 'min_result_MCHC',\n",
    " 'min_result_MCV',\n",
    " 'min_result_RBC',\n",
    " 'min_result_WBC x 1000',\n",
    " 'min_result_bicarbonate',\n",
    " 'min_result_calcium',\n",
    " 'min_result_chloride',\n",
    " 'min_result_creatinine',\n",
    " 'min_result_glucose',\n",
    " 'min_result_platelets x 1000',\n",
    " 'min_result_potassium',\n",
    " 'min_result_sodium',\n",
    " 'max_result_BUN',\n",
    " 'max_result_Hct',\n",
    " 'max_result_Hgb',\n",
    " 'max_result_MCHC',\n",
    " 'max_result_MCV',\n",
    " 'max_result_RBC',\n",
    " 'max_result_WBC x 1000',\n",
    " 'max_result_bicarbonate',\n",
    " 'max_result_calcium',\n",
    " 'max_result_chloride',\n",
    " 'max_result_creatinine',\n",
    " 'max_result_glucose',\n",
    " 'max_result_platelets x 1000',\n",
    " 'max_result_potassium',\n",
    " 'max_result_sodium',\n",
    " 'delta_result_BUN',\n",
    " 'delta_result_Hct',\n",
    " 'delta_result_Hgb',\n",
    " 'delta_result_MCHC',\n",
    " 'delta_result_MCV',\n",
    " 'delta_result_RBC',\n",
    " 'delta_result_WBC x 1000',\n",
    " 'delta_result_bicarbonate',\n",
    " 'delta_result_calcium',\n",
    " 'delta_result_chloride',\n",
    " 'delta_result_creatinine',\n",
    " 'delta_result_glucose',\n",
    " 'delta_result_platelets x 1000',\n",
    " 'delta_result_potassium',\n",
    " 'delta_result_sodium']"
   ]
  },
  {
   "cell_type": "code",
   "execution_count": 48,
   "metadata": {},
   "outputs": [
    {
     "data": {
      "text/plain": [
       "age                              0.000000\n",
       "min_sao2                         0.015467\n",
       "max_sao2                         0.015467\n",
       "mean_sao2                        0.015467\n",
       "min_heartrate                    0.012105\n",
       "max_heartrate                    0.012105\n",
       "mean_heartrate                   0.012105\n",
       "min_respiration                  0.080699\n",
       "max_respiration                  0.080699\n",
       "mean_respiration                 0.080699\n",
       "min_result_BUN                   0.049765\n",
       "min_result_Hct                   0.063887\n",
       "min_result_Hgb                   0.064560\n",
       "min_result_MCHC                  0.091459\n",
       "min_result_MCV                   0.091459\n",
       "min_result_RBC                   0.078009\n",
       "min_result_WBC x 1000            0.074647\n",
       "min_result_bicarbonate           0.068594\n",
       "min_result_calcium               0.059180\n",
       "min_result_chloride              0.053127\n",
       "min_result_creatinine            0.048420\n",
       "min_result_glucose               0.051782\n",
       "min_result_platelets x 1000      0.072629\n",
       "min_result_potassium             0.044385\n",
       "min_result_sodium                0.047075\n",
       "max_result_BUN                   0.049765\n",
       "max_result_Hct                   0.063887\n",
       "max_result_Hgb                   0.064560\n",
       "max_result_MCHC                  0.091459\n",
       "max_result_MCV                   0.091459\n",
       "max_result_RBC                   0.078009\n",
       "max_result_WBC x 1000            0.074647\n",
       "max_result_bicarbonate           0.068594\n",
       "max_result_calcium               0.059180\n",
       "max_result_chloride              0.053127\n",
       "max_result_creatinine            0.048420\n",
       "max_result_glucose               0.051782\n",
       "max_result_platelets x 1000      0.072629\n",
       "max_result_potassium             0.044385\n",
       "max_result_sodium                0.047075\n",
       "delta_result_BUN                 0.049765\n",
       "delta_result_Hct                 0.063887\n",
       "delta_result_Hgb                 0.064560\n",
       "delta_result_MCHC                0.091459\n",
       "delta_result_MCV                 0.091459\n",
       "delta_result_RBC                 0.078009\n",
       "delta_result_WBC x 1000          0.074647\n",
       "delta_result_bicarbonate         0.068594\n",
       "delta_result_calcium             0.059180\n",
       "delta_result_chloride            0.053127\n",
       "delta_result_creatinine          0.048420\n",
       "delta_result_glucose             0.051782\n",
       "delta_result_platelets x 1000    0.072629\n",
       "delta_result_potassium           0.044385\n",
       "delta_result_sodium              0.047075\n",
       "dtype: float64"
      ]
     },
     "execution_count": 48,
     "metadata": {},
     "output_type": "execute_result"
    }
   ],
   "source": [
    "pos_num_null = train_df[train_df.aki_label==1][numerical_cols].isnull().sum()\n",
    "pos_num_null = pos_num_null/len(train_df[train_df.aki_label==1])\n",
    "pos_num_null"
   ]
  },
  {
   "cell_type": "code",
   "execution_count": 52,
   "metadata": {},
   "outputs": [
    {
     "data": {
      "text/plain": [
       "Series([], dtype: float64)"
      ]
     },
     "execution_count": 52,
     "metadata": {},
     "output_type": "execute_result"
    }
   ],
   "source": [
    "pos_num_null = val_df[val_df.aki_label==1][numerical_cols].isnull().sum()\n",
    "pos_num_null = pos_num_null/len(val_df[val_df.aki_label==1])\n",
    "pos_num_null[pos_num_null>0.1]"
   ]
  },
  {
   "cell_type": "code",
   "execution_count": 51,
   "metadata": {},
   "outputs": [
    {
     "data": {
      "text/plain": [
       "Series([], dtype: float64)"
      ]
     },
     "execution_count": 51,
     "metadata": {},
     "output_type": "execute_result"
    }
   ],
   "source": [
    "pos_num_null = test_df[test_df.aki_label==1][numerical_cols].isnull().sum()\n",
    "pos_num_null = pos_num_null/len(test_df[test_df.aki_label==1])\n",
    "pos_num_null[pos_num_null>0.1]"
   ]
  },
  {
   "cell_type": "code",
   "execution_count": 54,
   "metadata": {},
   "outputs": [
    {
     "data": {
      "text/plain": [
       "min_result_MCHC             0.114348\n",
       "min_result_MCV              0.114259\n",
       "min_result_bicarbonate      0.127387\n",
       "max_result_MCHC             0.114348\n",
       "max_result_MCV              0.114259\n",
       "max_result_bicarbonate      0.127387\n",
       "delta_result_MCHC           0.114348\n",
       "delta_result_MCV            0.114259\n",
       "delta_result_bicarbonate    0.127387\n",
       "dtype: float64"
      ]
     },
     "execution_count": 54,
     "metadata": {},
     "output_type": "execute_result"
    }
   ],
   "source": [
    "pos_num_null = train_df[train_df.aki_label==0][numerical_cols].isnull().sum()\n",
    "pos_num_null = pos_num_null/len(train_df[train_df.aki_label==0])\n",
    "pos_num_null[pos_num_null>0.1]"
   ]
  },
  {
   "cell_type": "code",
   "execution_count": 55,
   "metadata": {},
   "outputs": [
    {
     "name": "stderr",
     "output_type": "stream",
     "text": [
      "/Users/zhannahakhverdyan/anaconda3/envs/predict_dialisys_need/lib/python3.8/site-packages/sklearn/impute/_iterative.py:669: ConvergenceWarning: [IterativeImputer] Early stopping criterion not reached.\n",
      "  warnings.warn(\"[IterativeImputer] Early stopping criterion not\"\n"
     ]
    }
   ],
   "source": [
    "# for next iteration figure out a way to reasonably drop missing values for the negative class\n",
    "# proceed with imputation for now\n",
    "from sklearn.experimental import enable_iterative_imputer\n",
    "from sklearn.impute import IterativeImputer\n",
    "imp_mean = IterativeImputer(random_state=2020)\n",
    "imp_mean.fit(train_df[numerical_cols])\n",
    "train_imp = imp_mean.transform(train_df[numerical_cols])"
   ]
  },
  {
   "cell_type": "code",
   "execution_count": 56,
   "metadata": {},
   "outputs": [
    {
     "data": {
      "text/plain": [
       "array([[ 77.        ,  93.8718675 ,  98.82602775, ...,  33.5182867 ,\n",
       "          0.5990682 ,   3.50564428],\n",
       "       [ 63.        ,  94.        ,  98.        , ...,   0.        ,\n",
       "          0.        ,   0.        ],\n",
       "       [ 48.        ,  96.        ,  99.        , ...,   3.        ,\n",
       "          0.59892947,   3.84896303],\n",
       "       ...,\n",
       "       [ 85.        ,  98.        , 100.        , ..., 208.        ,\n",
       "          1.5       ,   6.        ],\n",
       "       [ 51.        ,  95.        , 100.        , ...,  18.        ,\n",
       "          1.        ,   2.        ],\n",
       "       [ 50.        ,  94.        , 100.        , ..., 160.        ,\n",
       "          0.7       ,   3.        ]])"
      ]
     },
     "execution_count": 56,
     "metadata": {},
     "output_type": "execute_result"
    }
   ],
   "source": [
    "train_imp"
   ]
  },
  {
   "cell_type": "code",
   "execution_count": 59,
   "metadata": {},
   "outputs": [],
   "source": [
    "val_imp = imp_mean.transform(val_df[numerical_cols])\n",
    "test_imp = imp_mean.transform(test_df[numerical_cols])"
   ]
  },
  {
   "cell_type": "code",
   "execution_count": 61,
   "metadata": {},
   "outputs": [
    {
     "data": {
      "text/plain": [
       "False"
      ]
     },
     "execution_count": 61,
     "metadata": {},
     "output_type": "execute_result"
    }
   ],
   "source": [
    "np.isnan(test_imp).any()"
   ]
  },
  {
   "cell_type": "code",
   "execution_count": 76,
   "metadata": {},
   "outputs": [],
   "source": [
    "train_full = pd.DataFrame(train_imp, columns=numerical_cols)\n",
    "train_full = pd.concat([train_full.reset_index(drop=True), train_cat[categorical_encoded].reset_index(drop=True),\n",
    "                        train_df[['patientunitstayid', 'aki_label']].reset_index(drop=True)], axis=1)           "
   ]
  },
  {
   "cell_type": "code",
   "execution_count": 75,
   "metadata": {},
   "outputs": [
    {
     "data": {
      "text/plain": [
       "0"
      ]
     },
     "execution_count": 75,
     "metadata": {},
     "output_type": "execute_result"
    }
   ],
   "source": [
    "train_full.isnull().sum().sum()"
   ]
  },
  {
   "cell_type": "code",
   "execution_count": 77,
   "metadata": {},
   "outputs": [
    {
     "data": {
      "text/plain": [
       "0"
      ]
     },
     "execution_count": 77,
     "metadata": {},
     "output_type": "execute_result"
    }
   ],
   "source": [
    "val_full = pd.DataFrame(val_imp, columns=numerical_cols)\n",
    "val_full = pd.concat([val_full.reset_index(drop=True), val_cat[categorical_encoded].reset_index(drop=True),\n",
    "                        val_df[['patientunitstayid', 'aki_label']].reset_index(drop=True)], axis=1)      \n",
    "val_full.isnull().sum().sum()"
   ]
  },
  {
   "cell_type": "code",
   "execution_count": 78,
   "metadata": {},
   "outputs": [
    {
     "data": {
      "text/plain": [
       "0"
      ]
     },
     "execution_count": 78,
     "metadata": {},
     "output_type": "execute_result"
    }
   ],
   "source": [
    "test_full = pd.DataFrame(test_imp, columns=numerical_cols)\n",
    "test_full = pd.concat([test_full.reset_index(drop=True), test_cat[categorical_encoded].reset_index(drop=True),\n",
    "                        test_df[['patientunitstayid', 'aki_label']].reset_index(drop=True)], axis=1)      \n",
    "test_full.isnull().sum().sum()"
   ]
  },
  {
   "cell_type": "code",
   "execution_count": null,
   "metadata": {},
   "outputs": [],
   "source": [
    "train_full.to_csv('../')"
   ]
  }
 ],
 "metadata": {
  "kernelspec": {
   "display_name": "Python 3",
   "language": "python",
   "name": "python3"
  },
  "language_info": {
   "codemirror_mode": {
    "name": "ipython",
    "version": 3
   },
   "file_extension": ".py",
   "mimetype": "text/x-python",
   "name": "python",
   "nbconvert_exporter": "python",
   "pygments_lexer": "ipython3",
   "version": "3.8.3"
  }
 },
 "nbformat": 4,
 "nbformat_minor": 4
}
