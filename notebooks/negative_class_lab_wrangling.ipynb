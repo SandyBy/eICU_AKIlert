{
 "cells": [
  {
   "cell_type": "code",
   "execution_count": 30,
   "metadata": {},
   "outputs": [
    {
     "name": "stdout",
     "output_type": "stream",
     "text": [
      "Processed 1 chunk 2.5950870513916016\n",
      "Processed 1 chunk 2.8986728191375732\n",
      "Processed 1 chunk 2.823415994644165\n",
      "Processed 1 chunk 2.646502733230591\n",
      "Processed 1 chunk 2.8588480949401855\n",
      "Processed 1 chunk 0.9499151706695557\n"
     ]
    }
   ],
   "source": [
    "import pandas as pd\n",
    "import time\n",
    "start_time = time.time()\n",
    "\n",
    "columns = ['patientunitstayid', 'labname', 'labresult', 'labresultoffset', 'age', 'gender', \\\n",
    "           'ethnicity', 'patienthealthsystemstayid', 'hospitaladmitoffset', 'unitdischargeoffset']\n",
    "\n",
    "neg_lab = pd.DataFrame()\n",
    "\n",
    "chunksize = 10 ** 6\n",
    "for chunk in pd.read_csv('../data/intermediate/negative_lab_data.csv', header=None, chunksize=chunksize):\n",
    "    chunk.columns=columns\n",
    "    chunk = pd.pivot_table(chunk, values=['labresult'], \\\n",
    "               index=['patientunitstayid', 'labresultoffset', 'age', 'gender', 'ethnicity', \\\n",
    "                      'patienthealthsystemstayid', 'hospitaladmitoffset', 'unitdischargeoffset'], \\\n",
    "               columns=['labname'], aggfunc='first')\n",
    "    chunk.columns = chunk.columns.droplevel() # reshape column level\n",
    "    chunk.columns = chunk.columns.tolist()\n",
    "    neg_lab = pd.concat([neg_lab, chunk], axis=0)\n",
    "    print(\"Processed 1 chunk\", time.time() - start_time)\n",
    "    start_time = time.time()"
   ]
  },
  {
   "cell_type": "code",
   "execution_count": 31,
   "metadata": {},
   "outputs": [
    {
     "data": {
      "text/plain": [
       "BUN            140625\n",
       "bicarbonate    179228\n",
       "calcium        163744\n",
       "chloride       133436\n",
       "creatinine     135857\n",
       "glucose        116993\n",
       "potassium       33732\n",
       "sodium          81484\n",
       "dtype: int64"
      ]
     },
     "execution_count": 31,
     "metadata": {},
     "output_type": "execute_result"
    }
   ],
   "source": [
    "neg_lab['positive_window'] = 0\n",
    "null_rows = neg_lab[['BUN', 'bicarbonate', 'calcium', 'chloride', 'creatinine', 'glucose', 'potassium',\\\n",
    "                     'sodium']].isna().sum(axis=0)\n",
    "null_rows"
   ]
  },
  {
   "cell_type": "code",
   "execution_count": 32,
   "metadata": {},
   "outputs": [
    {
     "name": "stdout",
     "output_type": "stream",
     "text": [
      "557230\n"
     ]
    }
   ],
   "source": [
    "neg_lab.dropna(inplace=True)\n",
    "print(len(neg_lab))"
   ]
  },
  {
   "cell_type": "code",
   "execution_count": 33,
   "metadata": {},
   "outputs": [],
   "source": [
    "neg_lab.reset_index(inplace=True)\n",
    "neg_lab.sort_values(by=['patientunitstayid', 'labresultoffset'], ascending=True, inplace=True)"
   ]
  },
  {
   "cell_type": "code",
   "execution_count": 34,
   "metadata": {},
   "outputs": [
    {
     "data": {
      "text/plain": [
       "(25000,)"
      ]
     },
     "execution_count": 34,
     "metadata": {},
     "output_type": "execute_result"
    }
   ],
   "source": [
    "import numpy as np\n",
    "\n",
    "indices = neg_lab['patientunitstayid'].unique()\n",
    "index_rand = np.random.choice(indices, size=25000, replace=False)\n",
    "index_rand.shape"
   ]
  },
  {
   "cell_type": "code",
   "execution_count": 35,
   "metadata": {},
   "outputs": [
    {
     "data": {
      "text/plain": [
       "array([2784208, 2043186, 3224646, ..., 3026533, 2758157, 2285484])"
      ]
     },
     "execution_count": 35,
     "metadata": {},
     "output_type": "execute_result"
    }
   ],
   "source": [
    "index_rand"
   ]
  },
  {
   "cell_type": "code",
   "execution_count": 36,
   "metadata": {},
   "outputs": [
    {
     "data": {
      "text/plain": [
       "118588"
      ]
     },
     "execution_count": 36,
     "metadata": {},
     "output_type": "execute_result"
    }
   ],
   "source": [
    "neg_lab_rand = neg_lab[neg_lab['patientunitstayid'].isin(index_rand)]\n",
    "len(neg_lab_rand)"
   ]
  },
  {
   "cell_type": "code",
   "execution_count": 13,
   "metadata": {},
   "outputs": [],
   "source": [
    "import sys, os\n",
    "sys.path.insert(0, os.path.abspath('../src/'))\n",
    "import lab_wrangling"
   ]
  },
  {
   "cell_type": "code",
   "execution_count": 37,
   "metadata": {},
   "outputs": [
    {
     "name": "stderr",
     "output_type": "stream",
     "text": [
      "/Users/zhannahakhverdyan/Insight/eICU_AKIlert/src/lab_wrangling.py:4: SettingWithCopyWarning: \n",
      "A value is trying to be set on a copy of a slice from a DataFrame.\n",
      "Try using .loc[row_indexer,col_indexer] = value instead\n",
      "\n",
      "See the caveats in the documentation: https://pandas.pydata.org/pandas-docs/stable/user_guide/indexing.html#returning-a-view-versus-a-copy\n",
      "  df[timecolumn] = pd.to_timedelta(df[timecolumn], unit='minute')\n"
     ]
    },
    {
     "name": "stdout",
     "output_type": "stream",
     "text": [
      "647.8676857948303\n"
     ]
    }
   ],
   "source": [
    "start_time = time.time()\n",
    "columns = ['BUN', 'bicarbonate', 'calcium', 'chloride', 'creatinine', 'glucose','potassium', 'sodium']\n",
    "funcs = ['min', 'mean', 'max', 'var']\n",
    "df = neg_lab_rand\n",
    "neg_lab_rand = lab_wrangling.calc_stats_windows(df, columns, funcs, 'labresultoffset')\n",
    "print(time.time() - start_time)"
   ]
  },
  {
   "cell_type": "code",
   "execution_count": 39,
   "metadata": {},
   "outputs": [
    {
     "name": "stdout",
     "output_type": "stream",
     "text": [
      "118588\n",
      "89332\n"
     ]
    }
   ],
   "source": [
    "print(len(neg_lab_rand))\n",
    "neg_lab_rand.dropna(inplace=True)\n",
    "print(len(neg_lab_rand))"
   ]
  },
  {
   "cell_type": "code",
   "execution_count": 42,
   "metadata": {},
   "outputs": [
    {
     "data": {
      "text/plain": [
       "<matplotlib.axes._subplots.AxesSubplot at 0x131ab40d0>"
      ]
     },
     "execution_count": 42,
     "metadata": {},
     "output_type": "execute_result"
    },
    {
     "data": {
      "image/png": "[encoded data removed]",
      "text/plain": [
       "<Figure size 432x288 with 1 Axes>"
      ]
     },
     "metadata": {
      "needs_background": "light"
     },
     "output_type": "display_data"
    }
   ],
   "source": [
    "(neg_lab_rand.reset_index()['labresultoffset']/pd.Timedelta('1 minute')).hist()"
   ]
  },
  {
   "cell_type": "code",
   "execution_count": 43,
   "metadata": {},
   "outputs": [],
   "source": [
    "neg_lab_rand.to_csv('../data/final/negative_class_rand_lab_wrangled.csv')"
   ]
  },
  {
   "cell_type": "code",
   "execution_count": 44,
   "metadata": {},
   "outputs": [
    {
     "name": "stdout",
     "output_type": "stream",
     "text": [
      "2587.8352460861206\n"
     ]
    }
   ],
   "source": [
    "start_time = time.time()\n",
    "columns = ['BUN', 'bicarbonate', 'calcium', 'chloride', 'creatinine', 'glucose','potassium', 'sodium']\n",
    "funcs = ['min', 'mean', 'max', 'var']\n",
    "df = neg_lab\n",
    "neg_lab = lab_wrangling.calc_stats_windows(df, columns, funcs, 'labresultoffset')\n",
    "print(time.time() - start_time)"
   ]
  },
  {
   "cell_type": "code",
   "execution_count": 45,
   "metadata": {},
   "outputs": [
    {
     "name": "stdout",
     "output_type": "stream",
     "text": [
      "557230\n",
      "420552\n"
     ]
    }
   ],
   "source": [
    "print(len(neg_lab))\n",
    "neg_lab.dropna(inplace=True)\n",
    "print(len(neg_lab))"
   ]
  },
  {
   "cell_type": "code",
   "execution_count": 47,
   "metadata": {},
   "outputs": [
    {
     "data": {
      "text/plain": [
       "<matplotlib.axes._subplots.AxesSubplot at 0x131be7d60>"
      ]
     },
     "execution_count": 47,
     "metadata": {},
     "output_type": "execute_result"
    },
    {
     "data": {
      "image/png": "[encoded data removed]",
      "text/plain": [
       "<Figure size 432x288 with 1 Axes>"
      ]
     },
     "metadata": {
      "needs_background": "light"
     },
     "output_type": "display_data"
    }
   ],
   "source": [
    "(neg_lab.reset_index()['labresultoffset']/pd.Timedelta('1 minute')).hist()"
   ]
  },
  {
   "cell_type": "code",
   "execution_count": 48,
   "metadata": {},
   "outputs": [],
   "source": [
    "neg_lab_rand.to_csv('../data/final/negative_class_lab_wrangled.csv')"
   ]
  },
  {
   "cell_type": "code",
   "execution_count": null,
   "metadata": {},
   "outputs": [],
   "source": []
  }
 ],
 "metadata": {
  "kernelspec": {
   "display_name": "Python 3",
   "language": "python",
   "name": "python3"
  },
  "language_info": {
   "codemirror_mode": {
    "name": "ipython",
    "version": 3
   },
   "file_extension": ".py",
   "mimetype": "text/x-python",
   "name": "python",
   "nbconvert_exporter": "python",
   "pygments_lexer": "ipython3",
   "version": "3.8.3"
  }
 },
 "nbformat": 4,
 "nbformat_minor": 4
}
