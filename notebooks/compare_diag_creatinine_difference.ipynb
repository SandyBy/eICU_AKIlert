{
 "cells": [
  {
   "cell_type": "markdown",
   "metadata": {},
   "source": [
    "# Purpose of the notebook\n",
    "To determine whether the acute kidney injury diagnosis time is a reasonable frame of reference, i.e. is it close enough to AKI detection with creatinine increase?"
   ]
  },
  {
   "cell_type": "code",
   "execution_count": 34,
   "metadata": {},
   "outputs": [],
   "source": [
    "import pandas as pd\n",
    "creat = pd.read_csv('../data/intermediate/creatinine_lev.csv')\n",
    "creat.columns=['patientunitstayid', 'labname', 'labresult', 'labresultoffset', 'qa.aki_offset']"
   ]
  },
  {
   "cell_type": "code",
   "execution_count": 35,
   "metadata": {},
   "outputs": [],
   "source": [
    "creat.sort_values(by=['patientunitstayid', 'labresultoffset'], inplace=True)"
   ]
  },
  {
   "cell_type": "code",
   "execution_count": 4,
   "metadata": {},
   "outputs": [
    {
     "data": {
      "text/plain": [
       "2318"
      ]
     },
     "execution_count": 4,
     "metadata": {},
     "output_type": "execute_result"
    }
   ],
   "source": [
    "len(creat.patientunitstayid.unique())"
   ]
  },
  {
   "cell_type": "code",
   "execution_count": 36,
   "metadata": {},
   "outputs": [],
   "source": [
    "creat['prev_labresult'] = creat.groupby(['patientunitstayid'])['labresult'].shift(1)\n",
    "creat['delta'] = creat['labresult'] - creat['prev_labresult']"
   ]
  },
  {
   "cell_type": "code",
   "execution_count": 37,
   "metadata": {},
   "outputs": [],
   "source": [
    "creat['labresultoffset'] = pd.to_timedelta(creat['labresultoffset'], unit='minute')\n",
    "creat.set_index('labresultoffset', inplace=True)\n",
    "creat['creat_2day_cum'] = creat.groupby('patientunitstayid')['delta'].apply(lambda x: x.rolling('2d').sum()) "
   ]
  },
  {
   "cell_type": "code",
   "execution_count": 38,
   "metadata": {},
   "outputs": [],
   "source": [
    "creat.loc[creat['creat_2day_cum'] >= 0.3, 'AKI_reached'] = 1\n",
    "creat['AKI_reached'].fillna(0, inplace=True)"
   ]
  },
  {
   "cell_type": "code",
   "execution_count": 8,
   "metadata": {},
   "outputs": [
    {
     "name": "stdout",
     "output_type": "stream",
     "text": [
      "0.0     809\n",
      "1.0     356\n",
      "2.0     322\n",
      "3.0     254\n",
      "4.0     168\n",
      "5.0     111\n",
      "6.0      81\n",
      "7.0      59\n",
      "8.0      40\n",
      "10.0     30\n",
      "9.0      24\n",
      "11.0     22\n",
      "12.0     10\n",
      "13.0      7\n",
      "14.0      6\n",
      "16.0      5\n",
      "15.0      4\n",
      "21.0      3\n",
      "19.0      2\n",
      "17.0      2\n",
      "18.0      1\n",
      "20.0      1\n",
      "22.0      1\n",
      "Name: AKI_reached, dtype: int64\n",
      "0.6509922346850734\n"
     ]
    }
   ],
   "source": [
    "# diagnosis explained by 0.3mg/mL increase in 48h\n",
    "exp48 = creat.groupby('patientunitstayid')['AKI_reached'].sum()\n",
    "print(exp48.value_counts())\n",
    "exp48[exp48>1] = 1\n",
    "print(exp48.sum()/len(exp48))"
   ]
  },
  {
   "cell_type": "markdown",
   "metadata": {},
   "source": [
    "## 65% of diagnosis explained by 0.3md/dL increase in 2 days. However, in all cases the criterion for acute kidney injury is reached more than once before the diagnosis. This means the model could be predicting aki based on creatnine which always comes up as the top feature!"
   ]
  },
  {
   "cell_type": "code",
   "execution_count": 39,
   "metadata": {},
   "outputs": [],
   "source": [
    "import math\n",
    "import numpy as np\n",
    "creat['creat_fold_change'] = creat['labresult']/creat['prev_labresult']\n",
    "creat['creat_7day_inc'] = creat.groupby('patientunitstayid')['creat_fold_change'].apply(lambda x: x.rolling('7d').apply(np.prod))"
   ]
  },
  {
   "cell_type": "code",
   "execution_count": 40,
   "metadata": {},
   "outputs": [],
   "source": [
    "creat.loc[creat['creat_7day_inc'] >= 1.5, 'AKI_reached_7d'] = 1\n",
    "creat['AKI_reached_7d'].fillna(0, inplace=True)"
   ]
  },
  {
   "cell_type": "code",
   "execution_count": 13,
   "metadata": {},
   "outputs": [
    {
     "data": {
      "text/plain": [
       "0.6509922346850734"
      ]
     },
     "execution_count": 13,
     "metadata": {},
     "output_type": "execute_result"
    }
   ],
   "source": [
    "exp7d = creat.groupby('patientunitstayid')['AKI_reached_7d'].sum()\n",
    "exp7d[exp7d>1] = 1\n",
    "exp48.sum()/len(exp48)"
   ]
  },
  {
   "cell_type": "code",
   "execution_count": 14,
   "metadata": {},
   "outputs": [
    {
     "data": {
      "text/plain": [
       "2318"
      ]
     },
     "execution_count": 14,
     "metadata": {},
     "output_type": "execute_result"
    }
   ],
   "source": [
    "same_pat = pd.concat([exp7d, exp48], axis=1, ignore_index=False)\n",
    "len(same_pat)"
   ]
  },
  {
   "cell_type": "code",
   "execution_count": 15,
   "metadata": {},
   "outputs": [
    {
     "data": {
      "text/plain": [
       "2318"
      ]
     },
     "execution_count": 15,
     "metadata": {},
     "output_type": "execute_result"
    }
   ],
   "source": [
    "same_pat.dropna(inplace=True)\n",
    "len(same_pat)"
   ]
  },
  {
   "cell_type": "code",
   "execution_count": 16,
   "metadata": {},
   "outputs": [
    {
     "data": {
      "text/html": [
       "<div>\n",
       "<style scoped>\n",
       "    .dataframe tbody tr th:only-of-type {\n",
       "        vertical-align: middle;\n",
       "    }\n",
       "\n",
       "    .dataframe tbody tr th {\n",
       "        vertical-align: top;\n",
       "    }\n",
       "\n",
       "    .dataframe thead th {\n",
       "        text-align: right;\n",
       "    }\n",
       "</style>\n",
       "<table border=\"1\" class=\"dataframe\">\n",
       "  <thead>\n",
       "    <tr style=\"text-align: right;\">\n",
       "      <th></th>\n",
       "      <th>AKI_reached_7d</th>\n",
       "      <th>AKI_reached</th>\n",
       "    </tr>\n",
       "    <tr>\n",
       "      <th>patientunitstayid</th>\n",
       "      <th></th>\n",
       "      <th></th>\n",
       "    </tr>\n",
       "  </thead>\n",
       "  <tbody>\n",
       "    <tr>\n",
       "      <th>144173</th>\n",
       "      <td>1.0</td>\n",
       "      <td>1.0</td>\n",
       "    </tr>\n",
       "    <tr>\n",
       "      <th>144770</th>\n",
       "      <td>1.0</td>\n",
       "      <td>1.0</td>\n",
       "    </tr>\n",
       "    <tr>\n",
       "      <th>149913</th>\n",
       "      <td>1.0</td>\n",
       "      <td>1.0</td>\n",
       "    </tr>\n",
       "    <tr>\n",
       "      <th>150626</th>\n",
       "      <td>1.0</td>\n",
       "      <td>1.0</td>\n",
       "    </tr>\n",
       "    <tr>\n",
       "      <th>153993</th>\n",
       "      <td>1.0</td>\n",
       "      <td>1.0</td>\n",
       "    </tr>\n",
       "    <tr>\n",
       "      <th>...</th>\n",
       "      <td>...</td>\n",
       "      <td>...</td>\n",
       "    </tr>\n",
       "    <tr>\n",
       "      <th>3350977</th>\n",
       "      <td>1.0</td>\n",
       "      <td>1.0</td>\n",
       "    </tr>\n",
       "    <tr>\n",
       "      <th>3351357</th>\n",
       "      <td>1.0</td>\n",
       "      <td>1.0</td>\n",
       "    </tr>\n",
       "    <tr>\n",
       "      <th>3351749</th>\n",
       "      <td>1.0</td>\n",
       "      <td>1.0</td>\n",
       "    </tr>\n",
       "    <tr>\n",
       "      <th>3352444</th>\n",
       "      <td>1.0</td>\n",
       "      <td>1.0</td>\n",
       "    </tr>\n",
       "    <tr>\n",
       "      <th>3353197</th>\n",
       "      <td>1.0</td>\n",
       "      <td>1.0</td>\n",
       "    </tr>\n",
       "  </tbody>\n",
       "</table>\n",
       "<p>1048 rows × 2 columns</p>\n",
       "</div>"
      ],
      "text/plain": [
       "                   AKI_reached_7d  AKI_reached\n",
       "patientunitstayid                             \n",
       "144173                        1.0          1.0\n",
       "144770                        1.0          1.0\n",
       "149913                        1.0          1.0\n",
       "150626                        1.0          1.0\n",
       "153993                        1.0          1.0\n",
       "...                           ...          ...\n",
       "3350977                       1.0          1.0\n",
       "3351357                       1.0          1.0\n",
       "3351749                       1.0          1.0\n",
       "3352444                       1.0          1.0\n",
       "3353197                       1.0          1.0\n",
       "\n",
       "[1048 rows x 2 columns]"
      ]
     },
     "execution_count": 16,
     "metadata": {},
     "output_type": "execute_result"
    }
   ],
   "source": [
    "same_pat_both = same_pat[(same_pat['AKI_reached_7d']!=0) & (same_pat['AKI_reached']!=0)]\n",
    "same_pat_both"
   ]
  },
  {
   "cell_type": "code",
   "execution_count": 17,
   "metadata": {},
   "outputs": [
    {
     "data": {
      "text/plain": [
       "0.45211389128559104"
      ]
     },
     "execution_count": 17,
     "metadata": {},
     "output_type": "execute_result"
    }
   ],
   "source": [
    "len(same_pat_both)/len(same_pat)"
   ]
  },
  {
   "cell_type": "code",
   "execution_count": 21,
   "metadata": {},
   "outputs": [
    {
     "data": {
      "text/plain": [
       "0.0012942191544434857"
      ]
     },
     "execution_count": 21,
     "metadata": {},
     "output_type": "execute_result"
    }
   ],
   "source": [
    "d7_only = same_pat[(same_pat['AKI_reached_7d']!=0) & (same_pat['AKI_reached']==0)]\n",
    "len(d7_only)/len(same_pat)"
   ]
  },
  {
   "cell_type": "code",
   "execution_count": 22,
   "metadata": {},
   "outputs": [
    {
     "data": {
      "text/plain": [
       "0.19887834339948232"
      ]
     },
     "execution_count": 22,
     "metadata": {},
     "output_type": "execute_result"
    }
   ],
   "source": [
    "h48_only = same_pat[(same_pat['AKI_reached_7d']==0) & (same_pat['AKI_reached']!=0)]\n",
    "len(h48_only)/len(same_pat)"
   ]
  },
  {
   "cell_type": "markdown",
   "metadata": {},
   "source": [
    "* ~ 20% of diagnosis cases are identified with both 0.3mg/dL increase in 2 days and 1.5x increase in 7 days\n",
    "* ~ 65% of cases are identified with 48h increase\n",
    "* ~ 0.1% of cases are identified with 7 day increase \n",
    "* Concusion: 48h increase of 0.3mg/dl is a sufficient proxy for AKI onset, however, the 1.5h criterion might predict an earlier onset, increase from baseline, that the 48h metric does not consider. The latter will reduce data leakage hence the 7d criterion should be used."
   ]
  },
  {
   "cell_type": "code",
   "execution_count": 41,
   "metadata": {},
   "outputs": [],
   "source": [
    "creat.reset_index(inplace=True)\n",
    "first_2d = creat[creat['AKI_reached']==1].groupby('patientunitstayid')['labresultoffset'].first()\n",
    "first_2d = first_2d/pd.Timedelta('1 minute')"
   ]
  },
  {
   "cell_type": "code",
   "execution_count": 42,
   "metadata": {},
   "outputs": [],
   "source": [
    "first_7d = creat[creat['AKI_reached_7d']==1].groupby('patientunitstayid')['labresultoffset'].first()\n",
    "first_7d = first_7d/pd.Timedelta('1 minute')"
   ]
  },
  {
   "cell_type": "code",
   "execution_count": 43,
   "metadata": {},
   "outputs": [],
   "source": [
    "aki_offset = creat.groupby('patientunitstayid')['qa.aki_offset'].first()"
   ]
  },
  {
   "cell_type": "code",
   "execution_count": 27,
   "metadata": {},
   "outputs": [
    {
     "data": {
      "text/html": [
       "<div>\n",
       "<style scoped>\n",
       "    .dataframe tbody tr th:only-of-type {\n",
       "        vertical-align: middle;\n",
       "    }\n",
       "\n",
       "    .dataframe tbody tr th {\n",
       "        vertical-align: top;\n",
       "    }\n",
       "\n",
       "    .dataframe thead th {\n",
       "        text-align: right;\n",
       "    }\n",
       "</style>\n",
       "<table border=\"1\" class=\"dataframe\">\n",
       "  <thead>\n",
       "    <tr style=\"text-align: right;\">\n",
       "      <th></th>\n",
       "      <th>2d_detect</th>\n",
       "      <th>7d_detect</th>\n",
       "      <th>diagnosis</th>\n",
       "    </tr>\n",
       "    <tr>\n",
       "      <th>patientunitstayid</th>\n",
       "      <th></th>\n",
       "      <th></th>\n",
       "      <th></th>\n",
       "    </tr>\n",
       "  </thead>\n",
       "  <tbody>\n",
       "    <tr>\n",
       "      <th>142388</th>\n",
       "      <td>0.0</td>\n",
       "      <td>0.0</td>\n",
       "      <td>1757</td>\n",
       "    </tr>\n",
       "    <tr>\n",
       "      <th>142974</th>\n",
       "      <td>0.0</td>\n",
       "      <td>0.0</td>\n",
       "      <td>2241</td>\n",
       "    </tr>\n",
       "    <tr>\n",
       "      <th>143466</th>\n",
       "      <td>1759.0</td>\n",
       "      <td>0.0</td>\n",
       "      <td>7083</td>\n",
       "    </tr>\n",
       "    <tr>\n",
       "      <th>143518</th>\n",
       "      <td>1303.0</td>\n",
       "      <td>0.0</td>\n",
       "      <td>4468</td>\n",
       "    </tr>\n",
       "    <tr>\n",
       "      <th>144173</th>\n",
       "      <td>711.0</td>\n",
       "      <td>1207.0</td>\n",
       "      <td>1778</td>\n",
       "    </tr>\n",
       "    <tr>\n",
       "      <th>...</th>\n",
       "      <td>...</td>\n",
       "      <td>...</td>\n",
       "      <td>...</td>\n",
       "    </tr>\n",
       "    <tr>\n",
       "      <th>3351374</th>\n",
       "      <td>0.0</td>\n",
       "      <td>0.0</td>\n",
       "      <td>1653</td>\n",
       "    </tr>\n",
       "    <tr>\n",
       "      <th>3351749</th>\n",
       "      <td>207.0</td>\n",
       "      <td>1573.0</td>\n",
       "      <td>1665</td>\n",
       "    </tr>\n",
       "    <tr>\n",
       "      <th>3352444</th>\n",
       "      <td>16.0</td>\n",
       "      <td>16.0</td>\n",
       "      <td>2049</td>\n",
       "    </tr>\n",
       "    <tr>\n",
       "      <th>3353194</th>\n",
       "      <td>2005.0</td>\n",
       "      <td>0.0</td>\n",
       "      <td>2212</td>\n",
       "    </tr>\n",
       "    <tr>\n",
       "      <th>3353197</th>\n",
       "      <td>3455.0</td>\n",
       "      <td>3455.0</td>\n",
       "      <td>6586</td>\n",
       "    </tr>\n",
       "  </tbody>\n",
       "</table>\n",
       "<p>2318 rows × 3 columns</p>\n",
       "</div>"
      ],
      "text/plain": [
       "                   2d_detect  7d_detect  diagnosis\n",
       "patientunitstayid                                 \n",
       "142388                   0.0        0.0       1757\n",
       "142974                   0.0        0.0       2241\n",
       "143466                1759.0        0.0       7083\n",
       "143518                1303.0        0.0       4468\n",
       "144173                 711.0     1207.0       1778\n",
       "...                      ...        ...        ...\n",
       "3351374                  0.0        0.0       1653\n",
       "3351749                207.0     1573.0       1665\n",
       "3352444                 16.0       16.0       2049\n",
       "3353194               2005.0        0.0       2212\n",
       "3353197               3455.0     3455.0       6586\n",
       "\n",
       "[2318 rows x 3 columns]"
      ]
     },
     "execution_count": 27,
     "metadata": {},
     "output_type": "execute_result"
    }
   ],
   "source": [
    "first_occur_comb = pd.concat([first_2d, first_7d, aki_offset], axis=1, ignore_index=False)\n",
    "first_occur_comb.fillna(0, inplace=True)\n",
    "first_occur_comb.columns = ['2d_detect', '7d_detect', 'diagnosis']\n",
    "first_occur_comb = pd.concat([first_occur_comb], axis=1, ignore_index=False)\n",
    "first_occur_comb.fillna(0, inplace=True)\n",
    "first_occur_comb"
   ]
  },
  {
   "cell_type": "code",
   "execution_count": 29,
   "metadata": {},
   "outputs": [],
   "source": [
    "first_occur_comb.loc[first_occur_comb['2d_detect']==0, '2d_detect'] = np.nan\n",
    "first_occur_comb.loc[first_occur_comb['7d_detect']==0, '7d_detect'] = np.nan"
   ]
  },
  {
   "cell_type": "code",
   "execution_count": 30,
   "metadata": {},
   "outputs": [
    {
     "data": {
      "text/html": [
       "<div>\n",
       "<style scoped>\n",
       "    .dataframe tbody tr th:only-of-type {\n",
       "        vertical-align: middle;\n",
       "    }\n",
       "\n",
       "    .dataframe tbody tr th {\n",
       "        vertical-align: top;\n",
       "    }\n",
       "\n",
       "    .dataframe thead th {\n",
       "        text-align: right;\n",
       "    }\n",
       "</style>\n",
       "<table border=\"1\" class=\"dataframe\">\n",
       "  <thead>\n",
       "    <tr style=\"text-align: right;\">\n",
       "      <th></th>\n",
       "      <th>2d_detect</th>\n",
       "      <th>7d_detect</th>\n",
       "      <th>diagnosis</th>\n",
       "      <th>2d_detect_dif</th>\n",
       "      <th>7d_detect_dif</th>\n",
       "    </tr>\n",
       "    <tr>\n",
       "      <th>patientunitstayid</th>\n",
       "      <th></th>\n",
       "      <th></th>\n",
       "      <th></th>\n",
       "      <th></th>\n",
       "      <th></th>\n",
       "    </tr>\n",
       "  </thead>\n",
       "  <tbody>\n",
       "    <tr>\n",
       "      <th>142388</th>\n",
       "      <td>NaN</td>\n",
       "      <td>NaN</td>\n",
       "      <td>1757</td>\n",
       "      <td>NaN</td>\n",
       "      <td>NaN</td>\n",
       "    </tr>\n",
       "    <tr>\n",
       "      <th>142974</th>\n",
       "      <td>NaN</td>\n",
       "      <td>NaN</td>\n",
       "      <td>2241</td>\n",
       "      <td>NaN</td>\n",
       "      <td>NaN</td>\n",
       "    </tr>\n",
       "    <tr>\n",
       "      <th>143466</th>\n",
       "      <td>1759.0</td>\n",
       "      <td>NaN</td>\n",
       "      <td>7083</td>\n",
       "      <td>88.733333</td>\n",
       "      <td>NaN</td>\n",
       "    </tr>\n",
       "    <tr>\n",
       "      <th>143518</th>\n",
       "      <td>1303.0</td>\n",
       "      <td>NaN</td>\n",
       "      <td>4468</td>\n",
       "      <td>52.750000</td>\n",
       "      <td>NaN</td>\n",
       "    </tr>\n",
       "    <tr>\n",
       "      <th>144173</th>\n",
       "      <td>711.0</td>\n",
       "      <td>1207.0</td>\n",
       "      <td>1778</td>\n",
       "      <td>17.783333</td>\n",
       "      <td>9.516667</td>\n",
       "    </tr>\n",
       "    <tr>\n",
       "      <th>...</th>\n",
       "      <td>...</td>\n",
       "      <td>...</td>\n",
       "      <td>...</td>\n",
       "      <td>...</td>\n",
       "      <td>...</td>\n",
       "    </tr>\n",
       "    <tr>\n",
       "      <th>3351374</th>\n",
       "      <td>NaN</td>\n",
       "      <td>NaN</td>\n",
       "      <td>1653</td>\n",
       "      <td>NaN</td>\n",
       "      <td>NaN</td>\n",
       "    </tr>\n",
       "    <tr>\n",
       "      <th>3351749</th>\n",
       "      <td>207.0</td>\n",
       "      <td>1573.0</td>\n",
       "      <td>1665</td>\n",
       "      <td>24.300000</td>\n",
       "      <td>1.533333</td>\n",
       "    </tr>\n",
       "    <tr>\n",
       "      <th>3352444</th>\n",
       "      <td>16.0</td>\n",
       "      <td>16.0</td>\n",
       "      <td>2049</td>\n",
       "      <td>33.883333</td>\n",
       "      <td>33.883333</td>\n",
       "    </tr>\n",
       "    <tr>\n",
       "      <th>3353194</th>\n",
       "      <td>2005.0</td>\n",
       "      <td>NaN</td>\n",
       "      <td>2212</td>\n",
       "      <td>3.450000</td>\n",
       "      <td>NaN</td>\n",
       "    </tr>\n",
       "    <tr>\n",
       "      <th>3353197</th>\n",
       "      <td>3455.0</td>\n",
       "      <td>3455.0</td>\n",
       "      <td>6586</td>\n",
       "      <td>52.183333</td>\n",
       "      <td>52.183333</td>\n",
       "    </tr>\n",
       "  </tbody>\n",
       "</table>\n",
       "<p>2318 rows × 5 columns</p>\n",
       "</div>"
      ],
      "text/plain": [
       "                   2d_detect  7d_detect  diagnosis  2d_detect_dif  \\\n",
       "patientunitstayid                                                   \n",
       "142388                   NaN        NaN       1757            NaN   \n",
       "142974                   NaN        NaN       2241            NaN   \n",
       "143466                1759.0        NaN       7083      88.733333   \n",
       "143518                1303.0        NaN       4468      52.750000   \n",
       "144173                 711.0     1207.0       1778      17.783333   \n",
       "...                      ...        ...        ...            ...   \n",
       "3351374                  NaN        NaN       1653            NaN   \n",
       "3351749                207.0     1573.0       1665      24.300000   \n",
       "3352444                 16.0       16.0       2049      33.883333   \n",
       "3353194               2005.0        NaN       2212       3.450000   \n",
       "3353197               3455.0     3455.0       6586      52.183333   \n",
       "\n",
       "                   7d_detect_dif  \n",
       "patientunitstayid                 \n",
       "142388                       NaN  \n",
       "142974                       NaN  \n",
       "143466                       NaN  \n",
       "143518                       NaN  \n",
       "144173                  9.516667  \n",
       "...                          ...  \n",
       "3351374                      NaN  \n",
       "3351749                 1.533333  \n",
       "3352444                33.883333  \n",
       "3353194                      NaN  \n",
       "3353197                52.183333  \n",
       "\n",
       "[2318 rows x 5 columns]"
      ]
     },
     "execution_count": 30,
     "metadata": {},
     "output_type": "execute_result"
    }
   ],
   "source": [
    "first_occur_comb['2d_detect_dif'] = (first_occur_comb['diagnosis'] - first_occur_comb['2d_detect'])/60\n",
    "first_occur_comb['7d_detect_dif'] = (first_occur_comb['diagnosis'] - first_occur_comb['7d_detect'])/60\n",
    "first_occur_comb"
   ]
  },
  {
   "cell_type": "code",
   "execution_count": 31,
   "metadata": {
    "scrolled": false
   },
   "outputs": [
    {
     "data": {
      "image/png": "[encoded data removed]",
      "text/plain": [
       "<Figure size 1152x288 with 1 Axes>"
      ]
     },
     "metadata": {
      "needs_background": "light"
     },
     "output_type": "display_data"
    }
   ],
   "source": [
    "import matplotlib.pyplot as plt\n",
    "plt.figure(figsize=(16, 4))\n",
    "plt.scatter(list(range(len(first_occur_comb))), first_occur_comb['2d_detect_dif'], label='2 day creatinine')\n",
    "plt.scatter(list(range(len(first_occur_comb))), first_occur_comb['7d_detect_dif'], label='7 day creatinine')\n",
    "leg = plt.legend(bbox_to_anchor=(1, 0.8), fontsize=18)\n",
    "leg.set_title('Detection method', prop = {'size':18})\n",
    "plt.ylabel('Difference (h)', fontsize=20)\n",
    "plt.title('Time difference between AKI clinical detection and diagnosis record', fontsize=24)\n",
    "plt.xlabel('Patients with AKI diagnosis', fontsize=18)\n",
    "plt.xticks(fontsize=18)\n",
    "plt.yticks(fontsize=18)\n",
    "plt.tight_layout()\n",
    "plt.savefig('../images/detect_diag_offsets.png')"
   ]
  },
  {
   "cell_type": "code",
   "execution_count": 32,
   "metadata": {},
   "outputs": [
    {
     "data": {
      "image/png": "[encoded data removed]",
      "text/plain": [
       "<Figure size 864x288 with 1 Axes>"
      ]
     },
     "metadata": {
      "needs_background": "light"
     },
     "output_type": "display_data"
    }
   ],
   "source": [
    "import seaborn as sns\n",
    "plt.figure(figsize=(12, 4))\n",
    "first_occur_comb['2d_detect_dif'].hist(bins=100)\n",
    "plt.axvline(24, ls = '--', c='k')\n",
    "plt.xlabel('Time (h)', fontsize=20)\n",
    "plt.ylabel('Patient count', fontsize=20)\n",
    "plt.title('Time difference between AKI detection with creatinine and diagnosis record', fontsize=22)\n",
    "plt.grid(b=None)\n",
    "plt.xticks(fontsize=18)\n",
    "plt.yticks(fontsize=18)\n",
    "plt.tight_layout()\n",
    "plt.savefig('../images/detect_diag_difdist.png')"
   ]
  },
  {
   "cell_type": "code",
   "execution_count": 33,
   "metadata": {},
   "outputs": [
    {
     "data": {
      "text/plain": [
       "0.18421052631578946"
      ]
     },
     "execution_count": 33,
     "metadata": {},
     "output_type": "execute_result"
    }
   ],
   "source": [
    "len(first_occur_comb[first_occur_comb['2d_detect_dif']<24])/len(first_occur_comb)"
   ]
  },
  {
   "cell_type": "markdown",
   "metadata": {},
   "source": [
    "## For ~20% of pateints  time differnce between clinical detection and diagnosis being entered is < 8h. But for the rest, there is a long tail of many days. Based on this data I should use the KDIGO definition onset and not diagnosis time. Note, I will not use aki detection based on urine since teh data is very spotty"
   ]
  },
  {
   "cell_type": "markdown",
   "metadata": {},
   "source": [
    "# The rest of the notebooks is not used since urine measurments are missing for ~80% of patients and since a single missed measurement for a patient will result a false positive detection."
   ]
  },
  {
   "cell_type": "code",
   "execution_count": 1,
   "metadata": {},
   "outputs": [],
   "source": [
    "urine = pd.read_csv('../data/intermediate/urine_out.csv')\n",
    "urine.columns = ['patientunitstayid', 'intakeoutputoffset', 'cellvaluenumeric', 'celllabel']\n",
    "urine.head()"
   ]
  },
  {
   "cell_type": "code",
   "execution_count": 2,
   "metadata": {},
   "outputs": [],
   "source": [
    "urine.sort_values(by=['patientunitstayid', 'intakeoutputoffset', 'celllabel'])\n",
    "urine.head()"
   ]
  },
  {
   "cell_type": "code",
   "execution_count": 47,
   "metadata": {},
   "outputs": [
    {
     "data": {
      "text/plain": [
       "2088"
      ]
     },
     "execution_count": 47,
     "metadata": {},
     "output_type": "execute_result"
    }
   ],
   "source": [
    "len(urine.patientunitstayid.unique())"
   ]
  },
  {
   "cell_type": "code",
   "execution_count": 3,
   "metadata": {},
   "outputs": [],
   "source": [
    "urine.set_index(['patientunitstayid', 'intakeoutputoffset', 'celllabel'], inplace=True)\n",
    "urine.head()"
   ]
  },
  {
   "cell_type": "code",
   "execution_count": 4,
   "metadata": {},
   "outputs": [],
   "source": [
    "urine = urine.unstack(level=2)\n",
    "urine.head()"
   ]
  },
  {
   "cell_type": "code",
   "execution_count": 5,
   "metadata": {},
   "outputs": [],
   "source": [
    "urine.columns = urine.columns.droplevel()\n",
    "urine.columns = ['Bodyweight (kg)', 'Urine (mL)']\n",
    "urine.head()"
   ]
  },
  {
   "cell_type": "code",
   "execution_count": 6,
   "metadata": {},
   "outputs": [],
   "source": [
    "#urine.reset_index(inplace=True)\n",
    "urine['prev_intakeoutput'] = urine.groupby(['patientunitstayid'])['intakeoutputoffset'].shift(1)\n",
    "urine.fillna(0, inplace=True)\n",
    "urine['time_delta'] = urine['intakeoutputoffset'] - urine['prev_intakeoutput']\n",
    "urine.head()"
   ]
  },
  {
   "cell_type": "code",
   "execution_count": 7,
   "metadata": {
    "scrolled": true
   },
   "outputs": [],
   "source": [
    "urine['ml/kg/h'] = (urine['Urine (mL)']/urine['Bodyweight (kg)']) / (urine['time_delta'].abs()/60)\n",
    "urine['intakeoutputoffset'] = pd.to_timedelta(urine['intakeoutputoffset'], unit='minute')\n",
    "urine.set_index('intakeoutputoffset', inplace=True)\n",
    "urine['urine_6h_ave'] = urine.groupby('patientunitstayid')['ml/kg/h'].apply(lambda x: x.rolling('6h').mean()) \n",
    "urine.head()"
   ]
  },
  {
   "cell_type": "code",
   "execution_count": 55,
   "metadata": {},
   "outputs": [
    {
     "data": {
      "text/plain": [
       "0"
      ]
     },
     "execution_count": 55,
     "metadata": {},
     "output_type": "execute_result"
    }
   ],
   "source": [
    "urine_nonull = urine.dropna()\n",
    "urine_nonull['ml/kg/h'].isna().sum()"
   ]
  },
  {
   "cell_type": "code",
   "execution_count": 8,
   "metadata": {},
   "outputs": [],
   "source": [
    "urine_nonull"
   ]
  },
  {
   "cell_type": "code",
   "execution_count": 9,
   "metadata": {},
   "outputs": [],
   "source": [
    "pd.set_option('mode.chained_assignment', None)\n",
    "urine_nonull.loc[urine_nonull['urine_6h_ave'] < 0.5, 'AKI_reached_6h'] = 1\n",
    "urine_nonull['AKI_reached_6h'].fillna(0, inplace=True)\n",
    "urine_nonull.head()"
   ]
  },
  {
   "cell_type": "code",
   "execution_count": 59,
   "metadata": {},
   "outputs": [
    {
     "data": {
      "text/plain": [
       "patientunitstayid\n",
       "142388       -86.0\n",
       "142974      -233.0\n",
       "143466        60.0\n",
       "143518      -112.0\n",
       "144173      -403.0\n",
       "            ...   \n",
       "3351374     -838.0\n",
       "3351749     -102.0\n",
       "3352444    -3244.0\n",
       "3353194     -155.0\n",
       "3353197   -12601.0\n",
       "Name: intakeoutputoffset, Length: 1285, dtype: float64"
      ]
     },
     "execution_count": 59,
     "metadata": {},
     "output_type": "execute_result"
    }
   ],
   "source": [
    "urine_nonull.reset_index(inplace=True)\n",
    "urine_6h = urine_nonull[urine_nonull['AKI_reached_6h']==1].groupby('patientunitstayid')['intakeoutputoffset'].first()\n",
    "urine_6h = urine_6h/pd.Timedelta('1 minute')\n",
    "urine_6h"
   ]
  },
  {
   "cell_type": "code",
   "execution_count": 60,
   "metadata": {},
   "outputs": [
    {
     "data": {
      "text/plain": [
       "1.0      234\n",
       "2.0      198\n",
       "3.0      173\n",
       "4.0      137\n",
       "5.0      105\n",
       "6.0       95\n",
       "0.0       81\n",
       "7.0       60\n",
       "8.0       37\n",
       "9.0       34\n",
       "10.0      29\n",
       "12.0      26\n",
       "11.0      22\n",
       "13.0      15\n",
       "15.0      12\n",
       "18.0      12\n",
       "14.0      12\n",
       "17.0      10\n",
       "16.0      10\n",
       "20.0       9\n",
       "24.0       8\n",
       "22.0       5\n",
       "19.0       4\n",
       "26.0       4\n",
       "27.0       4\n",
       "33.0       3\n",
       "21.0       3\n",
       "23.0       3\n",
       "31.0       3\n",
       "44.0       2\n",
       "25.0       2\n",
       "47.0       2\n",
       "34.0       2\n",
       "35.0       1\n",
       "42.0       1\n",
       "57.0       1\n",
       "30.0       1\n",
       "41.0       1\n",
       "39.0       1\n",
       "38.0       1\n",
       "76.0       1\n",
       "36.0       1\n",
       "156.0      1\n",
       "Name: AKI_reached_6h, dtype: int64"
      ]
     },
     "execution_count": 60,
     "metadata": {},
     "output_type": "execute_result"
    }
   ],
   "source": [
    "exp6h = urine_nonull.groupby('patientunitstayid')['AKI_reached_6h'].sum()\n",
    "exp6h.value_counts()"
   ]
  },
  {
   "cell_type": "code",
   "execution_count": 61,
   "metadata": {},
   "outputs": [
    {
     "data": {
      "text/html": [
       "<div>\n",
       "<style scoped>\n",
       "    .dataframe tbody tr th:only-of-type {\n",
       "        vertical-align: middle;\n",
       "    }\n",
       "\n",
       "    .dataframe tbody tr th {\n",
       "        vertical-align: top;\n",
       "    }\n",
       "\n",
       "    .dataframe thead th {\n",
       "        text-align: right;\n",
       "    }\n",
       "</style>\n",
       "<table border=\"1\" class=\"dataframe\">\n",
       "  <thead>\n",
       "    <tr style=\"text-align: right;\">\n",
       "      <th></th>\n",
       "      <th>AKI_reached_7d</th>\n",
       "      <th>AKI_reached</th>\n",
       "      <th>AKI_reached_6h</th>\n",
       "    </tr>\n",
       "    <tr>\n",
       "      <th>patientunitstayid</th>\n",
       "      <th></th>\n",
       "      <th></th>\n",
       "      <th></th>\n",
       "    </tr>\n",
       "  </thead>\n",
       "  <tbody>\n",
       "    <tr>\n",
       "      <th>142388</th>\n",
       "      <td>0.0</td>\n",
       "      <td>0.0</td>\n",
       "      <td>3.0</td>\n",
       "    </tr>\n",
       "    <tr>\n",
       "      <th>142974</th>\n",
       "      <td>0.0</td>\n",
       "      <td>0.0</td>\n",
       "      <td>3.0</td>\n",
       "    </tr>\n",
       "    <tr>\n",
       "      <th>143466</th>\n",
       "      <td>0.0</td>\n",
       "      <td>1.0</td>\n",
       "      <td>5.0</td>\n",
       "    </tr>\n",
       "    <tr>\n",
       "      <th>143518</th>\n",
       "      <td>0.0</td>\n",
       "      <td>1.0</td>\n",
       "      <td>10.0</td>\n",
       "    </tr>\n",
       "    <tr>\n",
       "      <th>144173</th>\n",
       "      <td>3.0</td>\n",
       "      <td>1.0</td>\n",
       "      <td>1.0</td>\n",
       "    </tr>\n",
       "    <tr>\n",
       "      <th>...</th>\n",
       "      <td>...</td>\n",
       "      <td>...</td>\n",
       "      <td>...</td>\n",
       "    </tr>\n",
       "    <tr>\n",
       "      <th>3351374</th>\n",
       "      <td>0.0</td>\n",
       "      <td>0.0</td>\n",
       "      <td>5.0</td>\n",
       "    </tr>\n",
       "    <tr>\n",
       "      <th>3351749</th>\n",
       "      <td>1.0</td>\n",
       "      <td>1.0</td>\n",
       "      <td>11.0</td>\n",
       "    </tr>\n",
       "    <tr>\n",
       "      <th>3352444</th>\n",
       "      <td>1.0</td>\n",
       "      <td>1.0</td>\n",
       "      <td>2.0</td>\n",
       "    </tr>\n",
       "    <tr>\n",
       "      <th>3353194</th>\n",
       "      <td>0.0</td>\n",
       "      <td>1.0</td>\n",
       "      <td>6.0</td>\n",
       "    </tr>\n",
       "    <tr>\n",
       "      <th>3353197</th>\n",
       "      <td>3.0</td>\n",
       "      <td>1.0</td>\n",
       "      <td>34.0</td>\n",
       "    </tr>\n",
       "  </tbody>\n",
       "</table>\n",
       "<p>2321 rows × 3 columns</p>\n",
       "</div>"
      ],
      "text/plain": [
       "                   AKI_reached_7d  AKI_reached  AKI_reached_6h\n",
       "patientunitstayid                                             \n",
       "142388                        0.0          0.0             3.0\n",
       "142974                        0.0          0.0             3.0\n",
       "143466                        0.0          1.0             5.0\n",
       "143518                        0.0          1.0            10.0\n",
       "144173                        3.0          1.0             1.0\n",
       "...                           ...          ...             ...\n",
       "3351374                       0.0          0.0             5.0\n",
       "3351749                       1.0          1.0            11.0\n",
       "3352444                       1.0          1.0             2.0\n",
       "3353194                       0.0          1.0             6.0\n",
       "3353197                       3.0          1.0            34.0\n",
       "\n",
       "[2321 rows x 3 columns]"
      ]
     },
     "execution_count": 61,
     "metadata": {},
     "output_type": "execute_result"
    }
   ],
   "source": [
    "same_pat = pd.concat([same_pat, exp6h], axis=1, ignore_index=False)\n",
    "same_pat"
   ]
  },
  {
   "cell_type": "code",
   "execution_count": 62,
   "metadata": {},
   "outputs": [
    {
     "name": "stdout",
     "output_type": "stream",
     "text": [
      "2321\n",
      "1270\n"
     ]
    }
   ],
   "source": [
    "no_simp = same_pat[(same_pat['AKI_reached_7d']==0) | (same_pat['AKI_reached_7d'].isna())]\n",
    "print(len(same_pat))\n",
    "print(len(no_simp))"
   ]
  },
  {
   "cell_type": "code",
   "execution_count": 101,
   "metadata": {},
   "outputs": [
    {
     "name": "stdout",
     "output_type": "stream",
     "text": [
      "671\n"
     ]
    }
   ],
   "source": [
    "no_simp = no_simp[(no_simp['AKI_reached']==0) | (no_simp['AKI_reached'].isna())]\n",
    "print(len(no_simp))"
   ]
  },
  {
   "cell_type": "code",
   "execution_count": 63,
   "metadata": {},
   "outputs": [
    {
     "name": "stdout",
     "output_type": "stream",
     "text": [
      "581\n"
     ]
    }
   ],
   "source": [
    "no_simp = no_simp[(no_simp['AKI_reached_6h']==0) | (no_simp['AKI_reached_6h'].isna())]\n",
    "print(len(no_simp))"
   ]
  },
  {
   "cell_type": "code",
   "execution_count": 64,
   "metadata": {},
   "outputs": [
    {
     "data": {
      "text/html": [
       "<div>\n",
       "<style scoped>\n",
       "    .dataframe tbody tr th:only-of-type {\n",
       "        vertical-align: middle;\n",
       "    }\n",
       "\n",
       "    .dataframe tbody tr th {\n",
       "        vertical-align: top;\n",
       "    }\n",
       "\n",
       "    .dataframe thead th {\n",
       "        text-align: right;\n",
       "    }\n",
       "</style>\n",
       "<table border=\"1\" class=\"dataframe\">\n",
       "  <thead>\n",
       "    <tr style=\"text-align: right;\">\n",
       "      <th></th>\n",
       "      <th>AKI_reached_7d</th>\n",
       "      <th>AKI_reached</th>\n",
       "      <th>AKI_reached_6h</th>\n",
       "    </tr>\n",
       "    <tr>\n",
       "      <th>patientunitstayid</th>\n",
       "      <th></th>\n",
       "      <th></th>\n",
       "      <th></th>\n",
       "    </tr>\n",
       "  </thead>\n",
       "  <tbody>\n",
       "    <tr>\n",
       "      <th>180463</th>\n",
       "      <td>0.0</td>\n",
       "      <td>0.0</td>\n",
       "      <td>NaN</td>\n",
       "    </tr>\n",
       "    <tr>\n",
       "      <th>212352</th>\n",
       "      <td>0.0</td>\n",
       "      <td>0.0</td>\n",
       "      <td>NaN</td>\n",
       "    </tr>\n",
       "    <tr>\n",
       "      <th>249893</th>\n",
       "      <td>0.0</td>\n",
       "      <td>0.0</td>\n",
       "      <td>0.0</td>\n",
       "    </tr>\n",
       "    <tr>\n",
       "      <th>255486</th>\n",
       "      <td>0.0</td>\n",
       "      <td>0.0</td>\n",
       "      <td>0.0</td>\n",
       "    </tr>\n",
       "    <tr>\n",
       "      <th>266992</th>\n",
       "      <td>0.0</td>\n",
       "      <td>0.0</td>\n",
       "      <td>0.0</td>\n",
       "    </tr>\n",
       "    <tr>\n",
       "      <th>...</th>\n",
       "      <td>...</td>\n",
       "      <td>...</td>\n",
       "      <td>...</td>\n",
       "    </tr>\n",
       "    <tr>\n",
       "      <th>3346657</th>\n",
       "      <td>0.0</td>\n",
       "      <td>0.0</td>\n",
       "      <td>NaN</td>\n",
       "    </tr>\n",
       "    <tr>\n",
       "      <th>3349087</th>\n",
       "      <td>0.0</td>\n",
       "      <td>1.0</td>\n",
       "      <td>0.0</td>\n",
       "    </tr>\n",
       "    <tr>\n",
       "      <th>3349239</th>\n",
       "      <td>0.0</td>\n",
       "      <td>0.0</td>\n",
       "      <td>NaN</td>\n",
       "    </tr>\n",
       "    <tr>\n",
       "      <th>3349691</th>\n",
       "      <td>0.0</td>\n",
       "      <td>0.0</td>\n",
       "      <td>0.0</td>\n",
       "    </tr>\n",
       "    <tr>\n",
       "      <th>3350394</th>\n",
       "      <td>0.0</td>\n",
       "      <td>0.0</td>\n",
       "      <td>NaN</td>\n",
       "    </tr>\n",
       "  </tbody>\n",
       "</table>\n",
       "<p>581 rows × 3 columns</p>\n",
       "</div>"
      ],
      "text/plain": [
       "                   AKI_reached_7d  AKI_reached  AKI_reached_6h\n",
       "patientunitstayid                                             \n",
       "180463                        0.0          0.0             NaN\n",
       "212352                        0.0          0.0             NaN\n",
       "249893                        0.0          0.0             0.0\n",
       "255486                        0.0          0.0             0.0\n",
       "266992                        0.0          0.0             0.0\n",
       "...                           ...          ...             ...\n",
       "3346657                       0.0          0.0             NaN\n",
       "3349087                       0.0          1.0             0.0\n",
       "3349239                       0.0          0.0             NaN\n",
       "3349691                       0.0          0.0             0.0\n",
       "3350394                       0.0          0.0             NaN\n",
       "\n",
       "[581 rows x 3 columns]"
      ]
     },
     "execution_count": 64,
     "metadata": {},
     "output_type": "execute_result"
    }
   ],
   "source": [
    "no_simp"
   ]
  },
  {
   "cell_type": "raw",
   "metadata": {},
   "source": [
    "print(utine.reset_index()['patientunitstayid'].unique().shape)\n",
    "print(len(urine_6h))"
   ]
  },
  {
   "cell_type": "code",
   "execution_count": null,
   "metadata": {},
   "outputs": [],
   "source": []
  }
 ],
 "metadata": {
  "kernelspec": {
   "display_name": "Python 3",
   "language": "python",
   "name": "python3"
  },
  "language_info": {
   "codemirror_mode": {
    "name": "ipython",
    "version": 3
   },
   "file_extension": ".py",
   "mimetype": "text/x-python",
   "name": "python",
   "nbconvert_exporter": "python",
   "pygments_lexer": "ipython3",
   "version": "3.8.3"
  }
 },
 "nbformat": 4,
 "nbformat_minor": 4
}
