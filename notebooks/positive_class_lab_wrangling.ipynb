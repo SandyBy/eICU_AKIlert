{
 "cells": [
  {
   "cell_type": "markdown",
   "metadata": {},
   "source": [
    "# Purpose\n",
    "To wrangle and label the 48h observation windows for the positive class."
   ]
  },
  {
   "cell_type": "code",
   "execution_count": 1,
   "metadata": {},
   "outputs": [],
   "source": [
    "import pandas as pd\n",
    "pos_lab = pd.read_csv('../data/intermediate/positive_lab_data.csv', header=None, low_memory=False)"
   ]
  },
  {
   "cell_type": "code",
   "execution_count": 2,
   "metadata": {},
   "outputs": [],
   "source": [
    "columns = ['patientunitstayid', 'labname', 'labresult', 'labresultoffset', 'akidetection', 'age', 'gender', \\\n",
    "           'ethnicity', 'patienthealthsystemstayid', 'hospitaladmitoffset', 'unitdischargeoffset']\n",
    "pos_lab.columns=columns"
   ]
  },
  {
   "cell_type": "code",
   "execution_count": 3,
   "metadata": {},
   "outputs": [],
   "source": [
    "# pivot the table to get lab measurements as columns\n",
    "pos_lab = pd.pivot_table(pos_lab, values=['labresult'], \\\n",
    "               index=['patientunitstayid', 'labresultoffset', 'akidetection', 'age', 'gender', 'ethnicity', \\\n",
    "                      'patienthealthsystemstayid', 'hospitaladmitoffset', 'unitdischargeoffset'], \\\n",
    "               columns=['labname'], aggfunc='first')\n",
    "pos_lab.columns = pos_lab.columns.droplevel() # reshape column level"
   ]
  },
  {
   "cell_type": "code",
   "execution_count": 4,
   "metadata": {},
   "outputs": [],
   "source": [
    "pos_lab.columns = ['BUN', 'Hct', 'Hgb', 'RBC', 'WBC x 1000', 'bedside glucose',\n",
    "       'bicarbonate', 'calcium', 'chloride', 'creatinine', 'glucose',\n",
    "       'platelets x 1000', 'potassium', 'sodium']"
   ]
  },
  {
   "cell_type": "code",
   "execution_count": 5,
   "metadata": {},
   "outputs": [],
   "source": [
    "pd.option_context(\"mode.chained_assignment\", None)\n",
    "pos_lab.reset_index(inplace=True)\n",
    "pos_lab['time_to_detect'] = pos_lab['akidetection'] - pos_lab['labresultoffset']\n",
    "pos_lab = pos_lab[pos_lab['time_to_detect']/60>=12] # remove observations < 12 h from first detection\n",
    "pos_lab.loc[pos_lab['time_to_detect']/60<=24, 'positive_window'] = 1 # label observation right before aki detection"
   ]
  },
  {
   "cell_type": "code",
   "execution_count": 6,
   "metadata": {},
   "outputs": [],
   "source": [
    "# Next, look at empty values in each row and column\n",
    "null_rows = pos_lab[['BUN', 'Hct', 'Hgb', 'RBC', 'WBC x 1000', 'bedside glucose',\n",
    "       'bicarbonate', 'calcium', 'chloride', 'creatinine', 'glucose',\n",
    "       'platelets x 1000', 'potassium', 'sodium']].isna().sum(axis=0)"
   ]
  },
  {
   "cell_type": "code",
   "execution_count": 7,
   "metadata": {},
   "outputs": [
    {
     "data": {
      "text/plain": [
       "BUN                 335103\n",
       "Hct                 328274\n",
       "Hgb                 326421\n",
       "RBC                 345765\n",
       "WBC x 1000          345687\n",
       "bedside glucose     177673\n",
       "bicarbonate         341944\n",
       "calcium             339621\n",
       "chloride            332361\n",
       "creatinine          334260\n",
       "glucose             327535\n",
       "platelets x 1000    344499\n",
       "potassium           308222\n",
       "sodium              318371\n",
       "dtype: int64"
      ]
     },
     "execution_count": 7,
     "metadata": {},
     "output_type": "execute_result"
    }
   ],
   "source": [
    "null_rows"
   ]
  },
  {
   "cell_type": "code",
   "execution_count": 8,
   "metadata": {},
   "outputs": [
    {
     "name": "stdout",
     "output_type": "stream",
     "text": [
      "118642\n"
     ]
    },
    {
     "data": {
      "text/plain": [
       "BUN                      0\n",
       "Hct                  29692\n",
       "Hgb                  29768\n",
       "RBC                  31370\n",
       "WBC x 1000           31259\n",
       "bedside glucose     117546\n",
       "bicarbonate           8525\n",
       "calcium               5405\n",
       "chloride               212\n",
       "creatinine               0\n",
       "glucose               1306\n",
       "platelets x 1000     31842\n",
       "potassium              501\n",
       "sodium                 204\n",
       "dtype: int64"
      ]
     },
     "execution_count": 8,
     "metadata": {},
     "output_type": "execute_result"
    }
   ],
   "source": [
    "# creatinine and BUN - blood urea nitrogen are important biomarkers so there cannot be empty values and no imputation\n",
    "# method will be meaningful. Drop the rows with null creatinine and BUN values\n",
    "pos_lab = pos_lab[~((pos_lab['creatinine'].isna()) | (pos_lab['BUN'].isna()))]\n",
    "print(len(pos_lab))\n",
    "null_rows = pos_lab[['BUN', 'Hct', 'Hgb', 'RBC', 'WBC x 1000', 'bedside glucose',\n",
    "       'bicarbonate', 'calcium', 'chloride', 'creatinine', 'glucose',\n",
    "       'platelets x 1000', 'potassium', 'sodium']].isna().sum(axis=0)\n",
    "null_rows"
   ]
  },
  {
   "cell_type": "code",
   "execution_count": 9,
   "metadata": {},
   "outputs": [
    {
     "data": {
      "text/plain": [
       "BUN            0\n",
       "bicarbonate    0\n",
       "calcium        0\n",
       "chloride       0\n",
       "creatinine     0\n",
       "glucose        0\n",
       "potassium      0\n",
       "sodium         0\n",
       "dtype: int64"
      ]
     },
     "execution_count": 9,
     "metadata": {},
     "output_type": "execute_result"
    }
   ],
   "source": [
    "# Nearly all 'bedside glucose' and 1/3 - 1/4 of 'Hct', 'Hgb', 'RBC', 'WBC x 1000', 'platelets x 1000' is missing. This \n",
    "# is too much to impute. For the rest, first impute the first available last value, if none then next value\n",
    "pos_lab.drop(columns=['Hct', 'Hgb', 'RBC', 'WBC x 1000', 'bedside glucose', 'platelets x 1000'], inplace=True)\n",
    "\n",
    "pos_lab[['bicarbonate', 'calcium', 'chloride', 'glucose','potassium', 'sodium']] = \\\n",
    "pos_lab.groupby('patientunitstayid')[['bicarbonate', 'calcium', 'chloride', 'glucose','potassium', \\\n",
    "                                      'sodium']].fillna(method='ffill').fillna(method='bfill')\n",
    "null_rows = pos_lab[['BUN', 'bicarbonate', 'calcium', 'chloride', 'creatinine', 'glucose','potassium', 'sodium']].isna().sum(axis=0)\n",
    "null_rows"
   ]
  },
  {
   "cell_type": "code",
   "execution_count": 10,
   "metadata": {
    "scrolled": true
   },
   "outputs": [],
   "source": [
    "pos_lab.positive_window.fillna(0, inplace=True)"
   ]
  },
  {
   "cell_type": "code",
   "execution_count": 12,
   "metadata": {},
   "outputs": [],
   "source": [
    "pos_lab.sort_values(by=['patientunitstayid', 'labresultoffset'], ascending=True, inplace=True)"
   ]
  },
  {
   "cell_type": "code",
   "execution_count": 13,
   "metadata": {},
   "outputs": [],
   "source": [
    "import sys, os\n",
    "sys.path.insert(0, os.path.abspath('../src/'))\n",
    "import lab_wrangling"
   ]
  },
  {
   "cell_type": "code",
   "execution_count": 15,
   "metadata": {},
   "outputs": [
    {
     "name": "stdout",
     "output_type": "stream",
     "text": [
      "725.5301370620728\n"
     ]
    }
   ],
   "source": [
    "import time\n",
    "start_time = time.time()\n",
    "columns = ['BUN', 'bicarbonate', 'calcium', 'chloride', 'creatinine', 'glucose','potassium', 'sodium']\n",
    "funcs = ['min', 'mean', 'max', 'var']\n",
    "df = pos_lab\n",
    "pos_lab = lab_wrangling.calc_stats_windows(df, columns, funcs)\n",
    "print(time.time() - start_time)"
   ]
  },
  {
   "cell_type": "code",
   "execution_count": 36,
   "metadata": {},
   "outputs": [
    {
     "name": "stdout",
     "output_type": "stream",
     "text": [
      "118642\n",
      "86552\n"
     ]
    }
   ],
   "source": [
    "print(len(pos_lab))\n",
    "pos_lab.dropna(inplace=True)\n",
    "print(len(pos_lab))"
   ]
  },
  {
   "cell_type": "code",
   "execution_count": 39,
   "metadata": {},
   "outputs": [
    {
     "data": {
      "text/plain": [
       "11752.0"
      ]
     },
     "execution_count": 39,
     "metadata": {},
     "output_type": "execute_result"
    }
   ],
   "source": [
    "pos_lab.positive_window.sum()"
   ]
  },
  {
   "cell_type": "code",
   "execution_count": 40,
   "metadata": {},
   "outputs": [
    {
     "data": {
      "text/plain": [
       "0.13577964691746003"
      ]
     },
     "execution_count": 40,
     "metadata": {},
     "output_type": "execute_result"
    }
   ],
   "source": [
    "11752/86552"
   ]
  },
  {
   "cell_type": "code",
   "execution_count": 41,
   "metadata": {},
   "outputs": [
    {
     "data": {
      "text/plain": [
       "<matplotlib.axes._subplots.AxesSubplot at 0x12780a970>"
      ]
     },
     "execution_count": 41,
     "metadata": {},
     "output_type": "execute_result"
    },
    {
     "data": {
      "image/png": "[encoded data removed]",
      "text/plain": [
       "<Figure size 432x288 with 1 Axes>"
      ]
     },
     "metadata": {
      "needs_background": "light"
     },
     "output_type": "display_data"
    }
   ],
   "source": [
    "pos_lab['labresultoffset'].hist()"
   ]
  },
  {
   "cell_type": "code",
   "execution_count": 43,
   "metadata": {},
   "outputs": [
    {
     "data": {
      "text/plain": [
       "Index(['patientunitstayid', 'time_to_detect', 'labresultoffset',\n",
       "       'akidetection', 'age', 'gender', 'ethnicity',\n",
       "       'patienthealthsystemstayid', 'hospitaladmitoffset',\n",
       "       'unitdischargeoffset', 'BUN', 'bicarbonate', 'calcium', 'chloride',\n",
       "       'creatinine', 'glucose', 'potassium', 'sodium', 'positive_window',\n",
       "       'BUN_min', 'BUN_mean', 'BUN_max', 'BUN_var', 'bicarbonate_min',\n",
       "       'bicarbonate_mean', 'bicarbonate_max', 'bicarbonate_var', 'calcium_min',\n",
       "       'calcium_mean', 'calcium_max', 'calcium_var', 'chloride_min',\n",
       "       'chloride_mean', 'chloride_max', 'chloride_var', 'creatinine_min',\n",
       "       'creatinine_mean', 'creatinine_max', 'creatinine_var', 'glucose_min',\n",
       "       'glucose_mean', 'glucose_max', 'glucose_var', 'potassium_min',\n",
       "       'potassium_mean', 'potassium_max', 'potassium_var', 'sodium_min',\n",
       "       'sodium_mean', 'sodium_max', 'sodium_var'],\n",
       "      dtype='object')"
      ]
     },
     "execution_count": 43,
     "metadata": {},
     "output_type": "execute_result"
    }
   ],
   "source": [
    "pos_lab.reset_index().columns"
   ]
  },
  {
   "cell_type": "code",
   "execution_count": 44,
   "metadata": {},
   "outputs": [],
   "source": [
    "pos_lab.to_csv('../data/final/positive_class_lab_wrangled.csv')"
   ]
  },
  {
   "cell_type": "code",
   "execution_count": 4,
   "metadata": {},
   "outputs": [
    {
     "name": "stdout",
     "output_type": "stream",
     "text": [
      "20941\n"
     ]
    }
   ],
   "source": [
    "import pandas as pd\n",
    "pos_lab = pd.read_csv('../data/final/positive_class_lab_wrangled.csv')\n",
    "print(len(pos_lab.patientunitstayid.value_counts()))"
   ]
  },
  {
   "cell_type": "code",
   "execution_count": null,
   "metadata": {},
   "outputs": [],
   "source": []
  }
 ],
 "metadata": {
  "kernelspec": {
   "display_name": "Python 3",
   "language": "python",
   "name": "python3"
  },
  "language_info": {
   "codemirror_mode": {
    "name": "ipython",
    "version": 3
   },
   "file_extension": ".py",
   "mimetype": "text/x-python",
   "name": "python",
   "nbconvert_exporter": "python",
   "pygments_lexer": "ipython3",
   "version": "3.8.3"
  }
 },
 "nbformat": 4,
 "nbformat_minor": 4
}
