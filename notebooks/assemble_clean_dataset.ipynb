{
 "cells": [
  {
   "cell_type": "code",
   "execution_count": 2,
   "metadata": {},
   "outputs": [],
   "source": [
    "import pandas as pd\n",
    "import numpy as np\n",
    "import matplotlib.pyplot as plt\n",
    "%matplotlib inline"
   ]
  },
  {
   "cell_type": "code",
   "execution_count": 10,
   "metadata": {},
   "outputs": [],
   "source": [
    "pat = pd.read_csv('../../eICU_dbmake/eicu-code/build-db/postgres/csv_files/patient.csv')\n",
    "admdx = pd.read_csv('../../eICU_dbmake/eicu-code/build-db/postgres/csv_files/admissionDx.csv')\n",
    "qa = pd.read_csv('../data/intermediate/patid_aki_label_offset.csv')"
   ]
  },
  {
   "cell_type": "code",
   "execution_count": 11,
   "metadata": {},
   "outputs": [
    {
     "data": {
      "text/html": [
       "<div>\n",
       "<style scoped>\n",
       "    .dataframe tbody tr th:only-of-type {\n",
       "        vertical-align: middle;\n",
       "    }\n",
       "\n",
       "    .dataframe tbody tr th {\n",
       "        vertical-align: top;\n",
       "    }\n",
       "\n",
       "    .dataframe thead th {\n",
       "        text-align: right;\n",
       "    }\n",
       "</style>\n",
       "<table border=\"1\" class=\"dataframe\">\n",
       "  <thead>\n",
       "    <tr style=\"text-align: right;\">\n",
       "      <th></th>\n",
       "      <th>aki_label</th>\n",
       "      <th>aki_offset</th>\n",
       "    </tr>\n",
       "    <tr>\n",
       "      <th>patientunitstayid</th>\n",
       "      <th></th>\n",
       "      <th></th>\n",
       "    </tr>\n",
       "  </thead>\n",
       "  <tbody>\n",
       "    <tr>\n",
       "      <th>141284</th>\n",
       "      <td>0</td>\n",
       "      <td>NaN</td>\n",
       "    </tr>\n",
       "    <tr>\n",
       "      <th>141288</th>\n",
       "      <td>0</td>\n",
       "      <td>NaN</td>\n",
       "    </tr>\n",
       "    <tr>\n",
       "      <th>141360</th>\n",
       "      <td>0</td>\n",
       "      <td>NaN</td>\n",
       "    </tr>\n",
       "    <tr>\n",
       "      <th>141362</th>\n",
       "      <td>0</td>\n",
       "      <td>NaN</td>\n",
       "    </tr>\n",
       "    <tr>\n",
       "      <th>141415</th>\n",
       "      <td>0</td>\n",
       "      <td>NaN</td>\n",
       "    </tr>\n",
       "  </tbody>\n",
       "</table>\n",
       "</div>"
      ],
      "text/plain": [
       "                   aki_label  aki_offset\n",
       "patientunitstayid                       \n",
       "141284                     0         NaN\n",
       "141288                     0         NaN\n",
       "141360                     0         NaN\n",
       "141362                     0         NaN\n",
       "141415                     0         NaN"
      ]
     },
     "execution_count": 11,
     "metadata": {},
     "output_type": "execute_result"
    }
   ],
   "source": [
    "qa.columns = ['patientunitstayid', 'aki_label', 'aki_offset']\n",
    "qa.set_index('patientunitstayid', inplace=True)\n",
    "qa.head()"
   ]
  },
  {
   "cell_type": "code",
   "execution_count": 5,
   "metadata": {},
   "outputs": [
    {
     "data": {
      "text/plain": [
       "57.93333333333333"
      ]
     },
     "execution_count": 5,
     "metadata": {},
     "output_type": "execute_result"
    }
   ],
   "source": [
    "qa[qa.aki_offset.notnull()]['aki_offset'].median()/60"
   ]
  },
  {
   "cell_type": "code",
   "execution_count": 6,
   "metadata": {},
   "outputs": [
    {
     "data": {
      "image/png": "[encoded data removed]",
      "text/plain": [
       "<Figure size 432x288 with 1 Axes>"
      ]
     },
     "metadata": {
      "needs_background": "light"
     },
     "output_type": "display_data"
    }
   ],
   "source": [
    "offset_hour = qa[qa.aki_label==1]['aki_offset']/(60*24)\n",
    "offset_hour.sort_values(inplace=True)\n",
    "offset_hour.hist(bins=50)\n",
    "plt.ylabel('count of cases')\n",
    "plt.xlabel('AKI diagnosis days after ICU admission')\n",
    "plt.title('Distribition of AKI diagnosis days since ICU dmission');"
   ]
  },
  {
   "cell_type": "code",
   "execution_count": 97,
   "metadata": {},
   "outputs": [
    {
     "data": {
      "text/plain": [
       "(0.0, 100.0)"
      ]
     },
     "execution_count": 97,
     "metadata": {},
     "output_type": "execute_result"
    },
    {
     "data": {
      "image/png": "[encoded data removed]",
      "text/plain": [
       "<Figure size 432x288 with 1 Axes>"
      ]
     },
     "metadata": {
      "needs_background": "light"
     },
     "output_type": "display_data"
    }
   ],
   "source": [
    "disch_offset_hour = pat[pat.aki_label==1]['unitdischargeoffset']/(60*24)\n",
    "disch_offset_hour = disch_offset_hour#[disch_offset_hour<=40]\n",
    "disch_offset_hour.sort_values(inplace=True)\n",
    "disch_offset_hour.hist(bins=50)\n",
    "plt.ylabel('count of discharges')\n",
    "plt.xlabel('Days in ICU')\n",
    "plt.title('Distribition of discharge days for aki patietns');\n",
    "plt.xlim(0,100)"
   ]
  },
  {
   "cell_type": "code",
   "execution_count": 98,
   "metadata": {},
   "outputs": [
    {
     "data": {
      "text/plain": [
       "(0.0, 100.0)"
      ]
     },
     "execution_count": 98,
     "metadata": {},
     "output_type": "execute_result"
    },
    {
     "data": {
      "image/png": "[encoded data removed]",
      "text/plain": [
       "<Figure size 432x288 with 1 Axes>"
      ]
     },
     "metadata": {
      "needs_background": "light"
     },
     "output_type": "display_data"
    }
   ],
   "source": [
    "disch_offset_hour = pat[pat.aki_label==0]['unitdischargeoffset']/(60*24)\n",
    "disch_offset_hour = disch_offset_hour#[disch_offset_hour<=40]\n",
    "disch_offset_hour.sort_values(inplace=True)\n",
    "disch_offset_hour.hist(bins=50)\n",
    "plt.ylabel('count of discharges')\n",
    "plt.xlabel('Days in ICU')\n",
    "plt.title('Distribition of discharge days for non-aki patietns');\n",
    "plt.xlim(0,100)"
   ]
  },
  {
   "cell_type": "markdown",
   "metadata": {},
   "source": [
    "AKI diagnosis events appear to be poisson distributed."
   ]
  },
  {
   "cell_type": "code",
   "execution_count": 15,
   "metadata": {},
   "outputs": [
    {
     "data": {
      "image/png": "[encoded data removed]",
      "text/plain": [
       "<Figure size 432x288 with 1 Axes>"
      ]
     },
     "metadata": {
      "needs_background": "light"
     },
     "output_type": "display_data"
    }
   ],
   "source": [
    "disch_offset_day = pat['unitdischargeoffset']/(60*24)\n",
    "disch_offset_day.sort_values(inplace=True)\n",
    "disch_offset_day[disch_offset_day<=40].hist(bins=50)\n",
    "plt.ylabel('count of discharges')\n",
    "plt.xlabel('Days in ICU')\n",
    "plt.title('Distribition of days to discharge');"
   ]
  },
  {
   "cell_type": "code",
   "execution_count": 12,
   "metadata": {},
   "outputs": [
    {
     "name": "stdout",
     "output_type": "stream",
     "text": [
      "200859\n",
      "90804\n"
     ]
    }
   ],
   "source": [
    "print(len(pat))\n",
    "pat = pat.merge(qa, left_on = 'patientunitstayid', right_on = 'patientunitstayid')\n",
    "print(len(pat))"
   ]
  },
  {
   "cell_type": "code",
   "execution_count": 88,
   "metadata": {},
   "outputs": [
    {
     "name": "stdout",
     "output_type": "stream",
     "text": [
      "Alive      0.784794\n",
      "Expired    0.215206\n",
      "Name: unitdischargestatus, dtype: float64\n",
      "Alive      0.952421\n",
      "Expired    0.047579\n",
      "Name: unitdischargestatus, dtype: float64\n"
     ]
    }
   ],
   "source": [
    "print(pat[pat.aki_label==1]['unitdischargestatus'].value_counts()/len(pat[pat.aki_label==1]))\n",
    "print(pat['unitdischargestatus'].value_counts()/len(pat))"
   ]
  },
  {
   "cell_type": "code",
   "execution_count": 100,
   "metadata": {},
   "outputs": [
    {
     "data": {
      "text/plain": [
       "aki_label\n",
       "0    AxesSubplot(0.125,0.125;0.775x0.755)\n",
       "1    AxesSubplot(0.125,0.125;0.775x0.755)\n",
       "Name: age, dtype: object"
      ]
     },
     "execution_count": 100,
     "metadata": {},
     "output_type": "execute_result"
    },
    {
     "data": {
      "image/png": "[encoded data removed]",
      "text/plain": [
       "<Figure size 432x288 with 1 Axes>"
      ]
     },
     "metadata": {
      "needs_background": "light"
     },
     "output_type": "display_data"
    }
   ],
   "source": [
    "pat['age'] = pat['age'].astype(int)\n",
    "pat.groupby('aki_label')['age'].hist()"
   ]
  },
  {
   "cell_type": "code",
   "execution_count": 103,
   "metadata": {},
   "outputs": [
    {
     "data": {
      "text/plain": [
       "Text(0.5, 1.0, 'cumulative distribution of age for aki positive and negative patients')"
      ]
     },
     "execution_count": 103,
     "metadata": {},
     "output_type": "execute_result"
    },
    {
     "data": {
      "image/png": "[encoded data removed]",
      "text/plain": [
       "<Figure size 432x288 with 1 Axes>"
      ]
     },
     "metadata": {
      "needs_background": "light"
     },
     "output_type": "display_data"
    }
   ],
   "source": [
    "age_dist_grouped = pat.groupby('aki_label')['age'].value_counts()\n",
    "age_dist_grouped = age_dist_grouped.unstack(level=0)\n",
    "age_dist_grouped = pd.DataFrame(age_dist_grouped.values, index=age_dist_grouped.index.tolist(), \\\n",
    "columns=age_dist_grouped.columns.tolist())\n",
    "age_dist_grouped.sort_index(inplace=True)\n",
    "age_dist_grouped = age_dist_grouped/age_dist_grouped.sum(axis=0)\n",
    "age_dist_cumulative = age_dist_grouped.cumsum()\n",
    "age_dist_cumulative.plot()\n",
    "plt.xlabel('age')\n",
    "plt.ylabel('cumulative fraction')\n",
    "plt.title('cumulative distribution of age for aki positive and negative patients')"
   ]
  },
  {
   "cell_type": "code",
   "execution_count": 6,
   "metadata": {},
   "outputs": [
    {
     "name": "stdout",
     "output_type": "stream",
     "text": [
      "626858\n",
      "325047\n"
     ]
    }
   ],
   "source": [
    "print(len(admdx))\n",
    "admdx = admdx.merge(qa, left_on = 'patientunitstayid', right_on = 'patientunitstayid')\n",
    "print(len(admdx))"
   ]
  },
  {
   "cell_type": "code",
   "execution_count": 7,
   "metadata": {},
   "outputs": [
    {
     "data": {
      "text/plain": [
       "['Cardiovascular', nan, nan, nan, nan]"
      ]
     },
     "execution_count": 7,
     "metadata": {},
     "output_type": "execute_result"
    }
   ],
   "source": [
    "admdx['organ_system'] = admdx['admitdxpath'].str.split(pat=\"\\|Organ System\\|\", n=1).str[1]\n",
    "admdx['organ_system'].head(5).tolist()"
   ]
  },
  {
   "cell_type": "code",
   "execution_count": 8,
   "metadata": {},
   "outputs": [
    {
     "data": {
      "text/plain": [
       "[nan, 'Yes', nan, nan, nan]"
      ]
     },
     "execution_count": 8,
     "metadata": {},
     "output_type": "execute_result"
    }
   ],
   "source": [
    "admdx['from_OR'] = admdx['admitdxpath'].str.split(pat=\"O.R. within 4 hours of admission\\?\\|\", n=1).str[1]\n",
    "admdx['from_OR'].head(5).tolist()"
   ]
  },
  {
   "cell_type": "code",
   "execution_count": 9,
   "metadata": {},
   "outputs": [
    {
     "data": {
      "text/plain": [
       "No     71926\n",
       "Yes    18878\n",
       "Name: from_OR, dtype: int64"
      ]
     },
     "execution_count": 9,
     "metadata": {},
     "output_type": "execute_result"
    }
   ],
   "source": [
    "admdx['from_OR'].value_counts()"
   ]
  },
  {
   "cell_type": "code",
   "execution_count": 10,
   "metadata": {},
   "outputs": [
    {
     "name": "stdout",
     "output_type": "stream",
     "text": [
      "Cardiovascular          38790\n",
      "Neurologic              17144\n",
      "Respiratory             14957\n",
      "Gastrointestinal         9615\n",
      "Trauma                   4247\n",
      "Metabolic/Endocrine      3244\n",
      "Musculoskeletal/Skin     1138\n",
      "Genitourinary             968\n",
      "Hematology                585\n",
      "Transplant                116\n",
      "Name: organ_system, dtype: int64\n",
      "0\n"
     ]
    }
   ],
   "source": [
    "diag_summary = admdx.groupby('patientunitstayid')['organ_system'].apply(lambda x: x.str.cat(sep=' '))\n",
    "print(diag_summary.value_counts())\n",
    "print(diag_summary.isnull().sum())"
   ]
  },
  {
   "cell_type": "code",
   "execution_count": 83,
   "metadata": {},
   "outputs": [
    {
     "data": {
      "text/html": [
       "<div>\n",
       "<style scoped>\n",
       "    .dataframe tbody tr th:only-of-type {\n",
       "        vertical-align: middle;\n",
       "    }\n",
       "\n",
       "    .dataframe tbody tr th {\n",
       "        vertical-align: top;\n",
       "    }\n",
       "\n",
       "    .dataframe thead th {\n",
       "        text-align: right;\n",
       "    }\n",
       "</style>\n",
       "<table border=\"1\" class=\"dataframe\">\n",
       "  <thead>\n",
       "    <tr style=\"text-align: right;\">\n",
       "      <th></th>\n",
       "      <th>organ_system</th>\n",
       "      <th>aki_label</th>\n",
       "      <th>aki_offset</th>\n",
       "    </tr>\n",
       "    <tr>\n",
       "      <th>patientunitstayid</th>\n",
       "      <th></th>\n",
       "      <th></th>\n",
       "      <th></th>\n",
       "    </tr>\n",
       "  </thead>\n",
       "  <tbody>\n",
       "    <tr>\n",
       "      <th>141284</th>\n",
       "      <td>Hematology</td>\n",
       "      <td>0</td>\n",
       "      <td>NaN</td>\n",
       "    </tr>\n",
       "    <tr>\n",
       "      <th>141288</th>\n",
       "      <td>Cardiovascular</td>\n",
       "      <td>0</td>\n",
       "      <td>NaN</td>\n",
       "    </tr>\n",
       "    <tr>\n",
       "      <th>141360</th>\n",
       "      <td>Neurologic</td>\n",
       "      <td>0</td>\n",
       "      <td>NaN</td>\n",
       "    </tr>\n",
       "    <tr>\n",
       "      <th>141362</th>\n",
       "      <td>Gastrointestinal</td>\n",
       "      <td>0</td>\n",
       "      <td>NaN</td>\n",
       "    </tr>\n",
       "    <tr>\n",
       "      <th>141415</th>\n",
       "      <td>Cardiovascular</td>\n",
       "      <td>0</td>\n",
       "      <td>NaN</td>\n",
       "    </tr>\n",
       "    <tr>\n",
       "      <th>...</th>\n",
       "      <td>...</td>\n",
       "      <td>...</td>\n",
       "      <td>...</td>\n",
       "    </tr>\n",
       "    <tr>\n",
       "      <th>3353198</th>\n",
       "      <td>Neurologic</td>\n",
       "      <td>0</td>\n",
       "      <td>NaN</td>\n",
       "    </tr>\n",
       "    <tr>\n",
       "      <th>3353200</th>\n",
       "      <td>Cardiovascular</td>\n",
       "      <td>0</td>\n",
       "      <td>NaN</td>\n",
       "    </tr>\n",
       "    <tr>\n",
       "      <th>3353201</th>\n",
       "      <td>Respiratory</td>\n",
       "      <td>0</td>\n",
       "      <td>NaN</td>\n",
       "    </tr>\n",
       "    <tr>\n",
       "      <th>3353213</th>\n",
       "      <td>Neurologic</td>\n",
       "      <td>0</td>\n",
       "      <td>NaN</td>\n",
       "    </tr>\n",
       "    <tr>\n",
       "      <th>3353216</th>\n",
       "      <td>Genitourinary</td>\n",
       "      <td>0</td>\n",
       "      <td>NaN</td>\n",
       "    </tr>\n",
       "  </tbody>\n",
       "</table>\n",
       "<p>90804 rows × 3 columns</p>\n",
       "</div>"
      ],
      "text/plain": [
       "                       organ_system  aki_label  aki_offset\n",
       "patientunitstayid                                         \n",
       "141284                   Hematology          0         NaN\n",
       "141288               Cardiovascular          0         NaN\n",
       "141360                   Neurologic          0         NaN\n",
       "141362             Gastrointestinal          0         NaN\n",
       "141415               Cardiovascular          0         NaN\n",
       "...                             ...        ...         ...\n",
       "3353198                  Neurologic          0         NaN\n",
       "3353200              Cardiovascular          0         NaN\n",
       "3353201                 Respiratory          0         NaN\n",
       "3353213                  Neurologic          0         NaN\n",
       "3353216               Genitourinary          0         NaN\n",
       "\n",
       "[90804 rows x 3 columns]"
      ]
     },
     "execution_count": 83,
     "metadata": {},
     "output_type": "execute_result"
    }
   ],
   "source": [
    "diag_summary_label = pd.concat([diag_summary, qa], axis=1, ignore_index=False)\n",
    "diag_summary_label"
   ]
  },
  {
   "cell_type": "code",
   "execution_count": 85,
   "metadata": {},
   "outputs": [
    {
     "name": "stdout",
     "output_type": "stream",
     "text": [
      "Cardiovascular          0.546821\n",
      "Respiratory             0.162371\n",
      "Gastrointestinal        0.108677\n",
      "Neurologic              0.101804\n",
      "Trauma                  0.025773\n",
      "Metabolic/Endocrine     0.022337\n",
      "Musculoskeletal/Skin    0.012027\n",
      "Genitourinary           0.008591\n",
      "Hematology              0.007302\n",
      "Transplant              0.004296\n",
      "Name: organ_system, dtype: float64\n",
      "Cardiovascular          0.427184\n",
      "Neurologic              0.188802\n",
      "Respiratory             0.164717\n",
      "Gastrointestinal        0.105887\n",
      "Trauma                  0.046771\n",
      "Metabolic/Endocrine     0.035725\n",
      "Musculoskeletal/Skin    0.012532\n",
      "Genitourinary           0.010660\n",
      "Hematology              0.006442\n",
      "Transplant              0.001277\n",
      "Name: organ_system, dtype: float64\n"
     ]
    }
   ],
   "source": [
    "print(diag_summary_label[diag_summary_label.aki_label==1]['organ_system'].value_counts()/len(diag_summary_label[diag_summary_label.aki_label==1]))\n",
    "print(diag_summary_label['organ_system'].value_counts()/len(diag_summary_label))"
   ]
  },
  {
   "cell_type": "markdown",
   "metadata": {},
   "source": [
    "There is an enrichment of cardiovascular and respiratory system. The negative  class could be resampled to have the same distribution."
   ]
  },
  {
   "cell_type": "code",
   "execution_count": 11,
   "metadata": {},
   "outputs": [
    {
     "name": "stdout",
     "output_type": "stream",
     "text": [
      "No     71926\n",
      "Yes    18878\n",
      "Name: from_OR, dtype: int64\n",
      "0\n"
     ]
    }
   ],
   "source": [
    "or_summary = admdx.groupby('patientunitstayid')['from_OR'].apply(lambda x: x.str.cat(sep=' '))\n",
    "print(or_summary.value_counts())\n",
    "print(or_summary.isnull().sum())"
   ]
  },
  {
   "cell_type": "code",
   "execution_count": 87,
   "metadata": {},
   "outputs": [
    {
     "name": "stdout",
     "output_type": "stream",
     "text": [
      "No     0.817869\n",
      "Yes    0.182131\n",
      "Name: from_OR, dtype: float64\n",
      "No     0.792102\n",
      "Yes    0.207898\n",
      "Name: from_OR, dtype: float64\n"
     ]
    }
   ],
   "source": [
    "or_summary_label = pd.concat([or_summary, qa], axis=1, ignore_index=False)\n",
    "print(or_summary_label[or_summary_label.aki_label==1]['from_OR'].value_counts()/len(or_summary_label[or_summary_label.aki_label==1]))\n",
    "print(or_summary_label['from_OR'].value_counts()/len(or_summary_label))"
   ]
  },
  {
   "cell_type": "code",
   "execution_count": 12,
   "metadata": {},
   "outputs": [
    {
     "data": {
      "text/html": [
       "<div>\n",
       "<style scoped>\n",
       "    .dataframe tbody tr th:only-of-type {\n",
       "        vertical-align: middle;\n",
       "    }\n",
       "\n",
       "    .dataframe tbody tr th {\n",
       "        vertical-align: top;\n",
       "    }\n",
       "\n",
       "    .dataframe thead th {\n",
       "        text-align: right;\n",
       "    }\n",
       "</style>\n",
       "<table border=\"1\" class=\"dataframe\">\n",
       "  <thead>\n",
       "    <tr style=\"text-align: right;\">\n",
       "      <th></th>\n",
       "      <th>organsys_Cardiovascular</th>\n",
       "      <th>organsys_Gastrointestinal</th>\n",
       "      <th>organsys_Genitourinary</th>\n",
       "      <th>organsys_Hematology</th>\n",
       "      <th>organsys_Metabolic/Endocrine</th>\n",
       "      <th>organsys_Musculoskeletal/Skin</th>\n",
       "      <th>organsys_Neurologic</th>\n",
       "      <th>organsys_Respiratory</th>\n",
       "      <th>organsys_Trauma</th>\n",
       "    </tr>\n",
       "    <tr>\n",
       "      <th>patientunitstayid</th>\n",
       "      <th></th>\n",
       "      <th></th>\n",
       "      <th></th>\n",
       "      <th></th>\n",
       "      <th></th>\n",
       "      <th></th>\n",
       "      <th></th>\n",
       "      <th></th>\n",
       "      <th></th>\n",
       "    </tr>\n",
       "  </thead>\n",
       "  <tbody>\n",
       "    <tr>\n",
       "      <th>141284</th>\n",
       "      <td>0</td>\n",
       "      <td>0</td>\n",
       "      <td>0</td>\n",
       "      <td>1</td>\n",
       "      <td>0</td>\n",
       "      <td>0</td>\n",
       "      <td>0</td>\n",
       "      <td>0</td>\n",
       "      <td>0</td>\n",
       "    </tr>\n",
       "    <tr>\n",
       "      <th>141288</th>\n",
       "      <td>1</td>\n",
       "      <td>0</td>\n",
       "      <td>0</td>\n",
       "      <td>0</td>\n",
       "      <td>0</td>\n",
       "      <td>0</td>\n",
       "      <td>0</td>\n",
       "      <td>0</td>\n",
       "      <td>0</td>\n",
       "    </tr>\n",
       "    <tr>\n",
       "      <th>141360</th>\n",
       "      <td>0</td>\n",
       "      <td>0</td>\n",
       "      <td>0</td>\n",
       "      <td>0</td>\n",
       "      <td>0</td>\n",
       "      <td>0</td>\n",
       "      <td>1</td>\n",
       "      <td>0</td>\n",
       "      <td>0</td>\n",
       "    </tr>\n",
       "    <tr>\n",
       "      <th>141362</th>\n",
       "      <td>0</td>\n",
       "      <td>1</td>\n",
       "      <td>0</td>\n",
       "      <td>0</td>\n",
       "      <td>0</td>\n",
       "      <td>0</td>\n",
       "      <td>0</td>\n",
       "      <td>0</td>\n",
       "      <td>0</td>\n",
       "    </tr>\n",
       "    <tr>\n",
       "      <th>141415</th>\n",
       "      <td>1</td>\n",
       "      <td>0</td>\n",
       "      <td>0</td>\n",
       "      <td>0</td>\n",
       "      <td>0</td>\n",
       "      <td>0</td>\n",
       "      <td>0</td>\n",
       "      <td>0</td>\n",
       "      <td>0</td>\n",
       "    </tr>\n",
       "  </tbody>\n",
       "</table>\n",
       "</div>"
      ],
      "text/plain": [
       "                   organsys_Cardiovascular  organsys_Gastrointestinal  \\\n",
       "patientunitstayid                                                       \n",
       "141284                                   0                          0   \n",
       "141288                                   1                          0   \n",
       "141360                                   0                          0   \n",
       "141362                                   0                          1   \n",
       "141415                                   1                          0   \n",
       "\n",
       "                   organsys_Genitourinary  organsys_Hematology  \\\n",
       "patientunitstayid                                                \n",
       "141284                                  0                    1   \n",
       "141288                                  0                    0   \n",
       "141360                                  0                    0   \n",
       "141362                                  0                    0   \n",
       "141415                                  0                    0   \n",
       "\n",
       "                   organsys_Metabolic/Endocrine  \\\n",
       "patientunitstayid                                 \n",
       "141284                                        0   \n",
       "141288                                        0   \n",
       "141360                                        0   \n",
       "141362                                        0   \n",
       "141415                                        0   \n",
       "\n",
       "                   organsys_Musculoskeletal/Skin  organsys_Neurologic  \\\n",
       "patientunitstayid                                                       \n",
       "141284                                         0                    0   \n",
       "141288                                         0                    0   \n",
       "141360                                         0                    1   \n",
       "141362                                         0                    0   \n",
       "141415                                         0                    0   \n",
       "\n",
       "                   organsys_Respiratory  organsys_Trauma  \n",
       "patientunitstayid                                         \n",
       "141284                                0                0  \n",
       "141288                                0                0  \n",
       "141360                                0                0  \n",
       "141362                                0                0  \n",
       "141415                                0                0  "
      ]
     },
     "execution_count": 12,
     "metadata": {},
     "output_type": "execute_result"
    }
   ],
   "source": [
    "diag_summary_encoded = pd.get_dummies(diag_summary, prefix='organsys', prefix_sep='_', drop_first=False) \n",
    "diag_summary_encoded.drop('organsys_Transplant', axis=1, inplace=True)\n",
    "diag_summary_encoded.head()"
   ]
  },
  {
   "cell_type": "code",
   "execution_count": 13,
   "metadata": {},
   "outputs": [
    {
     "data": {
      "text/html": [
       "<div>\n",
       "<style scoped>\n",
       "    .dataframe tbody tr th:only-of-type {\n",
       "        vertical-align: middle;\n",
       "    }\n",
       "\n",
       "    .dataframe tbody tr th {\n",
       "        vertical-align: top;\n",
       "    }\n",
       "\n",
       "    .dataframe thead th {\n",
       "        text-align: right;\n",
       "    }\n",
       "</style>\n",
       "<table border=\"1\" class=\"dataframe\">\n",
       "  <thead>\n",
       "    <tr style=\"text-align: right;\">\n",
       "      <th></th>\n",
       "      <th>from_or_Yes</th>\n",
       "    </tr>\n",
       "    <tr>\n",
       "      <th>patientunitstayid</th>\n",
       "      <th></th>\n",
       "    </tr>\n",
       "  </thead>\n",
       "  <tbody>\n",
       "    <tr>\n",
       "      <th>141284</th>\n",
       "      <td>0</td>\n",
       "    </tr>\n",
       "    <tr>\n",
       "      <th>141288</th>\n",
       "      <td>0</td>\n",
       "    </tr>\n",
       "    <tr>\n",
       "      <th>141360</th>\n",
       "      <td>0</td>\n",
       "    </tr>\n",
       "    <tr>\n",
       "      <th>141362</th>\n",
       "      <td>1</td>\n",
       "    </tr>\n",
       "    <tr>\n",
       "      <th>141415</th>\n",
       "      <td>0</td>\n",
       "    </tr>\n",
       "  </tbody>\n",
       "</table>\n",
       "</div>"
      ],
      "text/plain": [
       "                   from_or_Yes\n",
       "patientunitstayid             \n",
       "141284                       0\n",
       "141288                       0\n",
       "141360                       0\n",
       "141362                       1\n",
       "141415                       0"
      ]
     },
     "execution_count": 13,
     "metadata": {},
     "output_type": "execute_result"
    }
   ],
   "source": [
    "or_summary_encoded = pd.get_dummies(or_summary, prefix='from_or', prefix_sep='_', drop_first=True) \n",
    "or_summary_encoded.head()"
   ]
  },
  {
   "cell_type": "code",
   "execution_count": 14,
   "metadata": {},
   "outputs": [
    {
     "name": "stdout",
     "output_type": "stream",
     "text": [
      "Positive label gender summary\n",
      "Male      1308\n",
      "Female    1020\n",
      "Name: gender, dtype: int64\n",
      "0\n",
      "Positive label ethnicity summary\n",
      "Caucasian           1778\n",
      "African American     245\n",
      "Hispanic             135\n",
      "Other/Unknown         86\n",
      "Asian                 40\n",
      "Native American       23\n",
      "Name: ethnicity, dtype: int64\n",
      "21\n",
      "Positive label unittype summary\n",
      "Med-Surg ICU    1298\n",
      "MICU             204\n",
      "Cardiac ICU      198\n",
      "CCU-CTICU        192\n",
      "CSICU            124\n",
      "SICU             121\n",
      "Neuro ICU        107\n",
      "CTICU             84\n",
      "Name: unittype, dtype: int64\n",
      "0\n",
      "Positive label unitdischargestatus summary\n",
      "Alive      1826\n",
      "Expired     501\n",
      "Name: unitdischargestatus, dtype: int64\n",
      "1\n"
     ]
    }
   ],
   "source": [
    "print(\"Positive label gender summary\")\n",
    "print(pat[pat.aki_label==1]['gender'].value_counts())\n",
    "print(pat[pat.aki_label==1]['gender'].isnull().sum())\n",
    "\n",
    "print(\"Positive label ethnicity summary\")\n",
    "print(pat[pat.aki_label==1]['ethnicity'].value_counts())\n",
    "print(pat[pat.aki_label==1]['ethnicity'].isnull().sum())\n",
    "\n",
    "print(\"Positive label unittype summary\")\n",
    "print(pat[pat.aki_label==1]['unittype'].value_counts())\n",
    "print(pat[pat.aki_label==1]['unittype'].isnull().sum())\n",
    "\n",
    "print(\"Positive label unitdischargestatus summary\")\n",
    "print(pat[pat.aki_label==1]['unitdischargestatus'].value_counts())\n",
    "print(pat[pat.aki_label==1]['unitdischargestatus'].isnull().sum())\n",
    "\n",
    "#print(pat.gender.value_counts())\n",
    "#print(pat.ethnicity.value_counts())\n",
    "#print(pat.unittype.value_counts())\n",
    "#print(pat.unitdischargestatus.value_counts())"
   ]
  },
  {
   "cell_type": "markdown",
   "metadata": {},
   "source": [
    "* drop the rows with null gender values, negative labels\n",
    "* assign missing ethnicity values to Other/Unknown\n",
    "* assign null unitdischargestatus to alive"
   ]
  },
  {
   "cell_type": "code",
   "execution_count": 15,
   "metadata": {},
   "outputs": [
    {
     "data": {
      "text/plain": [
       "Index(['patientunitstayid', 'patienthealthsystemstayid', 'gender', 'age',\n",
       "       'ethnicity', 'hospitalid', 'wardid', 'apacheadmissiondx',\n",
       "       'admissionheight', 'hospitaladmittime24', 'hospitaladmitoffset',\n",
       "       'hospitaladmitsource', 'hospitaldischargeyear',\n",
       "       'hospitaldischargetime24', 'hospitaldischargeoffset',\n",
       "       'hospitaldischargelocation', 'hospitaldischargestatus', 'unittype',\n",
       "       'unitadmittime24', 'unitadmitsource', 'unitvisitnumber', 'unitstaytype',\n",
       "       'admissionweight', 'dischargeweight', 'unitdischargetime24',\n",
       "       'unitdischargeoffset', 'unitdischargelocation', 'unitdischargestatus',\n",
       "       'uniquepid', 'aki_label', 'aki_offset'],\n",
       "      dtype='object')"
      ]
     },
     "execution_count": 15,
     "metadata": {},
     "output_type": "execute_result"
    }
   ],
   "source": [
    "pat.columns"
   ]
  },
  {
   "cell_type": "code",
   "execution_count": 16,
   "metadata": {},
   "outputs": [
    {
     "data": {
      "text/plain": [
       "patientunitstayid               0\n",
       "patienthealthsystemstayid       0\n",
       "gender                         17\n",
       "age                             0\n",
       "ethnicity                    1063\n",
       "unittype                        0\n",
       "unitvisitnumber                 0\n",
       "unitdischargeoffset             0\n",
       "unitdischargestatus             2\n",
       "dtype: int64"
      ]
     },
     "execution_count": 16,
     "metadata": {},
     "output_type": "execute_result"
    }
   ],
   "source": [
    "pat[['patientunitstayid', 'patienthealthsystemstayid', 'gender', 'age', 'ethnicity', 'unittype', 'unitvisitnumber', 'unitdischargeoffset', \\\n",
    "     'unitdischargestatus']].isnull().sum()"
   ]
  },
  {
   "cell_type": "code",
   "execution_count": 17,
   "metadata": {},
   "outputs": [
    {
     "data": {
      "text/plain": [
       "0    91\n",
       "dtype: object"
      ]
     },
     "execution_count": 17,
     "metadata": {},
     "output_type": "execute_result"
    }
   ],
   "source": [
    "# need to convert age comparisons to numeric values\n",
    "pat.loc[pat.age == '> 89', 'age'] = 91\n",
    "pat.age.mode()"
   ]
  },
  {
   "cell_type": "code",
   "execution_count": 18,
   "metadata": {},
   "outputs": [
    {
     "data": {
      "text/plain": [
       "Male       48747\n",
       "Female     42028\n",
       "Unknown        8\n",
       "Other          4\n",
       "Name: gender, dtype: int64"
      ]
     },
     "execution_count": 18,
     "metadata": {},
     "output_type": "execute_result"
    }
   ],
   "source": [
    "pat.gender.value_counts()"
   ]
  },
  {
   "cell_type": "code",
   "execution_count": 19,
   "metadata": {},
   "outputs": [],
   "source": [
    "pat = pat.loc[(pat.gender=='Male') | (pat.gender=='Female')]\n",
    "pat.loc[pat.ethnicity.isnull(), 'ethnicity'] = 'Other/Unknown'\n",
    "pat.loc[pat.unitdischargestatus.isnull(), 'unitdischargestatus'] = 'Alive'"
   ]
  },
  {
   "cell_type": "code",
   "execution_count": 20,
   "metadata": {},
   "outputs": [
    {
     "data": {
      "text/plain": [
       "patientunitstayid            0\n",
       "patienthealthsystemstayid    0\n",
       "gender                       0\n",
       "age                          0\n",
       "ethnicity                    0\n",
       "unittype                     0\n",
       "unitvisitnumber              0\n",
       "unitdischargeoffset          0\n",
       "unitdischargestatus          0\n",
       "dtype: int64"
      ]
     },
     "execution_count": 20,
     "metadata": {},
     "output_type": "execute_result"
    }
   ],
   "source": [
    "pat[['patientunitstayid', 'patienthealthsystemstayid', 'gender', 'age', 'ethnicity', 'unittype', 'unitvisitnumber', 'unitdischargeoffset', \\\n",
    "     'unitdischargestatus']].isnull().sum()"
   ]
  },
  {
   "cell_type": "code",
   "execution_count": 68,
   "metadata": {},
   "outputs": [
    {
     "name": "stdout",
     "output_type": "stream",
     "text": [
      "Med-Surg ICU    0.557560\n",
      "MICU            0.087629\n",
      "Cardiac ICU     0.085052\n",
      "CCU-CTICU       0.082474\n",
      "CSICU           0.053265\n",
      "SICU            0.051976\n",
      "Neuro ICU       0.045962\n",
      "CTICU           0.036082\n",
      "Name: unittype, dtype: float64\n",
      "Med-Surg ICU    0.524517\n",
      "Neuro ICU       0.088295\n",
      "MICU            0.085850\n",
      "CCU-CTICU       0.085310\n",
      "Cardiac ICU     0.071000\n",
      "SICU            0.070890\n",
      "CSICU           0.039681\n",
      "CTICU           0.034459\n",
      "Name: unittype, dtype: float64\n"
     ]
    }
   ],
   "source": [
    "print(pat[pat.aki_label==1]['unittype'].value_counts()/len(pat[pat.aki_label==1]))\n",
    "print(pat['unittype'].value_counts()/len(pat))"
   ]
  },
  {
   "cell_type": "code",
   "execution_count": 67,
   "metadata": {},
   "outputs": [
    {
     "name": "stdout",
     "output_type": "stream",
     "text": [
      "Male      0.561856\n",
      "Female    0.438144\n",
      "Name: gender, dtype: float64\n",
      "Male      0.537009\n",
      "Female    0.462991\n",
      "Name: gender, dtype: float64\n"
     ]
    }
   ],
   "source": [
    "print(pat[pat.aki_label==1]['gender'].value_counts()/len(pat[pat.aki_label==1]))\n",
    "print(pat['gender'].value_counts()/len(pat))"
   ]
  },
  {
   "cell_type": "code",
   "execution_count": 69,
   "metadata": {},
   "outputs": [
    {
     "name": "stdout",
     "output_type": "stream",
     "text": [
      "Caucasian           0.763746\n",
      "African American    0.105241\n",
      "Hispanic            0.057990\n",
      "Other/Unknown       0.045962\n",
      "Asian               0.017182\n",
      "Native American     0.009880\n",
      "Name: ethnicity, dtype: float64\n",
      "Caucasian           0.776161\n",
      "African American    0.103905\n",
      "Other/Unknown       0.060028\n",
      "Hispanic            0.035946\n",
      "Asian               0.017758\n",
      "Native American     0.006202\n",
      "Name: ethnicity, dtype: float64\n"
     ]
    }
   ],
   "source": [
    "print(pat[pat.aki_label==1]['ethnicity'].value_counts()/len(pat[pat.aki_label==1]))\n",
    "print(pat['ethnicity'].value_counts()/len(pat))"
   ]
  },
  {
   "cell_type": "markdown",
   "metadata": {},
   "source": [
    "Most fractions for demographic features of positive AKI labels are similar to the general ICU population fractions.\n",
    "Maybe slight enrichment in male gender and hispanic ethnicity."
   ]
  },
  {
   "cell_type": "code",
   "execution_count": 21,
   "metadata": {},
   "outputs": [
    {
     "data": {
      "text/html": [
       "<div>\n",
       "<style scoped>\n",
       "    .dataframe tbody tr th:only-of-type {\n",
       "        vertical-align: middle;\n",
       "    }\n",
       "\n",
       "    .dataframe tbody tr th {\n",
       "        vertical-align: top;\n",
       "    }\n",
       "\n",
       "    .dataframe thead th {\n",
       "        text-align: right;\n",
       "    }\n",
       "</style>\n",
       "<table border=\"1\" class=\"dataframe\">\n",
       "  <thead>\n",
       "    <tr style=\"text-align: right;\">\n",
       "      <th></th>\n",
       "      <th>patienthealthsystemstayid</th>\n",
       "      <th>gender</th>\n",
       "      <th>age</th>\n",
       "      <th>ethnicity</th>\n",
       "      <th>hospitalid</th>\n",
       "      <th>wardid</th>\n",
       "      <th>apacheadmissiondx</th>\n",
       "      <th>admissionheight</th>\n",
       "      <th>hospitaladmittime24</th>\n",
       "      <th>hospitaladmitoffset</th>\n",
       "      <th>...</th>\n",
       "      <th>unitstaytype</th>\n",
       "      <th>admissionweight</th>\n",
       "      <th>dischargeweight</th>\n",
       "      <th>unitdischargetime24</th>\n",
       "      <th>unitdischargeoffset</th>\n",
       "      <th>unitdischargelocation</th>\n",
       "      <th>unitdischargestatus</th>\n",
       "      <th>uniquepid</th>\n",
       "      <th>aki_label</th>\n",
       "      <th>aki_offset</th>\n",
       "    </tr>\n",
       "    <tr>\n",
       "      <th>patientunitstayid</th>\n",
       "      <th></th>\n",
       "      <th></th>\n",
       "      <th></th>\n",
       "      <th></th>\n",
       "      <th></th>\n",
       "      <th></th>\n",
       "      <th></th>\n",
       "      <th></th>\n",
       "      <th></th>\n",
       "      <th></th>\n",
       "      <th></th>\n",
       "      <th></th>\n",
       "      <th></th>\n",
       "      <th></th>\n",
       "      <th></th>\n",
       "      <th></th>\n",
       "      <th></th>\n",
       "      <th></th>\n",
       "      <th></th>\n",
       "      <th></th>\n",
       "      <th></th>\n",
       "    </tr>\n",
       "  </thead>\n",
       "  <tbody>\n",
       "    <tr>\n",
       "      <th>141284</th>\n",
       "      <td>129017</td>\n",
       "      <td>Male</td>\n",
       "      <td>63</td>\n",
       "      <td>Caucasian</td>\n",
       "      <td>73</td>\n",
       "      <td>92</td>\n",
       "      <td>Anemia</td>\n",
       "      <td>188.0</td>\n",
       "      <td>23:10:00</td>\n",
       "      <td>-15</td>\n",
       "      <td>...</td>\n",
       "      <td>admit</td>\n",
       "      <td>NaN</td>\n",
       "      <td>88.5</td>\n",
       "      <td>10:01:00</td>\n",
       "      <td>2076</td>\n",
       "      <td>Floor</td>\n",
       "      <td>Alive</td>\n",
       "      <td>002-72371</td>\n",
       "      <td>0</td>\n",
       "      <td>NaN</td>\n",
       "    </tr>\n",
       "    <tr>\n",
       "      <th>141288</th>\n",
       "      <td>129020</td>\n",
       "      <td>Female</td>\n",
       "      <td>61</td>\n",
       "      <td>Caucasian</td>\n",
       "      <td>67</td>\n",
       "      <td>109</td>\n",
       "      <td>Sepsis, pulmonary</td>\n",
       "      <td>162.6</td>\n",
       "      <td>17:32:00</td>\n",
       "      <td>-171</td>\n",
       "      <td>...</td>\n",
       "      <td>admit</td>\n",
       "      <td>NaN</td>\n",
       "      <td>92.2</td>\n",
       "      <td>23:34:00</td>\n",
       "      <td>1631</td>\n",
       "      <td>Floor</td>\n",
       "      <td>Alive</td>\n",
       "      <td>002-67735</td>\n",
       "      <td>0</td>\n",
       "      <td>NaN</td>\n",
       "    </tr>\n",
       "    <tr>\n",
       "      <th>141360</th>\n",
       "      <td>129080</td>\n",
       "      <td>Male</td>\n",
       "      <td>48</td>\n",
       "      <td>Caucasian</td>\n",
       "      <td>73</td>\n",
       "      <td>102</td>\n",
       "      <td>CVA, cerebrovascular accident/stroke</td>\n",
       "      <td>175.3</td>\n",
       "      <td>18:39:00</td>\n",
       "      <td>-30</td>\n",
       "      <td>...</td>\n",
       "      <td>admit</td>\n",
       "      <td>NaN</td>\n",
       "      <td>92.3</td>\n",
       "      <td>22:58:00</td>\n",
       "      <td>3109</td>\n",
       "      <td>Floor</td>\n",
       "      <td>Alive</td>\n",
       "      <td>002-34250</td>\n",
       "      <td>0</td>\n",
       "      <td>NaN</td>\n",
       "    </tr>\n",
       "    <tr>\n",
       "      <th>141362</th>\n",
       "      <td>129082</td>\n",
       "      <td>Male</td>\n",
       "      <td>65</td>\n",
       "      <td>Caucasian</td>\n",
       "      <td>73</td>\n",
       "      <td>93</td>\n",
       "      <td>Cholecystectomy/cholangitis, surgery for (gall...</td>\n",
       "      <td>172.7</td>\n",
       "      <td>21:03:00</td>\n",
       "      <td>-1505</td>\n",
       "      <td>...</td>\n",
       "      <td>admit</td>\n",
       "      <td>NaN</td>\n",
       "      <td>65.1</td>\n",
       "      <td>02:06:00</td>\n",
       "      <td>3118</td>\n",
       "      <td>Floor</td>\n",
       "      <td>Alive</td>\n",
       "      <td>002-66659</td>\n",
       "      <td>0</td>\n",
       "      <td>NaN</td>\n",
       "    </tr>\n",
       "    <tr>\n",
       "      <th>141415</th>\n",
       "      <td>129126</td>\n",
       "      <td>Male</td>\n",
       "      <td>30</td>\n",
       "      <td>Caucasian</td>\n",
       "      <td>66</td>\n",
       "      <td>90</td>\n",
       "      <td>Thrombosis, vascular (deep vein)</td>\n",
       "      <td>193.0</td>\n",
       "      <td>17:04:00</td>\n",
       "      <td>-347</td>\n",
       "      <td>...</td>\n",
       "      <td>admit</td>\n",
       "      <td>87.1</td>\n",
       "      <td>86.7</td>\n",
       "      <td>00:41:00</td>\n",
       "      <td>4430</td>\n",
       "      <td>Floor</td>\n",
       "      <td>Alive</td>\n",
       "      <td>002-42357</td>\n",
       "      <td>0</td>\n",
       "      <td>NaN</td>\n",
       "    </tr>\n",
       "  </tbody>\n",
       "</table>\n",
       "<p>5 rows × 30 columns</p>\n",
       "</div>"
      ],
      "text/plain": [
       "                   patienthealthsystemstayid  gender age  ethnicity  \\\n",
       "patientunitstayid                                                     \n",
       "141284                                129017    Male  63  Caucasian   \n",
       "141288                                129020  Female  61  Caucasian   \n",
       "141360                                129080    Male  48  Caucasian   \n",
       "141362                                129082    Male  65  Caucasian   \n",
       "141415                                129126    Male  30  Caucasian   \n",
       "\n",
       "                   hospitalid  wardid  \\\n",
       "patientunitstayid                       \n",
       "141284                     73      92   \n",
       "141288                     67     109   \n",
       "141360                     73     102   \n",
       "141362                     73      93   \n",
       "141415                     66      90   \n",
       "\n",
       "                                                   apacheadmissiondx  \\\n",
       "patientunitstayid                                                      \n",
       "141284                                                        Anemia   \n",
       "141288                                             Sepsis, pulmonary   \n",
       "141360                          CVA, cerebrovascular accident/stroke   \n",
       "141362             Cholecystectomy/cholangitis, surgery for (gall...   \n",
       "141415                              Thrombosis, vascular (deep vein)   \n",
       "\n",
       "                   admissionheight hospitaladmittime24  hospitaladmitoffset  \\\n",
       "patientunitstayid                                                             \n",
       "141284                       188.0            23:10:00                  -15   \n",
       "141288                       162.6            17:32:00                 -171   \n",
       "141360                       175.3            18:39:00                  -30   \n",
       "141362                       172.7            21:03:00                -1505   \n",
       "141415                       193.0            17:04:00                 -347   \n",
       "\n",
       "                   ... unitstaytype  admissionweight dischargeweight  \\\n",
       "patientunitstayid  ...                                                 \n",
       "141284             ...        admit              NaN            88.5   \n",
       "141288             ...        admit              NaN            92.2   \n",
       "141360             ...        admit              NaN            92.3   \n",
       "141362             ...        admit              NaN            65.1   \n",
       "141415             ...        admit             87.1            86.7   \n",
       "\n",
       "                   unitdischargetime24 unitdischargeoffset  \\\n",
       "patientunitstayid                                            \n",
       "141284                        10:01:00                2076   \n",
       "141288                        23:34:00                1631   \n",
       "141360                        22:58:00                3109   \n",
       "141362                        02:06:00                3118   \n",
       "141415                        00:41:00                4430   \n",
       "\n",
       "                  unitdischargelocation unitdischargestatus  uniquepid  \\\n",
       "patientunitstayid                                                        \n",
       "141284                            Floor               Alive  002-72371   \n",
       "141288                            Floor               Alive  002-67735   \n",
       "141360                            Floor               Alive  002-34250   \n",
       "141362                            Floor               Alive  002-66659   \n",
       "141415                            Floor               Alive  002-42357   \n",
       "\n",
       "                  aki_label  aki_offset  \n",
       "patientunitstayid                        \n",
       "141284                    0         NaN  \n",
       "141288                    0         NaN  \n",
       "141360                    0         NaN  \n",
       "141362                    0         NaN  \n",
       "141415                    0         NaN  \n",
       "\n",
       "[5 rows x 30 columns]"
      ]
     },
     "execution_count": 21,
     "metadata": {},
     "output_type": "execute_result"
    }
   ],
   "source": [
    "pat.set_index('patientunitstayid', inplace=True)\n",
    "pat.head()"
   ]
  },
  {
   "cell_type": "code",
   "execution_count": 22,
   "metadata": {},
   "outputs": [
    {
     "data": {
      "text/html": [
       "<div>\n",
       "<style scoped>\n",
       "    .dataframe tbody tr th:only-of-type {\n",
       "        vertical-align: middle;\n",
       "    }\n",
       "\n",
       "    .dataframe tbody tr th {\n",
       "        vertical-align: top;\n",
       "    }\n",
       "\n",
       "    .dataframe thead th {\n",
       "        text-align: right;\n",
       "    }\n",
       "</style>\n",
       "<table border=\"1\" class=\"dataframe\">\n",
       "  <thead>\n",
       "    <tr style=\"text-align: right;\">\n",
       "      <th></th>\n",
       "      <th>gender_Female</th>\n",
       "      <th>gender_Male</th>\n",
       "      <th>ethnicity_African American</th>\n",
       "      <th>ethnicity_Asian</th>\n",
       "      <th>ethnicity_Caucasian</th>\n",
       "      <th>ethnicity_Hispanic</th>\n",
       "      <th>ethnicity_Native American</th>\n",
       "      <th>ethnicity_Other/Unknown</th>\n",
       "      <th>unittype_CCU-CTICU</th>\n",
       "      <th>unittype_CSICU</th>\n",
       "      <th>unittype_CTICU</th>\n",
       "      <th>unittype_Cardiac ICU</th>\n",
       "      <th>unittype_MICU</th>\n",
       "      <th>unittype_Med-Surg ICU</th>\n",
       "      <th>unittype_Neuro ICU</th>\n",
       "      <th>unittype_SICU</th>\n",
       "      <th>unitdischargestatus_Alive</th>\n",
       "      <th>unitdischargestatus_Expired</th>\n",
       "    </tr>\n",
       "    <tr>\n",
       "      <th>patientunitstayid</th>\n",
       "      <th></th>\n",
       "      <th></th>\n",
       "      <th></th>\n",
       "      <th></th>\n",
       "      <th></th>\n",
       "      <th></th>\n",
       "      <th></th>\n",
       "      <th></th>\n",
       "      <th></th>\n",
       "      <th></th>\n",
       "      <th></th>\n",
       "      <th></th>\n",
       "      <th></th>\n",
       "      <th></th>\n",
       "      <th></th>\n",
       "      <th></th>\n",
       "      <th></th>\n",
       "      <th></th>\n",
       "    </tr>\n",
       "  </thead>\n",
       "  <tbody>\n",
       "    <tr>\n",
       "      <th>141284</th>\n",
       "      <td>0</td>\n",
       "      <td>1</td>\n",
       "      <td>0</td>\n",
       "      <td>0</td>\n",
       "      <td>1</td>\n",
       "      <td>0</td>\n",
       "      <td>0</td>\n",
       "      <td>0</td>\n",
       "      <td>0</td>\n",
       "      <td>0</td>\n",
       "      <td>1</td>\n",
       "      <td>0</td>\n",
       "      <td>0</td>\n",
       "      <td>0</td>\n",
       "      <td>0</td>\n",
       "      <td>0</td>\n",
       "      <td>1</td>\n",
       "      <td>0</td>\n",
       "    </tr>\n",
       "    <tr>\n",
       "      <th>141288</th>\n",
       "      <td>1</td>\n",
       "      <td>0</td>\n",
       "      <td>0</td>\n",
       "      <td>0</td>\n",
       "      <td>1</td>\n",
       "      <td>0</td>\n",
       "      <td>0</td>\n",
       "      <td>0</td>\n",
       "      <td>0</td>\n",
       "      <td>0</td>\n",
       "      <td>0</td>\n",
       "      <td>0</td>\n",
       "      <td>0</td>\n",
       "      <td>1</td>\n",
       "      <td>0</td>\n",
       "      <td>0</td>\n",
       "      <td>1</td>\n",
       "      <td>0</td>\n",
       "    </tr>\n",
       "    <tr>\n",
       "      <th>141360</th>\n",
       "      <td>0</td>\n",
       "      <td>1</td>\n",
       "      <td>0</td>\n",
       "      <td>0</td>\n",
       "      <td>1</td>\n",
       "      <td>0</td>\n",
       "      <td>0</td>\n",
       "      <td>0</td>\n",
       "      <td>0</td>\n",
       "      <td>0</td>\n",
       "      <td>0</td>\n",
       "      <td>0</td>\n",
       "      <td>0</td>\n",
       "      <td>0</td>\n",
       "      <td>1</td>\n",
       "      <td>0</td>\n",
       "      <td>1</td>\n",
       "      <td>0</td>\n",
       "    </tr>\n",
       "    <tr>\n",
       "      <th>141362</th>\n",
       "      <td>0</td>\n",
       "      <td>1</td>\n",
       "      <td>0</td>\n",
       "      <td>0</td>\n",
       "      <td>1</td>\n",
       "      <td>0</td>\n",
       "      <td>0</td>\n",
       "      <td>0</td>\n",
       "      <td>0</td>\n",
       "      <td>0</td>\n",
       "      <td>0</td>\n",
       "      <td>0</td>\n",
       "      <td>0</td>\n",
       "      <td>1</td>\n",
       "      <td>0</td>\n",
       "      <td>0</td>\n",
       "      <td>1</td>\n",
       "      <td>0</td>\n",
       "    </tr>\n",
       "    <tr>\n",
       "      <th>141415</th>\n",
       "      <td>0</td>\n",
       "      <td>1</td>\n",
       "      <td>0</td>\n",
       "      <td>0</td>\n",
       "      <td>1</td>\n",
       "      <td>0</td>\n",
       "      <td>0</td>\n",
       "      <td>0</td>\n",
       "      <td>0</td>\n",
       "      <td>0</td>\n",
       "      <td>0</td>\n",
       "      <td>0</td>\n",
       "      <td>0</td>\n",
       "      <td>1</td>\n",
       "      <td>0</td>\n",
       "      <td>0</td>\n",
       "      <td>1</td>\n",
       "      <td>0</td>\n",
       "    </tr>\n",
       "  </tbody>\n",
       "</table>\n",
       "</div>"
      ],
      "text/plain": [
       "                   gender_Female  gender_Male  ethnicity_African American  \\\n",
       "patientunitstayid                                                           \n",
       "141284                         0            1                           0   \n",
       "141288                         1            0                           0   \n",
       "141360                         0            1                           0   \n",
       "141362                         0            1                           0   \n",
       "141415                         0            1                           0   \n",
       "\n",
       "                   ethnicity_Asian  ethnicity_Caucasian  ethnicity_Hispanic  \\\n",
       "patientunitstayid                                                             \n",
       "141284                           0                    1                   0   \n",
       "141288                           0                    1                   0   \n",
       "141360                           0                    1                   0   \n",
       "141362                           0                    1                   0   \n",
       "141415                           0                    1                   0   \n",
       "\n",
       "                   ethnicity_Native American  ethnicity_Other/Unknown  \\\n",
       "patientunitstayid                                                       \n",
       "141284                                     0                        0   \n",
       "141288                                     0                        0   \n",
       "141360                                     0                        0   \n",
       "141362                                     0                        0   \n",
       "141415                                     0                        0   \n",
       "\n",
       "                   unittype_CCU-CTICU  unittype_CSICU  unittype_CTICU  \\\n",
       "patientunitstayid                                                       \n",
       "141284                              0               0               1   \n",
       "141288                              0               0               0   \n",
       "141360                              0               0               0   \n",
       "141362                              0               0               0   \n",
       "141415                              0               0               0   \n",
       "\n",
       "                   unittype_Cardiac ICU  unittype_MICU  unittype_Med-Surg ICU  \\\n",
       "patientunitstayid                                                               \n",
       "141284                                0              0                      0   \n",
       "141288                                0              0                      1   \n",
       "141360                                0              0                      0   \n",
       "141362                                0              0                      1   \n",
       "141415                                0              0                      1   \n",
       "\n",
       "                   unittype_Neuro ICU  unittype_SICU  \\\n",
       "patientunitstayid                                      \n",
       "141284                              0              0   \n",
       "141288                              0              0   \n",
       "141360                              1              0   \n",
       "141362                              0              0   \n",
       "141415                              0              0   \n",
       "\n",
       "                   unitdischargestatus_Alive  unitdischargestatus_Expired  \n",
       "patientunitstayid                                                          \n",
       "141284                                     1                            0  \n",
       "141288                                     1                            0  \n",
       "141360                                     1                            0  \n",
       "141362                                     1                            0  \n",
       "141415                                     1                            0  "
      ]
     },
     "execution_count": 22,
     "metadata": {},
     "output_type": "execute_result"
    }
   ],
   "source": [
    "cat_columns = ['gender', 'ethnicity', 'unittype', 'unitdischargestatus']\n",
    "pat_cat_encoded = pd.get_dummies(pat[cat_columns], prefix_sep='_', drop_first=False)\n",
    "pat_cat_encoded.head()"
   ]
  },
  {
   "cell_type": "code",
   "execution_count": 23,
   "metadata": {},
   "outputs": [
    {
     "data": {
      "text/plain": [
       "['gender_Female',\n",
       " 'ethnicity_African American',\n",
       " 'ethnicity_Asian',\n",
       " 'ethnicity_Caucasian',\n",
       " 'ethnicity_Hispanic',\n",
       " 'ethnicity_Other/Unknown',\n",
       " 'unittype_CCU-CTICU',\n",
       " 'unittype_CSICU',\n",
       " 'unittype_Cardiac ICU',\n",
       " 'unittype_MICU',\n",
       " 'unittype_Med-Surg ICU',\n",
       " 'unittype_Neuro ICU',\n",
       " 'unittype_SICU',\n",
       " 'unitdischargestatus_Alive']"
      ]
     },
     "execution_count": 23,
     "metadata": {},
     "output_type": "execute_result"
    }
   ],
   "source": [
    "cols_to_drop = ['gender_Male', 'ethnicity_Native American', 'unittype_CTICU', 'unitdischargestatus_Expired']\n",
    "pat_cat_encoded.drop(columns=cols_to_drop, inplace=True)\n",
    "pat_cat_encoded.columns.tolist()"
   ]
  },
  {
   "cell_type": "code",
   "execution_count": 24,
   "metadata": {},
   "outputs": [],
   "source": [
    "# keep track of droped columns for interpretation\n",
    "droped_cols = ['organsys_Transplant', 'ethnicity_Native American', 'unittype_CTICU']"
   ]
  },
  {
   "cell_type": "code",
   "execution_count": 25,
   "metadata": {},
   "outputs": [
    {
     "name": "stdout",
     "output_type": "stream",
     "text": [
      "90804\n",
      "aki_label                            0\n",
      "aki_offset                       88476\n",
      "organsys_Cardiovascular              0\n",
      "organsys_Gastrointestinal            0\n",
      "organsys_Genitourinary               0\n",
      "organsys_Hematology                  0\n",
      "organsys_Metabolic/Endocrine         0\n",
      "organsys_Musculoskeletal/Skin        0\n",
      "organsys_Neurologic                  0\n",
      "organsys_Respiratory                 0\n",
      "organsys_Trauma                      0\n",
      "from_or_Yes                          0\n",
      "gender_Female                       29\n",
      "ethnicity_African American          29\n",
      "ethnicity_Asian                     29\n",
      "ethnicity_Caucasian                 29\n",
      "ethnicity_Hispanic                  29\n",
      "ethnicity_Other/Unknown             29\n",
      "unittype_CCU-CTICU                  29\n",
      "unittype_CSICU                      29\n",
      "unittype_Cardiac ICU                29\n",
      "unittype_MICU                       29\n",
      "unittype_Med-Surg ICU               29\n",
      "unittype_Neuro ICU                  29\n",
      "unittype_SICU                       29\n",
      "unitdischargestatus_Alive           29\n",
      "age                                 29\n",
      "patienthealthsystemstayid           29\n",
      "unitvisitnumber                     29\n",
      "unitdischargeoffset                 29\n",
      "dtype: int64\n"
     ]
    }
   ],
   "source": [
    "# put together all relevant encoded values\n",
    "# qa\n",
    "# diag_summary_encoded\n",
    "# or_summary_encoded\n",
    "# pat_cat_encoded\n",
    "# pat[['patientunitstayid', 'age', 'unitvisitnumber', 'unitdischargeoffset']]\n",
    "#pat.age = pat.age.astype(int) # age is stored as string, convert to int\n",
    "combined_df = pd.concat([qa, diag_summary_encoded, or_summary_encoded, pat_cat_encoded, \\\n",
    "                         pat[['age', 'patienthealthsystemstayid', 'unitvisitnumber', 'unitdischargeoffset']]], \\\n",
    "                        axis=1, ignore_index=False)\n",
    "print(len(combined_df))\n",
    "print(combined_df.isnull().sum())"
   ]
  },
  {
   "cell_type": "code",
   "execution_count": 26,
   "metadata": {},
   "outputs": [
    {
     "data": {
      "text/plain": [
       "aki_label                        0\n",
       "aki_offset                       0\n",
       "organsys_Cardiovascular          0\n",
       "organsys_Gastrointestinal        0\n",
       "organsys_Genitourinary           0\n",
       "organsys_Hematology              0\n",
       "organsys_Metabolic/Endocrine     0\n",
       "organsys_Musculoskeletal/Skin    0\n",
       "organsys_Neurologic              0\n",
       "organsys_Respiratory             0\n",
       "organsys_Trauma                  0\n",
       "from_or_Yes                      0\n",
       "gender_Female                    0\n",
       "ethnicity_African American       0\n",
       "ethnicity_Asian                  0\n",
       "ethnicity_Caucasian              0\n",
       "ethnicity_Hispanic               0\n",
       "ethnicity_Other/Unknown          0\n",
       "unittype_CCU-CTICU               0\n",
       "unittype_CSICU                   0\n",
       "unittype_Cardiac ICU             0\n",
       "unittype_MICU                    0\n",
       "unittype_Med-Surg ICU            0\n",
       "unittype_Neuro ICU               0\n",
       "unittype_SICU                    0\n",
       "unitdischargestatus_Alive        0\n",
       "age                              0\n",
       "patienthealthsystemstayid        0\n",
       "unitvisitnumber                  0\n",
       "unitdischargeoffset              0\n",
       "dtype: int64"
      ]
     },
     "execution_count": 26,
     "metadata": {},
     "output_type": "execute_result"
    }
   ],
   "source": [
    "combined_df[combined_df.aki_label==1].isnull().sum()"
   ]
  },
  {
   "cell_type": "code",
   "execution_count": 30,
   "metadata": {},
   "outputs": [
    {
     "data": {
      "text/plain": [
       "aki_label                        0\n",
       "aki_offset                       0\n",
       "organsys_Cardiovascular          0\n",
       "organsys_Gastrointestinal        0\n",
       "organsys_Genitourinary           0\n",
       "organsys_Hematology              0\n",
       "organsys_Metabolic/Endocrine     0\n",
       "organsys_Musculoskeletal/Skin    0\n",
       "organsys_Neurologic              0\n",
       "organsys_Respiratory             0\n",
       "organsys_Trauma                  0\n",
       "from_or_Yes                      0\n",
       "gender_Female                    0\n",
       "ethnicity_African American       0\n",
       "ethnicity_Asian                  0\n",
       "ethnicity_Caucasian              0\n",
       "ethnicity_Hispanic               0\n",
       "ethnicity_Other/Unknown          0\n",
       "unittype_CCU-CTICU               0\n",
       "unittype_CSICU                   0\n",
       "unittype_Cardiac ICU             0\n",
       "unittype_MICU                    0\n",
       "unittype_Med-Surg ICU            0\n",
       "unittype_Neuro ICU               0\n",
       "unittype_SICU                    0\n",
       "unitdischargestatus_Alive        0\n",
       "age                              0\n",
       "patienthealthsystemstayid        0\n",
       "unitvisitnumber                  0\n",
       "unitdischargeoffset              0\n",
       "dtype: int64"
      ]
     },
     "execution_count": 30,
     "metadata": {},
     "output_type": "execute_result"
    }
   ],
   "source": [
    "combined_df.dropna(inplace=True)\n",
    "combined_df.isnull().sum()"
   ]
  },
  {
   "cell_type": "code",
   "execution_count": 31,
   "metadata": {},
   "outputs": [],
   "source": [
    "combined_df.to_csv('../data/intermediate/pat_admit_diag_cleaned.csv')"
   ]
  },
  {
   "cell_type": "code",
   "execution_count": 32,
   "metadata": {},
   "outputs": [],
   "source": [
    "# keep track of index columns\n",
    "index_cols = ['patientunitstayid'] # currently used as index\n",
    "\n",
    "# keep track of cols important for stratification\n",
    "strat_cols = ['unitvisitnumber', 'patienthealthsystemstayid', 'aki_label', 'unitdischargestatus_Alive']\n",
    "\n",
    "# keep track of columns important for time tracking\n",
    "time_cols = ['aki_offset', 'unitdischargeoffset']\n",
    "\n",
    "# keep track of numerical columns\n",
    "num_cols = ['age']\n",
    "\n",
    "# keep track of categorical columns\n",
    "cat_cols = ['organsys_Cardiovascular', 'organsys_Gastrointestinal',\n",
    "       'organsys_Genitourinary', 'organsys_Hematology',\n",
    "       'organsys_Metabolic/Endocrine', 'organsys_Musculoskeletal/Skin',\n",
    "       'organsys_Neurologic', 'organsys_Respiratory', 'organsys_Trauma',\n",
    "       'from_or_Yes', 'gender_Female', 'ethnicity_African American',\n",
    "       'ethnicity_Asian', 'ethnicity_Caucasian', 'ethnicity_Hispanic',\n",
    "       'ethnicity_Other/Unknown', 'unittype_CCU-CTICU', 'unittype_CSICU',\n",
    "       'unittype_Cardiac ICU', 'unittype_MICU', 'unittype_Med-Surg ICU',\n",
    "       'unittype_Neuro ICU', 'unittype_SICU', 'unitdischargestatus_Alive']\n",
    "\n",
    "# keep track of target variables\n",
    "target_cols = ['aki_label', 'unitdischargestatus_Alive']"
   ]
  },
  {
   "cell_type": "code",
   "execution_count": 33,
   "metadata": {},
   "outputs": [
    {
     "data": {
      "text/plain": [
       "Index(['aki_label', 'aki_offset', 'organsys_Cardiovascular',\n",
       "       'organsys_Gastrointestinal', 'organsys_Genitourinary',\n",
       "       'organsys_Hematology', 'organsys_Metabolic/Endocrine',\n",
       "       'organsys_Musculoskeletal/Skin', 'organsys_Neurologic',\n",
       "       'organsys_Respiratory', 'organsys_Trauma', 'from_or_Yes',\n",
       "       'gender_Female', 'ethnicity_African American', 'ethnicity_Asian',\n",
       "       'ethnicity_Caucasian', 'ethnicity_Hispanic', 'ethnicity_Other/Unknown',\n",
       "       'unittype_CCU-CTICU', 'unittype_CSICU', 'unittype_Cardiac ICU',\n",
       "       'unittype_MICU', 'unittype_Med-Surg ICU', 'unittype_Neuro ICU',\n",
       "       'unittype_SICU', 'unitdischargestatus_Alive', 'age',\n",
       "       'patienthealthsystemstayid', 'unitvisitnumber', 'unitdischargeoffset'],\n",
       "      dtype='object')"
      ]
     },
     "execution_count": 33,
     "metadata": {},
     "output_type": "execute_result"
    }
   ],
   "source": [
    "combined_df.columns"
   ]
  },
  {
   "cell_type": "code",
   "execution_count": 76,
   "metadata": {},
   "outputs": [
    {
     "data": {
      "text/html": [
       "<div>\n",
       "<style scoped>\n",
       "    .dataframe tbody tr th:only-of-type {\n",
       "        vertical-align: middle;\n",
       "    }\n",
       "\n",
       "    .dataframe tbody tr th {\n",
       "        vertical-align: top;\n",
       "    }\n",
       "\n",
       "    .dataframe thead th {\n",
       "        text-align: right;\n",
       "    }\n",
       "</style>\n",
       "<table border=\"1\" class=\"dataframe\">\n",
       "  <thead>\n",
       "    <tr style=\"text-align: right;\">\n",
       "      <th></th>\n",
       "      <th>aki_label</th>\n",
       "      <th>aki_offset</th>\n",
       "      <th>organsys_Cardiovascular</th>\n",
       "      <th>organsys_Gastrointestinal</th>\n",
       "      <th>organsys_Genitourinary</th>\n",
       "      <th>organsys_Hematology</th>\n",
       "      <th>organsys_Metabolic/Endocrine</th>\n",
       "      <th>organsys_Musculoskeletal/Skin</th>\n",
       "      <th>organsys_Neurologic</th>\n",
       "      <th>organsys_Respiratory</th>\n",
       "      <th>...</th>\n",
       "      <th>unittype_Cardiac ICU</th>\n",
       "      <th>unittype_MICU</th>\n",
       "      <th>unittype_Med-Surg ICU</th>\n",
       "      <th>unittype_Neuro ICU</th>\n",
       "      <th>unittype_SICU</th>\n",
       "      <th>unitdischargestatus_Alive</th>\n",
       "      <th>age</th>\n",
       "      <th>patienthealthsystemstayid</th>\n",
       "      <th>unitvisitnumber</th>\n",
       "      <th>unitdischargeoffset</th>\n",
       "    </tr>\n",
       "    <tr>\n",
       "      <th>patientunitstayid</th>\n",
       "      <th></th>\n",
       "      <th></th>\n",
       "      <th></th>\n",
       "      <th></th>\n",
       "      <th></th>\n",
       "      <th></th>\n",
       "      <th></th>\n",
       "      <th></th>\n",
       "      <th></th>\n",
       "      <th></th>\n",
       "      <th></th>\n",
       "      <th></th>\n",
       "      <th></th>\n",
       "      <th></th>\n",
       "      <th></th>\n",
       "      <th></th>\n",
       "      <th></th>\n",
       "      <th></th>\n",
       "      <th></th>\n",
       "      <th></th>\n",
       "      <th></th>\n",
       "    </tr>\n",
       "  </thead>\n",
       "  <tbody>\n",
       "    <tr>\n",
       "      <th>142388</th>\n",
       "      <td>1</td>\n",
       "      <td>1757.0</td>\n",
       "      <td>0</td>\n",
       "      <td>0</td>\n",
       "      <td>0</td>\n",
       "      <td>0</td>\n",
       "      <td>0</td>\n",
       "      <td>0</td>\n",
       "      <td>0</td>\n",
       "      <td>1</td>\n",
       "      <td>...</td>\n",
       "      <td>0.0</td>\n",
       "      <td>0.0</td>\n",
       "      <td>0.0</td>\n",
       "      <td>1.0</td>\n",
       "      <td>0.0</td>\n",
       "      <td>1.0</td>\n",
       "      <td>67</td>\n",
       "      <td>129864.0</td>\n",
       "      <td>1.0</td>\n",
       "      <td>8407.0</td>\n",
       "    </tr>\n",
       "    <tr>\n",
       "      <th>142974</th>\n",
       "      <td>1</td>\n",
       "      <td>2241.0</td>\n",
       "      <td>0</td>\n",
       "      <td>0</td>\n",
       "      <td>0</td>\n",
       "      <td>0</td>\n",
       "      <td>0</td>\n",
       "      <td>0</td>\n",
       "      <td>1</td>\n",
       "      <td>0</td>\n",
       "      <td>...</td>\n",
       "      <td>0.0</td>\n",
       "      <td>0.0</td>\n",
       "      <td>1.0</td>\n",
       "      <td>0.0</td>\n",
       "      <td>0.0</td>\n",
       "      <td>1.0</td>\n",
       "      <td>54</td>\n",
       "      <td>130310.0</td>\n",
       "      <td>1.0</td>\n",
       "      <td>3906.0</td>\n",
       "    </tr>\n",
       "    <tr>\n",
       "      <th>143466</th>\n",
       "      <td>1</td>\n",
       "      <td>7083.0</td>\n",
       "      <td>1</td>\n",
       "      <td>0</td>\n",
       "      <td>0</td>\n",
       "      <td>0</td>\n",
       "      <td>0</td>\n",
       "      <td>0</td>\n",
       "      <td>0</td>\n",
       "      <td>0</td>\n",
       "      <td>...</td>\n",
       "      <td>0.0</td>\n",
       "      <td>1.0</td>\n",
       "      <td>0.0</td>\n",
       "      <td>0.0</td>\n",
       "      <td>0.0</td>\n",
       "      <td>1.0</td>\n",
       "      <td>60</td>\n",
       "      <td>130702.0</td>\n",
       "      <td>1.0</td>\n",
       "      <td>13963.0</td>\n",
       "    </tr>\n",
       "    <tr>\n",
       "      <th>143518</th>\n",
       "      <td>1</td>\n",
       "      <td>4468.0</td>\n",
       "      <td>1</td>\n",
       "      <td>0</td>\n",
       "      <td>0</td>\n",
       "      <td>0</td>\n",
       "      <td>0</td>\n",
       "      <td>0</td>\n",
       "      <td>0</td>\n",
       "      <td>0</td>\n",
       "      <td>...</td>\n",
       "      <td>0.0</td>\n",
       "      <td>0.0</td>\n",
       "      <td>0.0</td>\n",
       "      <td>0.0</td>\n",
       "      <td>0.0</td>\n",
       "      <td>1.0</td>\n",
       "      <td>66</td>\n",
       "      <td>130741.0</td>\n",
       "      <td>1.0</td>\n",
       "      <td>6726.0</td>\n",
       "    </tr>\n",
       "    <tr>\n",
       "      <th>144173</th>\n",
       "      <td>1</td>\n",
       "      <td>1778.0</td>\n",
       "      <td>0</td>\n",
       "      <td>0</td>\n",
       "      <td>1</td>\n",
       "      <td>0</td>\n",
       "      <td>0</td>\n",
       "      <td>0</td>\n",
       "      <td>0</td>\n",
       "      <td>0</td>\n",
       "      <td>...</td>\n",
       "      <td>0.0</td>\n",
       "      <td>0.0</td>\n",
       "      <td>1.0</td>\n",
       "      <td>0.0</td>\n",
       "      <td>0.0</td>\n",
       "      <td>1.0</td>\n",
       "      <td>40</td>\n",
       "      <td>131256.0</td>\n",
       "      <td>1.0</td>\n",
       "      <td>6165.0</td>\n",
       "    </tr>\n",
       "  </tbody>\n",
       "</table>\n",
       "<p>5 rows × 30 columns</p>\n",
       "</div>"
      ],
      "text/plain": [
       "                   aki_label  aki_offset  organsys_Cardiovascular  \\\n",
       "patientunitstayid                                                   \n",
       "142388                     1      1757.0                        0   \n",
       "142974                     1      2241.0                        0   \n",
       "143466                     1      7083.0                        1   \n",
       "143518                     1      4468.0                        1   \n",
       "144173                     1      1778.0                        0   \n",
       "\n",
       "                   organsys_Gastrointestinal  organsys_Genitourinary  \\\n",
       "patientunitstayid                                                      \n",
       "142388                                     0                       0   \n",
       "142974                                     0                       0   \n",
       "143466                                     0                       0   \n",
       "143518                                     0                       0   \n",
       "144173                                     0                       1   \n",
       "\n",
       "                   organsys_Hematology  organsys_Metabolic/Endocrine  \\\n",
       "patientunitstayid                                                      \n",
       "142388                               0                             0   \n",
       "142974                               0                             0   \n",
       "143466                               0                             0   \n",
       "143518                               0                             0   \n",
       "144173                               0                             0   \n",
       "\n",
       "                   organsys_Musculoskeletal/Skin  organsys_Neurologic  \\\n",
       "patientunitstayid                                                       \n",
       "142388                                         0                    0   \n",
       "142974                                         0                    1   \n",
       "143466                                         0                    0   \n",
       "143518                                         0                    0   \n",
       "144173                                         0                    0   \n",
       "\n",
       "                   organsys_Respiratory  ...  unittype_Cardiac ICU  \\\n",
       "patientunitstayid                        ...                         \n",
       "142388                                1  ...                   0.0   \n",
       "142974                                0  ...                   0.0   \n",
       "143466                                0  ...                   0.0   \n",
       "143518                                0  ...                   0.0   \n",
       "144173                                0  ...                   0.0   \n",
       "\n",
       "                   unittype_MICU  unittype_Med-Surg ICU  unittype_Neuro ICU  \\\n",
       "patientunitstayid                                                             \n",
       "142388                       0.0                    0.0                 1.0   \n",
       "142974                       0.0                    1.0                 0.0   \n",
       "143466                       1.0                    0.0                 0.0   \n",
       "143518                       0.0                    0.0                 0.0   \n",
       "144173                       0.0                    1.0                 0.0   \n",
       "\n",
       "                   unittype_SICU  unitdischargestatus_Alive  age  \\\n",
       "patientunitstayid                                                  \n",
       "142388                       0.0                        1.0   67   \n",
       "142974                       0.0                        1.0   54   \n",
       "143466                       0.0                        1.0   60   \n",
       "143518                       0.0                        1.0   66   \n",
       "144173                       0.0                        1.0   40   \n",
       "\n",
       "                   patienthealthsystemstayid  unitvisitnumber  \\\n",
       "patientunitstayid                                               \n",
       "142388                              129864.0              1.0   \n",
       "142974                              130310.0              1.0   \n",
       "143466                              130702.0              1.0   \n",
       "143518                              130741.0              1.0   \n",
       "144173                              131256.0              1.0   \n",
       "\n",
       "                   unitdischargeoffset  \n",
       "patientunitstayid                       \n",
       "142388                          8407.0  \n",
       "142974                          3906.0  \n",
       "143466                         13963.0  \n",
       "143518                          6726.0  \n",
       "144173                          6165.0  \n",
       "\n",
       "[5 rows x 30 columns]"
      ]
     },
     "execution_count": 76,
     "metadata": {},
     "output_type": "execute_result"
    }
   ],
   "source": [
    "combined_df = pd.read_csv('../data/intermediate/pat_admit_diag_cleaned.csv')\n",
    "combined_df.set_index('patientunitstayid', inplace=True)\n",
    "combined_df.head()"
   ]
  },
  {
   "cell_type": "code",
   "execution_count": 77,
   "metadata": {},
   "outputs": [
    {
     "data": {
      "text/html": [
       "<div>\n",
       "<style scoped>\n",
       "    .dataframe tbody tr th:only-of-type {\n",
       "        vertical-align: middle;\n",
       "    }\n",
       "\n",
       "    .dataframe tbody tr th {\n",
       "        vertical-align: top;\n",
       "    }\n",
       "\n",
       "    .dataframe thead th {\n",
       "        text-align: right;\n",
       "    }\n",
       "</style>\n",
       "<table border=\"1\" class=\"dataframe\">\n",
       "  <thead>\n",
       "    <tr style=\"text-align: right;\">\n",
       "      <th></th>\n",
       "      <th>min_result_BUN</th>\n",
       "      <th>min_result_FiO2</th>\n",
       "      <th>min_result_HCO3</th>\n",
       "      <th>min_result_Hct</th>\n",
       "      <th>min_result_Hgb</th>\n",
       "      <th>min_result_MCH</th>\n",
       "      <th>min_result_MCHC</th>\n",
       "      <th>min_result_MCV</th>\n",
       "      <th>min_result_MPV</th>\n",
       "      <th>min_result_RBC</th>\n",
       "      <th>...</th>\n",
       "      <th>delta_result_chloride</th>\n",
       "      <th>delta_result_creatinine</th>\n",
       "      <th>delta_result_glucose</th>\n",
       "      <th>delta_result_magnesium</th>\n",
       "      <th>delta_result_pH</th>\n",
       "      <th>delta_result_paCO2</th>\n",
       "      <th>delta_result_paO2</th>\n",
       "      <th>delta_result_platelets x 1000</th>\n",
       "      <th>delta_result_potassium</th>\n",
       "      <th>delta_result_sodium</th>\n",
       "    </tr>\n",
       "    <tr>\n",
       "      <th>patientunitstayid</th>\n",
       "      <th></th>\n",
       "      <th></th>\n",
       "      <th></th>\n",
       "      <th></th>\n",
       "      <th></th>\n",
       "      <th></th>\n",
       "      <th></th>\n",
       "      <th></th>\n",
       "      <th></th>\n",
       "      <th></th>\n",
       "      <th></th>\n",
       "      <th></th>\n",
       "      <th></th>\n",
       "      <th></th>\n",
       "      <th></th>\n",
       "      <th></th>\n",
       "      <th></th>\n",
       "      <th></th>\n",
       "      <th></th>\n",
       "      <th></th>\n",
       "      <th></th>\n",
       "    </tr>\n",
       "  </thead>\n",
       "  <tbody>\n",
       "    <tr>\n",
       "      <th>141284</th>\n",
       "      <td>20.0</td>\n",
       "      <td>NaN</td>\n",
       "      <td>NaN</td>\n",
       "      <td>27.1</td>\n",
       "      <td>8.8</td>\n",
       "      <td>26.3</td>\n",
       "      <td>32.7</td>\n",
       "      <td>80.2</td>\n",
       "      <td>NaN</td>\n",
       "      <td>3.54</td>\n",
       "      <td>...</td>\n",
       "      <td>0.0</td>\n",
       "      <td>0.00</td>\n",
       "      <td>0.0</td>\n",
       "      <td>NaN</td>\n",
       "      <td>NaN</td>\n",
       "      <td>NaN</td>\n",
       "      <td>NaN</td>\n",
       "      <td>0.0</td>\n",
       "      <td>0.0</td>\n",
       "      <td>0.0</td>\n",
       "    </tr>\n",
       "    <tr>\n",
       "      <th>141288</th>\n",
       "      <td>17.0</td>\n",
       "      <td>100.0</td>\n",
       "      <td>24.0</td>\n",
       "      <td>35.4</td>\n",
       "      <td>11.8</td>\n",
       "      <td>31.8</td>\n",
       "      <td>32.5</td>\n",
       "      <td>97.8</td>\n",
       "      <td>NaN</td>\n",
       "      <td>3.62</td>\n",
       "      <td>...</td>\n",
       "      <td>0.0</td>\n",
       "      <td>0.00</td>\n",
       "      <td>0.0</td>\n",
       "      <td>NaN</td>\n",
       "      <td>0.0</td>\n",
       "      <td>0.0</td>\n",
       "      <td>0.0</td>\n",
       "      <td>31.0</td>\n",
       "      <td>0.0</td>\n",
       "      <td>0.0</td>\n",
       "    </tr>\n",
       "    <tr>\n",
       "      <th>141360</th>\n",
       "      <td>13.0</td>\n",
       "      <td>NaN</td>\n",
       "      <td>NaN</td>\n",
       "      <td>48.9</td>\n",
       "      <td>16.6</td>\n",
       "      <td>29.9</td>\n",
       "      <td>33.9</td>\n",
       "      <td>88.1</td>\n",
       "      <td>NaN</td>\n",
       "      <td>5.55</td>\n",
       "      <td>...</td>\n",
       "      <td>0.0</td>\n",
       "      <td>0.00</td>\n",
       "      <td>0.0</td>\n",
       "      <td>NaN</td>\n",
       "      <td>NaN</td>\n",
       "      <td>NaN</td>\n",
       "      <td>NaN</td>\n",
       "      <td>0.0</td>\n",
       "      <td>0.0</td>\n",
       "      <td>0.0</td>\n",
       "    </tr>\n",
       "    <tr>\n",
       "      <th>141362</th>\n",
       "      <td>16.0</td>\n",
       "      <td>NaN</td>\n",
       "      <td>NaN</td>\n",
       "      <td>36.6</td>\n",
       "      <td>11.8</td>\n",
       "      <td>29.8</td>\n",
       "      <td>32.2</td>\n",
       "      <td>92.2</td>\n",
       "      <td>NaN</td>\n",
       "      <td>3.87</td>\n",
       "      <td>...</td>\n",
       "      <td>4.0</td>\n",
       "      <td>0.21</td>\n",
       "      <td>20.0</td>\n",
       "      <td>0.5</td>\n",
       "      <td>NaN</td>\n",
       "      <td>NaN</td>\n",
       "      <td>NaN</td>\n",
       "      <td>13.0</td>\n",
       "      <td>0.8</td>\n",
       "      <td>2.0</td>\n",
       "    </tr>\n",
       "    <tr>\n",
       "      <th>141415</th>\n",
       "      <td>13.0</td>\n",
       "      <td>NaN</td>\n",
       "      <td>NaN</td>\n",
       "      <td>37.4</td>\n",
       "      <td>12.2</td>\n",
       "      <td>32.0</td>\n",
       "      <td>32.1</td>\n",
       "      <td>96.8</td>\n",
       "      <td>NaN</td>\n",
       "      <td>3.76</td>\n",
       "      <td>...</td>\n",
       "      <td>3.0</td>\n",
       "      <td>0.29</td>\n",
       "      <td>51.0</td>\n",
       "      <td>NaN</td>\n",
       "      <td>NaN</td>\n",
       "      <td>NaN</td>\n",
       "      <td>NaN</td>\n",
       "      <td>58.0</td>\n",
       "      <td>0.4</td>\n",
       "      <td>2.0</td>\n",
       "    </tr>\n",
       "  </tbody>\n",
       "</table>\n",
       "<p>5 rows × 78 columns</p>\n",
       "</div>"
      ],
      "text/plain": [
       "                   min_result_BUN  min_result_FiO2  min_result_HCO3  \\\n",
       "patientunitstayid                                                     \n",
       "141284                       20.0              NaN              NaN   \n",
       "141288                       17.0            100.0             24.0   \n",
       "141360                       13.0              NaN              NaN   \n",
       "141362                       16.0              NaN              NaN   \n",
       "141415                       13.0              NaN              NaN   \n",
       "\n",
       "                   min_result_Hct  min_result_Hgb  min_result_MCH  \\\n",
       "patientunitstayid                                                   \n",
       "141284                       27.1             8.8            26.3   \n",
       "141288                       35.4            11.8            31.8   \n",
       "141360                       48.9            16.6            29.9   \n",
       "141362                       36.6            11.8            29.8   \n",
       "141415                       37.4            12.2            32.0   \n",
       "\n",
       "                   min_result_MCHC  min_result_MCV  min_result_MPV  \\\n",
       "patientunitstayid                                                    \n",
       "141284                        32.7            80.2             NaN   \n",
       "141288                        32.5            97.8             NaN   \n",
       "141360                        33.9            88.1             NaN   \n",
       "141362                        32.2            92.2             NaN   \n",
       "141415                        32.1            96.8             NaN   \n",
       "\n",
       "                   min_result_RBC  ...  delta_result_chloride  \\\n",
       "patientunitstayid                  ...                          \n",
       "141284                       3.54  ...                    0.0   \n",
       "141288                       3.62  ...                    0.0   \n",
       "141360                       5.55  ...                    0.0   \n",
       "141362                       3.87  ...                    4.0   \n",
       "141415                       3.76  ...                    3.0   \n",
       "\n",
       "                   delta_result_creatinine  delta_result_glucose  \\\n",
       "patientunitstayid                                                  \n",
       "141284                                0.00                   0.0   \n",
       "141288                                0.00                   0.0   \n",
       "141360                                0.00                   0.0   \n",
       "141362                                0.21                  20.0   \n",
       "141415                                0.29                  51.0   \n",
       "\n",
       "                   delta_result_magnesium  delta_result_pH  \\\n",
       "patientunitstayid                                            \n",
       "141284                                NaN              NaN   \n",
       "141288                                NaN              0.0   \n",
       "141360                                NaN              NaN   \n",
       "141362                                0.5              NaN   \n",
       "141415                                NaN              NaN   \n",
       "\n",
       "                   delta_result_paCO2  delta_result_paO2  \\\n",
       "patientunitstayid                                          \n",
       "141284                            NaN                NaN   \n",
       "141288                            0.0                0.0   \n",
       "141360                            NaN                NaN   \n",
       "141362                            NaN                NaN   \n",
       "141415                            NaN                NaN   \n",
       "\n",
       "                   delta_result_platelets x 1000  delta_result_potassium  \\\n",
       "patientunitstayid                                                          \n",
       "141284                                       0.0                     0.0   \n",
       "141288                                      31.0                     0.0   \n",
       "141360                                       0.0                     0.0   \n",
       "141362                                      13.0                     0.8   \n",
       "141415                                      58.0                     0.4   \n",
       "\n",
       "                   delta_result_sodium  \n",
       "patientunitstayid                       \n",
       "141284                             0.0  \n",
       "141288                             0.0  \n",
       "141360                             0.0  \n",
       "141362                             2.0  \n",
       "141415                             2.0  \n",
       "\n",
       "[5 rows x 78 columns]"
      ]
     },
     "execution_count": 77,
     "metadata": {},
     "output_type": "execute_result"
    }
   ],
   "source": [
    "lab = pd.read_csv('../data/intermediate/lab_summary_prior.csv', header=None)\n",
    "lab.columns = ['patientunitstayid', 'labname', 'min_result', 'max_result', 'delta_result']\n",
    "lab.set_index(['patientunitstayid', 'labname'], inplace=True)\n",
    "lab = lab.unstack(level=1)\n",
    "lab.columns = lab.columns.map('_'.join)\n",
    "lab.head()"
   ]
  },
  {
   "cell_type": "code",
   "execution_count": 78,
   "metadata": {},
   "outputs": [
    {
     "data": {
      "text/plain": [
       "27"
      ]
     },
     "execution_count": 78,
     "metadata": {},
     "output_type": "execute_result"
    }
   ],
   "source": [
    "combined_df = combined_df.merge(lab, left_index=True, right_index=True)\n",
    "missing_vals = combined_df[combined_df.aki_label==1].isnull().sum()\n",
    "missing_vals_fract = missing_vals/len(combined_df[combined_df.aki_label==1])\n",
    "len(missing_vals_fract[missing_vals_fract>0.2])"
   ]
  },
  {
   "cell_type": "code",
   "execution_count": 81,
   "metadata": {},
   "outputs": [
    {
     "data": {
      "text/plain": [
       "['min_result_FiO2',\n",
       " 'min_result_HCO3',\n",
       " 'min_result_MCH',\n",
       " 'min_result_MPV',\n",
       " 'min_result_RDW',\n",
       " 'min_result_anion gap',\n",
       " 'min_result_bedside glucose',\n",
       " 'min_result_magnesium',\n",
       " 'min_result_pH',\n",
       " 'min_result_paCO2',\n",
       " 'min_result_paO2',\n",
       " 'max_result_FiO2',\n",
       " 'max_result_HCO3',\n",
       " 'max_result_MCH',\n",
       " 'max_result_MPV',\n",
       " 'max_result_RDW',\n",
       " 'max_result_anion gap',\n",
       " 'max_result_bedside glucose',\n",
       " 'max_result_magnesium',\n",
       " 'max_result_pH',\n",
       " 'max_result_paCO2',\n",
       " 'max_result_paO2',\n",
       " 'delta_result_FiO2',\n",
       " 'delta_result_HCO3',\n",
       " 'delta_result_MCH',\n",
       " 'delta_result_MPV',\n",
       " 'delta_result_RDW',\n",
       " 'delta_result_anion gap',\n",
       " 'delta_result_bedside glucose',\n",
       " 'delta_result_magnesium',\n",
       " 'delta_result_pH',\n",
       " 'delta_result_paCO2',\n",
       " 'delta_result_paO2']"
      ]
     },
     "execution_count": 81,
     "metadata": {},
     "output_type": "execute_result"
    }
   ],
   "source": [
    "lab_cols_todrop = missing_vals_fract[missing_vals_fract>0.1].index.tolist()\n",
    "lab_cols_todrop"
   ]
  },
  {
   "cell_type": "code",
   "execution_count": 234,
   "metadata": {},
   "outputs": [],
   "source": [
    "combined_df_filtered = combined_df.drop(columns = lab_cols_todrop)"
   ]
  },
  {
   "cell_type": "code",
   "execution_count": 247,
   "metadata": {},
   "outputs": [
    {
     "name": "stdout",
     "output_type": "stream",
     "text": [
      "2307\n"
     ]
    },
    {
     "data": {
      "text/plain": [
       "2116"
      ]
     },
     "execution_count": 247,
     "metadata": {},
     "output_type": "execute_result"
    }
   ],
   "source": [
    "row_null_sum = combined_df_filtered.loc[combined_df['aki_label']==1].isnull().sum(axis=1).sort_values(ascending=True)\n",
    "print(len(row_null_sum))\n",
    "len(row_null_sum[row_null_sum<10])"
   ]
  },
  {
   "cell_type": "code",
   "execution_count": 248,
   "metadata": {},
   "outputs": [
    {
     "name": "stdout",
     "output_type": "stream",
     "text": [
      "2116\n",
      "76196\n"
     ]
    }
   ],
   "source": [
    "combined_df_filtered_dr = combined_df_filtered[combined_df_filtered.isnull().sum(axis=1)<10]\n",
    "print(len(combined_df_filtered_dr[combined_df_filtered_dr['aki_label']==1]))\n",
    "print(len(combined_df_filtered_dr[combined_df_filtered_dr['aki_label']==0]))"
   ]
  },
  {
   "cell_type": "code",
   "execution_count": 249,
   "metadata": {},
   "outputs": [
    {
     "data": {
      "text/plain": [
       "aki_label                            0\n",
       "aki_offset                       76196\n",
       "organsys_Cardiovascular              0\n",
       "organsys_Gastrointestinal            0\n",
       "organsys_Genitourinary               0\n",
       "                                 ...  \n",
       "delta_result_creatinine            132\n",
       "delta_result_glucose               444\n",
       "delta_result_platelets x 1000      735\n",
       "delta_result_potassium              72\n",
       "delta_result_sodium                  5\n",
       "Length: 68, dtype: int64"
      ]
     },
     "execution_count": 249,
     "metadata": {},
     "output_type": "execute_result"
    }
   ],
   "source": [
    "combined_df_filtered_dr.isnull().sum()"
   ]
  },
  {
   "cell_type": "code",
   "execution_count": 254,
   "metadata": {},
   "outputs": [],
   "source": [
    "# Note I will impute missing values after splitting into train test\n",
    "# strategies median, or sklearn Multivariate feature imputation\n",
    "\n",
    "# keep track of new numerical features\n",
    "num_cols += ['min_result_BUN', 'min_result_Hct',\n",
    "       'min_result_Hgb', 'min_result_RBC', 'min_result_WBC x 1000',\n",
    "       'min_result_bicarbonate', 'min_result_calcium', 'min_result_chloride',\n",
    "       'min_result_creatinine', 'min_result_glucose',\n",
    "       'min_result_platelets x 1000', 'min_result_potassium',\n",
    "       'min_result_sodium', 'max_result_BUN', 'max_result_Hct',\n",
    "       'max_result_Hgb', 'max_result_RBC', 'max_result_WBC x 1000',\n",
    "       'max_result_bicarbonate', 'max_result_calcium', 'max_result_chloride',\n",
    "       'max_result_creatinine', 'max_result_glucose',\n",
    "       'max_result_platelets x 1000', 'max_result_potassium',\n",
    "       'max_result_sodium', 'delta_result_BUN', 'delta_result_Hct',\n",
    "       'delta_result_Hgb', 'delta_result_RBC', 'delta_result_WBC x 1000',\n",
    "       'delta_result_bicarbonate', 'delta_result_calcium',\n",
    "       'delta_result_chloride', 'delta_result_creatinine',\n",
    "       'delta_result_glucose', 'delta_result_platelets x 1000',\n",
    "       'delta_result_potassium', 'delta_result_sodium']"
   ]
  },
  {
   "cell_type": "code",
   "execution_count": 251,
   "metadata": {},
   "outputs": [
    {
     "data": {
      "text/plain": [
       "Index(['aki_label', 'aki_offset', 'organsys_Cardiovascular',\n",
       "       'organsys_Gastrointestinal', 'organsys_Genitourinary',\n",
       "       'organsys_Hematology', 'organsys_Metabolic/Endocrine',\n",
       "       'organsys_Musculoskeletal/Skin', 'organsys_Neurologic',\n",
       "       'organsys_Respiratory', 'organsys_Trauma', 'from_or_Yes',\n",
       "       'gender_Female', 'ethnicity_African American', 'ethnicity_Asian',\n",
       "       'ethnicity_Caucasian', 'ethnicity_Hispanic', 'ethnicity_Other/Unknown',\n",
       "       'unittype_CCU-CTICU', 'unittype_CSICU', 'unittype_Cardiac ICU',\n",
       "       'unittype_MICU', 'unittype_Med-Surg ICU', 'unittype_Neuro ICU',\n",
       "       'unittype_SICU', 'unitdischargestatus_Alive', 'age', 'unitvisitnumber',\n",
       "       'unitdischargeoffset', 'min_result_BUN', 'min_result_Hct',\n",
       "       'min_result_Hgb', 'min_result_RBC', 'min_result_WBC x 1000',\n",
       "       'min_result_bicarbonate', 'min_result_calcium', 'min_result_chloride',\n",
       "       'min_result_creatinine', 'min_result_glucose',\n",
       "       'min_result_platelets x 1000', 'min_result_potassium',\n",
       "       'min_result_sodium', 'max_result_BUN', 'max_result_Hct',\n",
       "       'max_result_Hgb', 'max_result_RBC', 'max_result_WBC x 1000',\n",
       "       'max_result_bicarbonate', 'max_result_calcium', 'max_result_chloride',\n",
       "       'max_result_creatinine', 'max_result_glucose',\n",
       "       'max_result_platelets x 1000', 'max_result_potassium',\n",
       "       'max_result_sodium', 'delta_result_BUN', 'delta_result_Hct',\n",
       "       'delta_result_Hgb', 'delta_result_RBC', 'delta_result_WBC x 1000',\n",
       "       'delta_result_bicarbonate', 'delta_result_calcium',\n",
       "       'delta_result_chloride', 'delta_result_creatinine',\n",
       "       'delta_result_glucose', 'delta_result_platelets x 1000',\n",
       "       'delta_result_potassium', 'delta_result_sodium'],\n",
       "      dtype='object')"
      ]
     },
     "execution_count": 251,
     "metadata": {},
     "output_type": "execute_result"
    }
   ],
   "source": [
    "combined_df_filtered_dr.columns"
   ]
  },
  {
   "cell_type": "code",
   "execution_count": 257,
   "metadata": {},
   "outputs": [
    {
     "data": {
      "text/html": [
       "<div>\n",
       "<style scoped>\n",
       "    .dataframe tbody tr th:only-of-type {\n",
       "        vertical-align: middle;\n",
       "    }\n",
       "\n",
       "    .dataframe tbody tr th {\n",
       "        vertical-align: top;\n",
       "    }\n",
       "\n",
       "    .dataframe thead th {\n",
       "        text-align: right;\n",
       "    }\n",
       "</style>\n",
       "<table border=\"1\" class=\"dataframe\">\n",
       "  <thead>\n",
       "    <tr style=\"text-align: right;\">\n",
       "      <th></th>\n",
       "      <th>min_sao2</th>\n",
       "      <th>max_sao2</th>\n",
       "      <th>mean_sao2</th>\n",
       "      <th>min_heartrate</th>\n",
       "      <th>max_heartrate</th>\n",
       "      <th>mean_heartrate</th>\n",
       "      <th>min_respiration</th>\n",
       "      <th>max_respiration</th>\n",
       "      <th>mean_respiration</th>\n",
       "    </tr>\n",
       "    <tr>\n",
       "      <th>patientunitstayid</th>\n",
       "      <th></th>\n",
       "      <th></th>\n",
       "      <th></th>\n",
       "      <th></th>\n",
       "      <th></th>\n",
       "      <th></th>\n",
       "      <th></th>\n",
       "      <th></th>\n",
       "      <th></th>\n",
       "    </tr>\n",
       "  </thead>\n",
       "  <tbody>\n",
       "    <tr>\n",
       "      <th>141284</th>\n",
       "      <td>92.0</td>\n",
       "      <td>100.0</td>\n",
       "      <td>96.073529</td>\n",
       "      <td>70.0</td>\n",
       "      <td>106.0</td>\n",
       "      <td>84.752613</td>\n",
       "      <td>10.0</td>\n",
       "      <td>36.0</td>\n",
       "      <td>21.254355</td>\n",
       "    </tr>\n",
       "    <tr>\n",
       "      <th>141288</th>\n",
       "      <td>90.0</td>\n",
       "      <td>100.0</td>\n",
       "      <td>95.219512</td>\n",
       "      <td>80.0</td>\n",
       "      <td>106.0</td>\n",
       "      <td>91.857143</td>\n",
       "      <td>11.0</td>\n",
       "      <td>46.0</td>\n",
       "      <td>21.972125</td>\n",
       "    </tr>\n",
       "    <tr>\n",
       "      <th>141360</th>\n",
       "      <td>96.0</td>\n",
       "      <td>100.0</td>\n",
       "      <td>98.602230</td>\n",
       "      <td>76.0</td>\n",
       "      <td>120.0</td>\n",
       "      <td>89.808118</td>\n",
       "      <td>11.0</td>\n",
       "      <td>36.0</td>\n",
       "      <td>17.656827</td>\n",
       "    </tr>\n",
       "    <tr>\n",
       "      <th>141362</th>\n",
       "      <td>80.0</td>\n",
       "      <td>99.0</td>\n",
       "      <td>93.338129</td>\n",
       "      <td>92.0</td>\n",
       "      <td>120.0</td>\n",
       "      <td>103.592982</td>\n",
       "      <td>11.0</td>\n",
       "      <td>42.0</td>\n",
       "      <td>24.518182</td>\n",
       "    </tr>\n",
       "    <tr>\n",
       "      <th>141415</th>\n",
       "      <td>97.0</td>\n",
       "      <td>100.0</td>\n",
       "      <td>98.353488</td>\n",
       "      <td>61.0</td>\n",
       "      <td>99.0</td>\n",
       "      <td>72.034722</td>\n",
       "      <td>8.0</td>\n",
       "      <td>57.0</td>\n",
       "      <td>15.880000</td>\n",
       "    </tr>\n",
       "  </tbody>\n",
       "</table>\n",
       "</div>"
      ],
      "text/plain": [
       "                   min_sao2  max_sao2  mean_sao2  min_heartrate  \\\n",
       "patientunitstayid                                                 \n",
       "141284                 92.0     100.0  96.073529           70.0   \n",
       "141288                 90.0     100.0  95.219512           80.0   \n",
       "141360                 96.0     100.0  98.602230           76.0   \n",
       "141362                 80.0      99.0  93.338129           92.0   \n",
       "141415                 97.0     100.0  98.353488           61.0   \n",
       "\n",
       "                   max_heartrate  mean_heartrate  min_respiration  \\\n",
       "patientunitstayid                                                   \n",
       "141284                     106.0       84.752613             10.0   \n",
       "141288                     106.0       91.857143             11.0   \n",
       "141360                     120.0       89.808118             11.0   \n",
       "141362                     120.0      103.592982             11.0   \n",
       "141415                      99.0       72.034722              8.0   \n",
       "\n",
       "                   max_respiration  mean_respiration  \n",
       "patientunitstayid                                     \n",
       "141284                        36.0         21.254355  \n",
       "141288                        46.0         21.972125  \n",
       "141360                        36.0         17.656827  \n",
       "141362                        42.0         24.518182  \n",
       "141415                        57.0         15.880000  "
      ]
     },
     "execution_count": 257,
     "metadata": {},
     "output_type": "execute_result"
    }
   ],
   "source": [
    "vitals = pd.read_csv('../data/intermediate/vitalperiodic_summary.csv', header=None)\n",
    "vitals.columns = ['patientunitstayid','min_sao2', 'max_sao2', 'mean_sao2', 'min_heartrate', 'max_heartrate', \\\n",
    "                  'mean_heartrate', 'min_respiration', 'max_respiration', 'mean_respiration']\n",
    "vitals.set_index('patientunitstayid', inplace=True)\n",
    "vitals.head()"
   ]
  },
  {
   "cell_type": "code",
   "execution_count": 260,
   "metadata": {},
   "outputs": [
    {
     "data": {
      "text/plain": [
       "min_heartrate         0\n",
       "max_heartrate         0\n",
       "mean_heartrate        0\n",
       "min_sao2             10\n",
       "max_sao2             10\n",
       "mean_sao2            10\n",
       "min_respiration     140\n",
       "max_respiration     140\n",
       "mean_respiration    140\n",
       "dtype: int64"
      ]
     },
     "execution_count": 260,
     "metadata": {},
     "output_type": "execute_result"
    }
   ],
   "source": [
    "combined_df_filtered_dr_vit = combined_df_filtered_dr.merge(vitals, left_index=True, right_index=True)\n",
    "row_null_sum = combined_df_filtered_dr_vit.loc[combined_df_filtered_dr_vit['aki_label']==1][vitals.columns].isnull().sum().sort_values(ascending=True)\n",
    "row_null_sum"
   ]
  },
  {
   "cell_type": "code",
   "execution_count": 261,
   "metadata": {},
   "outputs": [
    {
     "data": {
      "text/plain": [
       "min_heartrate        162\n",
       "max_heartrate        162\n",
       "mean_heartrate       162\n",
       "min_sao2             733\n",
       "max_sao2             733\n",
       "mean_sao2            733\n",
       "min_respiration     5388\n",
       "max_respiration     5388\n",
       "mean_respiration    5388\n",
       "dtype: int64"
      ]
     },
     "execution_count": 261,
     "metadata": {},
     "output_type": "execute_result"
    }
   ],
   "source": [
    "row_null_sum = combined_df_filtered_dr_vit.loc[combined_df_filtered_dr_vit['aki_label']==0][vitals.columns].isnull().sum().sort_values(ascending=True)\n",
    "row_null_sum"
   ]
  },
  {
   "cell_type": "code",
   "execution_count": 264,
   "metadata": {},
   "outputs": [
    {
     "name": "stdout",
     "output_type": "stream",
     "text": [
      "2099\n",
      "76624\n"
     ]
    }
   ],
   "source": [
    "# respiration columns will be droped, for the rest drop the rows that are null\n",
    "combined_df_filtered_dr_vit.drop(columns=['min_respiration', 'max_respiration', 'mean_respiration'])\n",
    "combined_df_filtered_dr_vit_final = combined_df_filtered_dr_vit[combined_df_filtered_dr_vit[['min_heartrate', 'max_heartrate', \\\n",
    "                                                                                     'mean_heartrate', 'min_sao2', 'max_sao2', \\\n",
    "                                                                                     'mean_sao2']].isnull().sum(axis=1)==0]\n",
    "print(combined_df_filtered_dr_vit_final.aki_label.sum())\n",
    "print(len(combined_df_filtered_dr_vit_final))"
   ]
  },
  {
   "cell_type": "code",
   "execution_count": 266,
   "metadata": {},
   "outputs": [],
   "source": [
    "combined_df_filtered_dr_vit_final.to_csv('../data/final/vitalperiodic_summary.csv')"
   ]
  },
  {
   "cell_type": "code",
   "execution_count": 104,
   "metadata": {},
   "outputs": [
    {
     "data": {
      "text/plain": [
       "Index(['patienthealthsystemstayid', 'gender', 'age', 'ethnicity', 'hospitalid',\n",
       "       'wardid', 'apacheadmissiondx', 'admissionheight', 'hospitaladmittime24',\n",
       "       'hospitaladmitoffset', 'hospitaladmitsource', 'hospitaldischargeyear',\n",
       "       'hospitaldischargetime24', 'hospitaldischargeoffset',\n",
       "       'hospitaldischargelocation', 'hospitaldischargestatus', 'unittype',\n",
       "       'unitadmittime24', 'unitadmitsource', 'unitvisitnumber', 'unitstaytype',\n",
       "       'admissionweight', 'dischargeweight', 'unitdischargetime24',\n",
       "       'unitdischargeoffset', 'unitdischargelocation', 'unitdischargestatus',\n",
       "       'uniquepid', 'aki_label', 'aki_offset'],\n",
       "      dtype='object')"
      ]
     },
     "execution_count": 104,
     "metadata": {},
     "output_type": "execute_result"
    }
   ],
   "source": [
    "pat.columns\n"
   ]
  },
  {
   "cell_type": "code",
   "execution_count": 112,
   "metadata": {},
   "outputs": [
    {
     "data": {
      "text/plain": [
       "2178600"
      ]
     },
     "execution_count": 112,
     "metadata": {},
     "output_type": "execute_result"
    }
   ],
   "source": [
    "from sklearn.model_selection import train_test_split\n",
    "pat_train, pat_test = train_test_split(pat, test_size=0.2, stratify=pat[['gender', 'aki_label', 'ethnicity']])\n",
    "pat_train.size"
   ]
  },
  {
   "cell_type": "code",
   "execution_count": 108,
   "metadata": {},
   "outputs": [
    {
     "data": {
      "text/plain": [
       "544650"
      ]
     },
     "execution_count": 108,
     "metadata": {},
     "output_type": "execute_result"
    }
   ],
   "source": [
    "pat_test.size"
   ]
  },
  {
   "cell_type": "code",
   "execution_count": 111,
   "metadata": {},
   "outputs": [
    {
     "name": "stdout",
     "output_type": "stream",
     "text": [
      "Male      0.537001\n",
      "Female    0.462999\n",
      "Name: gender, dtype: float64\n",
      "Male      0.537042\n",
      "Female    0.462958\n",
      "Name: gender, dtype: float64\n"
     ]
    }
   ],
   "source": [
    "print(pat_train.gender.value_counts()/len(pat_train))\n",
    "print(pat_test.gender.value_counts()/len(pat_test))"
   ]
  },
  {
   "cell_type": "code",
   "execution_count": null,
   "metadata": {},
   "outputs": [],
   "source": []
  }
 ],
 "metadata": {
  "kernelspec": {
   "display_name": "Python 3",
   "language": "python",
   "name": "python3"
  },
  "language_info": {
   "codemirror_mode": {
    "name": "ipython",
    "version": 3
   },
   "file_extension": ".py",
   "mimetype": "text/x-python",
   "name": "python",
   "nbconvert_exporter": "python",
   "pygments_lexer": "ipython3",
   "version": "3.8.3"
  }
 },
 "nbformat": 4,
 "nbformat_minor": 4
}
