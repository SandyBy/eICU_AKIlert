{
 "cells": [
  {
   "cell_type": "code",
   "execution_count": 2,
   "metadata": {},
   "outputs": [],
   "source": [
    "import pandas as pd\n",
    "import numpy as np\n",
    "import matplotlib.pyplot as plt\n",
    "%matplotlib inline\n",
    "from sklearn.ensemble import RandomForestClassifier\n",
    "from sklearn.ensemble import GradientBoostingClassifier"
   ]
  },
  {
   "cell_type": "code",
   "execution_count": 4,
   "metadata": {},
   "outputs": [
    {
     "name": "stdout",
     "output_type": "stream",
     "text": [
      "(57474, 84)\n",
      "(14303, 84)\n",
      "(10646, 84)\n"
     ]
    }
   ],
   "source": [
    "random_state = 2020\n",
    "\n",
    "train_df = pd.read_csv('../data/final/train_imputed.csv')\n",
    "val_df = pd.read_csv('../data/final/val_imputed.csv')\n",
    "test_df = pd.read_csv('../data/final/test_imputed.csv')\n",
    "\n",
    "train_df.drop('Unnamed: 0', axis=1, inplace=True)\n",
    "val_df.drop('Unnamed: 0', axis=1, inplace=True)\n",
    "test_df.drop('Unnamed: 0', axis=1, inplace=True)\n",
    "\n",
    "X_train = train_df.drop(columns=['patientunitstayid', 'aki_label']).values\n",
    "print(X_train.shape)\n",
    "y_train = train_df.aki_label.values\n",
    "\n",
    "X_val = val_df.drop(columns=['patientunitstayid', 'aki_label']).values\n",
    "print(X_val.shape)\n",
    "y_val = val_df.aki_label.values\n",
    "\n",
    "X_test = test_df.drop(columns=['patientunitstayid', 'aki_label']).values\n",
    "print(X_test.shape)\n",
    "y_test = test_df.aki_label.values"
   ]
  },
  {
   "cell_type": "code",
   "execution_count": 1,
   "metadata": {},
   "outputs": [],
   "source": [
    "import random\n",
    "from sklearn.metrics import roc_auc_score\n",
    "from sklearn.metrics import recall_score\n",
    "from sklearn.metrics import f1_score\n",
    "from sklearn.metrics import average_precision_score\n",
    "\n",
    "learning_rate = [0.1,0.01,0.001]\n",
    "n_estimators = [20, 100, 500]\n",
    "max_depth = [5, 25, 125]\n",
    "\n",
    "tested_params_gb = {'max_depth': [],\n",
    "    'n_estimators': [],\n",
    "    'learning_rate':[],\n",
    "      'roc':[],\n",
    "         'avepscore':[]}\n",
    "\n",
    "for lr in learning_rate:\n",
    "    for ne in n_estimators:\n",
    "        for md in max_depth:\n",
    "            gb = GradientBoostingClassifier(random_state=2020, max_depth=md,\\\n",
    "                                       n_estimators=ne, learning_rate=lr)\n",
    "            tested_params_gb['max_depth'].append(md)\n",
    "            tested_params_gb['n_estimators'].append(ne)\n",
    "            tested_params_gb['learning_rate'].append(lr)\n",
    "            gb.fit(X_train, y_train)\n",
    "            print('training complete')\n",
    "            y_pred = gb.predict_proba(X_val)[:,1]\n",
    "            roc = roc_auc_score(y_val, y_pred)\n",
    "            avepscore =  average_precision_score(y_val, y_pred)\n",
    "            tested_params_gb['roc'].append(roc)\n",
    "            tested_params_gb['avepscore'].append(avepscore)"
   ]
  },
  {
   "cell_type": "code",
   "execution_count": 6,
   "metadata": {},
   "outputs": [
    {
     "data": {
      "text/plain": [
       "{'max_depth': [5, 25, 125, 5, 25, 125],\n",
       " 'n_estimators': [20, 20, 20, 100, 100, 100],\n",
       " 'learning_rate': [0.1, 0.1, 0.1, 0.1, 0.1, 0.1],\n",
       " 'roc': [0.8703207157740588,\n",
       "  0.6907069587712868,\n",
       "  0.6298101302282499,\n",
       "  0.8727772286646165,\n",
       "  0.8630154157624618],\n",
       " 'avepscore': [0.15925873065682644,\n",
       "  0.0941090526738543,\n",
       "  0.06265969467535995,\n",
       "  0.15760211849328593,\n",
       "  0.1290057780404963]}"
      ]
     },
     "execution_count": 6,
     "metadata": {},
     "output_type": "execute_result"
    }
   ],
   "source": [
    "tested_params_gb"
   ]
  },
  {
   "cell_type": "code",
   "execution_count": 7,
   "metadata": {},
   "outputs": [],
   "source": [
    "tested_params_gb['max_depth']= [5, 25, 125, 5, 25]\n",
    "tested_params_gb['n_estimators']= [20, 20, 20, 100, 100]\n",
    "tested_params_gb['learning_rate'] = [0.1, 0.1, 0.1, 0.1, 0.1]"
   ]
  },
  {
   "cell_type": "code",
   "execution_count": 8,
   "metadata": {},
   "outputs": [
    {
     "data": {
      "text/html": [
       "<div>\n",
       "<style scoped>\n",
       "    .dataframe tbody tr th:only-of-type {\n",
       "        vertical-align: middle;\n",
       "    }\n",
       "\n",
       "    .dataframe tbody tr th {\n",
       "        vertical-align: top;\n",
       "    }\n",
       "\n",
       "    .dataframe thead th {\n",
       "        text-align: right;\n",
       "    }\n",
       "</style>\n",
       "<table border=\"1\" class=\"dataframe\">\n",
       "  <thead>\n",
       "    <tr style=\"text-align: right;\">\n",
       "      <th></th>\n",
       "      <th>max_depth</th>\n",
       "      <th>n_estimators</th>\n",
       "      <th>learning_rate</th>\n",
       "      <th>roc</th>\n",
       "      <th>avepscore</th>\n",
       "    </tr>\n",
       "  </thead>\n",
       "  <tbody>\n",
       "    <tr>\n",
       "      <th>0</th>\n",
       "      <td>5</td>\n",
       "      <td>20</td>\n",
       "      <td>0.1</td>\n",
       "      <td>0.870321</td>\n",
       "      <td>0.159259</td>\n",
       "    </tr>\n",
       "    <tr>\n",
       "      <th>1</th>\n",
       "      <td>25</td>\n",
       "      <td>20</td>\n",
       "      <td>0.1</td>\n",
       "      <td>0.690707</td>\n",
       "      <td>0.094109</td>\n",
       "    </tr>\n",
       "    <tr>\n",
       "      <th>2</th>\n",
       "      <td>125</td>\n",
       "      <td>20</td>\n",
       "      <td>0.1</td>\n",
       "      <td>0.629810</td>\n",
       "      <td>0.062660</td>\n",
       "    </tr>\n",
       "    <tr>\n",
       "      <th>3</th>\n",
       "      <td>5</td>\n",
       "      <td>100</td>\n",
       "      <td>0.1</td>\n",
       "      <td>0.872777</td>\n",
       "      <td>0.157602</td>\n",
       "    </tr>\n",
       "    <tr>\n",
       "      <th>4</th>\n",
       "      <td>25</td>\n",
       "      <td>100</td>\n",
       "      <td>0.1</td>\n",
       "      <td>0.863015</td>\n",
       "      <td>0.129006</td>\n",
       "    </tr>\n",
       "  </tbody>\n",
       "</table>\n",
       "</div>"
      ],
      "text/plain": [
       "   max_depth  n_estimators  learning_rate       roc  avepscore\n",
       "0          5            20            0.1  0.870321   0.159259\n",
       "1         25            20            0.1  0.690707   0.094109\n",
       "2        125            20            0.1  0.629810   0.062660\n",
       "3          5           100            0.1  0.872777   0.157602\n",
       "4         25           100            0.1  0.863015   0.129006"
      ]
     },
     "execution_count": 8,
     "metadata": {},
     "output_type": "execute_result"
    }
   ],
   "source": [
    "pd.DataFrame(tested_params_gb)"
   ]
  },
  {
   "cell_type": "code",
   "execution_count": 9,
   "metadata": {},
   "outputs": [
    {
     "name": "stdout",
     "output_type": "stream",
     "text": [
      "(71777, 84)\n",
      "(71777,)\n"
     ]
    }
   ],
   "source": [
    "X_train_val = np.vstack((X_train, X_val))\n",
    "print(X_train_val.shape)\n",
    "y_train_val = np.concatenate((y_train, y_val), axis=0)\n",
    "print(y_train_val.shape)"
   ]
  },
  {
   "cell_type": "code",
   "execution_count": 10,
   "metadata": {},
   "outputs": [
    {
     "data": {
      "text/plain": [
       "GradientBoostingClassifier(ccp_alpha=0.0, criterion='friedman_mse', init=None,\n",
       "                           learning_rate=0.1, loss='deviance', max_depth=5,\n",
       "                           max_features=None, max_leaf_nodes=None,\n",
       "                           min_impurity_decrease=0.0, min_impurity_split=None,\n",
       "                           min_samples_leaf=1, min_samples_split=2,\n",
       "                           min_weight_fraction_leaf=0.0, n_estimators=20,\n",
       "                           n_iter_no_change=None, presort='deprecated',\n",
       "                           random_state=2020, subsample=1.0, tol=0.0001,\n",
       "                           validation_fraction=0.1, verbose=0,\n",
       "                           warm_start=False)"
      ]
     },
     "execution_count": 10,
     "metadata": {},
     "output_type": "execute_result"
    }
   ],
   "source": [
    "gb = GradientBoostingClassifier(random_state=2020, max_depth=5,\\\n",
    "                                       n_estimators=20, learning_rate=0.1)\n",
    "gb.fit(X_train_val, y_train_val)"
   ]
  },
  {
   "cell_type": "code",
   "execution_count": 11,
   "metadata": {},
   "outputs": [
    {
     "name": "stdout",
     "output_type": "stream",
     "text": [
      "[[10388    12]\n",
      " [  236    10]]\n",
      "              precision    recall  f1-score   support\n",
      "\n",
      "           0       0.98      1.00      0.99     10400\n",
      "           1       0.45      0.04      0.07       246\n",
      "\n",
      "    accuracy                           0.98     10646\n",
      "   macro avg       0.72      0.52      0.53     10646\n",
      "weighted avg       0.97      0.98      0.97     10646\n",
      "\n"
     ]
    },
    {
     "data": {
      "image/png": "[encoded data removed]",
      "text/plain": [
       "<Figure size 432x288 with 1 Axes>"
      ]
     },
     "metadata": {
      "needs_background": "light"
     },
     "output_type": "display_data"
    },
    {
     "data": {
      "image/png": "[encoded data removed]",
      "text/plain": [
       "<Figure size 432x288 with 1 Axes>"
      ]
     },
     "metadata": {
      "needs_background": "light"
     },
     "output_type": "display_data"
    }
   ],
   "source": [
    "from sklearn.metrics import classification_report\n",
    "from sklearn.metrics import confusion_matrix\n",
    "from sklearn.metrics import roc_curve\n",
    "from sklearn.metrics import precision_recall_curve\n",
    "\n",
    "y_score = gb.predict(X_test)\n",
    "y_pred = gb.predict_proba(X_test)[:, 1]\n",
    "print(confusion_matrix(y_test, y_score))\n",
    "print(classification_report(y_test, y_score))\n",
    "fpr, tpr, auc_th = roc_curve(y_test, y_pred)\n",
    "precision, recall, pr_th = precision_recall_curve(y_test, y_pred)\n",
    "\n",
    "plt.plot(fpr, tpr)\n",
    "plt.xlabel('False positive rate')\n",
    "plt.ylabel('True positive rate')\n",
    "plt.title('ROC curve')\n",
    "plt.show()\n",
    "plt.plot(recall, precision)\n",
    "plt.xlabel('Recall')\n",
    "plt.ylabel('Precision')\n",
    "plt.title('Precision-recall curve')\n",
    "plt.show()"
   ]
  },
  {
   "cell_type": "code",
   "execution_count": 12,
   "metadata": {},
   "outputs": [
    {
     "data": {
      "text/html": [
       "<div>\n",
       "<style scoped>\n",
       "    .dataframe tbody tr th:only-of-type {\n",
       "        vertical-align: middle;\n",
       "    }\n",
       "\n",
       "    .dataframe tbody tr th {\n",
       "        vertical-align: top;\n",
       "    }\n",
       "\n",
       "    .dataframe thead th {\n",
       "        text-align: right;\n",
       "    }\n",
       "</style>\n",
       "<table border=\"1\" class=\"dataframe\">\n",
       "  <thead>\n",
       "    <tr style=\"text-align: right;\">\n",
       "      <th></th>\n",
       "      <th>feature</th>\n",
       "      <th>importance</th>\n",
       "    </tr>\n",
       "  </thead>\n",
       "  <tbody>\n",
       "    <tr>\n",
       "      <th>35</th>\n",
       "      <td>max_result_creatinine</td>\n",
       "      <td>0.412050</td>\n",
       "    </tr>\n",
       "    <tr>\n",
       "      <th>55</th>\n",
       "      <td>unitdischargestatus_alive</td>\n",
       "      <td>0.040930</td>\n",
       "    </tr>\n",
       "    <tr>\n",
       "      <th>18</th>\n",
       "      <td>min_result_calcium</td>\n",
       "      <td>0.035532</td>\n",
       "    </tr>\n",
       "    <tr>\n",
       "      <th>40</th>\n",
       "      <td>delta_result_BUN</td>\n",
       "      <td>0.026277</td>\n",
       "    </tr>\n",
       "    <tr>\n",
       "      <th>36</th>\n",
       "      <td>max_result_glucose</td>\n",
       "      <td>0.016806</td>\n",
       "    </tr>\n",
       "    <tr>\n",
       "      <th>...</th>\n",
       "      <td>...</td>\n",
       "      <td>...</td>\n",
       "    </tr>\n",
       "    <tr>\n",
       "      <th>66</th>\n",
       "      <td>unittype_CTICU</td>\n",
       "      <td>0.000000</td>\n",
       "    </tr>\n",
       "    <tr>\n",
       "      <th>64</th>\n",
       "      <td>unittype_CCU-CTICU</td>\n",
       "      <td>0.000000</td>\n",
       "    </tr>\n",
       "    <tr>\n",
       "      <th>62</th>\n",
       "      <td>ethnicity_Native American</td>\n",
       "      <td>0.000000</td>\n",
       "    </tr>\n",
       "    <tr>\n",
       "      <th>56</th>\n",
       "      <td>gender_Female</td>\n",
       "      <td>0.000000</td>\n",
       "    </tr>\n",
       "    <tr>\n",
       "      <th>67</th>\n",
       "      <td>unittype_Cardiac ICU</td>\n",
       "      <td>0.000000</td>\n",
       "    </tr>\n",
       "  </tbody>\n",
       "</table>\n",
       "<p>84 rows × 2 columns</p>\n",
       "</div>"
      ],
      "text/plain": [
       "                      feature  importance\n",
       "35      max_result_creatinine    0.412050\n",
       "55  unitdischargestatus_alive    0.040930\n",
       "18         min_result_calcium    0.035532\n",
       "40           delta_result_BUN    0.026277\n",
       "36         max_result_glucose    0.016806\n",
       "..                        ...         ...\n",
       "66             unittype_CTICU    0.000000\n",
       "64         unittype_CCU-CTICU    0.000000\n",
       "62  ethnicity_Native American    0.000000\n",
       "56              gender_Female    0.000000\n",
       "67       unittype_Cardiac ICU    0.000000\n",
       "\n",
       "[84 rows x 2 columns]"
      ]
     },
     "execution_count": 12,
     "metadata": {},
     "output_type": "execute_result"
    }
   ],
   "source": [
    "feat_imp = pd.DataFrame({'feature': train_df.drop(columns=['patientunitstayid', 'aki_label']).columns , 'importance': gb.feature_importances_})\n",
    "feat_imp.sort_values(by='importance', ascending=False, inplace=True)\n",
    "feat_imp"
   ]
  },
  {
   "cell_type": "code",
   "execution_count": 13,
   "metadata": {},
   "outputs": [
    {
     "data": {
      "text/plain": [
       "Text(0.5, 1.0, 'Feature importance')"
      ]
     },
     "execution_count": 13,
     "metadata": {},
     "output_type": "execute_result"
    },
    {
     "data": {
      "image/png": "[encoded data removed]",
      "text/plain": [
       "<Figure size 432x288 with 1 Axes>"
      ]
     },
     "metadata": {
      "needs_background": "light"
     },
     "output_type": "display_data"
    }
   ],
   "source": [
    "feat_imp[:10].sort_values(by='importance', ascending=True).plot.barh(y='importance', x='feature')\n",
    "plt.title('Feature importance')"
   ]
  },
  {
   "cell_type": "code",
   "execution_count": 18,
   "metadata": {},
   "outputs": [
    {
     "name": "stdout",
     "output_type": "stream",
     "text": [
      "[0]\teval-auc:0.83815\ttrain-auc:0.82610\n",
      "[1]\teval-auc:0.84817\ttrain-auc:0.84010\n",
      "[2]\teval-auc:0.86322\ttrain-auc:0.85134\n",
      "[3]\teval-auc:0.86159\ttrain-auc:0.85333\n",
      "[4]\teval-auc:0.86433\ttrain-auc:0.86093\n",
      "[5]\teval-auc:0.86637\ttrain-auc:0.86211\n",
      "[6]\teval-auc:0.86876\ttrain-auc:0.86551\n",
      "[7]\teval-auc:0.87068\ttrain-auc:0.86669\n",
      "[8]\teval-auc:0.87035\ttrain-auc:0.86986\n",
      "[9]\teval-auc:0.87367\ttrain-auc:0.87187\n",
      "[10]\teval-auc:0.87317\ttrain-auc:0.87294\n",
      "[11]\teval-auc:0.87361\ttrain-auc:0.87519\n",
      "[12]\teval-auc:0.87494\ttrain-auc:0.87665\n",
      "[13]\teval-auc:0.87589\ttrain-auc:0.87790\n",
      "[14]\teval-auc:0.87692\ttrain-auc:0.87890\n",
      "[15]\teval-auc:0.87656\ttrain-auc:0.87936\n",
      "[16]\teval-auc:0.87808\ttrain-auc:0.88052\n"
     ]
    }
   ],
   "source": [
    "import xgboost as xgb\n",
    "\n",
    "dtrain = xgb.DMatrix(X_train_val, label=y_train_val)\n",
    "dtest = xgb.DMatrix(X_test, label=y_test)\n",
    "\n",
    "param = {'max_depth': 2, 'eta': 1, 'objective': 'binary:logistic'}\n",
    "param['nthread'] = 4\n",
    "param['eval_metric'] = 'auc'\n",
    "\n",
    "evallist = [(dtest, 'eval'), (dtrain, 'train')]\n",
    "\n",
    "num_round = 17\n",
    "bst = xgb.train(param, dtrain, num_round, evallist)"
   ]
  },
  {
   "cell_type": "code",
   "execution_count": 19,
   "metadata": {},
   "outputs": [],
   "source": [
    "ypred = bst.predict(dtest)"
   ]
  },
  {
   "cell_type": "code",
   "execution_count": 20,
   "metadata": {},
   "outputs": [
    {
     "data": {
      "text/plain": [
       "<matplotlib.axes._subplots.AxesSubplot at 0x12026b9d0>"
      ]
     },
     "execution_count": 20,
     "metadata": {},
     "output_type": "execute_result"
    },
    {
     "data": {
      "image/png": "[encoded data removed]",
      "text/plain": [
       "<Figure size 432x288 with 1 Axes>"
      ]
     },
     "metadata": {
      "needs_background": "light"
     },
     "output_type": "display_data"
    }
   ],
   "source": [
    "xgb.plot_importance(bst)"
   ]
  },
  {
   "cell_type": "markdown",
   "metadata": {},
   "source": [
    "class xgboost.DMatrix(data, label=None, weight=None, base_margin=None, missing=None, silent=False, feature_names=None, feature_types=None, nthread=None)\n",
    "Bases: object\n",
    "\n",
    "Data Matrix used in XGBoost.\n",
    "\n",
    "DMatrix is a internal data structure that used by XGBoost which is optimized for both memory efficiency and training speed. You can construct DMatrix from numpy.arrays\n",
    "\n",
    "Parameters\n",
    "* data (os.PathLike/string/numpy.array/scipy.sparse/pd.DataFrame/) – dt.Frame/cudf.DataFrame/cupy.array/dlpack Data source of DMatrix. When data is string or os.PathLike type, it represents the path libsvm format txt file, csv file (by specifying uri parameter ‘path_to_csv?format=csv’), or binary file that xgboost can read from.\n",
    "* label (list, numpy 1-D array or cudf.DataFrame, optional) – Label of the training data.\n",
    "* missing (float, optional) – Value in the input data which needs to be present as a missing value. If None, defaults to np.nan.\n",
    "* weight (list, numpy 1-D array or cudf.DataFrame , optional) – Weight for each instance.\n",
    "* silent (boolean, optional) – Whether print messages during construction\n",
    "* feature_names (list, optional) – Set names for features.\n",
    "* feature_types (list, optional) – Set types for features.\n",
    "* nthread (integer, optional) – Number of threads to use for loading data when parallelization is applicable. If -1, uses maximum threads available on the system.\n",
    "\n",
    "class xgboost.XGBClassifier(objective='binary:logistic', **kwargs)\n",
    "Bases: xgboost.sklearn.XGBModel, object\n",
    "\n",
    "Implementation of the scikit-learn API for XGBoost classification.\n",
    "\n",
    "Parameters\n",
    "* max_depth (int) – Maximum tree depth for base learners.\n",
    "* learning_rate (float) – Boosting learning rate (xgb’s “eta”)\n",
    "* verbosity (int) – The degree of verbosity. Valid values are 0 (silent) - 3 (debug).\n",
    "* objective (string or callable) – Specify the learning task and the corresponding learning objective or a custom objective function to be used (see note below).\n",
    "* booster (string) – Specify which booster to use: gbtree, gblinear or dart.\n",
    "* tree_method (string) – Specify which tree method to use. Default to auto. If this parameter is set to default, XGBoost will choose the most conservative option available. It’s recommended to study this option from parameters document.\n",
    "* n_jobs (int) – Number of parallel threads used to run xgboost.\n",
    "* gamma (float) – Minimum loss reduction required to make a further partition on a leaf node of the tree.\n",
    "* min_child_weight (int) – Minimum sum of instance weight(hessian) needed in a child.\n",
    "* max_delta_step (int) – Maximum delta step we allow each tree’s weight estimation to be.\n",
    "* subsample (float) – Subsample ratio of the training instance.\n",
    "* colsample_bytree (float) – Subsample ratio of columns when constructing each tree.\n",
    "* colsample_bylevel (float) – Subsample ratio of columns for each level.\n",
    "* colsample_bynode (float) – Subsample ratio of columns for each split.\n",
    "* reg_alpha (float (xgb's alpha)) – L1 regularization term on weights\n",
    "* reg_lambda (float (xgb's lambda)) – L2 regularization term on weights\n",
    "* scale_pos_weight (float) – Balancing of positive and negative weights.\n",
    "* base_score – The initial prediction score of all instances, global bias.\n",
    "* random_state (int) – Random number seed."
   ]
  },
  {
   "cell_type": "code",
   "execution_count": 24,
   "metadata": {},
   "outputs": [],
   "source": [
    "feature_names = train_df.drop(columns=['patientunitstayid', 'aki_label']).columns.tolist()\n",
    "\n",
    "dtrain = xgb.DMatrix(X_train_val, label=y_train_val, feature_names = feature_names)\n",
    "dtest = xgb.DMatrix(X_test, label=y_test, feature_names = feature_names)"
   ]
  },
  {
   "cell_type": "code",
   "execution_count": 33,
   "metadata": {
    "scrolled": true
   },
   "outputs": [
    {
     "name": "stdout",
     "output_type": "stream",
     "text": [
      "Fitting 5 folds for each of 672 candidates, totalling 3360 fits\n"
     ]
    },
    {
     "name": "stderr",
     "output_type": "stream",
     "text": [
      "[Parallel(n_jobs=-1)]: Using backend LokyBackend with 4 concurrent workers.\n",
      "[Parallel(n_jobs=-1)]: Done  42 tasks      | elapsed:  3.0min\n",
      "[Parallel(n_jobs=-1)]: Done 192 tasks      | elapsed: 16.1min\n",
      "[Parallel(n_jobs=-1)]: Done 442 tasks      | elapsed: 37.5min\n",
      "[Parallel(n_jobs=-1)]: Done 792 tasks      | elapsed: 64.3min\n",
      "[Parallel(n_jobs=-1)]: Done 1242 tasks      | elapsed: 94.0min\n",
      "[Parallel(n_jobs=-1)]: Done 1792 tasks      | elapsed: 132.9min\n",
      "[Parallel(n_jobs=-1)]: Done 2442 tasks      | elapsed: 196.4min\n",
      "[Parallel(n_jobs=-1)]: Done 3192 tasks      | elapsed: 445.0min\n",
      "[Parallel(n_jobs=-1)]: Done 3360 out of 3360 | elapsed: 463.8min finished\n"
     ]
    }
   ],
   "source": [
    "from sklearn.model_selection import StratifiedKFold, GridSearchCV\n",
    "from sklearn.metrics import average_precision_score, make_scorer\n",
    "\n",
    "weight = (y_train_val==0).sum()/(y_train_val==1).sum()\n",
    "xgbc = xgb.XGBClassifier(scale_pos_weight=weight, objective='binary:logistic', \\\n",
    "                             random_state=random_state)\n",
    "\n",
    "\n",
    "# Define our search space for grid search\n",
    "search_space = [\n",
    "  {\n",
    "    'n_estimators': [50, 100, 150, 200],\n",
    "    'learning_rate': [0.01, 0.1, 0.2, 0.3],\n",
    "    'max_depth': range(3, 10),\n",
    "    'colsample_bytree': [i/10.0 for i in range(1, 3)],\n",
    "    'gamma': [i/10.0 for i in range(3)]\n",
    "  }\n",
    "]\n",
    "# Define cross validation\n",
    "kfold = StratifiedKFold(n_splits=5, shuffle=True, random_state=random_state)\n",
    "# AUC and average precision as score\n",
    "scoring = {'AUC':'roc_auc', 'Average precision':make_scorer(average_precision_score)}\n",
    "# Define grid search\n",
    "grid = GridSearchCV(\n",
    "  xgbc,\n",
    "  param_grid=search_space,\n",
    "  cv=kfold,\n",
    "  scoring=scoring,\n",
    "  refit='Average precision',\n",
    "  verbose=1,\n",
    "  n_jobs=-1\n",
    ")\n",
    "# Fit grid search\n",
    "model = grid.fit(X_train_val, y_train_val)"
   ]
  },
  {
   "cell_type": "code",
   "execution_count": null,
   "metadata": {},
   "outputs": [],
   "source": [
    "464/60"
   ]
  },
  {
   "cell_type": "code",
   "execution_count": 45,
   "metadata": {},
   "outputs": [
    {
     "name": "stdout",
     "output_type": "stream",
     "text": [
      "Best AUC Score: 0.088229806274818\n",
      "Average precision: 0.07777970451266503\n",
      "[[0.84201923 0.15798077]\n",
      " [0.27235772 0.72764228]]\n"
     ]
    }
   ],
   "source": [
    "predict = model.predict(X_test)\n",
    "print('Best AUC Score: {}'.format(model.best_score_))\n",
    "print('Average precision: {}'.format(average_precision_score(y_test, predict)))\n",
    "print(confusion_matrix(y_test,predict, normalize='true'))"
   ]
  },
  {
   "cell_type": "code",
   "execution_count": 42,
   "metadata": {},
   "outputs": [
    {
     "name": "stdout",
     "output_type": "stream",
     "text": [
      "Best: 0.088230 using {'colsample_bytree': 0.1, 'gamma': 0.1, 'learning_rate': 0.1, 'max_depth': 5, 'n_estimators': 150}\n"
     ]
    }
   ],
   "source": [
    "print(\"Best: %f using %s\" % (model.best_score_, model.best_params_))"
   ]
  },
  {
   "cell_type": "code",
   "execution_count": 41,
   "metadata": {},
   "outputs": [
    {
     "data": {
      "text/plain": [
       "<ErrorbarContainer object of 3 artists>"
      ]
     },
     "execution_count": 41,
     "metadata": {},
     "output_type": "execute_result"
    },
    {
     "data": {
      "image/png": "[encoded data removed]",
      "text/plain": [
       "<Figure size 432x288 with 1 Axes>"
      ]
     },
     "metadata": {
      "needs_background": "light"
     },
     "output_type": "display_data"
    }
   ],
   "source": [
    "mean_auc = model.cv_results_['mean_test_AUC']\n",
    "std_auc = model.cv_results_['std_test_AUC']\n",
    "mean_ap = model.cv_results_['mean_test_Average precision']\n",
    "std_ap = model.cv_results_['std_test_Average precision']\n",
    "plt.errorbar(mean_auc, mean_ap, yerr=std_ap, xerr=std_auc)"
   ]
  },
  {
   "cell_type": "code",
   "execution_count": 47,
   "metadata": {},
   "outputs": [
    {
     "name": "stdout",
     "output_type": "stream",
     "text": [
      "AUC:  0.5140353345841151\n",
      "Average precision:  0.04055765473542905\n",
      "[[10396     4]\n",
      " [  239     7]]\n",
      "              precision    recall  f1-score   support\n",
      "\n",
      "           0       0.98      1.00      0.99     10400\n",
      "           1       0.64      0.03      0.05       246\n",
      "\n",
      "    accuracy                           0.98     10646\n",
      "   macro avg       0.81      0.51      0.52     10646\n",
      "weighted avg       0.97      0.98      0.97     10646\n",
      "\n"
     ]
    }
   ],
   "source": [
    "best_params = {'colsample_bytree': 0.1, 'gamma': 0.1, 'learning_rate': 0.1, \\\n",
    "               'max_depth': 5, 'n_estimators': 150, 'random_state':random_state, 'objective':'binary:logistic'}\n",
    "xgbc = xgb.XGBClassifier(**best_params)\n",
    "xgbc.fit(X_train_val, y_train_val)\n",
    "y_pred = xgbc.predict(X_test)\n",
    "\n",
    "print('AUC: ', roc_auc_score(y_test, y_pred))\n",
    "print('Average precision: ', average_precision_score(y_test, y_pred))\n",
    "\n",
    "print(confusion_matrix(y_test, y_pred))\n",
    "print(classification_report(y_test, y_pred))"
   ]
  },
  {
   "cell_type": "code",
   "execution_count": null,
   "metadata": {},
   "outputs": [],
   "source": []
  }
 ],
 "metadata": {
  "kernelspec": {
   "display_name": "Python 3",
   "language": "python",
   "name": "python3"
  },
  "language_info": {
   "codemirror_mode": {
    "name": "ipython",
    "version": 3
   },
   "file_extension": ".py",
   "mimetype": "text/x-python",
   "name": "python",
   "nbconvert_exporter": "python",
   "pygments_lexer": "ipython3",
   "version": "3.8.3"
  }
 },
 "nbformat": 4,
 "nbformat_minor": 4
}
