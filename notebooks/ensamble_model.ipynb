{
 "cells": [
  {
   "cell_type": "code",
   "execution_count": 1,
   "metadata": {},
   "outputs": [],
   "source": [
    "import pandas as pd\n",
    "import numpy as np\n",
    "import matplotlib.pyplot as plt\n",
    "%matplotlib inline\n",
    "from sklearn.ensemble import RandomForestClassifier\n",
    "from sklearn.ensemble import GradientBoostingClassifier"
   ]
  },
  {
   "cell_type": "code",
   "execution_count": 3,
   "metadata": {},
   "outputs": [
    {
     "name": "stdout",
     "output_type": "stream",
     "text": [
      "['Unnamed: 0', 'age', 'min_sao2', 'max_sao2', 'mean_sao2', 'min_heartrate', 'max_heartrate', 'mean_heartrate', 'min_respiration', 'max_respiration', 'mean_respiration', 'min_result_BUN', 'min_result_Hct', 'min_result_Hgb', 'min_result_MCHC', 'min_result_MCV', 'min_result_RBC', 'min_result_WBC x 1000', 'min_result_bicarbonate', 'min_result_calcium', 'min_result_chloride', 'min_result_creatinine', 'min_result_glucose', 'min_result_platelets x 1000', 'min_result_potassium', 'min_result_sodium', 'max_result_BUN', 'max_result_Hct', 'max_result_Hgb', 'max_result_MCHC', 'max_result_MCV', 'max_result_RBC', 'max_result_WBC x 1000', 'max_result_bicarbonate', 'max_result_calcium', 'max_result_chloride', 'max_result_creatinine', 'max_result_glucose', 'max_result_platelets x 1000', 'max_result_potassium', 'max_result_sodium', 'delta_result_BUN', 'delta_result_Hct', 'delta_result_Hgb', 'delta_result_MCHC', 'delta_result_MCV', 'delta_result_RBC', 'delta_result_WBC x 1000', 'delta_result_bicarbonate', 'delta_result_calcium', 'delta_result_chloride', 'delta_result_creatinine', 'delta_result_glucose', 'delta_result_platelets x 1000', 'delta_result_potassium', 'delta_result_sodium', 'unitdischargestatus_alive', 'gender_Female', 'gender_Male', 'ethnicity_African American', 'ethnicity_Asian', 'ethnicity_Caucasian', 'ethnicity_Hispanic', 'ethnicity_Native American', 'ethnicity_Other/Unknown', 'unittype_CCU-CTICU', 'unittype_CSICU', 'unittype_CTICU', 'unittype_Cardiac ICU', 'unittype_MICU', 'unittype_Med-Surg ICU', 'unittype_Neuro ICU', 'unittype_SICU', 'organ_system_Cardiovascular', 'organ_system_Gastrointestinal', 'organ_system_Genitourinary', 'organ_system_Hematology', 'organ_system_Metabolic/Endocrine', 'organ_system_Musculoskeletal/Skin', 'organ_system_Neurologic', 'organ_system_Respiratory', 'organ_system_Transplant', 'organ_system_Trauma', 'from_OR_No', 'from_OR_Yes', 'patientunitstayid', 'aki_label']\n"
     ]
    }
   ],
   "source": [
    "random_state = 2020\n",
    "\n",
    "train_df = pd.read_csv('../data/final/train_imputed.csv')\n",
    "val_df = pd.read_csv('../data/final/val_imputed.csv')\n",
    "test_df = pd.read_csv('../data/final/test_imputed.csv')\n",
    "\n",
    "print(train_df.columns.tolist())"
   ]
  },
  {
   "cell_type": "code",
   "execution_count": 4,
   "metadata": {},
   "outputs": [
    {
     "name": "stdout",
     "output_type": "stream",
     "text": [
      "(57474, 84)\n",
      "(14303, 84)\n",
      "(10646, 84)\n"
     ]
    }
   ],
   "source": [
    "train_df.drop('Unnamed: 0', axis=1, inplace=True)\n",
    "val_df.drop('Unnamed: 0', axis=1, inplace=True)\n",
    "test_df.drop('Unnamed: 0', axis=1, inplace=True)\n",
    "\n",
    "X_train = train_df.drop(columns=['patientunitstayid', 'aki_label']).values\n",
    "print(X_train.shape)\n",
    "y_train = train_df.aki_label.values\n",
    "\n",
    "X_val = val_df.drop(columns=['patientunitstayid', 'aki_label']).values\n",
    "print(X_val.shape)\n",
    "y_val = val_df.aki_label.values\n",
    "\n",
    "X_test = test_df.drop(columns=['patientunitstayid', 'aki_label']).values\n",
    "print(X_test.shape)\n",
    "y_test = test_df.aki_label.values"
   ]
  },
  {
   "cell_type": "code",
   "execution_count": 5,
   "metadata": {},
   "outputs": [
    {
     "name": "stdout",
     "output_type": "stream",
     "text": [
      "training complete\n",
      "training complete\n",
      "training complete\n",
      "training complete\n",
      "training complete\n",
      "training complete\n",
      "training complete\n",
      "training complete\n",
      "training complete\n",
      "training complete\n",
      "training complete\n",
      "training complete\n",
      "training complete\n",
      "training complete\n",
      "training complete\n",
      "training complete\n"
     ]
    }
   ],
   "source": [
    "import random\n",
    "from sklearn.metrics import roc_auc_score\n",
    "from sklearn.metrics import recall_score\n",
    "from sklearn.metrics import f1_score\n",
    "from sklearn.metrics import average_precision_score\n",
    "\n",
    "max_depths = [12, 25, 50, 100]\n",
    "n_estimatorss = [50, 100, 200, 400]\n",
    "\n",
    "tested_params = {'max_depth': [],\n",
    "    'n_estimators': [],\n",
    "      'roc':[],\n",
    "         'avepscore':[]   }\n",
    "\n",
    "for md in max_depths:\n",
    "    for ne in n_estimatorss:\n",
    "        rf = RandomForestClassifier(random_state=2020, class_weight='balanced', max_depth=md,\\\n",
    "                                   n_estimators=ne)\n",
    "        tested_params['max_depth'].append(md)\n",
    "        tested_params['n_estimators'].append(ne)\n",
    "        rf.fit(X_train, y_train)\n",
    "        print('training complete')\n",
    "        y_pred = rf.predict_proba(X_val)[:,1]\n",
    "        roc = roc_auc_score(y_val, y_pred)\n",
    "        avepscore =  average_precision_score(y_val, y_pred)\n",
    "        tested_params['roc'].append(roc)\n",
    "        tested_params['avepscore'].append(avepscore)"
   ]
  },
  {
   "cell_type": "code",
   "execution_count": 6,
   "metadata": {},
   "outputs": [
    {
     "data": {
      "text/html": [
       "<div>\n",
       "<style scoped>\n",
       "    .dataframe tbody tr th:only-of-type {\n",
       "        vertical-align: middle;\n",
       "    }\n",
       "\n",
       "    .dataframe tbody tr th {\n",
       "        vertical-align: top;\n",
       "    }\n",
       "\n",
       "    .dataframe thead th {\n",
       "        text-align: right;\n",
       "    }\n",
       "</style>\n",
       "<table border=\"1\" class=\"dataframe\">\n",
       "  <thead>\n",
       "    <tr style=\"text-align: right;\">\n",
       "      <th></th>\n",
       "      <th>max_depth</th>\n",
       "      <th>n_estimators</th>\n",
       "      <th>roc</th>\n",
       "      <th>avepscore</th>\n",
       "    </tr>\n",
       "  </thead>\n",
       "  <tbody>\n",
       "    <tr>\n",
       "      <th>0</th>\n",
       "      <td>12</td>\n",
       "      <td>50</td>\n",
       "      <td>0.854651</td>\n",
       "      <td>0.150704</td>\n",
       "    </tr>\n",
       "    <tr>\n",
       "      <th>1</th>\n",
       "      <td>12</td>\n",
       "      <td>100</td>\n",
       "      <td>0.858654</td>\n",
       "      <td>0.154210</td>\n",
       "    </tr>\n",
       "    <tr>\n",
       "      <th>2</th>\n",
       "      <td>12</td>\n",
       "      <td>200</td>\n",
       "      <td>0.862557</td>\n",
       "      <td>0.157602</td>\n",
       "    </tr>\n",
       "    <tr>\n",
       "      <th>3</th>\n",
       "      <td>12</td>\n",
       "      <td>400</td>\n",
       "      <td>0.865143</td>\n",
       "      <td>0.155715</td>\n",
       "    </tr>\n",
       "    <tr>\n",
       "      <th>4</th>\n",
       "      <td>25</td>\n",
       "      <td>50</td>\n",
       "      <td>0.839156</td>\n",
       "      <td>0.139104</td>\n",
       "    </tr>\n",
       "    <tr>\n",
       "      <th>5</th>\n",
       "      <td>25</td>\n",
       "      <td>100</td>\n",
       "      <td>0.849667</td>\n",
       "      <td>0.147786</td>\n",
       "    </tr>\n",
       "    <tr>\n",
       "      <th>6</th>\n",
       "      <td>25</td>\n",
       "      <td>200</td>\n",
       "      <td>0.855274</td>\n",
       "      <td>0.146946</td>\n",
       "    </tr>\n",
       "    <tr>\n",
       "      <th>7</th>\n",
       "      <td>25</td>\n",
       "      <td>400</td>\n",
       "      <td>0.862168</td>\n",
       "      <td>0.148319</td>\n",
       "    </tr>\n",
       "    <tr>\n",
       "      <th>8</th>\n",
       "      <td>50</td>\n",
       "      <td>50</td>\n",
       "      <td>0.814015</td>\n",
       "      <td>0.119400</td>\n",
       "    </tr>\n",
       "    <tr>\n",
       "      <th>9</th>\n",
       "      <td>50</td>\n",
       "      <td>100</td>\n",
       "      <td>0.834636</td>\n",
       "      <td>0.129607</td>\n",
       "    </tr>\n",
       "    <tr>\n",
       "      <th>10</th>\n",
       "      <td>50</td>\n",
       "      <td>200</td>\n",
       "      <td>0.842767</td>\n",
       "      <td>0.134447</td>\n",
       "    </tr>\n",
       "    <tr>\n",
       "      <th>11</th>\n",
       "      <td>50</td>\n",
       "      <td>400</td>\n",
       "      <td>0.849668</td>\n",
       "      <td>0.140772</td>\n",
       "    </tr>\n",
       "    <tr>\n",
       "      <th>12</th>\n",
       "      <td>100</td>\n",
       "      <td>50</td>\n",
       "      <td>0.818637</td>\n",
       "      <td>0.121247</td>\n",
       "    </tr>\n",
       "    <tr>\n",
       "      <th>13</th>\n",
       "      <td>100</td>\n",
       "      <td>100</td>\n",
       "      <td>0.833402</td>\n",
       "      <td>0.127962</td>\n",
       "    </tr>\n",
       "    <tr>\n",
       "      <th>14</th>\n",
       "      <td>100</td>\n",
       "      <td>200</td>\n",
       "      <td>0.845897</td>\n",
       "      <td>0.134594</td>\n",
       "    </tr>\n",
       "    <tr>\n",
       "      <th>15</th>\n",
       "      <td>100</td>\n",
       "      <td>400</td>\n",
       "      <td>0.852901</td>\n",
       "      <td>0.142517</td>\n",
       "    </tr>\n",
       "  </tbody>\n",
       "</table>\n",
       "</div>"
      ],
      "text/plain": [
       "    max_depth  n_estimators       roc  avepscore\n",
       "0          12            50  0.854651   0.150704\n",
       "1          12           100  0.858654   0.154210\n",
       "2          12           200  0.862557   0.157602\n",
       "3          12           400  0.865143   0.155715\n",
       "4          25            50  0.839156   0.139104\n",
       "5          25           100  0.849667   0.147786\n",
       "6          25           200  0.855274   0.146946\n",
       "7          25           400  0.862168   0.148319\n",
       "8          50            50  0.814015   0.119400\n",
       "9          50           100  0.834636   0.129607\n",
       "10         50           200  0.842767   0.134447\n",
       "11         50           400  0.849668   0.140772\n",
       "12        100            50  0.818637   0.121247\n",
       "13        100           100  0.833402   0.127962\n",
       "14        100           200  0.845897   0.134594\n",
       "15        100           400  0.852901   0.142517"
      ]
     },
     "execution_count": 6,
     "metadata": {},
     "output_type": "execute_result"
    }
   ],
   "source": [
    "pd.DataFrame(tested_params)"
   ]
  },
  {
   "cell_type": "code",
   "execution_count": 7,
   "metadata": {},
   "outputs": [
    {
     "name": "stdout",
     "output_type": "stream",
     "text": [
      "training complete\n",
      "training complete\n",
      "training complete\n",
      "training complete\n",
      "training complete\n",
      "training complete\n",
      "training complete\n",
      "training complete\n",
      "training complete\n",
      "training complete\n",
      "training complete\n",
      "training complete\n",
      "training complete\n",
      "training complete\n",
      "training complete\n",
      "training complete\n"
     ]
    }
   ],
   "source": [
    "# repeat but without class weighing\n",
    "for md in max_depths:\n",
    "    for ne in n_estimatorss:\n",
    "        rf = RandomForestClassifier(random_state=2020, max_depth=md,\\\n",
    "                                   n_estimators=ne)\n",
    "        tested_params['max_depth'].append(md)\n",
    "        tested_params['n_estimators'].append(ne)\n",
    "        rf.fit(X_train, y_train)\n",
    "        print('training complete')\n",
    "        y_pred = rf.predict_proba(X_val)[:,1]\n",
    "        roc = roc_auc_score(y_val, y_pred)\n",
    "        avepscore =  average_precision_score(y_val, y_pred)\n",
    "        tested_params['roc'].append(roc)\n",
    "        tested_params['avepscore'].append(avepscore)"
   ]
  },
  {
   "cell_type": "code",
   "execution_count": 9,
   "metadata": {},
   "outputs": [
    {
     "data": {
      "text/html": [
       "<div>\n",
       "<style scoped>\n",
       "    .dataframe tbody tr th:only-of-type {\n",
       "        vertical-align: middle;\n",
       "    }\n",
       "\n",
       "    .dataframe tbody tr th {\n",
       "        vertical-align: top;\n",
       "    }\n",
       "\n",
       "    .dataframe thead th {\n",
       "        text-align: right;\n",
       "    }\n",
       "</style>\n",
       "<table border=\"1\" class=\"dataframe\">\n",
       "  <thead>\n",
       "    <tr style=\"text-align: right;\">\n",
       "      <th></th>\n",
       "      <th>max_depth</th>\n",
       "      <th>n_estimators</th>\n",
       "      <th>roc</th>\n",
       "      <th>avepscore</th>\n",
       "    </tr>\n",
       "  </thead>\n",
       "  <tbody>\n",
       "    <tr>\n",
       "      <th>0</th>\n",
       "      <td>12</td>\n",
       "      <td>50</td>\n",
       "      <td>0.854651</td>\n",
       "      <td>0.150704</td>\n",
       "    </tr>\n",
       "    <tr>\n",
       "      <th>1</th>\n",
       "      <td>12</td>\n",
       "      <td>100</td>\n",
       "      <td>0.858654</td>\n",
       "      <td>0.154210</td>\n",
       "    </tr>\n",
       "    <tr>\n",
       "      <th>2</th>\n",
       "      <td>12</td>\n",
       "      <td>200</td>\n",
       "      <td>0.862557</td>\n",
       "      <td>0.157602</td>\n",
       "    </tr>\n",
       "    <tr>\n",
       "      <th>3</th>\n",
       "      <td>12</td>\n",
       "      <td>400</td>\n",
       "      <td>0.865143</td>\n",
       "      <td>0.155715</td>\n",
       "    </tr>\n",
       "    <tr>\n",
       "      <th>4</th>\n",
       "      <td>25</td>\n",
       "      <td>50</td>\n",
       "      <td>0.839156</td>\n",
       "      <td>0.139104</td>\n",
       "    </tr>\n",
       "    <tr>\n",
       "      <th>5</th>\n",
       "      <td>25</td>\n",
       "      <td>100</td>\n",
       "      <td>0.849667</td>\n",
       "      <td>0.147786</td>\n",
       "    </tr>\n",
       "    <tr>\n",
       "      <th>6</th>\n",
       "      <td>25</td>\n",
       "      <td>200</td>\n",
       "      <td>0.855274</td>\n",
       "      <td>0.146946</td>\n",
       "    </tr>\n",
       "    <tr>\n",
       "      <th>7</th>\n",
       "      <td>25</td>\n",
       "      <td>400</td>\n",
       "      <td>0.862168</td>\n",
       "      <td>0.148319</td>\n",
       "    </tr>\n",
       "    <tr>\n",
       "      <th>8</th>\n",
       "      <td>50</td>\n",
       "      <td>50</td>\n",
       "      <td>0.814015</td>\n",
       "      <td>0.119400</td>\n",
       "    </tr>\n",
       "    <tr>\n",
       "      <th>9</th>\n",
       "      <td>50</td>\n",
       "      <td>100</td>\n",
       "      <td>0.834636</td>\n",
       "      <td>0.129607</td>\n",
       "    </tr>\n",
       "    <tr>\n",
       "      <th>10</th>\n",
       "      <td>50</td>\n",
       "      <td>200</td>\n",
       "      <td>0.842767</td>\n",
       "      <td>0.134447</td>\n",
       "    </tr>\n",
       "    <tr>\n",
       "      <th>11</th>\n",
       "      <td>50</td>\n",
       "      <td>400</td>\n",
       "      <td>0.849668</td>\n",
       "      <td>0.140772</td>\n",
       "    </tr>\n",
       "    <tr>\n",
       "      <th>12</th>\n",
       "      <td>100</td>\n",
       "      <td>50</td>\n",
       "      <td>0.818637</td>\n",
       "      <td>0.121247</td>\n",
       "    </tr>\n",
       "    <tr>\n",
       "      <th>13</th>\n",
       "      <td>100</td>\n",
       "      <td>100</td>\n",
       "      <td>0.833402</td>\n",
       "      <td>0.127962</td>\n",
       "    </tr>\n",
       "    <tr>\n",
       "      <th>14</th>\n",
       "      <td>100</td>\n",
       "      <td>200</td>\n",
       "      <td>0.845897</td>\n",
       "      <td>0.134594</td>\n",
       "    </tr>\n",
       "    <tr>\n",
       "      <th>15</th>\n",
       "      <td>100</td>\n",
       "      <td>400</td>\n",
       "      <td>0.852901</td>\n",
       "      <td>0.142517</td>\n",
       "    </tr>\n",
       "    <tr>\n",
       "      <th>16</th>\n",
       "      <td>12</td>\n",
       "      <td>50</td>\n",
       "      <td>0.869017</td>\n",
       "      <td>0.169240</td>\n",
       "    </tr>\n",
       "    <tr>\n",
       "      <th>17</th>\n",
       "      <td>12</td>\n",
       "      <td>100</td>\n",
       "      <td>0.869514</td>\n",
       "      <td>0.178428</td>\n",
       "    </tr>\n",
       "    <tr>\n",
       "      <th>18</th>\n",
       "      <td>12</td>\n",
       "      <td>200</td>\n",
       "      <td>0.871829</td>\n",
       "      <td>0.187202</td>\n",
       "    </tr>\n",
       "    <tr>\n",
       "      <th>19</th>\n",
       "      <td>12</td>\n",
       "      <td>400</td>\n",
       "      <td>0.872183</td>\n",
       "      <td>0.193217</td>\n",
       "    </tr>\n",
       "    <tr>\n",
       "      <th>20</th>\n",
       "      <td>25</td>\n",
       "      <td>50</td>\n",
       "      <td>0.846796</td>\n",
       "      <td>0.154400</td>\n",
       "    </tr>\n",
       "    <tr>\n",
       "      <th>21</th>\n",
       "      <td>25</td>\n",
       "      <td>100</td>\n",
       "      <td>0.852568</td>\n",
       "      <td>0.167017</td>\n",
       "    </tr>\n",
       "    <tr>\n",
       "      <th>22</th>\n",
       "      <td>25</td>\n",
       "      <td>200</td>\n",
       "      <td>0.860790</td>\n",
       "      <td>0.168227</td>\n",
       "    </tr>\n",
       "    <tr>\n",
       "      <th>23</th>\n",
       "      <td>25</td>\n",
       "      <td>400</td>\n",
       "      <td>0.863781</td>\n",
       "      <td>0.175088</td>\n",
       "    </tr>\n",
       "    <tr>\n",
       "      <th>24</th>\n",
       "      <td>50</td>\n",
       "      <td>50</td>\n",
       "      <td>0.832175</td>\n",
       "      <td>0.144084</td>\n",
       "    </tr>\n",
       "    <tr>\n",
       "      <th>25</th>\n",
       "      <td>50</td>\n",
       "      <td>100</td>\n",
       "      <td>0.847747</td>\n",
       "      <td>0.160106</td>\n",
       "    </tr>\n",
       "    <tr>\n",
       "      <th>26</th>\n",
       "      <td>50</td>\n",
       "      <td>200</td>\n",
       "      <td>0.854907</td>\n",
       "      <td>0.166151</td>\n",
       "    </tr>\n",
       "    <tr>\n",
       "      <th>27</th>\n",
       "      <td>50</td>\n",
       "      <td>400</td>\n",
       "      <td>0.857851</td>\n",
       "      <td>0.169432</td>\n",
       "    </tr>\n",
       "    <tr>\n",
       "      <th>28</th>\n",
       "      <td>100</td>\n",
       "      <td>50</td>\n",
       "      <td>0.829805</td>\n",
       "      <td>0.143479</td>\n",
       "    </tr>\n",
       "    <tr>\n",
       "      <th>29</th>\n",
       "      <td>100</td>\n",
       "      <td>100</td>\n",
       "      <td>0.846702</td>\n",
       "      <td>0.159558</td>\n",
       "    </tr>\n",
       "    <tr>\n",
       "      <th>30</th>\n",
       "      <td>100</td>\n",
       "      <td>200</td>\n",
       "      <td>0.854397</td>\n",
       "      <td>0.166541</td>\n",
       "    </tr>\n",
       "    <tr>\n",
       "      <th>31</th>\n",
       "      <td>100</td>\n",
       "      <td>400</td>\n",
       "      <td>0.857388</td>\n",
       "      <td>0.170111</td>\n",
       "    </tr>\n",
       "  </tbody>\n",
       "</table>\n",
       "</div>"
      ],
      "text/plain": [
       "    max_depth  n_estimators       roc  avepscore\n",
       "0          12            50  0.854651   0.150704\n",
       "1          12           100  0.858654   0.154210\n",
       "2          12           200  0.862557   0.157602\n",
       "3          12           400  0.865143   0.155715\n",
       "4          25            50  0.839156   0.139104\n",
       "5          25           100  0.849667   0.147786\n",
       "6          25           200  0.855274   0.146946\n",
       "7          25           400  0.862168   0.148319\n",
       "8          50            50  0.814015   0.119400\n",
       "9          50           100  0.834636   0.129607\n",
       "10         50           200  0.842767   0.134447\n",
       "11         50           400  0.849668   0.140772\n",
       "12        100            50  0.818637   0.121247\n",
       "13        100           100  0.833402   0.127962\n",
       "14        100           200  0.845897   0.134594\n",
       "15        100           400  0.852901   0.142517\n",
       "16         12            50  0.869017   0.169240\n",
       "17         12           100  0.869514   0.178428\n",
       "18         12           200  0.871829   0.187202\n",
       "19         12           400  0.872183   0.193217\n",
       "20         25            50  0.846796   0.154400\n",
       "21         25           100  0.852568   0.167017\n",
       "22         25           200  0.860790   0.168227\n",
       "23         25           400  0.863781   0.175088\n",
       "24         50            50  0.832175   0.144084\n",
       "25         50           100  0.847747   0.160106\n",
       "26         50           200  0.854907   0.166151\n",
       "27         50           400  0.857851   0.169432\n",
       "28        100            50  0.829805   0.143479\n",
       "29        100           100  0.846702   0.159558\n",
       "30        100           200  0.854397   0.166541\n",
       "31        100           400  0.857388   0.170111"
      ]
     },
     "execution_count": 9,
     "metadata": {},
     "output_type": "execute_result"
    }
   ],
   "source": [
    "param_df = pd.DataFrame(tested_params)\n",
    "param_df"
   ]
  },
  {
   "cell_type": "code",
   "execution_count": 12,
   "metadata": {},
   "outputs": [
    {
     "name": "stdout",
     "output_type": "stream",
     "text": [
      "[[10400     0]\n",
      " [  242     4]]\n",
      "              precision    recall  f1-score   support\n",
      "\n",
      "           0       0.98      1.00      0.99     10400\n",
      "           1       1.00      0.02      0.03       246\n",
      "\n",
      "    accuracy                           0.98     10646\n",
      "   macro avg       0.99      0.51      0.51     10646\n",
      "weighted avg       0.98      0.98      0.97     10646\n",
      "\n"
     ]
    },
    {
     "data": {
      "image/png": "[encoded data removed]",
      "text/plain": [
       "<Figure size 432x288 with 1 Axes>"
      ]
     },
     "metadata": {
      "needs_background": "light"
     },
     "output_type": "display_data"
    },
    {
     "data": {
      "image/png": "[encoded data removed]",
      "text/plain": [
       "<Figure size 432x288 with 1 Axes>"
      ]
     },
     "metadata": {
      "needs_background": "light"
     },
     "output_type": "display_data"
    }
   ],
   "source": [
    "from sklearn.metrics import classification_report\n",
    "from sklearn.metrics import confusion_matrix\n",
    "from sklearn.metrics import roc_curve\n",
    "from sklearn.metrics import precision_recall_curve\n",
    "\n",
    "# n_estimators=400, max_depth=12 and no class weighing gives the best result!\n",
    "\n",
    "rf = RandomForestClassifier(random_state=2020, max_depth=12,\\\n",
    "                                   n_estimators=400)\n",
    "\n",
    "#Combine train and val sets\n",
    "X_train_val = np.vstack((X_train, X_val))\n",
    "y_train_val = np.concatenate((y_train, y_val), axis=0)\n",
    "\n",
    "rf.fit(X_train_val, y_train_val)\n",
    "\n",
    "y_score = rf.predict(X_test)\n",
    "y_pred = rf.predict_proba(X_test)[:, 1]\n",
    "print(confusion_matrix(y_test, y_score))\n",
    "print(classification_report(y_test, y_score))\n",
    "fpr, tpr, auc_th = roc_curve(y_test, y_pred)\n",
    "precision, recall, pr_th = precision_recall_curve(y_test, y_pred)\n",
    "\n",
    "plt.plot(fpr, tpr)\n",
    "plt.xlabel('False positive rate')\n",
    "plt.ylabel('True positive rate')\n",
    "plt.title('ROC curve')\n",
    "plt.show()\n",
    "plt.plot(recall, precision)\n",
    "plt.xlabel('Recall')\n",
    "plt.ylabel('Precision')\n",
    "plt.title('Precision-recall curve')\n",
    "plt.show()"
   ]
  },
  {
   "cell_type": "code",
   "execution_count": 13,
   "metadata": {},
   "outputs": [
    {
     "data": {
      "text/plain": [
       "(array([   0,    1,    2, ..., 7423, 7424, 7425]),)"
      ]
     },
     "execution_count": 13,
     "metadata": {},
     "output_type": "execute_result"
    }
   ],
   "source": [
    "np.where(recall>0.5)"
   ]
  },
  {
   "cell_type": "code",
   "execution_count": 16,
   "metadata": {},
   "outputs": [
    {
     "data": {
      "text/plain": [
       "0.0946425886277932"
      ]
     },
     "execution_count": 16,
     "metadata": {},
     "output_type": "execute_result"
    }
   ],
   "source": [
    "pr_th[7425]"
   ]
  },
  {
   "cell_type": "code",
   "execution_count": 27,
   "metadata": {},
   "outputs": [
    {
     "data": {
      "text/plain": [
       "765"
      ]
     },
     "execution_count": 27,
     "metadata": {},
     "output_type": "execute_result"
    }
   ],
   "source": [
    "y_pred_0094 = y_pred>0.094\n",
    "y_pred_0094 = y_pred_0094.astype(int)\n",
    "y_pred_0094.sum()"
   ]
  },
  {
   "cell_type": "code",
   "execution_count": 30,
   "metadata": {},
   "outputs": [
    {
     "name": "stdout",
     "output_type": "stream",
     "text": [
      "[[9782  618]\n",
      " [ 123  123]]\n",
      "              precision    recall  f1-score   support\n",
      "\n",
      "           0       0.99      0.94      0.96     10400\n",
      "           1       0.17      0.50      0.25       246\n",
      "\n",
      "    accuracy                           0.93     10646\n",
      "   macro avg       0.58      0.72      0.61     10646\n",
      "weighted avg       0.97      0.93      0.95     10646\n",
      "\n"
     ]
    }
   ],
   "source": [
    "print(confusion_matrix(y_test, y_pred_0095))\n",
    "print(classification_report(y_test, y_pred_0095))"
   ]
  },
  {
   "cell_type": "code",
   "execution_count": 31,
   "metadata": {},
   "outputs": [
    {
     "data": {
      "text/html": [
       "<div>\n",
       "<style scoped>\n",
       "    .dataframe tbody tr th:only-of-type {\n",
       "        vertical-align: middle;\n",
       "    }\n",
       "\n",
       "    .dataframe tbody tr th {\n",
       "        vertical-align: top;\n",
       "    }\n",
       "\n",
       "    .dataframe thead th {\n",
       "        text-align: right;\n",
       "    }\n",
       "</style>\n",
       "<table border=\"1\" class=\"dataframe\">\n",
       "  <thead>\n",
       "    <tr style=\"text-align: right;\">\n",
       "      <th></th>\n",
       "      <th>feature</th>\n",
       "      <th>importance</th>\n",
       "    </tr>\n",
       "  </thead>\n",
       "  <tbody>\n",
       "    <tr>\n",
       "      <th>35</th>\n",
       "      <td>max_result_creatinine</td>\n",
       "      <td>0.064910</td>\n",
       "    </tr>\n",
       "    <tr>\n",
       "      <th>50</th>\n",
       "      <td>delta_result_creatinine</td>\n",
       "      <td>0.042096</td>\n",
       "    </tr>\n",
       "    <tr>\n",
       "      <th>20</th>\n",
       "      <td>min_result_creatinine</td>\n",
       "      <td>0.040992</td>\n",
       "    </tr>\n",
       "    <tr>\n",
       "      <th>25</th>\n",
       "      <td>max_result_BUN</td>\n",
       "      <td>0.032760</td>\n",
       "    </tr>\n",
       "    <tr>\n",
       "      <th>40</th>\n",
       "      <td>delta_result_BUN</td>\n",
       "      <td>0.028524</td>\n",
       "    </tr>\n",
       "    <tr>\n",
       "      <th>...</th>\n",
       "      <td>...</td>\n",
       "      <td>...</td>\n",
       "    </tr>\n",
       "    <tr>\n",
       "      <th>76</th>\n",
       "      <td>organ_system_Metabolic/Endocrine</td>\n",
       "      <td>0.000759</td>\n",
       "    </tr>\n",
       "    <tr>\n",
       "      <th>62</th>\n",
       "      <td>ethnicity_Native American</td>\n",
       "      <td>0.000753</td>\n",
       "    </tr>\n",
       "    <tr>\n",
       "      <th>80</th>\n",
       "      <td>organ_system_Transplant</td>\n",
       "      <td>0.000531</td>\n",
       "    </tr>\n",
       "    <tr>\n",
       "      <th>74</th>\n",
       "      <td>organ_system_Genitourinary</td>\n",
       "      <td>0.000514</td>\n",
       "    </tr>\n",
       "    <tr>\n",
       "      <th>75</th>\n",
       "      <td>organ_system_Hematology</td>\n",
       "      <td>0.000274</td>\n",
       "    </tr>\n",
       "  </tbody>\n",
       "</table>\n",
       "<p>84 rows × 2 columns</p>\n",
       "</div>"
      ],
      "text/plain": [
       "                             feature  importance\n",
       "35             max_result_creatinine    0.064910\n",
       "50           delta_result_creatinine    0.042096\n",
       "20             min_result_creatinine    0.040992\n",
       "25                    max_result_BUN    0.032760\n",
       "40                  delta_result_BUN    0.028524\n",
       "..                               ...         ...\n",
       "76  organ_system_Metabolic/Endocrine    0.000759\n",
       "62         ethnicity_Native American    0.000753\n",
       "80           organ_system_Transplant    0.000531\n",
       "74        organ_system_Genitourinary    0.000514\n",
       "75           organ_system_Hematology    0.000274\n",
       "\n",
       "[84 rows x 2 columns]"
      ]
     },
     "execution_count": 31,
     "metadata": {},
     "output_type": "execute_result"
    }
   ],
   "source": [
    "feat_imp = pd.DataFrame({'feature': train_df.drop(columns=['patientunitstayid', 'aki_label']).columns , 'importance': rf.feature_importances_})\n",
    "feat_imp.sort_values(by='importance', ascending=False, inplace=True)\n",
    "feat_imp"
   ]
  },
  {
   "cell_type": "code",
   "execution_count": 34,
   "metadata": {},
   "outputs": [
    {
     "data": {
      "text/plain": [
       "Text(0.5, 1.0, 'Feature importance')"
      ]
     },
     "execution_count": 34,
     "metadata": {},
     "output_type": "execute_result"
    },
    {
     "data": {
      "image/png": "[encoded data removed]",
      "text/plain": [
       "<Figure size 432x288 with 1 Axes>"
      ]
     },
     "metadata": {
      "needs_background": "light"
     },
     "output_type": "display_data"
    }
   ],
   "source": [
    "feat_imp[:10].sort_values(by='importance', ascending=True).plot.barh(y='importance', x='feature')\n",
    "plt.title('Feature importance')"
   ]
  },
  {
   "cell_type": "code",
   "execution_count": 48,
   "metadata": {},
   "outputs": [
    {
     "ename": "IndexError",
     "evalue": "invalid index to scalar variable.",
     "output_type": "error",
     "traceback": [
      "\u001b[0;31m---------------------------------------------------------------------------\u001b[0m",
      "\u001b[0;31mIndexError\u001b[0m                                Traceback (most recent call last)",
      "\u001b[0;32m<ipython-input-48-76006ee23fe6>\u001b[0m in \u001b[0;36m<module>\u001b[0;34m\u001b[0m\n\u001b[1;32m     16\u001b[0m \u001b[0;34m\u001b[0m\u001b[0m\n\u001b[1;32m     17\u001b[0m \u001b[0;31m# visualize the first prediction's explanation (use matplotlib=True to avoid Javascript)\u001b[0m\u001b[0;34m\u001b[0m\u001b[0;34m\u001b[0m\u001b[0;34m\u001b[0m\u001b[0m\n\u001b[0;32m---> 18\u001b[0;31m \u001b[0mshap\u001b[0m\u001b[0;34m.\u001b[0m\u001b[0mforce_plot\u001b[0m\u001b[0;34m(\u001b[0m\u001b[0mexplainer\u001b[0m\u001b[0;34m.\u001b[0m\u001b[0mexpected_value\u001b[0m\u001b[0;34m[\u001b[0m\u001b[0;36m1\u001b[0m\u001b[0;34m]\u001b[0m\u001b[0;34m[\u001b[0m\u001b[0;36m0\u001b[0m\u001b[0;34m]\u001b[0m\u001b[0;34m,\u001b[0m \u001b[0mshap_values\u001b[0m\u001b[0;34m[\u001b[0m\u001b[0;36m1\u001b[0m\u001b[0;34m]\u001b[0m\u001b[0;34m[\u001b[0m\u001b[0;36m0\u001b[0m\u001b[0;34m]\u001b[0m\u001b[0;34m)\u001b[0m\u001b[0;34m\u001b[0m\u001b[0;34m\u001b[0m\u001b[0m\n\u001b[0m",
      "\u001b[0;31mIndexError\u001b[0m: invalid index to scalar variable."
     ]
    }
   ],
   "source": [
    "\"\"\"\n",
    "import shap\n",
    "\n",
    "# load JS visualization code to notebook\n",
    "shap.initjs()\n",
    "\n",
    "# train XGBoost model\n",
    "#X,y = shap.datasets.boston()\n",
    "#model = xgboost.train({\"learning_rate\": 0.01}, xgboost.DMatrix(X, label=y), 100)\n",
    "\n",
    "# explain the model's predictions using SHAP\n",
    "# (same syntax works for LightGBM, CatBoost, scikit-learn and spark models)\n",
    "explainer = shap.TreeExplainer(rf)\n",
    "shap_values = explainer.shap_values(X_test)\n",
    "\"\"\"\n",
    "\n",
    "# visualize the first prediction's explanation (use matplotlib=True to avoid Javascript)\n",
    "shap.force_plot(explainer.expected_value[1][0], shap_values[1][0])"
   ]
  },
  {
   "cell_type": "code",
   "execution_count": 44,
   "metadata": {},
   "outputs": [
    {
     "ename": "Exception",
     "evalue": "In v0.20 force_plot now requires the base value as the first parameter! Try shap.force_plot(explainer.expected_value, shap_values) or for multi-output models try shap.force_plot(explainer.expected_value[0], shap_values[0]).",
     "output_type": "error",
     "traceback": [
      "\u001b[0;31m---------------------------------------------------------------------------\u001b[0m",
      "\u001b[0;31mException\u001b[0m                                 Traceback (most recent call last)",
      "\u001b[0;32m<ipython-input-44-e11463965f49>\u001b[0m in \u001b[0;36m<module>\u001b[0;34m\u001b[0m\n\u001b[1;32m      1\u001b[0m \u001b[0;31m# visualize the training set predictions\u001b[0m\u001b[0;34m\u001b[0m\u001b[0;34m\u001b[0m\u001b[0;34m\u001b[0m\u001b[0m\n\u001b[0;32m----> 2\u001b[0;31m \u001b[0mshap\u001b[0m\u001b[0;34m.\u001b[0m\u001b[0mforce_plot\u001b[0m\u001b[0;34m(\u001b[0m\u001b[0mexplainer\u001b[0m\u001b[0;34m.\u001b[0m\u001b[0mexpected_value\u001b[0m\u001b[0;34m,\u001b[0m \u001b[0mshap_values\u001b[0m\u001b[0;34m[\u001b[0m\u001b[0;36m1\u001b[0m\u001b[0;34m]\u001b[0m\u001b[0;34m,\u001b[0m \u001b[0mX_train_val\u001b[0m\u001b[0;34m)\u001b[0m\u001b[0;34m\u001b[0m\u001b[0;34m\u001b[0m\u001b[0m\n\u001b[0m",
      "\u001b[0;32m~/anaconda3/envs/predict_dialisys_need/lib/python3.8/site-packages/shap/plots/force.py\u001b[0m in \u001b[0;36mforce_plot\u001b[0;34m(base_value, shap_values, features, feature_names, out_names, link, plot_cmap, matplotlib, show, figsize, ordering_keys, ordering_keys_time_format, text_rotation)\u001b[0m\n\u001b[1;32m     70\u001b[0m     \u001b[0;32mif\u001b[0m \u001b[0;34m(\u001b[0m\u001b[0mtype\u001b[0m\u001b[0;34m(\u001b[0m\u001b[0mbase_value\u001b[0m\u001b[0;34m)\u001b[0m \u001b[0;34m==\u001b[0m \u001b[0mnp\u001b[0m\u001b[0;34m.\u001b[0m\u001b[0mndarray\u001b[0m \u001b[0;32mor\u001b[0m \u001b[0mtype\u001b[0m\u001b[0;34m(\u001b[0m\u001b[0mbase_value\u001b[0m\u001b[0;34m)\u001b[0m \u001b[0;34m==\u001b[0m \u001b[0mlist\u001b[0m\u001b[0;34m)\u001b[0m\u001b[0;34m:\u001b[0m\u001b[0;34m\u001b[0m\u001b[0;34m\u001b[0m\u001b[0m\n\u001b[1;32m     71\u001b[0m         \u001b[0;32mif\u001b[0m \u001b[0mtype\u001b[0m\u001b[0;34m(\u001b[0m\u001b[0mshap_values\u001b[0m\u001b[0;34m)\u001b[0m \u001b[0;34m!=\u001b[0m \u001b[0mlist\u001b[0m \u001b[0;32mor\u001b[0m \u001b[0mlen\u001b[0m\u001b[0;34m(\u001b[0m\u001b[0mshap_values\u001b[0m\u001b[0;34m)\u001b[0m \u001b[0;34m!=\u001b[0m \u001b[0mlen\u001b[0m\u001b[0;34m(\u001b[0m\u001b[0mbase_value\u001b[0m\u001b[0;34m)\u001b[0m\u001b[0;34m:\u001b[0m\u001b[0;34m\u001b[0m\u001b[0;34m\u001b[0m\u001b[0m\n\u001b[0;32m---> 72\u001b[0;31m             raise Exception(\"In v0.20 force_plot now requires the base value as the first parameter! \" \\\n\u001b[0m\u001b[1;32m     73\u001b[0m                             \u001b[0;34m\"Try shap.force_plot(explainer.expected_value, shap_values) or \"\u001b[0m\u001b[0;31m \u001b[0m\u001b[0;31m\\\u001b[0m\u001b[0;34m\u001b[0m\u001b[0;34m\u001b[0m\u001b[0m\n\u001b[1;32m     74\u001b[0m                             \u001b[0;34m\"for multi-output models try \"\u001b[0m\u001b[0;31m \u001b[0m\u001b[0;31m\\\u001b[0m\u001b[0;34m\u001b[0m\u001b[0;34m\u001b[0m\u001b[0m\n",
      "\u001b[0;31mException\u001b[0m: In v0.20 force_plot now requires the base value as the first parameter! Try shap.force_plot(explainer.expected_value, shap_values) or for multi-output models try shap.force_plot(explainer.expected_value[0], shap_values[0])."
     ]
    }
   ],
   "source": [
    "# visualize the training set predictions\n",
    "shap.force_plot(explainer.expected_value, shap_values[1], X_train_val)"
   ]
  },
  {
   "cell_type": "code",
   "execution_count": 51,
   "metadata": {
    "scrolled": true
   },
   "outputs": [
    {
     "name": "stderr",
     "output_type": "stream",
     "text": [
      "Setting feature_perturbation = \"tree_path_dependent\" because no background data was given.\n"
     ]
    },
    {
     "ename": "SHAPError",
     "evalue": "Additivity check failed in TreeExplainer! Please ensure the data matrix you passed to the explainer is the same shape that the model was trained on. If your data shape is correct then please report this on GitHub. Consider retrying with the feature_perturbation='interventional' option. This check failed because for one of the samples the sum of the SHAP values was 0.014290, while the model output was -3105036184601417870297958976925005110513772034233393222278104076052101905372753772661756817657292955900975461394262146412343160088229628782888574550082362278408909952041699811100530571263196889650525998387432937501785693707632115712.000000. If this difference is acceptable you can set check_additivity=False to disable this check.",
     "output_type": "error",
     "traceback": [
      "\u001b[0;31m---------------------------------------------------------------------------\u001b[0m",
      "\u001b[0;31mSHAPError\u001b[0m                                 Traceback (most recent call last)",
      "\u001b[0;32m<ipython-input-51-06aaf1b61918>\u001b[0m in \u001b[0;36m<module>\u001b[0;34m\u001b[0m\n\u001b[0;32m----> 1\u001b[0;31m \u001b[0mshap_values\u001b[0m \u001b[0;34m=\u001b[0m \u001b[0mshap\u001b[0m\u001b[0;34m.\u001b[0m\u001b[0mTreeExplainer\u001b[0m\u001b[0;34m(\u001b[0m\u001b[0mrf\u001b[0m\u001b[0;34m)\u001b[0m\u001b[0;34m.\u001b[0m\u001b[0mshap_values\u001b[0m\u001b[0;34m(\u001b[0m\u001b[0mX_train_val\u001b[0m\u001b[0;34m)\u001b[0m\u001b[0;34m\u001b[0m\u001b[0;34m\u001b[0m\u001b[0m\n\u001b[0m\u001b[1;32m      2\u001b[0m \u001b[0mshap\u001b[0m\u001b[0;34m.\u001b[0m\u001b[0msummary_plot\u001b[0m\u001b[0;34m(\u001b[0m\u001b[0mshap_values\u001b[0m\u001b[0;34m,\u001b[0m \u001b[0mX_train_val\u001b[0m\u001b[0;34m,\u001b[0m \u001b[0mplot_type\u001b[0m\u001b[0;34m=\u001b[0m\u001b[0;34m\"bar\"\u001b[0m\u001b[0;34m)\u001b[0m\u001b[0;34m\u001b[0m\u001b[0;34m\u001b[0m\u001b[0m\n",
      "\u001b[0;32m~/anaconda3/envs/predict_dialisys_need/lib/python3.8/site-packages/shap/explainers/tree.py\u001b[0m in \u001b[0;36mshap_values\u001b[0;34m(self, X, y, tree_limit, approximate, check_additivity)\u001b[0m\n\u001b[1;32m    342\u001b[0m \u001b[0;34m\u001b[0m\u001b[0m\n\u001b[1;32m    343\u001b[0m         \u001b[0;32mif\u001b[0m \u001b[0mcheck_additivity\u001b[0m \u001b[0;32mand\u001b[0m \u001b[0mself\u001b[0m\u001b[0;34m.\u001b[0m\u001b[0mmodel\u001b[0m\u001b[0;34m.\u001b[0m\u001b[0mmodel_output\u001b[0m \u001b[0;34m==\u001b[0m \u001b[0;34m\"raw\"\u001b[0m\u001b[0;34m:\u001b[0m\u001b[0;34m\u001b[0m\u001b[0;34m\u001b[0m\u001b[0m\n\u001b[0;32m--> 344\u001b[0;31m             \u001b[0mself\u001b[0m\u001b[0;34m.\u001b[0m\u001b[0massert_additivity\u001b[0m\u001b[0;34m(\u001b[0m\u001b[0mout\u001b[0m\u001b[0;34m,\u001b[0m \u001b[0mself\u001b[0m\u001b[0;34m.\u001b[0m\u001b[0mmodel\u001b[0m\u001b[0;34m.\u001b[0m\u001b[0mpredict\u001b[0m\u001b[0;34m(\u001b[0m\u001b[0mX\u001b[0m\u001b[0;34m)\u001b[0m\u001b[0;34m)\u001b[0m\u001b[0;34m\u001b[0m\u001b[0;34m\u001b[0m\u001b[0m\n\u001b[0m\u001b[1;32m    345\u001b[0m \u001b[0;34m\u001b[0m\u001b[0m\n\u001b[1;32m    346\u001b[0m         \u001b[0;31m# if our output format requires binary classificaiton to be represented as two outputs then we do that here\u001b[0m\u001b[0;34m\u001b[0m\u001b[0;34m\u001b[0m\u001b[0;34m\u001b[0m\u001b[0m\n",
      "\u001b[0;32m~/anaconda3/envs/predict_dialisys_need/lib/python3.8/site-packages/shap/explainers/tree.py\u001b[0m in \u001b[0;36massert_additivity\u001b[0;34m(self, phi, model_output)\u001b[0m\n\u001b[1;32m    465\u001b[0m         \u001b[0;32mif\u001b[0m \u001b[0mtype\u001b[0m\u001b[0;34m(\u001b[0m\u001b[0mphi\u001b[0m\u001b[0;34m)\u001b[0m \u001b[0;32mis\u001b[0m \u001b[0mlist\u001b[0m\u001b[0;34m:\u001b[0m\u001b[0;34m\u001b[0m\u001b[0;34m\u001b[0m\u001b[0m\n\u001b[1;32m    466\u001b[0m             \u001b[0;32mfor\u001b[0m \u001b[0mi\u001b[0m \u001b[0;32min\u001b[0m \u001b[0mrange\u001b[0m\u001b[0;34m(\u001b[0m\u001b[0mlen\u001b[0m\u001b[0;34m(\u001b[0m\u001b[0mphi\u001b[0m\u001b[0;34m)\u001b[0m\u001b[0;34m)\u001b[0m\u001b[0;34m:\u001b[0m\u001b[0;34m\u001b[0m\u001b[0;34m\u001b[0m\u001b[0m\n\u001b[0;32m--> 467\u001b[0;31m                 \u001b[0mcheck_sum\u001b[0m\u001b[0;34m(\u001b[0m\u001b[0mself\u001b[0m\u001b[0;34m.\u001b[0m\u001b[0mexpected_value\u001b[0m\u001b[0;34m[\u001b[0m\u001b[0mi\u001b[0m\u001b[0;34m]\u001b[0m \u001b[0;34m+\u001b[0m \u001b[0mphi\u001b[0m\u001b[0;34m[\u001b[0m\u001b[0mi\u001b[0m\u001b[0;34m]\u001b[0m\u001b[0;34m.\u001b[0m\u001b[0msum\u001b[0m\u001b[0;34m(\u001b[0m\u001b[0;34m-\u001b[0m\u001b[0;36m1\u001b[0m\u001b[0;34m)\u001b[0m\u001b[0;34m,\u001b[0m \u001b[0mmodel_output\u001b[0m\u001b[0;34m[\u001b[0m\u001b[0;34m:\u001b[0m\u001b[0;34m,\u001b[0m\u001b[0mi\u001b[0m\u001b[0;34m]\u001b[0m\u001b[0;34m)\u001b[0m\u001b[0;34m\u001b[0m\u001b[0;34m\u001b[0m\u001b[0m\n\u001b[0m\u001b[1;32m    468\u001b[0m         \u001b[0;32melse\u001b[0m\u001b[0;34m:\u001b[0m\u001b[0;34m\u001b[0m\u001b[0;34m\u001b[0m\u001b[0m\n\u001b[1;32m    469\u001b[0m             \u001b[0mcheck_sum\u001b[0m\u001b[0;34m(\u001b[0m\u001b[0mself\u001b[0m\u001b[0;34m.\u001b[0m\u001b[0mexpected_value\u001b[0m \u001b[0;34m+\u001b[0m \u001b[0mphi\u001b[0m\u001b[0;34m.\u001b[0m\u001b[0msum\u001b[0m\u001b[0;34m(\u001b[0m\u001b[0;34m-\u001b[0m\u001b[0;36m1\u001b[0m\u001b[0;34m)\u001b[0m\u001b[0;34m,\u001b[0m \u001b[0mmodel_output\u001b[0m\u001b[0;34m)\u001b[0m\u001b[0;34m\u001b[0m\u001b[0;34m\u001b[0m\u001b[0m\n",
      "\u001b[0;32m~/anaconda3/envs/predict_dialisys_need/lib/python3.8/site-packages/shap/explainers/tree.py\u001b[0m in \u001b[0;36mcheck_sum\u001b[0;34m(sum_val, model_output)\u001b[0m\n\u001b[1;32m    461\u001b[0m                            \u001b[0;34m\" was %f, while the model output was %f. If this difference is acceptable\"\u001b[0m\u001b[0;31m \u001b[0m\u001b[0;31m\\\u001b[0m\u001b[0;34m\u001b[0m\u001b[0;34m\u001b[0m\u001b[0m\n\u001b[1;32m    462\u001b[0m                            \u001b[0;34m\" you can set check_additivity=False to disable this check.\"\u001b[0m \u001b[0;34m%\u001b[0m \u001b[0;34m(\u001b[0m\u001b[0msum_val\u001b[0m\u001b[0;34m[\u001b[0m\u001b[0mind\u001b[0m\u001b[0;34m]\u001b[0m\u001b[0;34m,\u001b[0m \u001b[0mmodel_output\u001b[0m\u001b[0;34m[\u001b[0m\u001b[0mind\u001b[0m\u001b[0;34m]\u001b[0m\u001b[0;34m)\u001b[0m\u001b[0;34m\u001b[0m\u001b[0;34m\u001b[0m\u001b[0m\n\u001b[0;32m--> 463\u001b[0;31m                 \u001b[0;32mraise\u001b[0m \u001b[0mSHAPError\u001b[0m\u001b[0;34m(\u001b[0m\u001b[0merr_msg\u001b[0m\u001b[0;34m)\u001b[0m\u001b[0;34m\u001b[0m\u001b[0;34m\u001b[0m\u001b[0m\n\u001b[0m\u001b[1;32m    464\u001b[0m \u001b[0;34m\u001b[0m\u001b[0m\n\u001b[1;32m    465\u001b[0m         \u001b[0;32mif\u001b[0m \u001b[0mtype\u001b[0m\u001b[0;34m(\u001b[0m\u001b[0mphi\u001b[0m\u001b[0;34m)\u001b[0m \u001b[0;32mis\u001b[0m \u001b[0mlist\u001b[0m\u001b[0;34m:\u001b[0m\u001b[0;34m\u001b[0m\u001b[0;34m\u001b[0m\u001b[0m\n",
      "\u001b[0;31mSHAPError\u001b[0m: Additivity check failed in TreeExplainer! Please ensure the data matrix you passed to the explainer is the same shape that the model was trained on. If your data shape is correct then please report this on GitHub. Consider retrying with the feature_perturbation='interventional' option. This check failed because for one of the samples the sum of the SHAP values was 0.014290, while the model output was -3105036184601417870297958976925005110513772034233393222278104076052101905372753772661756817657292955900975461394262146412343160088229628782888574550082362278408909952041699811100530571263196889650525998387432937501785693707632115712.000000. If this difference is acceptable you can set check_additivity=False to disable this check."
     ]
    }
   ],
   "source": [
    "shap_values = shap.TreeExplainer(rf).shap_values(X_train_val)\n",
    "shap.summary_plot(shap_values, X_train_val, plot_type=\"bar\")"
   ]
  },
  {
   "cell_type": "code",
   "execution_count": 50,
   "metadata": {},
   "outputs": [
    {
     "data": {
      "text/plain": [
       "array([ 6.67591141e-04, -9.51177011e-05, -6.48034783e-05, -5.13933713e-05,\n",
       "       -2.32762958e-04, -2.09712859e-04, -2.14447824e-04, -3.95095440e-04,\n",
       "        2.92264098e-05, -3.79047276e-04, -1.37582794e-03, -2.25565425e-05,\n",
       "        1.70164944e-04, -1.59481404e-04, -1.23016180e-05, -2.72465910e-05,\n",
       "       -1.66276509e-04, -7.83742094e-04, -7.16174298e-04, -1.24815074e-04,\n",
       "       -3.49901712e-03, -1.66903913e-04, -2.63900906e-04,  1.61668095e-05,\n",
       "       -1.47290032e-04, -1.04670901e-03,  2.78409867e-05,  3.01452075e-05,\n",
       "       -1.18672778e-04,  7.45304871e-05, -1.66511216e-05, -2.15658046e-04,\n",
       "       -2.57956079e-04, -3.54491452e-04, -1.54386401e-04, -5.83386648e-03,\n",
       "        2.12424805e-05, -9.29801600e-05, -3.77947306e-04, -1.77807618e-04,\n",
       "       -1.66453695e-05, -2.41383837e-04, -7.82124926e-05, -7.08258718e-05,\n",
       "       -1.10777471e-04, -2.24829339e-04, -2.04740858e-04, -1.54601992e-04,\n",
       "       -2.64074916e-04, -1.88037317e-05, -2.41127407e-03, -2.54314743e-04,\n",
       "       -2.15812222e-04, -1.89583381e-04,  2.48192484e-05, -1.10076328e-03,\n",
       "       -1.46268531e-05, -1.08084341e-05, -4.62609344e-07, -6.03925607e-06,\n",
       "       -3.47137586e-06, -4.52893551e-05, -7.36357627e-06, -6.56408865e-06,\n",
       "       -8.15733195e-06, -2.57389899e-05, -9.09568942e-06, -2.16823231e-05,\n",
       "       -5.64453784e-06,  7.06538967e-06, -3.68048094e-06, -4.43900097e-06,\n",
       "        1.10134923e-04, -5.50561628e-06, -3.38153202e-06, -9.50642876e-07,\n",
       "        2.46829302e-06, -8.22168835e-06, -5.76329321e-06, -7.50471048e-07,\n",
       "       -3.03443917e-06, -6.38195316e-06, -2.47077170e-05, -2.78110332e-05])"
      ]
     },
     "execution_count": 50,
     "metadata": {},
     "output_type": "execute_result"
    }
   ],
   "source": [
    "shap_values[1][0]"
   ]
  },
  {
   "cell_type": "code",
   "execution_count": 81,
   "metadata": {},
   "outputs": [
    {
     "data": {
      "text/plain": [
       "Text(0.5, 1.0, 'Min and max creatinine levels for both classes')"
      ]
     },
     "execution_count": 81,
     "metadata": {},
     "output_type": "execute_result"
    },
    {
     "data": {
      "image/png": "[encoded data removed]",
      "text/plain": [
       "<Figure size 432x288 with 1 Axes>"
      ]
     },
     "metadata": {
      "needs_background": "light"
     },
     "output_type": "display_data"
    }
   ],
   "source": [
    "import seaborn as sns\n",
    "train_df.loc[train_df['aki_label']==0, 'kidney injury' ]= 'No'\n",
    "train_df.loc[train_df['aki_label']==1, 'kidney injury' ]= 'Yes'\n",
    "\n",
    "sns.scatterplot(x='min_result_creatinine', y='max_result_creatinine', hue='kidney injury', data=train_df)\n",
    "plt.xlabel('Min creatinine mg/dL')\n",
    "plt.ylabel('Max creatinine mg/dL')\n",
    "plt.title('Min and max creatinine levels for both classes')"
   ]
  },
  {
   "cell_type": "code",
   "execution_count": 80,
   "metadata": {},
   "outputs": [
    {
     "data": {
      "text/plain": [
       "Text(0.5, 1.0, 'Max lab measurements for BUN and WBC for both classes')"
      ]
     },
     "execution_count": 80,
     "metadata": {},
     "output_type": "execute_result"
    },
    {
     "data": {
      "image/png": "[encoded data removed]",
      "text/plain": [
       "<Figure size 432x288 with 1 Axes>"
      ]
     },
     "metadata": {
      "needs_background": "light"
     },
     "output_type": "display_data"
    }
   ],
   "source": [
    "import seaborn as sns\n",
    "\n",
    "sns.scatterplot(x='max_result_BUN', y='max_result_WBC x 1000', hue='kidney injury', data=train_df)\n",
    "plt.xlabel('Max Blood Urea Nitrogen mg/dL')\n",
    "plt.ylabel('Max White Blood Cells K/mcL')\n",
    "plt.title('Max lab measurements for BUN and WBC for both classes')"
   ]
  },
  {
   "cell_type": "code",
   "execution_count": null,
   "metadata": {},
   "outputs": [],
   "source": []
  }
 ],
 "metadata": {
  "kernelspec": {
   "display_name": "Python 3",
   "language": "python",
   "name": "python3"
  },
  "language_info": {
   "codemirror_mode": {
    "name": "ipython",
    "version": 3
   },
   "file_extension": ".py",
   "mimetype": "text/x-python",
   "name": "python",
   "nbconvert_exporter": "python",
   "pygments_lexer": "ipython3",
   "version": "3.8.3"
  }
 },
 "nbformat": 4,
 "nbformat_minor": 4
}
