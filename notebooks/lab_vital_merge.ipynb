{
 "cells": [
  {
   "cell_type": "markdown",
   "metadata": {},
   "source": [
    "# Purpose\n",
    "* gather appropriate negative class dataset for aki admission\n",
    "* 1 day - 5 day data saved in diffrent files\n",
    "    * Correction: negative class will be collected from 2 to 5 days\n",
    "* the goal is to merge the lab and vital datasets without duplicating patients\n",
    "* Note, the intake output data is incomplete, I would loose half of the positive class if I include it, so the intake and output will not go into the dataset\n",
    "* however, when looking through the negative intake output data, I noticed that some 3856 patient records had dialysis (multiple rows per patient). These must be false positives or perhaps their kidney condition or kidney failure diagnosis was not entered.\n",
    "* for now filter those patients out of the negative class. Next will do some digging to see what is the reason for dialysis patients in the negative class."
   ]
  },
  {
   "cell_type": "code",
   "execution_count": 24,
   "metadata": {},
   "outputs": [
    {
     "name": "stdout",
     "output_type": "stream",
     "text": [
      "359801\n",
      "15383\n"
     ]
    }
   ],
   "source": [
    "import pandas as pd\n",
    "lab_5days = pd.read_csv('../data/intermediate/negative_lab_summary_5days.csv', header=None)\n",
    "vital_5days = pd.read_csv('../data/intermediate/vitalperiodic_5days.csv', header=None)\n",
    "print(len(lab_5days))\n",
    "print(len(vital_5days))"
   ]
  },
  {
   "cell_type": "code",
   "execution_count": 25,
   "metadata": {},
   "outputs": [
    {
     "name": "stdout",
     "output_type": "stream",
     "text": [
      "15466\n",
      "15383\n",
      "15345\n"
     ]
    }
   ],
   "source": [
    "import sys, os\n",
    "sys.path.insert(0, os.path.abspath('../src/'))\n",
    "import cleaning_funcs\n",
    "import importlib\n",
    "importlib.reload(cleaning_funcs)\n",
    "# process dataframes, name columns, merge and filter\n",
    "lab_5days = cleaning_funcs.lab_process(lab_5days) \n",
    "vital_5days = cleaning_funcs.vital_process(vital_5days, 5)\n",
    "print(len(lab_5days))\n",
    "print(len(vital_5days))\n",
    "combined_5days, index_5days = cleaning_funcs.merge_filter(lab_5days, vital_5days)\n",
    "print(len(combined_5days))"
   ]
  },
  {
   "cell_type": "code",
   "execution_count": 28,
   "metadata": {},
   "outputs": [
    {
     "name": "stdout",
     "output_type": "stream",
     "text": [
      "6003\n",
      "5886\n",
      "5824\n"
     ]
    }
   ],
   "source": [
    "importlib.reload(cleaning_funcs)\n",
    "lab_4days = pd.read_csv('../data/intermediate/negative_lab_summary_4days.csv', header=None)\n",
    "vital_4days = pd.read_csv('../data/intermediate/vitalperiodic_4days.csv', header=None)\n",
    "lab_4days = cleaning_funcs.lab_process(lab_4days) \n",
    "vital_4days = cleaning_funcs.vital_process(vital_4days, 4)\n",
    "print(len(lab_4days))\n",
    "print(len(vital_4days))\n",
    "\n",
    "# exclude patients already in 5 day list\n",
    "lab_4days, vital_4days = cleaning_funcs.filter_nextday_patients(lab_4days, \\\n",
    "                                                                             vital_4days,\\\n",
    "                                                                             index_5days)\n",
    "combined_4days, index_4days = cleaning_funcs.merge_filter(lab_4days, vital_4days)\n",
    "# add indices\n",
    "index_4days = index_4days+index_5days\n",
    "print(len(combined_4days))"
   ]
  },
  {
   "cell_type": "code",
   "execution_count": 29,
   "metadata": {},
   "outputs": [
    {
     "name": "stdout",
     "output_type": "stream",
     "text": [
      "31352\n",
      "31187\n",
      "9932\n"
     ]
    }
   ],
   "source": [
    "lab_3days = pd.read_csv('../data/intermediate/negative_lab_summary_3days.csv', header=None)\n",
    "vital_3days = pd.read_csv('../data/intermediate/vitalperiodic_3days.csv', header=None)\n",
    "lab_3days = cleaning_funcs.lab_process(lab_3days) \n",
    "vital_3days = cleaning_funcs.vital_process(vital_3days, 3)\n",
    "\n",
    "print(len(lab_3days))\n",
    "print(len(vital_3days))\n",
    "\n",
    "# exclude patients already in 4 and 5 day list\n",
    "lab_3days, vital_3days = cleaning_funcs.filter_nextday_patients(lab_3days, \\\n",
    "                                                                             vital_3days, \\\n",
    "                                                                             index_4days)\n",
    "combined_3days, index_3days = cleaning_funcs.merge_filter(lab_3days, vital_3days)\n",
    "# add indices\n",
    "index_3days = index_3days+index_4days\n",
    "print(len(combined_3days))"
   ]
  },
  {
   "cell_type": "code",
   "execution_count": 30,
   "metadata": {},
   "outputs": [
    {
     "name": "stdout",
     "output_type": "stream",
     "text": [
      "49842\n",
      "49715\n",
      "18362\n"
     ]
    }
   ],
   "source": [
    "lab_2days = pd.read_csv('../data/intermediate/negative_lab_summary_2days.csv', header=None)\n",
    "vital_2days = pd.read_csv('../data/intermediate/vitalperiodic_2days.csv', header=None)\n",
    "\n",
    "lab_2days = cleaning_funcs.lab_process(lab_2days) \n",
    "vital_2days = cleaning_funcs.vital_process(vital_2days, 2)\n",
    "\n",
    "print(len(lab_2days))\n",
    "print(len(vital_2days))\n",
    "\n",
    "# exclude patients already in 3, 4 and 5 day list\n",
    "lab_2days, vital_2days = cleaning_funcs.filter_nextday_patients(lab_2days, \\\n",
    "                                                                             vital_2days, \\\n",
    "                                                                             index_3days)\n",
    "combined_2days, index_2days = cleaning_funcs.merge_filter(lab_2days, vital_2days)\n",
    "# add indices\n",
    "index_2days = index_2days+index_3days\n",
    "print(len(combined_2days))"
   ]
  },
  {
   "cell_type": "code",
   "execution_count": 6,
   "metadata": {},
   "outputs": [
    {
     "name": "stdout",
     "output_type": "stream",
     "text": [
      "86207\n",
      "87379\n",
      "36496\n"
     ]
    }
   ],
   "source": [
    "\"\"\"\n",
    "lab_1days = pd.read_csv('../data/intermediate/negative_lab_summary_1day.csv', header=None)\n",
    "vital_1days = pd.read_csv('../data/intermediate/vitalperiodic_1day.csv', header=None)\n",
    "lab_1days = cleaning_funcs.lab_process(lab_1days) \n",
    "vital_1days = cleaning_funcs.vital_process(vital_1days, 1)\n",
    "print(len(lab_1days))\n",
    "print(len(vital_1days))\n",
    "# exclude patients already in 2, 3, 4 and 5 day list\n",
    "lab_1days, vital_1days = cleaning_funcs.filter_nextday_patients(lab_1days, vital_1days, index_2days)\n",
    "combined_1days, index_1days = cleaning_funcs.merge_filter(lab_1days, vital_1days)\n",
    "# add indices\n",
    "index_1days = index_1days+index_2days\n",
    "print(len(combined_1days))\n",
    "\"\"\""
   ]
  },
  {
   "cell_type": "code",
   "execution_count": 36,
   "metadata": {},
   "outputs": [
    {
     "name": "stdout",
     "output_type": "stream",
     "text": [
      "49463\n"
     ]
    },
    {
     "data": {
      "text/plain": [
       "48784"
      ]
     },
     "execution_count": 36,
     "metadata": {},
     "output_type": "execute_result"
    }
   ],
   "source": [
    "# concatenate all negative data tables\n",
    "#combined_neg = pd.concat([combined_1days, combined_2days, combined_3days, combined_4days, combined_5days], axis=0)\n",
    "combined_neg = pd.concat([combined_2days, combined_3days, combined_4days, combined_5days], axis=0)\n",
    "print(len(combined_neg))\n",
    "combined_neg.reset_index(inplace=True)\n",
    "#filter out recorde with non null dialysis data\n",
    "neg_class_dial = pd.read_csv('../data/intermediate/negclass_dialysis.csv', header=None)\n",
    "neg_class_dial.columns = ['patientunitstayid', 'intakeoutputoffset', 'ave_hourly_intake', 'ave_hourly_output', 'ave_hourly_dialysis', 'ave_hourly_nettotal']\n",
    "pat_to_exclude = set(neg_class_dial['patientunitstayid'].tolist())\n",
    "combined_neg = combined_neg[~combined_neg['patientunitstayid'].isin(pat_to_exclude)]\n",
    "len(combined_neg)"
   ]
  },
  {
   "cell_type": "code",
   "execution_count": 38,
   "metadata": {},
   "outputs": [
    {
     "data": {
      "image/png": "[encoded data removed]",
      "text/plain": [
       "<Figure size 432x288 with 1 Axes>"
      ]
     },
     "metadata": {
      "needs_background": "light"
     },
     "output_type": "display_data"
    }
   ],
   "source": [
    "import numpy as np\n",
    "import matplotlib.pyplot as plt\n",
    "combined_neg['days_of_data'].hist(bins=np.arange(2, 7)-0.5)\n",
    "plt.xlabel('Observation window (days)', fontsize=16)\n",
    "plt.xticks(np.arange(2, 6), ['2', '3', '4', '5'])\n",
    "plt.ylabel('Patient count', fontsize=16)\n",
    "#plt.xticks(np.arange(1.5, 6.5), ['1', '2', '3', '4', '5'])\n",
    "plt.title('Distribution of observation windows for \\nthe negative class', fontsize=18);\n",
    "plt.grid(b=None)"
   ]
  },
  {
   "cell_type": "code",
   "execution_count": 39,
   "metadata": {},
   "outputs": [
    {
     "name": "stdout",
     "output_type": "stream",
     "text": [
      "2303\n",
      "2314\n",
      "2295\n"
     ]
    }
   ],
   "source": [
    "# process data for the positive label\n",
    "lab_positive = pd.read_csv('../data/intermediate/positive_lab_summary_alldays.csv', header=None)\n",
    "vital_positive = pd.read_csv('../data/intermediate/positive_vitalperiodic_alldays.csv', header=None)\n",
    "\n",
    "lab_positive = cleaning_funcs.lab_process(lab_positive) \n",
    "vital_positive = cleaning_funcs.vital_process(vital_positive, '1-all')\n",
    "print(len(lab_positive))\n",
    "print(len(vital_positive))\n",
    "combined_positive, _ = cleaning_funcs.merge_filter(lab_positive, vital_positive)\n",
    "print(len(combined_positive))"
   ]
  },
  {
   "cell_type": "code",
   "execution_count": 40,
   "metadata": {},
   "outputs": [
    {
     "name": "stderr",
     "output_type": "stream",
     "text": [
      "/Users/zhannahakhverdyan/anaconda3/envs/predict_dialisys_need/lib/python3.8/site-packages/pandas/core/indexing.py:845: SettingWithCopyWarning: \n",
      "A value is trying to be set on a copy of a slice from a DataFrame.\n",
      "Try using .loc[row_indexer,col_indexer] = value instead\n",
      "\n",
      "See the caveats in the documentation: https://pandas.pydata.org/pandas-docs/stable/user_guide/indexing.html#returning-a-view-versus-a-copy\n",
      "  self.obj[key] = _infer_fill_value(value)\n",
      "/Users/zhannahakhverdyan/anaconda3/envs/predict_dialisys_need/lib/python3.8/site-packages/pandas/core/indexing.py:966: SettingWithCopyWarning: \n",
      "A value is trying to be set on a copy of a slice from a DataFrame.\n",
      "Try using .loc[row_indexer,col_indexer] = value instead\n",
      "\n",
      "See the caveats in the documentation: https://pandas.pydata.org/pandas-docs/stable/user_guide/indexing.html#returning-a-view-versus-a-copy\n",
      "  self.obj[item] = s\n"
     ]
    },
    {
     "data": {
      "image/png": "[encoded data removed]",
      "text/plain": [
       "<Figure size 432x288 with 1 Axes>"
      ]
     },
     "metadata": {
      "needs_background": "light"
     },
     "output_type": "display_data"
    }
   ],
   "source": [
    "qa = pd.read_csv('../data/intermediate/patid_aki_label_offset.csv', header = None)\n",
    "qa.columns = ['patientunitstayid', 'aki_label', 'aki_offset']\n",
    "qa_pos = qa[qa.aki_label == 1]\n",
    "qa_pos.set_index('patientunitstayid', inplace=True)\n",
    "qa_pos.loc[(qa_pos.aki_offset/60-12 >= 24) & (qa_pos.aki_offset/60-12 <= 48), 'aki_offset_binned'] = 2\n",
    "qa_pos.loc[(qa_pos.aki_offset/60-12 > 48) & (qa_pos.aki_offset/60-12 <= 72), 'aki_offset_binned'] = 3\n",
    "qa_pos.loc[(qa_pos.aki_offset/60-12 > 72) & (qa_pos.aki_offset/60-12 <= 96), 'aki_offset_binned'] = 4\n",
    "qa_pos.loc[qa_pos.aki_offset/60-12 > 96, 'aki_offset_binned'] = 5\n",
    "qa_pos.aki_offset_binned.hist(bins=np.arange(2, 7)-0.5)\n",
    "plt.xlabel('Observation window (days)', fontsize=16)\n",
    "plt.xticks(np.arange(2, 6), ['2', '3', '4', '5'])\n",
    "plt.ylabel('Patient count', fontsize=16)\n",
    "plt.title('Distribution of observation windows for \\nthe positive class', fontsize=18);\n",
    "plt.grid(b=None)"
   ]
  },
  {
   "cell_type": "code",
   "execution_count": 43,
   "metadata": {},
   "outputs": [],
   "source": [
    "# concatenate positive and negative class data and write to csv\n",
    "combined_neg.set_index('patientunitstayid', inplace=True)\n",
    "positive_negative_combined = pd.concat([combined_positive, combined_neg], axis=0)\n",
    "positive_negative_combined.to_csv('../data/intermediate/lab_vital_merged_time.csv')"
   ]
  },
  {
   "cell_type": "markdown",
   "metadata": {},
   "source": [
    "## Negative class windows\n",
    "Given that any patients with diagnosis of within 1 day is excluded from the positive class, the negative class should also be from 2-5 days instead of 1-5 days."
   ]
  },
  {
   "cell_type": "code",
   "execution_count": 42,
   "metadata": {},
   "outputs": [
    {
     "data": {
      "text/html": [
       "<div>\n",
       "<style scoped>\n",
       "    .dataframe tbody tr th:only-of-type {\n",
       "        vertical-align: middle;\n",
       "    }\n",
       "\n",
       "    .dataframe tbody tr th {\n",
       "        vertical-align: top;\n",
       "    }\n",
       "\n",
       "    .dataframe thead th {\n",
       "        text-align: right;\n",
       "    }\n",
       "</style>\n",
       "<table border=\"1\" class=\"dataframe\">\n",
       "  <thead>\n",
       "    <tr style=\"text-align: right;\">\n",
       "      <th></th>\n",
       "      <th>patientunitstayid</th>\n",
       "      <th>min_sao2</th>\n",
       "      <th>max_sao2</th>\n",
       "      <th>mean_sao2</th>\n",
       "      <th>min_heartrate</th>\n",
       "      <th>max_heartrate</th>\n",
       "      <th>mean_heartrate</th>\n",
       "      <th>min_respiration</th>\n",
       "      <th>max_respiration</th>\n",
       "      <th>mean_respiration</th>\n",
       "      <th>...</th>\n",
       "      <th>delta_result_chloride</th>\n",
       "      <th>delta_result_creatinine</th>\n",
       "      <th>delta_result_glucose</th>\n",
       "      <th>delta_result_magnesium</th>\n",
       "      <th>delta_result_pH</th>\n",
       "      <th>delta_result_paCO2</th>\n",
       "      <th>delta_result_paO2</th>\n",
       "      <th>delta_result_platelets x 1000</th>\n",
       "      <th>delta_result_potassium</th>\n",
       "      <th>delta_result_sodium</th>\n",
       "    </tr>\n",
       "  </thead>\n",
       "  <tbody>\n",
       "    <tr>\n",
       "      <th>0</th>\n",
       "      <td>141360</td>\n",
       "      <td>96.0</td>\n",
       "      <td>99.0</td>\n",
       "      <td>98.0</td>\n",
       "      <td>80.0</td>\n",
       "      <td>98.0</td>\n",
       "      <td>80.0</td>\n",
       "      <td>14.0</td>\n",
       "      <td>25.0</td>\n",
       "      <td>14.0</td>\n",
       "      <td>...</td>\n",
       "      <td>NaN</td>\n",
       "      <td>NaN</td>\n",
       "      <td>NaN</td>\n",
       "      <td>NaN</td>\n",
       "      <td>NaN</td>\n",
       "      <td>NaN</td>\n",
       "      <td>NaN</td>\n",
       "      <td>3.0</td>\n",
       "      <td>NaN</td>\n",
       "      <td>NaN</td>\n",
       "    </tr>\n",
       "    <tr>\n",
       "      <th>1</th>\n",
       "      <td>141362</td>\n",
       "      <td>90.0</td>\n",
       "      <td>96.0</td>\n",
       "      <td>93.0</td>\n",
       "      <td>98.0</td>\n",
       "      <td>112.0</td>\n",
       "      <td>98.0</td>\n",
       "      <td>13.0</td>\n",
       "      <td>34.0</td>\n",
       "      <td>13.0</td>\n",
       "      <td>...</td>\n",
       "      <td>0.0</td>\n",
       "      <td>0.00</td>\n",
       "      <td>0.0</td>\n",
       "      <td>0.0</td>\n",
       "      <td>NaN</td>\n",
       "      <td>NaN</td>\n",
       "      <td>NaN</td>\n",
       "      <td>0.0</td>\n",
       "      <td>0.0</td>\n",
       "      <td>0.0</td>\n",
       "    </tr>\n",
       "    <tr>\n",
       "      <th>2</th>\n",
       "      <td>141584</td>\n",
       "      <td>95.0</td>\n",
       "      <td>100.0</td>\n",
       "      <td>97.0</td>\n",
       "      <td>82.0</td>\n",
       "      <td>98.0</td>\n",
       "      <td>82.0</td>\n",
       "      <td>14.0</td>\n",
       "      <td>22.0</td>\n",
       "      <td>14.0</td>\n",
       "      <td>...</td>\n",
       "      <td>4.0</td>\n",
       "      <td>0.09</td>\n",
       "      <td>11.0</td>\n",
       "      <td>0.0</td>\n",
       "      <td>0.10</td>\n",
       "      <td>11.0</td>\n",
       "      <td>28.0</td>\n",
       "      <td>20.0</td>\n",
       "      <td>0.5</td>\n",
       "      <td>1.0</td>\n",
       "    </tr>\n",
       "    <tr>\n",
       "      <th>3</th>\n",
       "      <td>141586</td>\n",
       "      <td>96.0</td>\n",
       "      <td>100.0</td>\n",
       "      <td>98.0</td>\n",
       "      <td>74.0</td>\n",
       "      <td>100.0</td>\n",
       "      <td>74.0</td>\n",
       "      <td>NaN</td>\n",
       "      <td>NaN</td>\n",
       "      <td>NaN</td>\n",
       "      <td>...</td>\n",
       "      <td>0.0</td>\n",
       "      <td>0.18</td>\n",
       "      <td>33.0</td>\n",
       "      <td>0.0</td>\n",
       "      <td>0.06</td>\n",
       "      <td>19.0</td>\n",
       "      <td>37.0</td>\n",
       "      <td>11.0</td>\n",
       "      <td>0.3</td>\n",
       "      <td>1.0</td>\n",
       "    </tr>\n",
       "    <tr>\n",
       "      <th>4</th>\n",
       "      <td>141675</td>\n",
       "      <td>90.0</td>\n",
       "      <td>96.0</td>\n",
       "      <td>94.5</td>\n",
       "      <td>55.0</td>\n",
       "      <td>67.0</td>\n",
       "      <td>55.0</td>\n",
       "      <td>15.0</td>\n",
       "      <td>23.6</td>\n",
       "      <td>15.0</td>\n",
       "      <td>...</td>\n",
       "      <td>0.0</td>\n",
       "      <td>0.00</td>\n",
       "      <td>0.0</td>\n",
       "      <td>NaN</td>\n",
       "      <td>NaN</td>\n",
       "      <td>NaN</td>\n",
       "      <td>NaN</td>\n",
       "      <td>0.0</td>\n",
       "      <td>0.0</td>\n",
       "      <td>0.0</td>\n",
       "    </tr>\n",
       "  </tbody>\n",
       "</table>\n",
       "<p>5 rows × 89 columns</p>\n",
       "</div>"
      ],
      "text/plain": [
       "   patientunitstayid  min_sao2  max_sao2  mean_sao2  min_heartrate  \\\n",
       "0             141360      96.0      99.0       98.0           80.0   \n",
       "1             141362      90.0      96.0       93.0           98.0   \n",
       "2             141584      95.0     100.0       97.0           82.0   \n",
       "3             141586      96.0     100.0       98.0           74.0   \n",
       "4             141675      90.0      96.0       94.5           55.0   \n",
       "\n",
       "   max_heartrate  mean_heartrate  min_respiration  max_respiration  \\\n",
       "0           98.0            80.0             14.0             25.0   \n",
       "1          112.0            98.0             13.0             34.0   \n",
       "2           98.0            82.0             14.0             22.0   \n",
       "3          100.0            74.0              NaN              NaN   \n",
       "4           67.0            55.0             15.0             23.6   \n",
       "\n",
       "   mean_respiration  ...  delta_result_chloride  delta_result_creatinine  \\\n",
       "0              14.0  ...                    NaN                      NaN   \n",
       "1              13.0  ...                    0.0                     0.00   \n",
       "2              14.0  ...                    4.0                     0.09   \n",
       "3               NaN  ...                    0.0                     0.18   \n",
       "4              15.0  ...                    0.0                     0.00   \n",
       "\n",
       "   delta_result_glucose  delta_result_magnesium  delta_result_pH  \\\n",
       "0                   NaN                     NaN              NaN   \n",
       "1                   0.0                     0.0              NaN   \n",
       "2                  11.0                     0.0             0.10   \n",
       "3                  33.0                     0.0             0.06   \n",
       "4                   0.0                     NaN              NaN   \n",
       "\n",
       "   delta_result_paCO2  delta_result_paO2  delta_result_platelets x 1000  \\\n",
       "0                 NaN                NaN                            3.0   \n",
       "1                 NaN                NaN                            0.0   \n",
       "2                11.0               28.0                           20.0   \n",
       "3                19.0               37.0                           11.0   \n",
       "4                 NaN                NaN                            0.0   \n",
       "\n",
       "   delta_result_potassium  delta_result_sodium  \n",
       "0                     NaN                  NaN  \n",
       "1                     0.0                  0.0  \n",
       "2                     0.5                  1.0  \n",
       "3                     0.3                  1.0  \n",
       "4                     0.0                  0.0  \n",
       "\n",
       "[5 rows x 89 columns]"
      ]
     },
     "execution_count": 42,
     "metadata": {},
     "output_type": "execute_result"
    }
   ],
   "source": [
    "combined_neg.head()"
   ]
  },
  {
   "cell_type": "code",
   "execution_count": null,
   "metadata": {},
   "outputs": [],
   "source": []
  }
 ],
 "metadata": {
  "kernelspec": {
   "display_name": "Python 3",
   "language": "python",
   "name": "python3"
  },
  "language_info": {
   "codemirror_mode": {
    "name": "ipython",
    "version": 3
   },
   "file_extension": ".py",
   "mimetype": "text/x-python",
   "name": "python",
   "nbconvert_exporter": "python",
   "pygments_lexer": "ipython3",
   "version": "3.8.3"
  }
 },
 "nbformat": 4,
 "nbformat_minor": 4
}
