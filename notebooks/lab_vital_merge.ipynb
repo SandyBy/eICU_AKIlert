{
 "cells": [
  {
   "cell_type": "markdown",
   "metadata": {},
   "source": [
    "# Purpose\n",
    "* gather appropriate negative class dataset for aki admission\n",
    "* 1 day - 5 day data saved in diffrent files\n",
    "* the goal is to merge the lab and vital datasets without duplicating patients"
   ]
  },
  {
   "cell_type": "code",
   "execution_count": 82,
   "metadata": {},
   "outputs": [
    {
     "name": "stdout",
     "output_type": "stream",
     "text": [
      "359801\n",
      "15383\n"
     ]
    }
   ],
   "source": [
    "import pandas as pd\n",
    "lab_5days = pd.read_csv('../data/intermediate/negative_lab_summary_5days.csv', header=None)\n",
    "vital_5days = pd.read_csv('../data/intermediate/vitalperiodic_5days.csv', header=None)\n",
    "print(len(lab_5days))\n",
    "print(len(vital_5days))"
   ]
  },
  {
   "cell_type": "code",
   "execution_count": 83,
   "metadata": {},
   "outputs": [
    {
     "name": "stdout",
     "output_type": "stream",
     "text": [
      "15466\n",
      "15383\n",
      "15345\n"
     ]
    }
   ],
   "source": [
    "import sys, os\n",
    "sys.path.insert(0, os.path.abspath('../src/'))\n",
    "import cleaning_funcs\n",
    "import importlib\n",
    "importlib.reload(cleaning_funcs)\n",
    "# process dataframes, name columns, merge and filter\n",
    "lab_5days = cleaning_funcs.lab_process(lab_5days) \n",
    "vital_5days = cleaning_funcs.vital_process(vital_5days, 5)\n",
    "print(len(lab_5days))\n",
    "print(len(vital_5days))\n",
    "combined_5days, index_5days = cleaning_funcs.merge_filter(lab_5days, vital_5days)\n",
    "print(len(combined_5days))"
   ]
  },
  {
   "cell_type": "code",
   "execution_count": 84,
   "metadata": {},
   "outputs": [
    {
     "name": "stdout",
     "output_type": "stream",
     "text": [
      "21347\n",
      "21217\n",
      "5824\n"
     ]
    }
   ],
   "source": [
    "importlib.reload(cleaning_funcs)\n",
    "lab_4days = pd.read_csv('../data/intermediate/negative_lab_summary_4days.csv', header=None)\n",
    "vital_4days = pd.read_csv('../data/intermediate/vitalperiodic_4days.csv', header=None)\n",
    "lab_4days = cleaning_funcs.lab_process(lab_4days) \n",
    "vital_4days = cleaning_funcs.vital_process(vital_4days, 4)\n",
    "print(len(lab_4days))\n",
    "print(len(vital_4days))\n",
    "# exclude patients already in 5 day list\n",
    "lab_4days, vital_4days = cleaning_funcs.filter_nextday_patients(lab_4days, vital_4days, index_5days)\n",
    "combined_4days, index_4days = cleaning_funcs.merge_filter(lab_4days, vital_4days)\n",
    "# add indices\n",
    "index_4days = index_4days+index_5days\n",
    "print(len(combined_4days))"
   ]
  },
  {
   "cell_type": "code",
   "execution_count": 85,
   "metadata": {},
   "outputs": [
    {
     "name": "stdout",
     "output_type": "stream",
     "text": [
      "31352\n",
      "31187\n",
      "9932\n"
     ]
    }
   ],
   "source": [
    "lab_3days = pd.read_csv('../data/intermediate/negative_lab_summary_3days.csv', header=None)\n",
    "vital_3days = pd.read_csv('../data/intermediate/vitalperiodic_3days.csv', header=None)\n",
    "lab_3days = cleaning_funcs.lab_process(lab_3days) \n",
    "vital_3days = cleaning_funcs.vital_process(vital_3days, 3)\n",
    "print(len(lab_3days))\n",
    "print(len(vital_3days))\n",
    "# exclude patients already in 4 and 5 day list\n",
    "lab_3days, vital_3days = cleaning_funcs.filter_nextday_patients(lab_3days, vital_3days, index_4days)\n",
    "combined_3days, index_3days = cleaning_funcs.merge_filter(lab_3days, vital_3days)\n",
    "# add indices\n",
    "index_3days = index_3days+index_4days\n",
    "print(len(combined_3days))"
   ]
  },
  {
   "cell_type": "code",
   "execution_count": 86,
   "metadata": {},
   "outputs": [
    {
     "name": "stdout",
     "output_type": "stream",
     "text": [
      "49842\n",
      "49715\n",
      "18362\n"
     ]
    }
   ],
   "source": [
    "lab_2days = pd.read_csv('../data/intermediate/negative_lab_summary_2days.csv', header=None)\n",
    "vital_2days = pd.read_csv('../data/intermediate/vitalperiodic_2days.csv', header=None)\n",
    "lab_2days = cleaning_funcs.lab_process(lab_2days) \n",
    "vital_2days = cleaning_funcs.vital_process(vital_2days, 2)\n",
    "print(len(lab_2days))\n",
    "print(len(vital_2days))\n",
    "# exclude patients already in 3, 4 and 5 day list\n",
    "lab_2days, vital_2days = cleaning_funcs.filter_nextday_patients(lab_2days, vital_2days, index_3days)\n",
    "combined_2days, index_2days = cleaning_funcs.merge_filter(lab_2days, vital_2days)\n",
    "# add indices\n",
    "index_2days = index_2days+index_3days\n",
    "print(len(combined_2days))"
   ]
  },
  {
   "cell_type": "code",
   "execution_count": 87,
   "metadata": {},
   "outputs": [
    {
     "name": "stdout",
     "output_type": "stream",
     "text": [
      "86207\n",
      "87379\n",
      "36496\n"
     ]
    }
   ],
   "source": [
    "lab_1days = pd.read_csv('../data/intermediate/negative_lab_summary_1day.csv', header=None)\n",
    "vital_1days = pd.read_csv('../data/intermediate/vitalperiodic_1day.csv', header=None)\n",
    "lab_1days = cleaning_funcs.lab_process(lab_1days) \n",
    "vital_1days = cleaning_funcs.vital_process(vital_1days, 1)\n",
    "print(len(lab_1days))\n",
    "print(len(vital_1days))\n",
    "# exclude patients already in 2, 3, 4 and 5 day list\n",
    "lab_1days, vital_1days = cleaning_funcs.filter_nextday_patients(lab_1days, vital_1days, index_2days)\n",
    "combined_1days, index_1days = cleaning_funcs.merge_filter(lab_1days, vital_1days)\n",
    "# add indices\n",
    "index_1days = index_1days+index_2days\n",
    "print(len(combined_1days))"
   ]
  },
  {
   "cell_type": "code",
   "execution_count": 88,
   "metadata": {},
   "outputs": [
    {
     "data": {
      "text/plain": [
       "85959"
      ]
     },
     "execution_count": 88,
     "metadata": {},
     "output_type": "execute_result"
    }
   ],
   "source": [
    "# concatenate all negative data tables\n",
    "combined_neg = pd.concat([combined_1days, combined_2days, combined_3days, combined_4days, combined_5days], axis=0)\n",
    "len(combined_neg)"
   ]
  },
  {
   "cell_type": "code",
   "execution_count": 100,
   "metadata": {},
   "outputs": [
    {
     "data": {
      "image/png": "[encoded data removed]",
      "text/plain": [
       "<Figure size 432x288 with 1 Axes>"
      ]
     },
     "metadata": {
      "needs_background": "light"
     },
     "output_type": "display_data"
    }
   ],
   "source": [
    "import numpy as np\n",
    "import matplotlib.pyplot as plt\n",
    "combined_neg['days_of_data'].hist(bins=5)\n",
    "plt.xlabel('Days of data collected')\n",
    "plt.ylabel('Patient count')\n",
    "plt.xticks(np.arange(1, 5), ['1', '2', '3', '4', '5'])\n",
    "plt.title('Distribution of data collection time for the negative class');"
   ]
  },
  {
   "cell_type": "code",
   "execution_count": 89,
   "metadata": {},
   "outputs": [
    {
     "name": "stdout",
     "output_type": "stream",
     "text": [
      "2303\n",
      "2314\n",
      "2295\n"
     ]
    }
   ],
   "source": [
    "# process data for the positive label\n",
    "lab_positive = pd.read_csv('../data/intermediate/positive_lab_summary_alldays.csv', header=None)\n",
    "vital_positive = pd.read_csv('../data/intermediate/positive_vitalperiodic_alldays.csv', header=None)\n",
    "lab_positive = cleaning_funcs.lab_process(lab_positive) \n",
    "vital_positive = cleaning_funcs.vital_process(vital_positive, '1-all')\n",
    "print(len(lab_positive))\n",
    "print(len(vital_positive))\n",
    "combined_positive, _ = cleaning_funcs.merge_filter(lab_positive, vital_positive)\n",
    "print(len(combined_positive))"
   ]
  },
  {
   "cell_type": "code",
   "execution_count": 97,
   "metadata": {},
   "outputs": [
    {
     "data": {
      "image/png": "[encoded data removed]",
      "text/plain": [
       "<Figure size 432x288 with 1 Axes>"
      ]
     },
     "metadata": {
      "needs_background": "light"
     },
     "output_type": "display_data"
    }
   ],
   "source": [
    "qa = pd.read_csv('../data/intermediate/patid_aki_label_offset.csv', header = None)\n",
    "qa.columns = ['patientunitstayid', 'aki_label', 'aki_offset'] \n",
    "pos_data_offset = (qa[qa.aki_label==1].aki_offset/60-12)/24\n",
    "pos_data_offset[pos_data_offset<=5].hist()\n",
    "plt.xlabel('Days of data collected')\n",
    "plt.ylabel('Patient count')\n",
    "plt.title('Distribution of time before kidney failure diagnosis');"
   ]
  },
  {
   "cell_type": "code",
   "execution_count": 101,
   "metadata": {},
   "outputs": [],
   "source": [
    "# concatenate positive and negative class data and write to csv\n",
    "positive_negative_combined = pd.concat([combined_positive, combined_neg], axis=0)\n",
    "positive_negative_combined.to_csv('../data/intermediate/lab_vital_merged_time.csv')"
   ]
  },
  {
   "cell_type": "code",
   "execution_count": null,
   "metadata": {},
   "outputs": [],
   "source": []
  }
 ],
 "metadata": {
  "kernelspec": {
   "display_name": "Python 3",
   "language": "python",
   "name": "python3"
  },
  "language_info": {
   "codemirror_mode": {
    "name": "ipython",
    "version": 3
   },
   "file_extension": ".py",
   "mimetype": "text/x-python",
   "name": "python",
   "nbconvert_exporter": "python",
   "pygments_lexer": "ipython3",
   "version": "3.8.3"
  }
 },
 "nbformat": 4,
 "nbformat_minor": 4
}
