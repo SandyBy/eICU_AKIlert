{
 "cells": [
  {
   "cell_type": "markdown",
   "metadata": {},
   "source": [
    "## Purpose of the notebook\n",
    "I have observed that there is a 1.5 day delay, on average, between the AKI diagnosis being entered in patient record and the clinical manifestation of AKI symptoms. The purpose of this notebook is to:\n",
    "1. get grountruth labels for AKI - yes/no, using in hospital measurements criteria:\n",
    "    a. creatinine level increases by 0.3mg/dL or more in 48 h\n",
    "    b. creatinine level increases 1.5-fold compared to baseline within 7 days, I will take first available measure as baseline.\n",
    "    c. urine output is less than 0.5mL/kg/hr in 6h\n",
    "2. get the earliest possible offset of aki manifestation for the positive class\n",
    "3. filter out patients who manifest aki before 24h"
   ]
  },
  {
   "cell_type": "code",
   "execution_count": 248,
   "metadata": {},
   "outputs": [],
   "source": [
    "import pandas as pd\n",
    "creat = pd.read_csv('../data/intermediate/creatinine_lev_all_3d.csv')\n",
    "creat.columns=['patientunitstayid', 'labresult', 'labresultoffset']"
   ]
  },
  {
   "cell_type": "code",
   "execution_count": 83,
   "metadata": {},
   "outputs": [
    {
     "data": {
      "text/plain": [
       "33176"
      ]
     },
     "execution_count": 83,
     "metadata": {},
     "output_type": "execute_result"
    }
   ],
   "source": [
    "creat.sort_values(by=['patientunitstayid', 'labresultoffset'], inplace=True)\n",
    "len(creat.patientunitstayid.unique())"
   ]
  },
  {
   "cell_type": "code",
   "execution_count": 249,
   "metadata": {},
   "outputs": [],
   "source": [
    "creat['prev_labresult'] = creat.groupby(['patientunitstayid'])['labresult'].shift(1)\n",
    "creat['delta'] = creat['labresult'] - creat['prev_labresult']"
   ]
  },
  {
   "cell_type": "code",
   "execution_count": 250,
   "metadata": {},
   "outputs": [],
   "source": [
    "from datetime import datetime\n",
    "startTime = datetime.now()\n",
    "\n",
    "creat['labresultoffset'] = pd.to_timedelta(creat['labresultoffset'], unit='minute')\n",
    "creat.set_index('labresultoffset', inplace=True)\n",
    "creat['creat_2day_cum'] = creat.groupby('patientunitstayid')['delta'].apply(lambda x: x.rolling('2d').sum()) \n",
    "print(datetime.now() - startTime)"
   ]
  },
  {
   "cell_type": "code",
   "execution_count": 251,
   "metadata": {},
   "outputs": [],
   "source": [
    "import math\n",
    "import numpy as np\n",
    "creat['creat_fold_change'] = creat['labresult']/creat['prev_labresult']\n",
    "creat['creat_7day_inc'] = creat.groupby('patientunitstayid')['creat_fold_change'].apply(lambda x: x.rolling('7d').apply(np.prod))\n"
   ]
  },
  {
   "cell_type": "code",
   "execution_count": 252,
   "metadata": {},
   "outputs": [],
   "source": [
    "creat.loc[creat['creat_2day_cum'] >= 0.3, 'AKI_reached_2d'] = 1\n",
    "creat.loc[creat['creat_7day_inc'] >= 1.5, 'AKI_reached_7d'] = 1\n",
    "creat.fillna(0, inplace=True)"
   ]
  },
  {
   "cell_type": "code",
   "execution_count": 88,
   "metadata": {},
   "outputs": [
    {
     "data": {
      "text/plain": [
       "0.10711792261609837"
      ]
     },
     "execution_count": 88,
     "metadata": {},
     "output_type": "execute_result"
    }
   ],
   "source": [
    "creat['AKI_reached_2d'].sum()/len(creat)"
   ]
  },
  {
   "cell_type": "code",
   "execution_count": 89,
   "metadata": {},
   "outputs": [
    {
     "data": {
      "text/plain": [
       "0.06828521237782081"
      ]
     },
     "execution_count": 89,
     "metadata": {},
     "output_type": "execute_result"
    }
   ],
   "source": [
    "creat['AKI_reached_7d'].sum()/len(creat)"
   ]
  },
  {
   "cell_type": "code",
   "execution_count": 254,
   "metadata": {},
   "outputs": [
    {
     "data": {
      "text/html": [
       "<div>\n",
       "<style scoped>\n",
       "    .dataframe tbody tr th:only-of-type {\n",
       "        vertical-align: middle;\n",
       "    }\n",
       "\n",
       "    .dataframe tbody tr th {\n",
       "        vertical-align: top;\n",
       "    }\n",
       "\n",
       "    .dataframe thead th {\n",
       "        text-align: right;\n",
       "    }\n",
       "</style>\n",
       "<table border=\"1\" class=\"dataframe\">\n",
       "  <thead>\n",
       "    <tr style=\"text-align: right;\">\n",
       "      <th></th>\n",
       "      <th>2d_first</th>\n",
       "      <th>7d_first</th>\n",
       "    </tr>\n",
       "    <tr>\n",
       "      <th>patientunitstayid</th>\n",
       "      <th></th>\n",
       "      <th></th>\n",
       "    </tr>\n",
       "  </thead>\n",
       "  <tbody>\n",
       "    <tr>\n",
       "      <th>141462</th>\n",
       "      <td>3022.0</td>\n",
       "      <td>0.0</td>\n",
       "    </tr>\n",
       "    <tr>\n",
       "      <th>143466</th>\n",
       "      <td>1759.0</td>\n",
       "      <td>0.0</td>\n",
       "    </tr>\n",
       "    <tr>\n",
       "      <th>143518</th>\n",
       "      <td>1303.0</td>\n",
       "      <td>0.0</td>\n",
       "    </tr>\n",
       "    <tr>\n",
       "      <th>144173</th>\n",
       "      <td>711.0</td>\n",
       "      <td>1207.0</td>\n",
       "    </tr>\n",
       "    <tr>\n",
       "      <th>144770</th>\n",
       "      <td>4127.0</td>\n",
       "      <td>4127.0</td>\n",
       "    </tr>\n",
       "  </tbody>\n",
       "</table>\n",
       "</div>"
      ],
      "text/plain": [
       "                   2d_first  7d_first\n",
       "patientunitstayid                    \n",
       "141462               3022.0       0.0\n",
       "143466               1759.0       0.0\n",
       "143518               1303.0       0.0\n",
       "144173                711.0    1207.0\n",
       "144770               4127.0    4127.0"
      ]
     },
     "execution_count": 254,
     "metadata": {},
     "output_type": "execute_result"
    }
   ],
   "source": [
    "creat.reset_index(inplace=True)\n",
    "first_2d = creat[creat['AKI_reached_2d']==1].groupby('patientunitstayid')['labresultoffset'].first()\n",
    "#first_2d = first_2d/pd.Timedelta('1 minute')\n",
    "first_7d = creat[creat['AKI_reached_7d']==1].groupby('patientunitstayid')['labresultoffset'].first()\n",
    "#first_7d = first_7d/pd.Timedelta('1 minute')\n",
    "first_occur_comb = pd.concat([first_2d, first_7d], axis=1, ignore_index=False)\n",
    "first_occur_comb.fillna(0, inplace=True)\n",
    "first_occur_comb.columns = ['2d_first', '7d_first']\n",
    "first_occur_comb.head()"
   ]
  },
  {
   "cell_type": "code",
   "execution_count": 259,
   "metadata": {},
   "outputs": [],
   "source": [
    "min_val_list = []\n",
    "for index, row in first_occur_comb.iterrows():\n",
    "    min_val = min(row)\n",
    "    if min_val==0:\n",
    "        row_list = row.values.tolist()\n",
    "        row_list.remove(min_val)\n",
    "        min_val_list.append(row_list[0])\n",
    "    else:\n",
    "        min_val_list.append(min_val)\n"
   ]
  },
  {
   "cell_type": "code",
   "execution_count": 261,
   "metadata": {},
   "outputs": [
    {
     "data": {
      "text/html": [
       "<div>\n",
       "<style scoped>\n",
       "    .dataframe tbody tr th:only-of-type {\n",
       "        vertical-align: middle;\n",
       "    }\n",
       "\n",
       "    .dataframe tbody tr th {\n",
       "        vertical-align: top;\n",
       "    }\n",
       "\n",
       "    .dataframe thead th {\n",
       "        text-align: right;\n",
       "    }\n",
       "</style>\n",
       "<table border=\"1\" class=\"dataframe\">\n",
       "  <thead>\n",
       "    <tr style=\"text-align: right;\">\n",
       "      <th></th>\n",
       "      <th>min_val</th>\n",
       "    </tr>\n",
       "    <tr>\n",
       "      <th>patientunitstayid</th>\n",
       "      <th></th>\n",
       "    </tr>\n",
       "  </thead>\n",
       "  <tbody>\n",
       "    <tr>\n",
       "      <th>141462</th>\n",
       "      <td>3022.0</td>\n",
       "    </tr>\n",
       "    <tr>\n",
       "      <th>143466</th>\n",
       "      <td>1759.0</td>\n",
       "    </tr>\n",
       "    <tr>\n",
       "      <th>143518</th>\n",
       "      <td>1303.0</td>\n",
       "    </tr>\n",
       "    <tr>\n",
       "      <th>144173</th>\n",
       "      <td>711.0</td>\n",
       "    </tr>\n",
       "    <tr>\n",
       "      <th>144770</th>\n",
       "      <td>4127.0</td>\n",
       "    </tr>\n",
       "  </tbody>\n",
       "</table>\n",
       "</div>"
      ],
      "text/plain": [
       "                   min_val\n",
       "patientunitstayid         \n",
       "141462              3022.0\n",
       "143466              1759.0\n",
       "143518              1303.0\n",
       "144173               711.0\n",
       "144770              4127.0"
      ]
     },
     "execution_count": 261,
     "metadata": {},
     "output_type": "execute_result"
    }
   ],
   "source": [
    "min_val_df = pd.DataFrame({'patientunitstayid':first_occur_comb.index, 'min_val': min_val_list})\n",
    "min_val_df.set_index('patientunitstayid', inplace=True)\n",
    "min_val_df.head()"
   ]
  },
  {
   "cell_type": "code",
   "execution_count": 262,
   "metadata": {},
   "outputs": [
    {
     "data": {
      "text/html": [
       "<div>\n",
       "<style scoped>\n",
       "    .dataframe tbody tr th:only-of-type {\n",
       "        vertical-align: middle;\n",
       "    }\n",
       "\n",
       "    .dataframe tbody tr th {\n",
       "        vertical-align: top;\n",
       "    }\n",
       "\n",
       "    .dataframe thead th {\n",
       "        text-align: right;\n",
       "    }\n",
       "</style>\n",
       "<table border=\"1\" class=\"dataframe\">\n",
       "  <thead>\n",
       "    <tr style=\"text-align: right;\">\n",
       "      <th></th>\n",
       "      <th>2d_first</th>\n",
       "      <th>7d_first</th>\n",
       "      <th>min_val</th>\n",
       "    </tr>\n",
       "    <tr>\n",
       "      <th>patientunitstayid</th>\n",
       "      <th></th>\n",
       "      <th></th>\n",
       "      <th></th>\n",
       "    </tr>\n",
       "  </thead>\n",
       "  <tbody>\n",
       "    <tr>\n",
       "      <th>141462</th>\n",
       "      <td>3022.0</td>\n",
       "      <td>0.0</td>\n",
       "      <td>3022.0</td>\n",
       "    </tr>\n",
       "    <tr>\n",
       "      <th>143466</th>\n",
       "      <td>1759.0</td>\n",
       "      <td>0.0</td>\n",
       "      <td>1759.0</td>\n",
       "    </tr>\n",
       "    <tr>\n",
       "      <th>143518</th>\n",
       "      <td>1303.0</td>\n",
       "      <td>0.0</td>\n",
       "      <td>1303.0</td>\n",
       "    </tr>\n",
       "    <tr>\n",
       "      <th>144173</th>\n",
       "      <td>711.0</td>\n",
       "      <td>1207.0</td>\n",
       "      <td>711.0</td>\n",
       "    </tr>\n",
       "    <tr>\n",
       "      <th>144770</th>\n",
       "      <td>4127.0</td>\n",
       "      <td>4127.0</td>\n",
       "      <td>4127.0</td>\n",
       "    </tr>\n",
       "    <tr>\n",
       "      <th>...</th>\n",
       "      <td>...</td>\n",
       "      <td>...</td>\n",
       "      <td>...</td>\n",
       "    </tr>\n",
       "    <tr>\n",
       "      <th>3352065</th>\n",
       "      <td>1610.0</td>\n",
       "      <td>0.0</td>\n",
       "      <td>1610.0</td>\n",
       "    </tr>\n",
       "    <tr>\n",
       "      <th>3352336</th>\n",
       "      <td>759.0</td>\n",
       "      <td>759.0</td>\n",
       "      <td>759.0</td>\n",
       "    </tr>\n",
       "    <tr>\n",
       "      <th>3353094</th>\n",
       "      <td>473.0</td>\n",
       "      <td>0.0</td>\n",
       "      <td>473.0</td>\n",
       "    </tr>\n",
       "    <tr>\n",
       "      <th>3353117</th>\n",
       "      <td>380.0</td>\n",
       "      <td>1718.0</td>\n",
       "      <td>380.0</td>\n",
       "    </tr>\n",
       "    <tr>\n",
       "      <th>3353197</th>\n",
       "      <td>3455.0</td>\n",
       "      <td>3455.0</td>\n",
       "      <td>3455.0</td>\n",
       "    </tr>\n",
       "  </tbody>\n",
       "</table>\n",
       "<p>7215 rows × 3 columns</p>\n",
       "</div>"
      ],
      "text/plain": [
       "                   2d_first  7d_first  min_val\n",
       "patientunitstayid                             \n",
       "141462               3022.0       0.0   3022.0\n",
       "143466               1759.0       0.0   1759.0\n",
       "143518               1303.0       0.0   1303.0\n",
       "144173                711.0    1207.0    711.0\n",
       "144770               4127.0    4127.0   4127.0\n",
       "...                     ...       ...      ...\n",
       "3352065              1610.0       0.0   1610.0\n",
       "3352336               759.0     759.0    759.0\n",
       "3353094               473.0       0.0    473.0\n",
       "3353117               380.0    1718.0    380.0\n",
       "3353197              3455.0    3455.0   3455.0\n",
       "\n",
       "[7215 rows x 3 columns]"
      ]
     },
     "execution_count": 262,
     "metadata": {},
     "output_type": "execute_result"
    }
   ],
   "source": [
    "first_occur_comb = pd.concat([first_occur_comb, min_val_df], axis=1, ignore_index=False)\n",
    "first_occur_comb"
   ]
  },
  {
   "cell_type": "code",
   "execution_count": 263,
   "metadata": {},
   "outputs": [
    {
     "data": {
      "text/plain": [
       "(-10.0, 5.0)"
      ]
     },
     "execution_count": 263,
     "metadata": {},
     "output_type": "execute_result"
    },
    {
     "data": {
      "image/png": "[encoded data removed]",
      "text/plain": [
       "<Figure size 432x288 with 1 Axes>"
      ]
     },
     "metadata": {
      "needs_background": "light"
     },
     "output_type": "display_data"
    }
   ],
   "source": [
    "import matplotlib.pyplot as plt\n",
    "first_occur_comb['min_val_days'] = first_occur_comb['min_val']/(60*24)\n",
    "first_occur_comb['min_val_days'].hist(bins=100)\n",
    "plt.xlim(-10, 5)"
   ]
  },
  {
   "cell_type": "code",
   "execution_count": 264,
   "metadata": {
    "scrolled": true
   },
   "outputs": [],
   "source": [
    "creat.set_index('patientunitstayid', inplace=True)\n",
    "creat_4plot = creat[['labresultoffset', 'labresult']].merge(first_occur_comb['min_val'], left_index=True, \\\n",
    "                                                            right_index=True)\n",
    "creat_4plot.dropna(inplace=True)\n",
    "creat_4plot['detect_offset_h'] = (creat_4plot['labresultoffset'] - creat_4plot['min_val'])/60\n",
    "creat_4plot['detect_offset_d'] = (creat_4plot['labresultoffset'] - creat_4plot['min_val'])/(60*24)\n",
    "creat_4plot['detect_offset_d_round'] = round(creat_4plot['detect_offset_d'])\n",
    "creat_4plot['detect_offset_h_round'] = round(creat_4plot['detect_offset_h'])\n"
   ]
  },
  {
   "cell_type": "code",
   "execution_count": 265,
   "metadata": {
    "scrolled": false
   },
   "outputs": [],
   "source": [
    "creat_4plot.reset_index('patientunitstayid', inplace=True)\n",
    "\n",
    "creat_4plot_piv = creat_4plot[(creat_4plot['detect_offset_d_round']>=-5) & (creat_4plot['detect_offset_d_round']<=5)]\n",
    "creat_4plot_piv = creat_4plot_piv[['patientunitstayid', 'labresult', \\\n",
    "                               'detect_offset_d_round']].pivot_table(values='labresult', index='detect_offset_d_round',\\\n",
    "                                                                     columns='patientunitstayid', \\\n",
    "                                                                     aggfunc='mean')"
   ]
  },
  {
   "cell_type": "code",
   "execution_count": 266,
   "metadata": {},
   "outputs": [
    {
     "data": {
      "text/html": [
       "<div>\n",
       "<style scoped>\n",
       "    .dataframe tbody tr th:only-of-type {\n",
       "        vertical-align: middle;\n",
       "    }\n",
       "\n",
       "    .dataframe tbody tr th {\n",
       "        vertical-align: top;\n",
       "    }\n",
       "\n",
       "    .dataframe thead th {\n",
       "        text-align: right;\n",
       "    }\n",
       "</style>\n",
       "<table border=\"1\" class=\"dataframe\">\n",
       "  <thead>\n",
       "    <tr style=\"text-align: right;\">\n",
       "      <th>patientunitstayid</th>\n",
       "      <th>141462</th>\n",
       "      <th>143466</th>\n",
       "      <th>143518</th>\n",
       "      <th>144173</th>\n",
       "      <th>144770</th>\n",
       "      <th>144944</th>\n",
       "      <th>145467</th>\n",
       "      <th>145548</th>\n",
       "      <th>147615</th>\n",
       "      <th>148184</th>\n",
       "      <th>...</th>\n",
       "      <th>3351329</th>\n",
       "      <th>3351357</th>\n",
       "      <th>3351374</th>\n",
       "      <th>3351733</th>\n",
       "      <th>3351749</th>\n",
       "      <th>3352065</th>\n",
       "      <th>3352336</th>\n",
       "      <th>3353094</th>\n",
       "      <th>3353117</th>\n",
       "      <th>3353197</th>\n",
       "    </tr>\n",
       "    <tr>\n",
       "      <th>detect_offset_d_round</th>\n",
       "      <th></th>\n",
       "      <th></th>\n",
       "      <th></th>\n",
       "      <th></th>\n",
       "      <th></th>\n",
       "      <th></th>\n",
       "      <th></th>\n",
       "      <th></th>\n",
       "      <th></th>\n",
       "      <th></th>\n",
       "      <th></th>\n",
       "      <th></th>\n",
       "      <th></th>\n",
       "      <th></th>\n",
       "      <th></th>\n",
       "      <th></th>\n",
       "      <th></th>\n",
       "      <th></th>\n",
       "      <th></th>\n",
       "      <th></th>\n",
       "      <th></th>\n",
       "    </tr>\n",
       "  </thead>\n",
       "  <tbody>\n",
       "    <tr>\n",
       "      <th>-5.0</th>\n",
       "      <td>NaN</td>\n",
       "      <td>NaN</td>\n",
       "      <td>NaN</td>\n",
       "      <td>NaN</td>\n",
       "      <td>NaN</td>\n",
       "      <td>NaN</td>\n",
       "      <td>NaN</td>\n",
       "      <td>1.00</td>\n",
       "      <td>NaN</td>\n",
       "      <td>NaN</td>\n",
       "      <td>...</td>\n",
       "      <td>NaN</td>\n",
       "      <td>NaN</td>\n",
       "      <td>NaN</td>\n",
       "      <td>NaN</td>\n",
       "      <td>NaN</td>\n",
       "      <td>NaN</td>\n",
       "      <td>NaN</td>\n",
       "      <td>NaN</td>\n",
       "      <td>NaN</td>\n",
       "      <td>NaN</td>\n",
       "    </tr>\n",
       "    <tr>\n",
       "      <th>-4.0</th>\n",
       "      <td>1.14</td>\n",
       "      <td>NaN</td>\n",
       "      <td>NaN</td>\n",
       "      <td>NaN</td>\n",
       "      <td>0.85</td>\n",
       "      <td>NaN</td>\n",
       "      <td>NaN</td>\n",
       "      <td>1.10</td>\n",
       "      <td>0.85</td>\n",
       "      <td>NaN</td>\n",
       "      <td>...</td>\n",
       "      <td>NaN</td>\n",
       "      <td>NaN</td>\n",
       "      <td>NaN</td>\n",
       "      <td>NaN</td>\n",
       "      <td>NaN</td>\n",
       "      <td>NaN</td>\n",
       "      <td>NaN</td>\n",
       "      <td>NaN</td>\n",
       "      <td>NaN</td>\n",
       "      <td>0.960</td>\n",
       "    </tr>\n",
       "    <tr>\n",
       "      <th>-3.0</th>\n",
       "      <td>1.07</td>\n",
       "      <td>NaN</td>\n",
       "      <td>NaN</td>\n",
       "      <td>NaN</td>\n",
       "      <td>0.70</td>\n",
       "      <td>NaN</td>\n",
       "      <td>NaN</td>\n",
       "      <td>1.07</td>\n",
       "      <td>0.75</td>\n",
       "      <td>NaN</td>\n",
       "      <td>...</td>\n",
       "      <td>NaN</td>\n",
       "      <td>NaN</td>\n",
       "      <td>NaN</td>\n",
       "      <td>NaN</td>\n",
       "      <td>NaN</td>\n",
       "      <td>NaN</td>\n",
       "      <td>NaN</td>\n",
       "      <td>NaN</td>\n",
       "      <td>NaN</td>\n",
       "      <td>NaN</td>\n",
       "    </tr>\n",
       "    <tr>\n",
       "      <th>-2.0</th>\n",
       "      <td>1.29</td>\n",
       "      <td>NaN</td>\n",
       "      <td>NaN</td>\n",
       "      <td>NaN</td>\n",
       "      <td>0.80</td>\n",
       "      <td>1.70</td>\n",
       "      <td>1.78</td>\n",
       "      <td>1.05</td>\n",
       "      <td>0.70</td>\n",
       "      <td>NaN</td>\n",
       "      <td>...</td>\n",
       "      <td>NaN</td>\n",
       "      <td>1.12</td>\n",
       "      <td>1.24</td>\n",
       "      <td>0.97</td>\n",
       "      <td>NaN</td>\n",
       "      <td>NaN</td>\n",
       "      <td>NaN</td>\n",
       "      <td>NaN</td>\n",
       "      <td>NaN</td>\n",
       "      <td>0.785</td>\n",
       "    </tr>\n",
       "    <tr>\n",
       "      <th>-1.0</th>\n",
       "      <td>1.34</td>\n",
       "      <td>1.93</td>\n",
       "      <td>1.71</td>\n",
       "      <td>NaN</td>\n",
       "      <td>NaN</td>\n",
       "      <td>1.96</td>\n",
       "      <td>1.70</td>\n",
       "      <td>NaN</td>\n",
       "      <td>1.00</td>\n",
       "      <td>NaN</td>\n",
       "      <td>...</td>\n",
       "      <td>1.51</td>\n",
       "      <td>1.17</td>\n",
       "      <td>1.33</td>\n",
       "      <td>NaN</td>\n",
       "      <td>NaN</td>\n",
       "      <td>6.74</td>\n",
       "      <td>0.83</td>\n",
       "      <td>NaN</td>\n",
       "      <td>NaN</td>\n",
       "      <td>0.920</td>\n",
       "    </tr>\n",
       "    <tr>\n",
       "      <th>0.0</th>\n",
       "      <td>1.47</td>\n",
       "      <td>2.42</td>\n",
       "      <td>2.14</td>\n",
       "      <td>1.742857</td>\n",
       "      <td>1.30</td>\n",
       "      <td>2.66</td>\n",
       "      <td>2.56</td>\n",
       "      <td>1.92</td>\n",
       "      <td>1.00</td>\n",
       "      <td>1.043333</td>\n",
       "      <td>...</td>\n",
       "      <td>3.10</td>\n",
       "      <td>1.86</td>\n",
       "      <td>1.82</td>\n",
       "      <td>1.36</td>\n",
       "      <td>1.41</td>\n",
       "      <td>7.31</td>\n",
       "      <td>1.39</td>\n",
       "      <td>1.415</td>\n",
       "      <td>1.18</td>\n",
       "      <td>1.340</td>\n",
       "    </tr>\n",
       "    <tr>\n",
       "      <th>1.0</th>\n",
       "      <td>NaN</td>\n",
       "      <td>2.20</td>\n",
       "      <td>2.11</td>\n",
       "      <td>2.925000</td>\n",
       "      <td>NaN</td>\n",
       "      <td>2.80</td>\n",
       "      <td>3.26</td>\n",
       "      <td>1.61</td>\n",
       "      <td>1.00</td>\n",
       "      <td>1.070000</td>\n",
       "      <td>...</td>\n",
       "      <td>3.84</td>\n",
       "      <td>3.87</td>\n",
       "      <td>1.64</td>\n",
       "      <td>0.94</td>\n",
       "      <td>3.13</td>\n",
       "      <td>6.73</td>\n",
       "      <td>1.39</td>\n",
       "      <td>1.270</td>\n",
       "      <td>1.75</td>\n",
       "      <td>NaN</td>\n",
       "    </tr>\n",
       "    <tr>\n",
       "      <th>2.0</th>\n",
       "      <td>NaN</td>\n",
       "      <td>NaN</td>\n",
       "      <td>1.73</td>\n",
       "      <td>3.500000</td>\n",
       "      <td>NaN</td>\n",
       "      <td>NaN</td>\n",
       "      <td>NaN</td>\n",
       "      <td>NaN</td>\n",
       "      <td>1.10</td>\n",
       "      <td>NaN</td>\n",
       "      <td>...</td>\n",
       "      <td>NaN</td>\n",
       "      <td>5.27</td>\n",
       "      <td>NaN</td>\n",
       "      <td>0.67</td>\n",
       "      <td>3.44</td>\n",
       "      <td>NaN</td>\n",
       "      <td>1.04</td>\n",
       "      <td>0.870</td>\n",
       "      <td>1.76</td>\n",
       "      <td>NaN</td>\n",
       "    </tr>\n",
       "    <tr>\n",
       "      <th>3.0</th>\n",
       "      <td>NaN</td>\n",
       "      <td>NaN</td>\n",
       "      <td>NaN</td>\n",
       "      <td>NaN</td>\n",
       "      <td>NaN</td>\n",
       "      <td>NaN</td>\n",
       "      <td>NaN</td>\n",
       "      <td>NaN</td>\n",
       "      <td>NaN</td>\n",
       "      <td>NaN</td>\n",
       "      <td>...</td>\n",
       "      <td>NaN</td>\n",
       "      <td>NaN</td>\n",
       "      <td>NaN</td>\n",
       "      <td>0.61</td>\n",
       "      <td>NaN</td>\n",
       "      <td>NaN</td>\n",
       "      <td>NaN</td>\n",
       "      <td>NaN</td>\n",
       "      <td>NaN</td>\n",
       "      <td>NaN</td>\n",
       "    </tr>\n",
       "    <tr>\n",
       "      <th>4.0</th>\n",
       "      <td>NaN</td>\n",
       "      <td>NaN</td>\n",
       "      <td>NaN</td>\n",
       "      <td>NaN</td>\n",
       "      <td>NaN</td>\n",
       "      <td>NaN</td>\n",
       "      <td>NaN</td>\n",
       "      <td>NaN</td>\n",
       "      <td>NaN</td>\n",
       "      <td>NaN</td>\n",
       "      <td>...</td>\n",
       "      <td>NaN</td>\n",
       "      <td>NaN</td>\n",
       "      <td>NaN</td>\n",
       "      <td>NaN</td>\n",
       "      <td>NaN</td>\n",
       "      <td>NaN</td>\n",
       "      <td>NaN</td>\n",
       "      <td>NaN</td>\n",
       "      <td>NaN</td>\n",
       "      <td>NaN</td>\n",
       "    </tr>\n",
       "    <tr>\n",
       "      <th>5.0</th>\n",
       "      <td>NaN</td>\n",
       "      <td>NaN</td>\n",
       "      <td>NaN</td>\n",
       "      <td>NaN</td>\n",
       "      <td>NaN</td>\n",
       "      <td>NaN</td>\n",
       "      <td>NaN</td>\n",
       "      <td>NaN</td>\n",
       "      <td>NaN</td>\n",
       "      <td>NaN</td>\n",
       "      <td>...</td>\n",
       "      <td>NaN</td>\n",
       "      <td>NaN</td>\n",
       "      <td>NaN</td>\n",
       "      <td>NaN</td>\n",
       "      <td>NaN</td>\n",
       "      <td>NaN</td>\n",
       "      <td>NaN</td>\n",
       "      <td>NaN</td>\n",
       "      <td>NaN</td>\n",
       "      <td>NaN</td>\n",
       "    </tr>\n",
       "  </tbody>\n",
       "</table>\n",
       "<p>11 rows × 7215 columns</p>\n",
       "</div>"
      ],
      "text/plain": [
       "patientunitstayid      141462   143466   143518    144173   144770   144944   \\\n",
       "detect_offset_d_round                                                          \n",
       "-5.0                       NaN      NaN      NaN       NaN      NaN      NaN   \n",
       "-4.0                      1.14      NaN      NaN       NaN     0.85      NaN   \n",
       "-3.0                      1.07      NaN      NaN       NaN     0.70      NaN   \n",
       "-2.0                      1.29      NaN      NaN       NaN     0.80     1.70   \n",
       "-1.0                      1.34     1.93     1.71       NaN      NaN     1.96   \n",
       " 0.0                      1.47     2.42     2.14  1.742857     1.30     2.66   \n",
       " 1.0                       NaN     2.20     2.11  2.925000      NaN     2.80   \n",
       " 2.0                       NaN      NaN     1.73  3.500000      NaN      NaN   \n",
       " 3.0                       NaN      NaN      NaN       NaN      NaN      NaN   \n",
       " 4.0                       NaN      NaN      NaN       NaN      NaN      NaN   \n",
       " 5.0                       NaN      NaN      NaN       NaN      NaN      NaN   \n",
       "\n",
       "patientunitstayid      145467   145548   147615    148184   ...  3351329  \\\n",
       "detect_offset_d_round                                       ...            \n",
       "-5.0                       NaN     1.00      NaN       NaN  ...      NaN   \n",
       "-4.0                       NaN     1.10     0.85       NaN  ...      NaN   \n",
       "-3.0                       NaN     1.07     0.75       NaN  ...      NaN   \n",
       "-2.0                      1.78     1.05     0.70       NaN  ...      NaN   \n",
       "-1.0                      1.70      NaN     1.00       NaN  ...     1.51   \n",
       " 0.0                      2.56     1.92     1.00  1.043333  ...     3.10   \n",
       " 1.0                      3.26     1.61     1.00  1.070000  ...     3.84   \n",
       " 2.0                       NaN      NaN     1.10       NaN  ...      NaN   \n",
       " 3.0                       NaN      NaN      NaN       NaN  ...      NaN   \n",
       " 4.0                       NaN      NaN      NaN       NaN  ...      NaN   \n",
       " 5.0                       NaN      NaN      NaN       NaN  ...      NaN   \n",
       "\n",
       "patientunitstayid      3351357  3351374  3351733  3351749  3352065  3352336  \\\n",
       "detect_offset_d_round                                                         \n",
       "-5.0                       NaN      NaN      NaN      NaN      NaN      NaN   \n",
       "-4.0                       NaN      NaN      NaN      NaN      NaN      NaN   \n",
       "-3.0                       NaN      NaN      NaN      NaN      NaN      NaN   \n",
       "-2.0                      1.12     1.24     0.97      NaN      NaN      NaN   \n",
       "-1.0                      1.17     1.33      NaN      NaN     6.74     0.83   \n",
       " 0.0                      1.86     1.82     1.36     1.41     7.31     1.39   \n",
       " 1.0                      3.87     1.64     0.94     3.13     6.73     1.39   \n",
       " 2.0                      5.27      NaN     0.67     3.44      NaN     1.04   \n",
       " 3.0                       NaN      NaN     0.61      NaN      NaN      NaN   \n",
       " 4.0                       NaN      NaN      NaN      NaN      NaN      NaN   \n",
       " 5.0                       NaN      NaN      NaN      NaN      NaN      NaN   \n",
       "\n",
       "patientunitstayid      3353094  3353117  3353197  \n",
       "detect_offset_d_round                             \n",
       "-5.0                       NaN      NaN      NaN  \n",
       "-4.0                       NaN      NaN    0.960  \n",
       "-3.0                       NaN      NaN      NaN  \n",
       "-2.0                       NaN      NaN    0.785  \n",
       "-1.0                       NaN      NaN    0.920  \n",
       " 0.0                     1.415     1.18    1.340  \n",
       " 1.0                     1.270     1.75      NaN  \n",
       " 2.0                     0.870     1.76      NaN  \n",
       " 3.0                       NaN      NaN      NaN  \n",
       " 4.0                       NaN      NaN      NaN  \n",
       " 5.0                       NaN      NaN      NaN  \n",
       "\n",
       "[11 rows x 7215 columns]"
      ]
     },
     "execution_count": 266,
     "metadata": {},
     "output_type": "execute_result"
    }
   ],
   "source": [
    "creat_4plot_piv"
   ]
  },
  {
   "cell_type": "code",
   "execution_count": 267,
   "metadata": {},
   "outputs": [
    {
     "data": {
      "image/png": "[encoded data removed]",
      "text/plain": [
       "<Figure size 720x432 with 1 Axes>"
      ]
     },
     "metadata": {
      "needs_background": "light"
     },
     "output_type": "display_data"
    }
   ],
   "source": [
    "ave_daily = creat_4plot_piv.mean(axis=1)\n",
    "std_daily = creat_4plot_piv.std(axis=1)\n",
    "lower_bound = ave_daily-std_daily\n",
    "upper_bound = ave_daily+std_daily\n",
    "plt.figure(figsize=(10, 6))\n",
    "ave_daily.plot(label='Average creatinine')\n",
    "plt.fill_between(x=lower_bound.index, y1=lower_bound.values, y2=upper_bound.values, \\\n",
    "                 facecolor='cornflowerblue', alpha=0.25, label='+/- 1 St Dev')\n",
    "plt.legend(loc='upper left', fontsize=18)\n",
    "plt.ylabel('Creatinine (mg/dL)', fontsize=20)\n",
    "plt.xlabel('Time (days)', fontsize=20)\n",
    "plt.title('Creatinine change during kidney failure progression', fontsize=22)\n",
    "plt.axvline(0, ls='--', c='k')\n",
    "plt.annotate('Kidney failure onset', xy=(-0.15, 2.25), xytext=(-4, 2.5), arrowprops=dict(arrowstyle=\"->\"), \\\n",
    "            fontsize=18)\n",
    "plt.xticks(fontsize=16)\n",
    "plt.yticks(fontsize=16)\n",
    "plt.xticks([-5, -4, -3, -2, -1, 0, 1, 2, 3, 4, 5])\n",
    "plt.savefig('../images/creat_kid_prog.png')"
   ]
  },
  {
   "cell_type": "code",
   "execution_count": 272,
   "metadata": {},
   "outputs": [
    {
     "name": "stdout",
     "output_type": "stream",
     "text": [
      "Number of positive cases  7215\n",
      "Total number of patients  33176\n",
      "Fraction of positive cases  0.22\n"
     ]
    }
   ],
   "source": [
    "# number of positive cases\n",
    "num_pos = len(first_occur_comb)\n",
    "num_tot = len(creat.reset_index()['patientunitstayid'].unique())\n",
    "fraction = round(num_pos/num_tot, 2)\n",
    "print(\"Number of positive cases \", num_pos)\n",
    "print(\"Total number of patients \", num_tot)\n",
    "print(\"Fraction of positive cases \", fraction)"
   ]
  },
  {
   "cell_type": "markdown",
   "metadata": {},
   "source": [
    "### Although this is not the entire dataset, I expect to get similar ratios for the complete dataset. Next see if urine measurements provide similar results."
   ]
  },
  {
   "cell_type": "code",
   "execution_count": 274,
   "metadata": {},
   "outputs": [
    {
     "name": "stdout",
     "output_type": "stream",
     "text": [
      "611987\n",
      "611987\n"
     ]
    }
   ],
   "source": [
    "urine = pd.read_csv('../data/intermediate/urine_out_all_3d.csv')\n",
    "urine.columns = ['patientunitstayid', 'intakeoutputoffset', 'cellvaluenumeric', 'celllabel']\n",
    "print(len(urine))\n",
    "urine.drop_duplicates(inplace = True) \n",
    "print(len(urine))"
   ]
  },
  {
   "cell_type": "code",
   "execution_count": 275,
   "metadata": {},
   "outputs": [
    {
     "name": "stdout",
     "output_type": "stream",
     "text": [
      "600612\n"
     ]
    }
   ],
   "source": [
    "urine = urine.pivot_table(values='cellvaluenumeric', index=['patientunitstayid', 'intakeoutputoffset'], \\\n",
    "                          columns='celllabel', aggfunc='mean')\n",
    "print(len(urine))"
   ]
  },
  {
   "cell_type": "code",
   "execution_count": 276,
   "metadata": {},
   "outputs": [
    {
     "name": "stdout",
     "output_type": "stream",
     "text": [
      "11369\n"
     ]
    }
   ],
   "source": [
    "urine.dropna(inplace=True)\n",
    "print(len(urine))"
   ]
  },
  {
   "cell_type": "code",
   "execution_count": 277,
   "metadata": {},
   "outputs": [],
   "source": [
    "urine.columns = ['Bodyweight (kg)', 'Urine (mL)']\n",
    "urine.reset_index(inplace=True)\n",
    "urine['prev_intakeoutput'] = urine.groupby(['patientunitstayid'])['intakeoutputoffset'].shift(1)\n",
    "urine.fillna(0, inplace=True)\n",
    "urine['time_delta'] = urine['intakeoutputoffset'] - urine['prev_intakeoutput']"
   ]
  },
  {
   "cell_type": "code",
   "execution_count": 278,
   "metadata": {},
   "outputs": [],
   "source": [
    "urine['ml/kg/h'] = (urine['Urine (mL)']/urine['Bodyweight (kg)']) / (urine['time_delta'].abs()/60)\n",
    "urine['intakeoutputoffset'] = pd.to_timedelta(urine['intakeoutputoffset'], unit='minute')\n",
    "urine.set_index('intakeoutputoffset', inplace=True)\n",
    "urine['urine_6h_ave'] = urine.groupby('patientunitstayid')['ml/kg/h'].apply(lambda x: x.rolling('6h').mean()) "
   ]
  },
  {
   "cell_type": "code",
   "execution_count": 279,
   "metadata": {},
   "outputs": [],
   "source": [
    "urine.loc[urine['urine_6h_ave'] < 0.5, 'AKI_reached_6h'] = 1\n",
    "urine['AKI_reached_6h'].fillna(0, inplace=True)"
   ]
  },
  {
   "cell_type": "code",
   "execution_count": 280,
   "metadata": {},
   "outputs": [
    {
     "name": "stdout",
     "output_type": "stream",
     "text": [
      "5062\n"
     ]
    }
   ],
   "source": [
    "urine.reset_index(inplace=True)\n",
    "urine_6h_first = urine[urine['AKI_reached_6h']==1].groupby('patientunitstayid')['intakeoutputoffset'].first()\n",
    "urine_6h_first = urine_6h_first/pd.Timedelta('1 minute')\n",
    "print(len(urine_6h_first))"
   ]
  },
  {
   "cell_type": "code",
   "execution_count": 281,
   "metadata": {},
   "outputs": [
    {
     "data": {
      "text/plain": [
       "(6260,)"
      ]
     },
     "execution_count": 281,
     "metadata": {},
     "output_type": "execute_result"
    }
   ],
   "source": [
    "urine['patientunitstayid'].unique().shape"
   ]
  },
  {
   "cell_type": "markdown",
   "metadata": {},
   "source": [
    "# I cannot use urine measurement info\n",
    "80% of the data is missing. And out of 6260 patients for whom there is data 5062 appear to have developwd kidney injury. It is possible that there is a bias towards measuring the urine of at risk patients and some of the patient ids coincide with the ones identified from creatinine test. However, with so much missing data and very little information on negative patients this measure cannot be used. Especially since a single missed mea"
   ]
  },
  {
   "cell_type": "code",
   "execution_count": null,
   "metadata": {},
   "outputs": [],
   "source": []
  }
 ],
 "metadata": {
  "kernelspec": {
   "display_name": "Python 3",
   "language": "python",
   "name": "python3"
  },
  "language_info": {
   "codemirror_mode": {
    "name": "ipython",
    "version": 3
   },
   "file_extension": ".py",
   "mimetype": "text/x-python",
   "name": "python",
   "nbconvert_exporter": "python",
   "pygments_lexer": "ipython3",
   "version": "3.8.3"
  }
 },
 "nbformat": 4,
 "nbformat_minor": 4
}
