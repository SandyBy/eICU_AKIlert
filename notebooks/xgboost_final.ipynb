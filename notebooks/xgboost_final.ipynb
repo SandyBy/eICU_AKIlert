{
 "cells": [
  {
   "cell_type": "code",
   "execution_count": 14,
   "metadata": {},
   "outputs": [
    {
     "name": "stderr",
     "output_type": "stream",
     "text": [
      "/Users/zhannahakhverdyan/anaconda3/envs/predict_dialisys_need/lib/python3.8/site-packages/IPython/core/interactiveshell.py:3062: DtypeWarning: Columns (2,3) have mixed types.Specify dtype option on import or set low_memory=False.\n",
      "  has_raised = await self.run_ast_nodes(code_ast.body, cell_name,\n"
     ]
    }
   ],
   "source": [
    "import pandas as pd\n",
    "fold1 = pd.read_csv('../data/final/fold1.csv')\n",
    "fold2 = pd.read_csv('../data/final/fold2.csv')\n",
    "fold3 = pd.read_csv('../data/final/fold3.csv')\n",
    "fold4 = pd.read_csv('../data/final/fold4.csv')"
   ]
  },
  {
   "cell_type": "code",
   "execution_count": 15,
   "metadata": {},
   "outputs": [],
   "source": [
    "fold1.set_index('Unnamed: 0', inplace=True)\n",
    "fold2.set_index('Unnamed: 0', inplace=True)\n",
    "fold3.set_index('Unnamed: 0', inplace=True)\n",
    "fold4.set_index('Unnamed: 0', inplace=True)\n",
    "columns = ['BUN', 'bicarbonate', 'calcium', 'chloride',\n",
    "           'creatinine', 'glucose', 'potassium', 'sodium',\n",
    "           'BUN_min', 'BUN_mean', 'BUN_max', 'BUN_var', 'bicarbonate_min',\n",
    "           'bicarbonate_mean', 'bicarbonate_max', 'bicarbonate_var', 'calcium_min',\n",
    "           'calcium_mean', 'calcium_max', 'calcium_var', 'chloride_min',\n",
    "           'chloride_mean', 'chloride_max', 'chloride_var', 'creatinine_min',\n",
    "           'creatinine_mean', 'creatinine_max', 'creatinine_var', 'glucose_min',\n",
    "           'glucose_mean', 'glucose_max', 'glucose_var', 'potassium_min',\n",
    "           'potassium_mean', 'potassium_max', 'potassium_var', 'sodium_min',\n",
    "           'sodium_mean', 'sodium_max', 'sodium_var'\n",
    "          ]"
   ]
  },
  {
   "cell_type": "code",
   "execution_count": 47,
   "metadata": {},
   "outputs": [
    {
     "name": "stdout",
     "output_type": "stream",
     "text": [
      "(132164, 40)\n",
      "(132164,)\n",
      "(44285, 40)\n",
      "(44285,)\n",
      "(43720, 40)\n",
      "(43720,)\n",
      "0.12974032262946036\n",
      "0.12979564186519138\n",
      "0.1334858188472095\n"
     ]
    }
   ],
   "source": [
    "def relabel_data(df):\n",
    "    df['time_to_detect'] = pd.to_timedelta(df['time_to_detect'])\n",
    "    df.loc[df['time_to_detect']<=pd.Timedelta('36h'), 'positive_window'] = 1\n",
    "    return df\n",
    "fold1 = relabel_data(fold1)\n",
    "fold2 = relabel_data(fold2)\n",
    "fold3 = relabel_data(fold3)\n",
    "fold4 = relabel_data(fold4)\n",
    "\n",
    "X_train = pd.concat([fold1[columns], fold2[columns], fold3[columns]], axis=0)\n",
    "print(X_train.shape)\n",
    "y_train = pd.concat([fold1['positive_window'], fold2['positive_window'], fold3['positive_window']], axis=0)\n",
    "print(y_train.shape)\n",
    "X_val = fold3[columns]\n",
    "print(X_val.shape)\n",
    "y_val = fold3['positive_window']\n",
    "print(y_val.shape)  \n",
    "X_test = fold4[columns]\n",
    "print(X_test.shape)\n",
    "y_test = fold4['positive_window']\n",
    "print(y_test.shape)\n",
    "print(y_train.sum()/len(y_train))\n",
    "print(y_val.sum()/len(y_val))\n",
    "print(y_test.sum()/len(y_test))"
   ]
  },
  {
   "cell_type": "code",
   "execution_count": 120,
   "metadata": {},
   "outputs": [
    {
     "name": "stdout",
     "output_type": "stream",
     "text": [
      "175884\n",
      "22983.0\n"
     ]
    }
   ],
   "source": [
    "print(len(fold1)+len(fold2)+len(fold3)+len(fold4))\n",
    "print(sum(y_train)+sum(y_test))"
   ]
  },
  {
   "cell_type": "code",
   "execution_count": 17,
   "metadata": {},
   "outputs": [
    {
     "data": {
      "text/plain": [
       "Int64Index([   27,    28,    40,    41,    87,    88,    89,    90,    91,\n",
       "               95,\n",
       "            ...\n",
       "            89278, 89279, 89280, 89281, 89282, 89283, 89284, 89318, 89319,\n",
       "            89320],\n",
       "           dtype='int64', name='Unnamed: 0', length=87879)"
      ]
     },
     "execution_count": 17,
     "metadata": {},
     "output_type": "execute_result"
    }
   ],
   "source": [
    "X_train.index"
   ]
  },
  {
   "cell_type": "code",
   "execution_count": 36,
   "metadata": {},
   "outputs": [
    {
     "data": {
      "text/html": [
       "<div>\n",
       "<style scoped>\n",
       "    .dataframe tbody tr th:only-of-type {\n",
       "        vertical-align: middle;\n",
       "    }\n",
       "\n",
       "    .dataframe tbody tr th {\n",
       "        vertical-align: top;\n",
       "    }\n",
       "\n",
       "    .dataframe thead th {\n",
       "        text-align: right;\n",
       "    }\n",
       "</style>\n",
       "<table border=\"1\" class=\"dataframe\">\n",
       "  <thead>\n",
       "    <tr style=\"text-align: right;\">\n",
       "      <th></th>\n",
       "      <th>BUN</th>\n",
       "      <th>bicarbonate</th>\n",
       "      <th>calcium</th>\n",
       "      <th>chloride</th>\n",
       "      <th>creatinine</th>\n",
       "      <th>glucose</th>\n",
       "      <th>potassium</th>\n",
       "      <th>sodium</th>\n",
       "      <th>BUN_min</th>\n",
       "      <th>BUN_mean</th>\n",
       "      <th>...</th>\n",
       "      <th>glucose_max</th>\n",
       "      <th>glucose_var</th>\n",
       "      <th>potassium_min</th>\n",
       "      <th>potassium_mean</th>\n",
       "      <th>potassium_max</th>\n",
       "      <th>potassium_var</th>\n",
       "      <th>sodium_min</th>\n",
       "      <th>sodium_mean</th>\n",
       "      <th>sodium_max</th>\n",
       "      <th>sodium_var</th>\n",
       "    </tr>\n",
       "    <tr>\n",
       "      <th>Unnamed: 0</th>\n",
       "      <th></th>\n",
       "      <th></th>\n",
       "      <th></th>\n",
       "      <th></th>\n",
       "      <th></th>\n",
       "      <th></th>\n",
       "      <th></th>\n",
       "      <th></th>\n",
       "      <th></th>\n",
       "      <th></th>\n",
       "      <th></th>\n",
       "      <th></th>\n",
       "      <th></th>\n",
       "      <th></th>\n",
       "      <th></th>\n",
       "      <th></th>\n",
       "      <th></th>\n",
       "      <th></th>\n",
       "      <th></th>\n",
       "      <th></th>\n",
       "      <th></th>\n",
       "    </tr>\n",
       "  </thead>\n",
       "  <tbody>\n",
       "    <tr>\n",
       "      <th>89283</th>\n",
       "      <td>18.0</td>\n",
       "      <td>26.0</td>\n",
       "      <td>9.1</td>\n",
       "      <td>105.0</td>\n",
       "      <td>0.56</td>\n",
       "      <td>109.0</td>\n",
       "      <td>3.6</td>\n",
       "      <td>139.0</td>\n",
       "      <td>18.0</td>\n",
       "      <td>20.5</td>\n",
       "      <td>...</td>\n",
       "      <td>123.0</td>\n",
       "      <td>98.000000</td>\n",
       "      <td>3.3</td>\n",
       "      <td>3.45</td>\n",
       "      <td>3.6</td>\n",
       "      <td>0.045</td>\n",
       "      <td>139.0</td>\n",
       "      <td>140.500000</td>\n",
       "      <td>142.0</td>\n",
       "      <td>4.500000</td>\n",
       "    </tr>\n",
       "    <tr>\n",
       "      <th>89284</th>\n",
       "      <td>19.0</td>\n",
       "      <td>28.0</td>\n",
       "      <td>9.0</td>\n",
       "      <td>107.0</td>\n",
       "      <td>0.61</td>\n",
       "      <td>102.0</td>\n",
       "      <td>3.9</td>\n",
       "      <td>140.0</td>\n",
       "      <td>18.0</td>\n",
       "      <td>20.0</td>\n",
       "      <td>...</td>\n",
       "      <td>123.0</td>\n",
       "      <td>114.333333</td>\n",
       "      <td>3.3</td>\n",
       "      <td>3.60</td>\n",
       "      <td>3.9</td>\n",
       "      <td>0.090</td>\n",
       "      <td>139.0</td>\n",
       "      <td>140.333333</td>\n",
       "      <td>142.0</td>\n",
       "      <td>2.333333</td>\n",
       "    </tr>\n",
       "    <tr>\n",
       "      <th>89318</th>\n",
       "      <td>21.0</td>\n",
       "      <td>24.0</td>\n",
       "      <td>8.4</td>\n",
       "      <td>103.0</td>\n",
       "      <td>0.75</td>\n",
       "      <td>94.0</td>\n",
       "      <td>4.3</td>\n",
       "      <td>132.0</td>\n",
       "      <td>21.0</td>\n",
       "      <td>22.0</td>\n",
       "      <td>...</td>\n",
       "      <td>114.0</td>\n",
       "      <td>200.000000</td>\n",
       "      <td>3.5</td>\n",
       "      <td>3.90</td>\n",
       "      <td>4.3</td>\n",
       "      <td>0.320</td>\n",
       "      <td>132.0</td>\n",
       "      <td>133.000000</td>\n",
       "      <td>134.0</td>\n",
       "      <td>2.000000</td>\n",
       "    </tr>\n",
       "    <tr>\n",
       "      <th>89319</th>\n",
       "      <td>16.0</td>\n",
       "      <td>29.0</td>\n",
       "      <td>9.1</td>\n",
       "      <td>97.0</td>\n",
       "      <td>0.86</td>\n",
       "      <td>82.0</td>\n",
       "      <td>3.9</td>\n",
       "      <td>131.0</td>\n",
       "      <td>16.0</td>\n",
       "      <td>20.0</td>\n",
       "      <td>...</td>\n",
       "      <td>114.0</td>\n",
       "      <td>261.333333</td>\n",
       "      <td>3.5</td>\n",
       "      <td>3.90</td>\n",
       "      <td>4.3</td>\n",
       "      <td>0.160</td>\n",
       "      <td>131.0</td>\n",
       "      <td>132.333333</td>\n",
       "      <td>134.0</td>\n",
       "      <td>2.333333</td>\n",
       "    </tr>\n",
       "    <tr>\n",
       "      <th>89320</th>\n",
       "      <td>13.0</td>\n",
       "      <td>26.0</td>\n",
       "      <td>8.8</td>\n",
       "      <td>103.0</td>\n",
       "      <td>0.77</td>\n",
       "      <td>84.0</td>\n",
       "      <td>4.0</td>\n",
       "      <td>137.0</td>\n",
       "      <td>13.0</td>\n",
       "      <td>14.5</td>\n",
       "      <td>...</td>\n",
       "      <td>84.0</td>\n",
       "      <td>2.000000</td>\n",
       "      <td>3.9</td>\n",
       "      <td>3.95</td>\n",
       "      <td>4.0</td>\n",
       "      <td>0.005</td>\n",
       "      <td>131.0</td>\n",
       "      <td>134.000000</td>\n",
       "      <td>137.0</td>\n",
       "      <td>18.000000</td>\n",
       "    </tr>\n",
       "  </tbody>\n",
       "</table>\n",
       "<p>5 rows × 40 columns</p>\n",
       "</div>"
      ],
      "text/plain": [
       "             BUN  bicarbonate  calcium  chloride  creatinine  glucose  \\\n",
       "Unnamed: 0                                                              \n",
       "89283       18.0         26.0      9.1     105.0        0.56    109.0   \n",
       "89284       19.0         28.0      9.0     107.0        0.61    102.0   \n",
       "89318       21.0         24.0      8.4     103.0        0.75     94.0   \n",
       "89319       16.0         29.0      9.1      97.0        0.86     82.0   \n",
       "89320       13.0         26.0      8.8     103.0        0.77     84.0   \n",
       "\n",
       "            potassium  sodium  BUN_min  BUN_mean  ...  glucose_max  \\\n",
       "Unnamed: 0                                        ...                \n",
       "89283             3.6   139.0     18.0      20.5  ...        123.0   \n",
       "89284             3.9   140.0     18.0      20.0  ...        123.0   \n",
       "89318             4.3   132.0     21.0      22.0  ...        114.0   \n",
       "89319             3.9   131.0     16.0      20.0  ...        114.0   \n",
       "89320             4.0   137.0     13.0      14.5  ...         84.0   \n",
       "\n",
       "            glucose_var  potassium_min  potassium_mean  potassium_max  \\\n",
       "Unnamed: 0                                                              \n",
       "89283         98.000000            3.3            3.45            3.6   \n",
       "89284        114.333333            3.3            3.60            3.9   \n",
       "89318        200.000000            3.5            3.90            4.3   \n",
       "89319        261.333333            3.5            3.90            4.3   \n",
       "89320          2.000000            3.9            3.95            4.0   \n",
       "\n",
       "            potassium_var  sodium_min  sodium_mean  sodium_max  sodium_var  \n",
       "Unnamed: 0                                                                  \n",
       "89283               0.045       139.0   140.500000       142.0    4.500000  \n",
       "89284               0.090       139.0   140.333333       142.0    2.333333  \n",
       "89318               0.320       132.0   133.000000       134.0    2.000000  \n",
       "89319               0.160       131.0   132.333333       134.0    2.333333  \n",
       "89320               0.005       131.0   134.000000       137.0   18.000000  \n",
       "\n",
       "[5 rows x 40 columns]"
      ]
     },
     "execution_count": 36,
     "metadata": {},
     "output_type": "execute_result"
    }
   ],
   "source": [
    "X_train.tail()"
   ]
  },
  {
   "cell_type": "code",
   "execution_count": 44,
   "metadata": {},
   "outputs": [
    {
     "data": {
      "text/plain": [
       "[(array([   27,    28,    40, ..., 89318, 89319, 89320]),\n",
       "  array([    5,     6,     7, ..., 89329, 89330, 89331])),\n",
       " (array([   27,    28,    40, ..., 89329, 89330, 89331]),\n",
       "  array([    8,    17,    81, ..., 89318, 89319, 89320])),\n",
       " (array([    8,    17,    81, ..., 89329, 89330, 89331]),\n",
       "  array([   27,    28,    40, ..., 89313, 89321, 89322]))]"
      ]
     },
     "execution_count": 44,
     "metadata": {},
     "output_type": "execute_result"
    }
   ],
   "source": [
    "#import numpy as np\n",
    "cv1_train = np.concatenate((np.array(fold1.index), np.array(fold2.index)))\n",
    "cv1_test = np.array(fold3.index)\n",
    "cv2_train = np.concatenate((np.array(fold1.index), np.array(fold3.index))) \n",
    "cv2_test = np.array(fold2.index)\n",
    "cv3_train = np.concatenate((np.array(fold2.index), np.array(fold3.index)))\n",
    "cv3_test = np.array(fold1.index)\n",
    "custom_cv = []\n",
    "custom_cv.append((cv1_train, cv1_test))\n",
    "custom_cv.append((cv2_train, cv2_test))\n",
    "custom_cv.append((cv3_train, cv3_test))\n",
    "custom_cv\n",
    "# custom_cv = []\n",
    "# custom_cv.append((fold1.index.tolist(), fold2.index.tolist()))\n",
    "# custom_cv.append((fold2.index.tolist(), fold1.index.tolist()))\n",
    "# #custom_cv"
   ]
  },
  {
   "cell_type": "markdown",
   "metadata": {},
   "source": [
    "class xgboost.XGBClassifier(objective='binary:logistic', **kwargs)\n",
    "Bases: xgboost.sklearn.XGBModel, object\n",
    "\n",
    "Implementation of the scikit-learn API for XGBoost classification.\n",
    "\n",
    "Parameters\n",
    "max_depth (int) – Maximum tree depth for base learners.\n",
    "\n",
    "learning_rate (float) – Boosting learning rate (xgb’s “eta”)\n",
    "\n",
    "verbosity (int) – The degree of verbosity. Valid values are 0 (silent) - 3 (debug).\n",
    "\n",
    "objective (string or callable) – Specify the learning task and the corresponding learning objective or a custom objective function to be used (see note below).\n",
    "\n",
    "booster (string) – Specify which booster to use: gbtree, gblinear or dart.\n",
    "\n",
    "tree_method (string) – Specify which tree method to use. Default to auto. If this parameter is set to default, XGBoost will choose the most conservative option available. It’s recommended to study this option from parameters document.\n",
    "\n",
    "n_jobs (int) – Number of parallel threads used to run xgboost.\n",
    "\n",
    "gamma (float) – Minimum loss reduction required to make a further partition on a leaf node of the tree.\n",
    "\n",
    "min_child_weight (int) – Minimum sum of instance weight(hessian) needed in a child.\n",
    "\n",
    "max_delta_step (int) – Maximum delta step we allow each tree’s weight estimation to be.\n",
    "\n",
    "subsample (float) – Subsample ratio of the training instance.\n",
    "\n",
    "colsample_bytree (float) – Subsample ratio of columns when constructing each tree.\n",
    "\n",
    "colsample_bylevel (float) – Subsample ratio of columns for each level.\n",
    "\n",
    "colsample_bynode (float) – Subsample ratio of columns for each split.\n",
    "\n",
    "reg_alpha (float (xgb's alpha)) – L1 regularization term on weights\n",
    "\n",
    "reg_lambda (float (xgb's lambda)) – L2 regularization term on weights\n",
    "\n",
    "scale_pos_weight (float) – Balancing of positive and negative weights.\n",
    "\n",
    "base_score – The initial prediction score of all instances, global bias.\n",
    "\n",
    "random_state (int) –\n",
    "\n",
    "Random number seed.\n",
    "\n",
    "Note\n",
    "Using gblinear booster with shotgun updater is nondeterministic as it uses Hogwild algorithm.\n",
    "\n",
    "missing (float, default np.nan) – Value in the data which needs to be present as a missing value.\n",
    "\n",
    "num_parallel_tree (int) – Used for boosting random forest.\n",
    "\n",
    "monotone_constraints (str) – Constraint of variable monotonicity. See tutorial for more information.\n",
    "\n",
    "interaction_constraints (str) – Constraints for interaction representing permitted interactions. The constraints must be specified in the form of a nest list, e.g. [[0, 1], [2, 3, 4]], where each inner list is a group of indices of features that are allowed to interact with each other. See tutorial for more information\n",
    "\n",
    "importance_type (string, default \"gain\") – The feature importance type for the feature_importances_ property: either “gain”, “weight”, “cover”, “total_gain” or “total_cover”."
   ]
  },
  {
   "cell_type": "code",
   "execution_count": 72,
   "metadata": {},
   "outputs": [
    {
     "name": "stdout",
     "output_type": "stream",
     "text": [
      "Fitting 3 folds for each of 100 candidates, totalling 300 fits\n"
     ]
    },
    {
     "name": "stderr",
     "output_type": "stream",
     "text": [
      "[Parallel(n_jobs=-1)]: Using backend LokyBackend with 4 concurrent workers.\n",
      "[Parallel(n_jobs=-1)]: Done  42 tasks      | elapsed:  5.9min\n",
      "[Parallel(n_jobs=-1)]: Done 192 tasks      | elapsed: 27.6min\n",
      "[Parallel(n_jobs=-1)]: Done 300 out of 300 | elapsed: 43.7min finished\n"
     ]
    }
   ],
   "source": [
    "from sklearn.model_selection import RandomizedSearchCV\n",
    "from sklearn.metrics import average_precision_score, make_scorer\n",
    "\n",
    "random_state=2020\n",
    "\n",
    "xgbc = xgb.XGBClassifier(scale_pos_weight=7, objective='binary:logistic', \\\n",
    "                         eval_metric=['aucpr'], \\\n",
    "                             random_state=random_state, boosting_rounds=50, early_stopping_rounds=10)\n",
    "\n",
    "\n",
    "# Define our search space for grid search\n",
    "search_space = [\n",
    "  {\n",
    "      'min_split_loss': range(1, 10),\n",
    "    'learning_rate': [0.01, 0.05, 0.1, 0.2, 0.3, 0.5],\n",
    "    'max_depth': range(3, 10),\n",
    "      'min_child_weight': range(1, 10),\n",
    "      'max_delta_step': range(0,11),\n",
    "      'subsample': [0.5, 0.75, 1],\n",
    "      'colsample_bytree':[0.5, 0.75, 1], \n",
    "      'colsample_bylevel':[0.5, 0.75, 1], \n",
    "      'colsample_bynode':[0.5, 0.75, 1],\n",
    "    'gamma': [i/10.0 for i in range(3)],\n",
    "    'lambda': np.logspace(-2, 2, num=3),\n",
    "      'alpha': [0, 0.1, 0.5, 1]\n",
    "  }\n",
    "]\n",
    "\n",
    "# AUC and average precision as score\n",
    "scoring = {'AUC':'roc_auc', 'Average precision':make_scorer(average_precision_score)}\n",
    "# Define grid search\n",
    "grid = RandomizedSearchCV(\n",
    "                          xgbc,\n",
    "                          search_space,\n",
    "                          cv=custom_cv,\n",
    "                          scoring=scoring,\n",
    "                          refit=False,\n",
    "                          n_iter=100,\n",
    "                          verbose=1,\n",
    "                          n_jobs=-1,\n",
    "                          return_train_score=True\n",
    ")\n",
    "# Fit grid search\n",
    "model = grid.fit(X_train, y_train)"
   ]
  },
  {
   "cell_type": "code",
   "execution_count": 81,
   "metadata": {
    "scrolled": false
   },
   "outputs": [
    {
     "data": {
      "text/plain": [
       "{'subsample': 1,\n",
       " 'min_split_loss': 2,\n",
       " 'min_child_weight': 3,\n",
       " 'max_depth': 9,\n",
       " 'max_delta_step': 6,\n",
       " 'learning_rate': 0.5,\n",
       " 'lambda': 1.0,\n",
       " 'gamma': 0.2,\n",
       " 'colsample_bytree': 0.5,\n",
       " 'colsample_bynode': 0.5,\n",
       " 'colsample_bylevel': 1,\n",
       " 'alpha': 1}"
      ]
     },
     "execution_count": 81,
     "metadata": {},
     "output_type": "execute_result"
    }
   ],
   "source": [
    "grid.cv_results_['params'][78]"
   ]
  },
  {
   "cell_type": "code",
   "execution_count": 75,
   "metadata": {},
   "outputs": [
    {
     "data": {
      "text/html": [
       "<div>\n",
       "<style scoped>\n",
       "    .dataframe tbody tr th:only-of-type {\n",
       "        vertical-align: middle;\n",
       "    }\n",
       "\n",
       "    .dataframe tbody tr th {\n",
       "        vertical-align: top;\n",
       "    }\n",
       "\n",
       "    .dataframe thead th {\n",
       "        text-align: right;\n",
       "    }\n",
       "</style>\n",
       "<table border=\"1\" class=\"dataframe\">\n",
       "  <thead>\n",
       "    <tr style=\"text-align: right;\">\n",
       "      <th></th>\n",
       "      <th>mean_test_AUC</th>\n",
       "      <th>mean_train_AUC</th>\n",
       "      <th>mean_test_Average precision</th>\n",
       "      <th>mean_train_Average precision</th>\n",
       "    </tr>\n",
       "  </thead>\n",
       "  <tbody>\n",
       "    <tr>\n",
       "      <th>78</th>\n",
       "      <td>0.881235</td>\n",
       "      <td>0.999886</td>\n",
       "      <td>0.486099</td>\n",
       "      <td>0.934481</td>\n",
       "    </tr>\n",
       "    <tr>\n",
       "      <th>17</th>\n",
       "      <td>0.875816</td>\n",
       "      <td>0.999814</td>\n",
       "      <td>0.476406</td>\n",
       "      <td>0.924361</td>\n",
       "    </tr>\n",
       "    <tr>\n",
       "      <th>85</th>\n",
       "      <td>0.864658</td>\n",
       "      <td>0.998577</td>\n",
       "      <td>0.434594</td>\n",
       "      <td>0.852280</td>\n",
       "    </tr>\n",
       "    <tr>\n",
       "      <th>66</th>\n",
       "      <td>0.882778</td>\n",
       "      <td>0.995104</td>\n",
       "      <td>0.421428</td>\n",
       "      <td>0.729940</td>\n",
       "    </tr>\n",
       "    <tr>\n",
       "      <th>84</th>\n",
       "      <td>0.872596</td>\n",
       "      <td>0.995321</td>\n",
       "      <td>0.411933</td>\n",
       "      <td>0.754681</td>\n",
       "    </tr>\n",
       "    <tr>\n",
       "      <th>...</th>\n",
       "      <td>...</td>\n",
       "      <td>...</td>\n",
       "      <td>...</td>\n",
       "      <td>...</td>\n",
       "    </tr>\n",
       "    <tr>\n",
       "      <th>30</th>\n",
       "      <td>0.737089</td>\n",
       "      <td>0.751956</td>\n",
       "      <td>0.205434</td>\n",
       "      <td>0.210661</td>\n",
       "    </tr>\n",
       "    <tr>\n",
       "      <th>74</th>\n",
       "      <td>0.733630</td>\n",
       "      <td>0.746621</td>\n",
       "      <td>0.201414</td>\n",
       "      <td>0.206193</td>\n",
       "    </tr>\n",
       "    <tr>\n",
       "      <th>82</th>\n",
       "      <td>0.729078</td>\n",
       "      <td>0.739631</td>\n",
       "      <td>0.200570</td>\n",
       "      <td>0.204050</td>\n",
       "    </tr>\n",
       "    <tr>\n",
       "      <th>40</th>\n",
       "      <td>0.729590</td>\n",
       "      <td>0.742033</td>\n",
       "      <td>0.199503</td>\n",
       "      <td>0.204592</td>\n",
       "    </tr>\n",
       "    <tr>\n",
       "      <th>57</th>\n",
       "      <td>0.694812</td>\n",
       "      <td>0.701424</td>\n",
       "      <td>0.185036</td>\n",
       "      <td>0.186962</td>\n",
       "    </tr>\n",
       "  </tbody>\n",
       "</table>\n",
       "<p>100 rows × 4 columns</p>\n",
       "</div>"
      ],
      "text/plain": [
       "    mean_test_AUC  mean_train_AUC  mean_test_Average precision  \\\n",
       "78       0.881235        0.999886                     0.486099   \n",
       "17       0.875816        0.999814                     0.476406   \n",
       "85       0.864658        0.998577                     0.434594   \n",
       "66       0.882778        0.995104                     0.421428   \n",
       "84       0.872596        0.995321                     0.411933   \n",
       "..            ...             ...                          ...   \n",
       "30       0.737089        0.751956                     0.205434   \n",
       "74       0.733630        0.746621                     0.201414   \n",
       "82       0.729078        0.739631                     0.200570   \n",
       "40       0.729590        0.742033                     0.199503   \n",
       "57       0.694812        0.701424                     0.185036   \n",
       "\n",
       "    mean_train_Average precision  \n",
       "78                      0.934481  \n",
       "17                      0.924361  \n",
       "85                      0.852280  \n",
       "66                      0.729940  \n",
       "84                      0.754681  \n",
       "..                           ...  \n",
       "30                      0.210661  \n",
       "74                      0.206193  \n",
       "82                      0.204050  \n",
       "40                      0.204592  \n",
       "57                      0.186962  \n",
       "\n",
       "[100 rows x 4 columns]"
      ]
     },
     "execution_count": 75,
     "metadata": {},
     "output_type": "execute_result"
    }
   ],
   "source": [
    "results = pd.DataFrame({'mean_test_AUC':grid.cv_results_['mean_test_AUC'], \\\n",
    "                        'mean_train_AUC':grid.cv_results_['mean_train_AUC'],\\\n",
    "                        'mean_test_Average precision':grid.cv_results_['mean_test_Average precision'],\\\n",
    "                        'mean_train_Average precision':grid.cv_results_['mean_train_Average precision']})\n",
    "results.sort_values(by='mean_test_Average precision', ascending=False)"
   ]
  },
  {
   "cell_type": "code",
   "execution_count": 79,
   "metadata": {},
   "outputs": [
    {
     "data": {
      "image/png": "[encoded data removed]",
      "text/plain": [
       "<Figure size 432x288 with 1 Axes>"
      ]
     },
     "metadata": {
      "needs_background": "light"
     },
     "output_type": "display_data"
    },
    {
     "data": {
      "text/plain": [
       "<matplotlib.axes._subplots.AxesSubplot at 0x120afec70>"
      ]
     },
     "execution_count": 79,
     "metadata": {},
     "output_type": "execute_result"
    },
    {
     "data": {
      "image/png": "[encoded data removed]",
      "text/plain": [
       "<Figure size 432x288 with 1 Axes>"
      ]
     },
     "metadata": {
      "needs_background": "light"
     },
     "output_type": "display_data"
    }
   ],
   "source": [
    "import matplotlib.pyplot as plt\n",
    "results.plot.scatter(x='mean_train_Average precision', y='mean_test_Average precision')\n",
    "plt.show()\n",
    "results[['mean_train_Average precision', 'mean_test_Average precision']].plot()"
   ]
  },
  {
   "cell_type": "code",
   "execution_count": 82,
   "metadata": {
    "scrolled": false
   },
   "outputs": [
    {
     "name": "stdout",
     "output_type": "stream",
     "text": [
      "[0]\tvalidation_0-aucpr:0.29005\tvalidation_1-aucpr:0.19875\n",
      "[1]\tvalidation_0-aucpr:0.33389\tvalidation_1-aucpr:0.21717\n",
      "[2]\tvalidation_0-aucpr:0.41839\tvalidation_1-aucpr:0.26291\n",
      "[3]\tvalidation_0-aucpr:0.45617\tvalidation_1-aucpr:0.29399\n",
      "[4]\tvalidation_0-aucpr:0.48490\tvalidation_1-aucpr:0.29151\n",
      "[5]\tvalidation_0-aucpr:0.52676\tvalidation_1-aucpr:0.30990\n",
      "[6]\tvalidation_0-aucpr:0.54172\tvalidation_1-aucpr:0.31086\n",
      "[7]\tvalidation_0-aucpr:0.55182\tvalidation_1-aucpr:0.30938\n",
      "[8]\tvalidation_0-aucpr:0.57396\tvalidation_1-aucpr:0.30955\n",
      "[9]\tvalidation_0-aucpr:0.59034\tvalidation_1-aucpr:0.30826\n",
      "[10]\tvalidation_0-aucpr:0.59974\tvalidation_1-aucpr:0.30951\n",
      "[11]\tvalidation_0-aucpr:0.62039\tvalidation_1-aucpr:0.30974\n",
      "[12]\tvalidation_0-aucpr:0.62921\tvalidation_1-aucpr:0.31153\n",
      "[13]\tvalidation_0-aucpr:0.64506\tvalidation_1-aucpr:0.30748\n",
      "[14]\tvalidation_0-aucpr:0.65811\tvalidation_1-aucpr:0.30675\n",
      "[15]\tvalidation_0-aucpr:0.67068\tvalidation_1-aucpr:0.30631\n",
      "[16]\tvalidation_0-aucpr:0.67765\tvalidation_1-aucpr:0.30545\n",
      "[17]\tvalidation_0-aucpr:0.69314\tvalidation_1-aucpr:0.30298\n",
      "[18]\tvalidation_0-aucpr:0.70633\tvalidation_1-aucpr:0.30234\n",
      "[19]\tvalidation_0-aucpr:0.71471\tvalidation_1-aucpr:0.30547\n",
      "[20]\tvalidation_0-aucpr:0.72490\tvalidation_1-aucpr:0.30564\n",
      "[21]\tvalidation_0-aucpr:0.73414\tvalidation_1-aucpr:0.31445\n",
      "[22]\tvalidation_0-aucpr:0.74033\tvalidation_1-aucpr:0.31386\n",
      "[23]\tvalidation_0-aucpr:0.75507\tvalidation_1-aucpr:0.31001\n",
      "[24]\tvalidation_0-aucpr:0.76112\tvalidation_1-aucpr:0.30964\n",
      "[25]\tvalidation_0-aucpr:0.76700\tvalidation_1-aucpr:0.31280\n",
      "[26]\tvalidation_0-aucpr:0.77039\tvalidation_1-aucpr:0.31417\n",
      "[27]\tvalidation_0-aucpr:0.77353\tvalidation_1-aucpr:0.31587\n",
      "[28]\tvalidation_0-aucpr:0.77985\tvalidation_1-aucpr:0.31491\n",
      "[29]\tvalidation_0-aucpr:0.78668\tvalidation_1-aucpr:0.31406\n",
      "[30]\tvalidation_0-aucpr:0.79565\tvalidation_1-aucpr:0.31436\n",
      "[31]\tvalidation_0-aucpr:0.80358\tvalidation_1-aucpr:0.31312\n",
      "[32]\tvalidation_0-aucpr:0.81356\tvalidation_1-aucpr:0.31208\n",
      "[33]\tvalidation_0-aucpr:0.81992\tvalidation_1-aucpr:0.31261\n",
      "[34]\tvalidation_0-aucpr:0.82408\tvalidation_1-aucpr:0.31168\n",
      "[35]\tvalidation_0-aucpr:0.83171\tvalidation_1-aucpr:0.31033\n",
      "[36]\tvalidation_0-aucpr:0.83733\tvalidation_1-aucpr:0.30900\n",
      "[37]\tvalidation_0-aucpr:0.84704\tvalidation_1-aucpr:0.30643\n",
      "[38]\tvalidation_0-aucpr:0.85350\tvalidation_1-aucpr:0.30875\n",
      "[39]\tvalidation_0-aucpr:0.86538\tvalidation_1-aucpr:0.30689\n",
      "[40]\tvalidation_0-aucpr:0.86778\tvalidation_1-aucpr:0.30691\n",
      "[41]\tvalidation_0-aucpr:0.87563\tvalidation_1-aucpr:0.30564\n",
      "[42]\tvalidation_0-aucpr:0.87899\tvalidation_1-aucpr:0.30521\n",
      "[43]\tvalidation_0-aucpr:0.88228\tvalidation_1-aucpr:0.30523\n",
      "[44]\tvalidation_0-aucpr:0.88341\tvalidation_1-aucpr:0.30497\n",
      "[45]\tvalidation_0-aucpr:0.88492\tvalidation_1-aucpr:0.30486\n",
      "[46]\tvalidation_0-aucpr:0.89090\tvalidation_1-aucpr:0.30435\n",
      "[47]\tvalidation_0-aucpr:0.89482\tvalidation_1-aucpr:0.30737\n",
      "[48]\tvalidation_0-aucpr:0.89999\tvalidation_1-aucpr:0.30818\n",
      "[49]\tvalidation_0-aucpr:0.90670\tvalidation_1-aucpr:0.30790\n",
      "[50]\tvalidation_0-aucpr:0.90980\tvalidation_1-aucpr:0.30891\n",
      "[51]\tvalidation_0-aucpr:0.91343\tvalidation_1-aucpr:0.30752\n",
      "[52]\tvalidation_0-aucpr:0.91499\tvalidation_1-aucpr:0.30739\n",
      "[53]\tvalidation_0-aucpr:0.91697\tvalidation_1-aucpr:0.30767\n",
      "[54]\tvalidation_0-aucpr:0.91901\tvalidation_1-aucpr:0.30741\n",
      "[55]\tvalidation_0-aucpr:0.92195\tvalidation_1-aucpr:0.30866\n",
      "[56]\tvalidation_0-aucpr:0.92499\tvalidation_1-aucpr:0.30808\n",
      "[57]\tvalidation_0-aucpr:0.92637\tvalidation_1-aucpr:0.30855\n",
      "[58]\tvalidation_0-aucpr:0.93264\tvalidation_1-aucpr:0.30762\n",
      "[59]\tvalidation_0-aucpr:0.93702\tvalidation_1-aucpr:0.30813\n",
      "[60]\tvalidation_0-aucpr:0.94093\tvalidation_1-aucpr:0.30797\n",
      "[61]\tvalidation_0-aucpr:0.94633\tvalidation_1-aucpr:0.30698\n",
      "[62]\tvalidation_0-aucpr:0.94997\tvalidation_1-aucpr:0.30703\n",
      "[63]\tvalidation_0-aucpr:0.95082\tvalidation_1-aucpr:0.30674\n",
      "[64]\tvalidation_0-aucpr:0.95379\tvalidation_1-aucpr:0.30620\n",
      "[65]\tvalidation_0-aucpr:0.95615\tvalidation_1-aucpr:0.30643\n",
      "[66]\tvalidation_0-aucpr:0.95745\tvalidation_1-aucpr:0.30976\n",
      "[67]\tvalidation_0-aucpr:0.95768\tvalidation_1-aucpr:0.30973\n",
      "[68]\tvalidation_0-aucpr:0.95915\tvalidation_1-aucpr:0.31022\n",
      "[69]\tvalidation_0-aucpr:0.96033\tvalidation_1-aucpr:0.30957\n",
      "[70]\tvalidation_0-aucpr:0.96286\tvalidation_1-aucpr:0.30940\n",
      "[71]\tvalidation_0-aucpr:0.96448\tvalidation_1-aucpr:0.30893\n",
      "[72]\tvalidation_0-aucpr:0.96508\tvalidation_1-aucpr:0.30908\n",
      "[73]\tvalidation_0-aucpr:0.96793\tvalidation_1-aucpr:0.30910\n",
      "[74]\tvalidation_0-aucpr:0.96915\tvalidation_1-aucpr:0.30983\n",
      "[75]\tvalidation_0-aucpr:0.97141\tvalidation_1-aucpr:0.30975\n",
      "[76]\tvalidation_0-aucpr:0.97268\tvalidation_1-aucpr:0.30945\n",
      "[77]\tvalidation_0-aucpr:0.97362\tvalidation_1-aucpr:0.30892\n",
      "[78]\tvalidation_0-aucpr:0.97481\tvalidation_1-aucpr:0.30956\n",
      "[79]\tvalidation_0-aucpr:0.97674\tvalidation_1-aucpr:0.30904\n",
      "[80]\tvalidation_0-aucpr:0.97733\tvalidation_1-aucpr:0.30945\n",
      "[81]\tvalidation_0-aucpr:0.97833\tvalidation_1-aucpr:0.30927\n",
      "[82]\tvalidation_0-aucpr:0.97870\tvalidation_1-aucpr:0.30934\n",
      "[83]\tvalidation_0-aucpr:0.98013\tvalidation_1-aucpr:0.30892\n",
      "[84]\tvalidation_0-aucpr:0.98108\tvalidation_1-aucpr:0.30941\n",
      "[85]\tvalidation_0-aucpr:0.98121\tvalidation_1-aucpr:0.30932\n",
      "[86]\tvalidation_0-aucpr:0.98190\tvalidation_1-aucpr:0.31006\n",
      "[87]\tvalidation_0-aucpr:0.98226\tvalidation_1-aucpr:0.31069\n",
      "[88]\tvalidation_0-aucpr:0.98437\tvalidation_1-aucpr:0.31003\n",
      "[89]\tvalidation_0-aucpr:0.98593\tvalidation_1-aucpr:0.30988\n",
      "[90]\tvalidation_0-aucpr:0.98708\tvalidation_1-aucpr:0.30937\n",
      "[91]\tvalidation_0-aucpr:0.98791\tvalidation_1-aucpr:0.30902\n",
      "[92]\tvalidation_0-aucpr:0.98910\tvalidation_1-aucpr:0.30873\n",
      "[93]\tvalidation_0-aucpr:0.98954\tvalidation_1-aucpr:0.30893\n",
      "[94]\tvalidation_0-aucpr:0.98989\tvalidation_1-aucpr:0.30907\n",
      "[95]\tvalidation_0-aucpr:0.99044\tvalidation_1-aucpr:0.30887\n",
      "[96]\tvalidation_0-aucpr:0.99072\tvalidation_1-aucpr:0.30804\n",
      "[97]\tvalidation_0-aucpr:0.99128\tvalidation_1-aucpr:0.30790\n",
      "[98]\tvalidation_0-aucpr:0.99157\tvalidation_1-aucpr:0.30850\n",
      "[99]\tvalidation_0-aucpr:0.99186\tvalidation_1-aucpr:0.30818\n"
     ]
    },
    {
     "data": {
      "text/plain": [
       "XGBClassifier(alpha=1, base_score=0.5, booster=None, boosting_rounds=50,\n",
       "              colsample_bylevel=1, colsample_bynode=0.5, colsample_bytree=0.5,\n",
       "              early_stopping_rounds=10, eval_metric=['aucpr'], gamma=0.2,\n",
       "              gpu_id=-1, importance_type='gain', interaction_constraints=None,\n",
       "              lambda=1.0, learning_rate=0.5, max_delta_step=6, max_depth=9,\n",
       "              min_child_weight=3, min_split_loss=2, missing=nan,\n",
       "              monotone_constraints=None, n_estimators=100, n_jobs=0,\n",
       "              num_parallel_tree=1, objective='binary:logistic',\n",
       "              random_state=2020, reg_alpha=1, reg_lambda=1, scale_pos_weight=7,\n",
       "              subsample=1, ...)"
      ]
     },
     "execution_count": 82,
     "metadata": {},
     "output_type": "execute_result"
    }
   ],
   "source": [
    "params = {'subsample': 1,\n",
    " 'min_split_loss': 2,\n",
    " 'min_child_weight': 3,\n",
    " 'max_depth': 9,\n",
    " 'max_delta_step': 6,\n",
    " 'learning_rate': 0.5,\n",
    " 'lambda': 1.0,\n",
    " 'gamma': 0.2,\n",
    " 'colsample_bytree': 0.5,\n",
    " 'colsample_bynode': 0.5,\n",
    " 'colsample_bylevel': 1,\n",
    " 'alpha': 1} \n",
    "\n",
    "xgbc = xgb.XGBClassifier(scale_pos_weight=7, objective='binary:logistic', \\\n",
    "                         eval_metric=['aucpr'], \\\n",
    "                             random_state=random_state, boosting_rounds=50, early_stopping_rounds=10, **params)\n",
    "\n",
    "X_train_2folds = pd.concat([fold1[columns], fold2[columns]], axis=0)\n",
    "y_train_2folds = pd.concat([fold1['positive_window'], fold2['positive_window']], axis=0)\n",
    "\n",
    "eval_set = [(X_val, y_val)]\n",
    "evallist = [(X_train_2folds,y_train_2folds), (X_val, y_val)]\n",
    "\n",
    "xgbc.fit(X_train_2folds, y_train_2folds, eval_metric='aucpr', eval_set=evallist, verbose=True)"
   ]
  },
  {
   "cell_type": "code",
   "execution_count": 83,
   "metadata": {},
   "outputs": [
    {
     "data": {
      "text/plain": [
       "0.20436190277608202"
      ]
     },
     "execution_count": 83,
     "metadata": {},
     "output_type": "execute_result"
    }
   ],
   "source": [
    "y_pred = xgbc.predict(X_test)\n",
    "ap = average_precision_score(y_test, y_pred)\n",
    "ap\n"
   ]
  },
  {
   "cell_type": "markdown",
   "metadata": {},
   "source": [
    "XGBRFClassifier(learning_rate=1, subsample=0.8, colsample_bynode=0.8, reg_lambda=1e-05, **kwargs)\n",
    "\n",
    "n_estimators (int) – Number of trees in random forest to fit.\n",
    "\n",
    "max_depth (int) – Maximum tree depth for base learners.\n",
    "\n",
    "learning_rate (float) – Boosting learning rate (xgb’s “eta”)\n",
    "\n",
    "verbosity (int) – The degree of verbosity. Valid values are 0 (silent) - 3 (debug).\n",
    "\n",
    "objective (string or callable) – Specify the learning task and the corresponding learning objective or a custom objective function to be used (see note below).\n",
    "\n",
    "booster (string) – Specify which booster to use: gbtree, gblinear or dart.\n",
    "\n",
    "tree_method (string) – Specify which tree method to use. Default to auto. If this parameter is set to default, XGBoost will choose the most conservative option available. It’s recommended to study this option from parameters document.\n",
    "\n",
    "n_jobs (int) – Number of parallel threads used to run xgboost.\n",
    "\n",
    "gamma (float) – Minimum loss reduction required to make a further partition on a leaf node of the tree.\n",
    "\n",
    "min_child_weight (int) – Minimum sum of instance weight(hessian) needed in a child.\n",
    "\n",
    "max_delta_step (int) – Maximum delta step we allow each tree’s weight estimation to be.\n",
    "\n",
    "subsample (float) – Subsample ratio of the training instance.\n",
    "\n",
    "colsample_bytree (float) – Subsample ratio of columns when constructing each tree.\n",
    "\n",
    "colsample_bylevel (float) – Subsample ratio of columns for each level.\n",
    "\n",
    "colsample_bynode (float) – Subsample ratio of columns for each split.\n",
    "\n",
    "reg_alpha (float (xgb's alpha)) – L1 regularization term on weights\n",
    "\n",
    "reg_lambda (float (xgb's lambda)) – L2 regularization term on weights\n",
    "\n",
    "scale_pos_weight (float) – Balancing of positive and negative weights.\n",
    "\n",
    "base_score – The initial prediction score of all instances, global bias.\n",
    "\n",
    "random_state (int) –\n",
    "\n",
    "Random number seed.\n",
    "\n",
    "Note\n",
    "Using gblinear booster with shotgun updater is nondeterministic as it uses Hogwild algorithm.\n",
    "\n",
    "missing (float, default np.nan) – Value in the data which needs to be present as a missing value.\n",
    "\n",
    "num_parallel_tree (int) – Used for boosting random forest.\n",
    "\n",
    "monotone_constraints (str) – Constraint of variable monotonicity. See tutorial for more information.\n",
    "\n",
    "interaction_constraints (str) – Constraints for interaction representing permitted interactions. The constraints must be specified in the form of a nest list, e.g. [[0, 1], [2, 3, 4]], where each inner list is a group of indices of features that are allowed to interact with each other. See tutorial for more information\n",
    "\n",
    "importance_type (string, default \"gain\") – The feature importance type for the feature_importances_ property: either “gain”, “weight”, “cover”, “total_gain” or “total_cover”."
   ]
  },
  {
   "cell_type": "code",
   "execution_count": 87,
   "metadata": {},
   "outputs": [
    {
     "name": "stdout",
     "output_type": "stream",
     "text": [
      "Fitting 3 folds for each of 100 candidates, totalling 300 fits\n"
     ]
    },
    {
     "name": "stderr",
     "output_type": "stream",
     "text": [
      "[Parallel(n_jobs=-1)]: Using backend LokyBackend with 4 concurrent workers.\n",
      "[Parallel(n_jobs=-1)]: Done  42 tasks      | elapsed: 15.1min\n",
      "[Parallel(n_jobs=-1)]: Done 192 tasks      | elapsed: 62.7min\n",
      "[Parallel(n_jobs=-1)]: Done 300 out of 300 | elapsed: 93.1min finished\n"
     ]
    },
    {
     "ename": "NameError",
     "evalue": "name 'XGBRFClassifier' is not defined",
     "output_type": "error",
     "traceback": [
      "\u001b[0;31m---------------------------------------------------------------------------\u001b[0m",
      "\u001b[0;31mNameError\u001b[0m                                 Traceback (most recent call last)",
      "\u001b[0;32m<ipython-input-87-f61acc9eab6b>\u001b[0m in \u001b[0;36m<module>\u001b[0;34m\u001b[0m\n\u001b[1;32m     40\u001b[0m \u001b[0mmodelrf\u001b[0m \u001b[0;34m=\u001b[0m \u001b[0mgridrf\u001b[0m\u001b[0;34m.\u001b[0m\u001b[0mfit\u001b[0m\u001b[0;34m(\u001b[0m\u001b[0mX_train\u001b[0m\u001b[0;34m,\u001b[0m \u001b[0my_train\u001b[0m\u001b[0;34m)\u001b[0m\u001b[0;34m\u001b[0m\u001b[0;34m\u001b[0m\u001b[0m\n\u001b[1;32m     41\u001b[0m \u001b[0;34m\u001b[0m\u001b[0m\n\u001b[0;32m---> 42\u001b[0;31m \u001b[0mXGBRFClassifier\u001b[0m\u001b[0;34m\u001b[0m\u001b[0;34m\u001b[0m\u001b[0m\n\u001b[0m",
      "\u001b[0;31mNameError\u001b[0m: name 'XGBRFClassifier' is not defined"
     ]
    }
   ],
   "source": [
    "xgbrf = xgb.XGBRFClassifier(scale_pos_weight=7, objective='binary:logistic', \\\n",
    "                         eval_metric=['aucpr'], \\\n",
    "                             random_state=random_state, boosting_rounds=50, early_stopping_rounds=10)\n",
    "\n",
    "\n",
    "# Define our search space for grid search\n",
    "search_space = [\n",
    "  {\n",
    "      'n_estimators' : [50, 100, 200, 400],\n",
    "      'min_split_loss': range(1, 10),\n",
    "    'learning_rate': [0.01, 0.05, 0.1, 0.2, 0.3, 0.5, 1],\n",
    "    'max_depth': range(3, 12),\n",
    "      'min_child_weight': range(1, 10),\n",
    "      'max_delta_step': range(0,11),\n",
    "      'subsample': [0.5, 0.75, 1],\n",
    "      'colsample_bytree':[0.5, 0.75, 1], \n",
    "      'colsample_bylevel':[0.5, 0.75, 1], \n",
    "      'colsample_bynode':[0.5, 0.75, 1],\n",
    "    'reg_lambda': np.logspace(0, 2, num=3),\n",
    "      'reg_alpha': [0, 0.1, 0.5, 1],\n",
    "      'gamma': [i/10.0 for i in range(5)]\n",
    "  }\n",
    "]\n",
    "\n",
    "# AUC and average precision as score\n",
    "scoring = {'AUC':'roc_auc', 'Average precision':make_scorer(average_precision_score)}\n",
    "# Define grid search\n",
    "gridrf = RandomizedSearchCV(\n",
    "                          xgbrf,\n",
    "                          search_space,\n",
    "                          cv=custom_cv,\n",
    "                          scoring=scoring,\n",
    "                          refit=False,\n",
    "                          n_iter=100,\n",
    "                          verbose=1,\n",
    "                          n_jobs=-1,\n",
    "                          return_train_score=True\n",
    ")\n",
    "# Fit grid search\n",
    "modelrf = gridrf.fit(X_train, y_train)\n"
   ]
  },
  {
   "cell_type": "code",
   "execution_count": 88,
   "metadata": {},
   "outputs": [
    {
     "data": {
      "text/html": [
       "<div>\n",
       "<style scoped>\n",
       "    .dataframe tbody tr th:only-of-type {\n",
       "        vertical-align: middle;\n",
       "    }\n",
       "\n",
       "    .dataframe tbody tr th {\n",
       "        vertical-align: top;\n",
       "    }\n",
       "\n",
       "    .dataframe thead th {\n",
       "        text-align: right;\n",
       "    }\n",
       "</style>\n",
       "<table border=\"1\" class=\"dataframe\">\n",
       "  <thead>\n",
       "    <tr style=\"text-align: right;\">\n",
       "      <th></th>\n",
       "      <th>mean_test_AUC</th>\n",
       "      <th>mean_train_AUC</th>\n",
       "      <th>mean_test_Average precision</th>\n",
       "      <th>mean_train_Average precision</th>\n",
       "    </tr>\n",
       "  </thead>\n",
       "  <tbody>\n",
       "    <tr>\n",
       "      <th>22</th>\n",
       "      <td>0.817794</td>\n",
       "      <td>0.889352</td>\n",
       "      <td>0.270000</td>\n",
       "      <td>0.338805</td>\n",
       "    </tr>\n",
       "    <tr>\n",
       "      <th>28</th>\n",
       "      <td>0.819374</td>\n",
       "      <td>0.893259</td>\n",
       "      <td>0.268435</td>\n",
       "      <td>0.338949</td>\n",
       "    </tr>\n",
       "    <tr>\n",
       "      <th>80</th>\n",
       "      <td>0.814907</td>\n",
       "      <td>0.884664</td>\n",
       "      <td>0.260900</td>\n",
       "      <td>0.320564</td>\n",
       "    </tr>\n",
       "    <tr>\n",
       "      <th>72</th>\n",
       "      <td>0.811210</td>\n",
       "      <td>0.881292</td>\n",
       "      <td>0.259239</td>\n",
       "      <td>0.316897</td>\n",
       "    </tr>\n",
       "    <tr>\n",
       "      <th>79</th>\n",
       "      <td>0.813564</td>\n",
       "      <td>0.891704</td>\n",
       "      <td>0.259010</td>\n",
       "      <td>0.326437</td>\n",
       "    </tr>\n",
       "    <tr>\n",
       "      <th>...</th>\n",
       "      <td>...</td>\n",
       "      <td>...</td>\n",
       "      <td>...</td>\n",
       "      <td>...</td>\n",
       "    </tr>\n",
       "    <tr>\n",
       "      <th>99</th>\n",
       "      <td>0.673935</td>\n",
       "      <td>0.679318</td>\n",
       "      <td>0.176774</td>\n",
       "      <td>0.178436</td>\n",
       "    </tr>\n",
       "    <tr>\n",
       "      <th>89</th>\n",
       "      <td>0.679972</td>\n",
       "      <td>0.685096</td>\n",
       "      <td>0.176323</td>\n",
       "      <td>0.177829</td>\n",
       "    </tr>\n",
       "    <tr>\n",
       "      <th>91</th>\n",
       "      <td>0.677502</td>\n",
       "      <td>0.682853</td>\n",
       "      <td>0.175921</td>\n",
       "      <td>0.177682</td>\n",
       "    </tr>\n",
       "    <tr>\n",
       "      <th>56</th>\n",
       "      <td>0.676061</td>\n",
       "      <td>0.681545</td>\n",
       "      <td>0.175247</td>\n",
       "      <td>0.177127</td>\n",
       "    </tr>\n",
       "    <tr>\n",
       "      <th>48</th>\n",
       "      <td>0.666211</td>\n",
       "      <td>0.670678</td>\n",
       "      <td>0.171082</td>\n",
       "      <td>0.172027</td>\n",
       "    </tr>\n",
       "  </tbody>\n",
       "</table>\n",
       "<p>100 rows × 4 columns</p>\n",
       "</div>"
      ],
      "text/plain": [
       "    mean_test_AUC  mean_train_AUC  mean_test_Average precision  \\\n",
       "22       0.817794        0.889352                     0.270000   \n",
       "28       0.819374        0.893259                     0.268435   \n",
       "80       0.814907        0.884664                     0.260900   \n",
       "72       0.811210        0.881292                     0.259239   \n",
       "79       0.813564        0.891704                     0.259010   \n",
       "..            ...             ...                          ...   \n",
       "99       0.673935        0.679318                     0.176774   \n",
       "89       0.679972        0.685096                     0.176323   \n",
       "91       0.677502        0.682853                     0.175921   \n",
       "56       0.676061        0.681545                     0.175247   \n",
       "48       0.666211        0.670678                     0.171082   \n",
       "\n",
       "    mean_train_Average precision  \n",
       "22                      0.338805  \n",
       "28                      0.338949  \n",
       "80                      0.320564  \n",
       "72                      0.316897  \n",
       "79                      0.326437  \n",
       "..                           ...  \n",
       "99                      0.178436  \n",
       "89                      0.177829  \n",
       "91                      0.177682  \n",
       "56                      0.177127  \n",
       "48                      0.172027  \n",
       "\n",
       "[100 rows x 4 columns]"
      ]
     },
     "execution_count": 88,
     "metadata": {},
     "output_type": "execute_result"
    }
   ],
   "source": [
    "resultsrf = pd.DataFrame({'mean_test_AUC':gridrf.cv_results_['mean_test_AUC'], \\\n",
    "                        'mean_train_AUC':gridrf.cv_results_['mean_train_AUC'],\\\n",
    "                        'mean_test_Average precision':gridrf.cv_results_['mean_test_Average precision'],\\\n",
    "                        'mean_train_Average precision':gridrf.cv_results_['mean_train_Average precision']})\n",
    "resultsrf.sort_values(by='mean_test_Average precision', ascending=False)"
   ]
  },
  {
   "cell_type": "code",
   "execution_count": 89,
   "metadata": {},
   "outputs": [
    {
     "data": {
      "text/plain": [
       "{'subsample': 0.75,\n",
       " 'reg_lambda': 10.0,\n",
       " 'reg_alpha': 0.1,\n",
       " 'n_estimators': 100,\n",
       " 'min_split_loss': 5,\n",
       " 'min_child_weight': 8,\n",
       " 'max_depth': 11,\n",
       " 'max_delta_step': 10,\n",
       " 'learning_rate': 0.5,\n",
       " 'gamma': 0.2,\n",
       " 'colsample_bytree': 0.75,\n",
       " 'colsample_bynode': 1,\n",
       " 'colsample_bylevel': 1}"
      ]
     },
     "execution_count": 89,
     "metadata": {},
     "output_type": "execute_result"
    }
   ],
   "source": [
    "gridrf.cv_results_['params'][22]"
   ]
  },
  {
   "cell_type": "code",
   "execution_count": 91,
   "metadata": {},
   "outputs": [
    {
     "name": "stdout",
     "output_type": "stream",
     "text": [
      "[0]\tvalidation_0-aucpr:0.51604\tvalidation_1-aucpr:0.34994\n"
     ]
    },
    {
     "data": {
      "text/plain": [
       "XGBRFClassifier(base_score=0.5, booster=None, boosting_rounds=50,\n",
       "                colsample_bylevel=1, colsample_bynode=1, colsample_bytree=0.75,\n",
       "                early_stopping_rounds=10, eval_metric=['aucpr'], gamma=0.2,\n",
       "                gpu_id=-1, importance_type='gain', interaction_constraints=None,\n",
       "                learning_rate=0.5, max_delta_step=10, max_depth=11,\n",
       "                min_child_weight=8, min_split_loss=5, missing=nan,\n",
       "                monotone_constraints=None, n_estimators=100, n_jobs=0,\n",
       "                num_parallel_tree=100, objective='binary:logistic',\n",
       "                random_state=2020, reg_alpha=0.1, reg_lambda=10.0,\n",
       "                scale_pos_weight=7, subsample=0.75, tree_method=None,\n",
       "                validate_parameters=False, ...)"
      ]
     },
     "execution_count": 91,
     "metadata": {},
     "output_type": "execute_result"
    }
   ],
   "source": [
    "params = {'subsample': 0.75,\n",
    " 'reg_lambda': 10.0,\n",
    " 'reg_alpha': 0.1,\n",
    " 'n_estimators': 100,\n",
    " 'min_split_loss': 5,\n",
    " 'min_child_weight': 8,\n",
    " 'max_depth': 11,\n",
    " 'max_delta_step': 10,\n",
    " 'learning_rate': 0.5,\n",
    " 'gamma': 0.2,\n",
    " 'colsample_bytree': 0.75,\n",
    " 'colsample_bynode': 1,\n",
    " 'colsample_bylevel': 1}\n",
    "\n",
    "xgbrf = xgb.XGBRFClassifier(scale_pos_weight=7, objective='binary:logistic', \\\n",
    "                         eval_metric=['aucpr'], \\\n",
    "                             random_state=random_state, boosting_rounds=50, early_stopping_rounds=10, **params)\n",
    "\n",
    "#X_train_2folds = pd.concat([fold1[columns], fold2[columns]], axis=0)\n",
    "# y_train_2folds = pd.concat([fold1['positive_window'], fold2['positive_window']], axis=0)\n",
    "\n",
    "# eval_set = [(X_val, y_val)]\n",
    "# evallist = [(X_train_2folds,y_train_2folds), (X_val, y_val)]\n",
    "\n",
    "xgbrf.fit(X_train_2folds, y_train_2folds, eval_metric='aucpr', eval_set=evallist, verbose=True)"
   ]
  },
  {
   "cell_type": "code",
   "execution_count": 93,
   "metadata": {},
   "outputs": [
    {
     "data": {
      "text/plain": [
       "0.34130533900172233"
      ]
     },
     "execution_count": 93,
     "metadata": {},
     "output_type": "execute_result"
    }
   ],
   "source": [
    "y_predrf = xgbrf.predict_proba(X_test)[:,1]\n",
    "ap = average_precision_score(y_test, y_predrf)\n",
    "ap"
   ]
  },
  {
   "cell_type": "code",
   "execution_count": 95,
   "metadata": {},
   "outputs": [
    {
     "name": "stdout",
     "output_type": "stream",
     "text": [
      "[[0.75952909 0.24047091]\n",
      " [0.36137766 0.63862234]]\n",
      "              precision    recall  f1-score   support\n",
      "\n",
      "         0.0       0.93      0.76      0.84     37884\n",
      "         1.0       0.29      0.64      0.40      5836\n",
      "\n",
      "    accuracy                           0.74     43720\n",
      "   macro avg       0.61      0.70      0.62     43720\n",
      "weighted avg       0.85      0.74      0.78     43720\n",
      "\n"
     ]
    },
    {
     "data": {
      "image/png": "[encoded data removed]",
      "text/plain": [
       "<Figure size 432x288 with 1 Axes>"
      ]
     },
     "metadata": {
      "needs_background": "light"
     },
     "output_type": "display_data"
    },
    {
     "data": {
      "image/png": "[encoded data removed]",
      "text/plain": [
       "<Figure size 432x288 with 1 Axes>"
      ]
     },
     "metadata": {
      "needs_background": "light"
     },
     "output_type": "display_data"
    }
   ],
   "source": [
    "from sklearn.metrics import classification_report\n",
    "from sklearn.metrics import confusion_matrix\n",
    "from sklearn.metrics import roc_curve\n",
    "from sklearn.metrics import precision_recall_curve\n",
    "import matplotlib.pyplot as plt\n",
    "\n",
    "y_scorerf = xgbrf.predict(X_test)\n",
    "\n",
    "print(confusion_matrix(y_test,y_scorerf, normalize='true'))\n",
    "print(classification_report(y_test,y_scorerf))\n",
    "\n",
    "fpr, tpr, auc_th = roc_curve(y_test, y_predrf)\n",
    "precision, recall, pr_th = precision_recall_curve(y_test, y_predrf)\n",
    "\n",
    "plt.plot(fpr, tpr)\n",
    "plt.xlabel('False positive rate')\n",
    "plt.ylabel('True positive rate')\n",
    "plt.title('ROC curve')\n",
    "plt.show()\n",
    "plt.plot(recall, precision)\n",
    "plt.xlabel('Recall')\n",
    "plt.ylabel('Precision')\n",
    "plt.title('Precision-recall curve')\n",
    "plt.show()"
   ]
  },
  {
   "cell_type": "code",
   "execution_count": 97,
   "metadata": {},
   "outputs": [
    {
     "name": "stdout",
     "output_type": "stream",
     "text": [
      "[0.02331502 0.01985518 0.0163858  0.03597413 0.17228132 0.01420686\n",
      " 0.01908524 0.02069316 0.02270496 0.02614089 0.02234331 0.01536054\n",
      " 0.01423509 0.01483938 0.01506697 0.01384866 0.01405453 0.01311109\n",
      " 0.01361535 0.0147831  0.01590693 0.01546891 0.01698669 0.01288982\n",
      " 0.08439066 0.04008478 0.07868537 0.04381363 0.01256099 0.01505765\n",
      " 0.01600538 0.01235086 0.01355056 0.01443033 0.0144884  0.01206018\n",
      " 0.01277591 0.01585442 0.01877659 0.01196136]\n"
     ]
    }
   ],
   "source": [
    "#print(xgbrf.coef_)\n",
    "print(xgbrf.feature_importances_)"
   ]
  },
  {
   "cell_type": "code",
   "execution_count": 99,
   "metadata": {},
   "outputs": [
    {
     "data": {
      "text/plain": [
       "<matplotlib.axes._subplots.AxesSubplot at 0x123ab41f0>"
      ]
     },
     "execution_count": 99,
     "metadata": {},
     "output_type": "execute_result"
    },
    {
     "data": {
      "image/png": "[encoded data removed]",
      "text/plain": [
       "<Figure size 432x288 with 1 Axes>"
      ]
     },
     "metadata": {
      "needs_background": "light"
     },
     "output_type": "display_data"
    }
   ],
   "source": [
    "xgb.plot_importance(xgbrf, ax=None, height=0.2, xlim=None, ylim=None, title='Feature importance', xlabel='F score', ylabel='Features', importance_type='weight', max_num_features=None, grid=True, show_values=True)"
   ]
  },
  {
   "cell_type": "code",
   "execution_count": 103,
   "metadata": {},
   "outputs": [
    {
     "name": "stdout",
     "output_type": "stream",
     "text": [
      "Fitting 3 folds for each of 36 candidates, totalling 108 fits\n"
     ]
    },
    {
     "name": "stderr",
     "output_type": "stream",
     "text": [
      "[Parallel(n_jobs=-1)]: Using backend LokyBackend with 4 concurrent workers.\n",
      "[Parallel(n_jobs=-1)]: Done  42 tasks      | elapsed: 26.6min\n",
      "[Parallel(n_jobs=-1)]: Done 108 out of 108 | elapsed: 64.0min finished\n"
     ]
    }
   ],
   "source": [
    "from sklearn.model_selection import GridSearchCV\n",
    "xgbrf = xgb.XGBRFClassifier(scale_pos_weight=7, objective='binary:logistic', \\\n",
    "                         eval_metric=['aucpr'], \\\n",
    "                             random_state=random_state, boosting_rounds=50, early_stopping_rounds=10)\n",
    "\n",
    "\n",
    "# Define our search space for grid search\n",
    "search_space = [\n",
    "  {\n",
    "      'n_estimators' : [100],\n",
    "      'min_split_loss': [5],\n",
    "    'learning_rate': [0.4, 0.5],\n",
    "    'max_depth': [11, 12],\n",
    "      'min_child_weight': [8],\n",
    "      'max_delta_step': [10],\n",
    "      'subsample': [0.75],\n",
    "      'colsample_bytree': [0.75], \n",
    "      'colsample_bylevel': [1], \n",
    "      'colsample_bynode': [1],\n",
    "    'reg_lambda': [5, 10, 20],\n",
    "      'reg_alpha': [0.1],\n",
    "      'gamma': [0.15, 0.2, 0.25]\n",
    "  }\n",
    "]\n",
    "\n",
    "\n",
    "# AUC and average precision as score\n",
    "scoring = {'AUC':'roc_auc', 'Average precision':make_scorer(average_precision_score)}\n",
    "# Define grid search\n",
    "gridrf = GridSearchCV(\n",
    "                      xgbrf,\n",
    "                      search_space,\n",
    "                      cv=custom_cv,\n",
    "                      scoring=scoring,\n",
    "                      refit=False,\n",
    "                      verbose=1,\n",
    "                      n_jobs=-1,\n",
    "                      return_train_score=True\n",
    ")\n",
    "# Fit grid search\n",
    "modelrf = gridrf.fit(X_train, y_train)\n"
   ]
  },
  {
   "cell_type": "code",
   "execution_count": 104,
   "metadata": {},
   "outputs": [
    {
     "data": {
      "text/html": [
       "<div>\n",
       "<style scoped>\n",
       "    .dataframe tbody tr th:only-of-type {\n",
       "        vertical-align: middle;\n",
       "    }\n",
       "\n",
       "    .dataframe tbody tr th {\n",
       "        vertical-align: top;\n",
       "    }\n",
       "\n",
       "    .dataframe thead th {\n",
       "        text-align: right;\n",
       "    }\n",
       "</style>\n",
       "<table border=\"1\" class=\"dataframe\">\n",
       "  <thead>\n",
       "    <tr style=\"text-align: right;\">\n",
       "      <th></th>\n",
       "      <th>mean_test_AUC</th>\n",
       "      <th>mean_train_AUC</th>\n",
       "      <th>mean_test_Average precision</th>\n",
       "      <th>mean_train_Average precision</th>\n",
       "    </tr>\n",
       "  </thead>\n",
       "  <tbody>\n",
       "    <tr>\n",
       "      <th>15</th>\n",
       "      <td>0.833097</td>\n",
       "      <td>0.917671</td>\n",
       "      <td>0.288837</td>\n",
       "      <td>0.382609</td>\n",
       "    </tr>\n",
       "    <tr>\n",
       "      <th>3</th>\n",
       "      <td>0.833097</td>\n",
       "      <td>0.917671</td>\n",
       "      <td>0.288837</td>\n",
       "      <td>0.382609</td>\n",
       "    </tr>\n",
       "    <tr>\n",
       "      <th>33</th>\n",
       "      <td>0.833097</td>\n",
       "      <td>0.917671</td>\n",
       "      <td>0.288837</td>\n",
       "      <td>0.382609</td>\n",
       "    </tr>\n",
       "    <tr>\n",
       "      <th>27</th>\n",
       "      <td>0.833097</td>\n",
       "      <td>0.917671</td>\n",
       "      <td>0.288837</td>\n",
       "      <td>0.382609</td>\n",
       "    </tr>\n",
       "    <tr>\n",
       "      <th>9</th>\n",
       "      <td>0.833097</td>\n",
       "      <td>0.917671</td>\n",
       "      <td>0.288837</td>\n",
       "      <td>0.382609</td>\n",
       "    </tr>\n",
       "    <tr>\n",
       "      <th>21</th>\n",
       "      <td>0.833097</td>\n",
       "      <td>0.917671</td>\n",
       "      <td>0.288837</td>\n",
       "      <td>0.382609</td>\n",
       "    </tr>\n",
       "    <tr>\n",
       "      <th>34</th>\n",
       "      <td>0.826532</td>\n",
       "      <td>0.905526</td>\n",
       "      <td>0.281412</td>\n",
       "      <td>0.365098</td>\n",
       "    </tr>\n",
       "    <tr>\n",
       "      <th>4</th>\n",
       "      <td>0.826532</td>\n",
       "      <td>0.905526</td>\n",
       "      <td>0.281412</td>\n",
       "      <td>0.365098</td>\n",
       "    </tr>\n",
       "    <tr>\n",
       "      <th>28</th>\n",
       "      <td>0.826532</td>\n",
       "      <td>0.905526</td>\n",
       "      <td>0.281412</td>\n",
       "      <td>0.365098</td>\n",
       "    </tr>\n",
       "    <tr>\n",
       "      <th>10</th>\n",
       "      <td>0.826532</td>\n",
       "      <td>0.905526</td>\n",
       "      <td>0.281412</td>\n",
       "      <td>0.365098</td>\n",
       "    </tr>\n",
       "    <tr>\n",
       "      <th>22</th>\n",
       "      <td>0.826532</td>\n",
       "      <td>0.905526</td>\n",
       "      <td>0.281412</td>\n",
       "      <td>0.365098</td>\n",
       "    </tr>\n",
       "    <tr>\n",
       "      <th>16</th>\n",
       "      <td>0.826532</td>\n",
       "      <td>0.905526</td>\n",
       "      <td>0.281412</td>\n",
       "      <td>0.365098</td>\n",
       "    </tr>\n",
       "    <tr>\n",
       "      <th>0</th>\n",
       "      <td>0.822997</td>\n",
       "      <td>0.899563</td>\n",
       "      <td>0.274902</td>\n",
       "      <td>0.350343</td>\n",
       "    </tr>\n",
       "    <tr>\n",
       "      <th>30</th>\n",
       "      <td>0.822997</td>\n",
       "      <td>0.899563</td>\n",
       "      <td>0.274902</td>\n",
       "      <td>0.350343</td>\n",
       "    </tr>\n",
       "    <tr>\n",
       "      <th>24</th>\n",
       "      <td>0.822997</td>\n",
       "      <td>0.899563</td>\n",
       "      <td>0.274902</td>\n",
       "      <td>0.350343</td>\n",
       "    </tr>\n",
       "    <tr>\n",
       "      <th>18</th>\n",
       "      <td>0.822997</td>\n",
       "      <td>0.899563</td>\n",
       "      <td>0.274902</td>\n",
       "      <td>0.350343</td>\n",
       "    </tr>\n",
       "    <tr>\n",
       "      <th>12</th>\n",
       "      <td>0.822997</td>\n",
       "      <td>0.899563</td>\n",
       "      <td>0.274902</td>\n",
       "      <td>0.350343</td>\n",
       "    </tr>\n",
       "    <tr>\n",
       "      <th>6</th>\n",
       "      <td>0.822997</td>\n",
       "      <td>0.899563</td>\n",
       "      <td>0.274902</td>\n",
       "      <td>0.350343</td>\n",
       "    </tr>\n",
       "    <tr>\n",
       "      <th>35</th>\n",
       "      <td>0.816371</td>\n",
       "      <td>0.887670</td>\n",
       "      <td>0.271621</td>\n",
       "      <td>0.341619</td>\n",
       "    </tr>\n",
       "    <tr>\n",
       "      <th>23</th>\n",
       "      <td>0.816371</td>\n",
       "      <td>0.887670</td>\n",
       "      <td>0.271621</td>\n",
       "      <td>0.341619</td>\n",
       "    </tr>\n",
       "    <tr>\n",
       "      <th>11</th>\n",
       "      <td>0.816371</td>\n",
       "      <td>0.887670</td>\n",
       "      <td>0.271621</td>\n",
       "      <td>0.341619</td>\n",
       "    </tr>\n",
       "    <tr>\n",
       "      <th>17</th>\n",
       "      <td>0.816371</td>\n",
       "      <td>0.887670</td>\n",
       "      <td>0.271621</td>\n",
       "      <td>0.341619</td>\n",
       "    </tr>\n",
       "    <tr>\n",
       "      <th>5</th>\n",
       "      <td>0.816371</td>\n",
       "      <td>0.887670</td>\n",
       "      <td>0.271621</td>\n",
       "      <td>0.341619</td>\n",
       "    </tr>\n",
       "    <tr>\n",
       "      <th>29</th>\n",
       "      <td>0.816371</td>\n",
       "      <td>0.887670</td>\n",
       "      <td>0.271621</td>\n",
       "      <td>0.341619</td>\n",
       "    </tr>\n",
       "    <tr>\n",
       "      <th>1</th>\n",
       "      <td>0.817794</td>\n",
       "      <td>0.889352</td>\n",
       "      <td>0.270000</td>\n",
       "      <td>0.338805</td>\n",
       "    </tr>\n",
       "    <tr>\n",
       "      <th>19</th>\n",
       "      <td>0.817794</td>\n",
       "      <td>0.889352</td>\n",
       "      <td>0.270000</td>\n",
       "      <td>0.338805</td>\n",
       "    </tr>\n",
       "    <tr>\n",
       "      <th>13</th>\n",
       "      <td>0.817794</td>\n",
       "      <td>0.889352</td>\n",
       "      <td>0.270000</td>\n",
       "      <td>0.338805</td>\n",
       "    </tr>\n",
       "    <tr>\n",
       "      <th>25</th>\n",
       "      <td>0.817794</td>\n",
       "      <td>0.889352</td>\n",
       "      <td>0.270000</td>\n",
       "      <td>0.338805</td>\n",
       "    </tr>\n",
       "    <tr>\n",
       "      <th>7</th>\n",
       "      <td>0.817794</td>\n",
       "      <td>0.889352</td>\n",
       "      <td>0.270000</td>\n",
       "      <td>0.338805</td>\n",
       "    </tr>\n",
       "    <tr>\n",
       "      <th>31</th>\n",
       "      <td>0.817794</td>\n",
       "      <td>0.889352</td>\n",
       "      <td>0.270000</td>\n",
       "      <td>0.338805</td>\n",
       "    </tr>\n",
       "    <tr>\n",
       "      <th>32</th>\n",
       "      <td>0.809563</td>\n",
       "      <td>0.874255</td>\n",
       "      <td>0.263375</td>\n",
       "      <td>0.322372</td>\n",
       "    </tr>\n",
       "    <tr>\n",
       "      <th>2</th>\n",
       "      <td>0.809563</td>\n",
       "      <td>0.874255</td>\n",
       "      <td>0.263375</td>\n",
       "      <td>0.322372</td>\n",
       "    </tr>\n",
       "    <tr>\n",
       "      <th>14</th>\n",
       "      <td>0.809563</td>\n",
       "      <td>0.874255</td>\n",
       "      <td>0.263375</td>\n",
       "      <td>0.322372</td>\n",
       "    </tr>\n",
       "    <tr>\n",
       "      <th>8</th>\n",
       "      <td>0.809563</td>\n",
       "      <td>0.874255</td>\n",
       "      <td>0.263375</td>\n",
       "      <td>0.322372</td>\n",
       "    </tr>\n",
       "    <tr>\n",
       "      <th>20</th>\n",
       "      <td>0.809563</td>\n",
       "      <td>0.874255</td>\n",
       "      <td>0.263375</td>\n",
       "      <td>0.322372</td>\n",
       "    </tr>\n",
       "    <tr>\n",
       "      <th>26</th>\n",
       "      <td>0.809563</td>\n",
       "      <td>0.874255</td>\n",
       "      <td>0.263375</td>\n",
       "      <td>0.322372</td>\n",
       "    </tr>\n",
       "  </tbody>\n",
       "</table>\n",
       "</div>"
      ],
      "text/plain": [
       "    mean_test_AUC  mean_train_AUC  mean_test_Average precision  \\\n",
       "15       0.833097        0.917671                     0.288837   \n",
       "3        0.833097        0.917671                     0.288837   \n",
       "33       0.833097        0.917671                     0.288837   \n",
       "27       0.833097        0.917671                     0.288837   \n",
       "9        0.833097        0.917671                     0.288837   \n",
       "21       0.833097        0.917671                     0.288837   \n",
       "34       0.826532        0.905526                     0.281412   \n",
       "4        0.826532        0.905526                     0.281412   \n",
       "28       0.826532        0.905526                     0.281412   \n",
       "10       0.826532        0.905526                     0.281412   \n",
       "22       0.826532        0.905526                     0.281412   \n",
       "16       0.826532        0.905526                     0.281412   \n",
       "0        0.822997        0.899563                     0.274902   \n",
       "30       0.822997        0.899563                     0.274902   \n",
       "24       0.822997        0.899563                     0.274902   \n",
       "18       0.822997        0.899563                     0.274902   \n",
       "12       0.822997        0.899563                     0.274902   \n",
       "6        0.822997        0.899563                     0.274902   \n",
       "35       0.816371        0.887670                     0.271621   \n",
       "23       0.816371        0.887670                     0.271621   \n",
       "11       0.816371        0.887670                     0.271621   \n",
       "17       0.816371        0.887670                     0.271621   \n",
       "5        0.816371        0.887670                     0.271621   \n",
       "29       0.816371        0.887670                     0.271621   \n",
       "1        0.817794        0.889352                     0.270000   \n",
       "19       0.817794        0.889352                     0.270000   \n",
       "13       0.817794        0.889352                     0.270000   \n",
       "25       0.817794        0.889352                     0.270000   \n",
       "7        0.817794        0.889352                     0.270000   \n",
       "31       0.817794        0.889352                     0.270000   \n",
       "32       0.809563        0.874255                     0.263375   \n",
       "2        0.809563        0.874255                     0.263375   \n",
       "14       0.809563        0.874255                     0.263375   \n",
       "8        0.809563        0.874255                     0.263375   \n",
       "20       0.809563        0.874255                     0.263375   \n",
       "26       0.809563        0.874255                     0.263375   \n",
       "\n",
       "    mean_train_Average precision  \n",
       "15                      0.382609  \n",
       "3                       0.382609  \n",
       "33                      0.382609  \n",
       "27                      0.382609  \n",
       "9                       0.382609  \n",
       "21                      0.382609  \n",
       "34                      0.365098  \n",
       "4                       0.365098  \n",
       "28                      0.365098  \n",
       "10                      0.365098  \n",
       "22                      0.365098  \n",
       "16                      0.365098  \n",
       "0                       0.350343  \n",
       "30                      0.350343  \n",
       "24                      0.350343  \n",
       "18                      0.350343  \n",
       "12                      0.350343  \n",
       "6                       0.350343  \n",
       "35                      0.341619  \n",
       "23                      0.341619  \n",
       "11                      0.341619  \n",
       "17                      0.341619  \n",
       "5                       0.341619  \n",
       "29                      0.341619  \n",
       "1                       0.338805  \n",
       "19                      0.338805  \n",
       "13                      0.338805  \n",
       "25                      0.338805  \n",
       "7                       0.338805  \n",
       "31                      0.338805  \n",
       "32                      0.322372  \n",
       "2                       0.322372  \n",
       "14                      0.322372  \n",
       "8                       0.322372  \n",
       "20                      0.322372  \n",
       "26                      0.322372  "
      ]
     },
     "execution_count": 104,
     "metadata": {},
     "output_type": "execute_result"
    }
   ],
   "source": [
    "resultsrf = pd.DataFrame({'mean_test_AUC':gridrf.cv_results_['mean_test_AUC'], \\\n",
    "                        'mean_train_AUC':gridrf.cv_results_['mean_train_AUC'],\\\n",
    "                        'mean_test_Average precision':gridrf.cv_results_['mean_test_Average precision'],\\\n",
    "                        'mean_train_Average precision':gridrf.cv_results_['mean_train_Average precision']})\n",
    "resultsrf.sort_values(by='mean_test_Average precision', ascending=False)"
   ]
  },
  {
   "cell_type": "code",
   "execution_count": 105,
   "metadata": {},
   "outputs": [
    {
     "data": {
      "text/plain": [
       "{'colsample_bylevel': 1,\n",
       " 'colsample_bynode': 1,\n",
       " 'colsample_bytree': 0.75,\n",
       " 'gamma': 0.2,\n",
       " 'learning_rate': 0.4,\n",
       " 'max_delta_step': 10,\n",
       " 'max_depth': 12,\n",
       " 'min_child_weight': 8,\n",
       " 'min_split_loss': 5,\n",
       " 'n_estimators': 100,\n",
       " 'reg_alpha': 0.1,\n",
       " 'reg_lambda': 5,\n",
       " 'subsample': 0.75}"
      ]
     },
     "execution_count": 105,
     "metadata": {},
     "output_type": "execute_result"
    }
   ],
   "source": [
    "gridrf.cv_results_['params'][15]"
   ]
  },
  {
   "cell_type": "code",
   "execution_count": 106,
   "metadata": {},
   "outputs": [
    {
     "name": "stdout",
     "output_type": "stream",
     "text": [
      "[0]\tvalidation_0-aucpr:0.58689\tvalidation_1-aucpr:0.35260\n"
     ]
    },
    {
     "data": {
      "text/plain": [
       "XGBRFClassifier(base_score=0.5, booster=None, boosting_rounds=50,\n",
       "                colsample_bylevel=1, colsample_bynode=1, colsample_bytree=0.75,\n",
       "                early_stopping_rounds=10, eval_metric=['aucpr'], gamma=0.2,\n",
       "                gpu_id=-1, importance_type='gain', interaction_constraints=None,\n",
       "                learning_rate=0.4, max_delta_step=10, max_depth=12,\n",
       "                min_child_weight=8, min_split_loss=5, missing=nan,\n",
       "                monotone_constraints=None, n_estimators=100, n_jobs=0,\n",
       "                num_parallel_tree=100, objective='binary:logistic',\n",
       "                random_state=2020, reg_alpha=0.1, reg_lambda=5,\n",
       "                scale_pos_weight=7, subsample=0.75, tree_method=None,\n",
       "                validate_parameters=False, ...)"
      ]
     },
     "execution_count": 106,
     "metadata": {},
     "output_type": "execute_result"
    }
   ],
   "source": [
    "params = {'colsample_bylevel': 1,\n",
    " 'colsample_bynode': 1,\n",
    " 'colsample_bytree': 0.75,\n",
    " 'gamma': 0.2,\n",
    " 'learning_rate': 0.4,\n",
    " 'max_delta_step': 10,\n",
    " 'max_depth': 12,\n",
    " 'min_child_weight': 8,\n",
    " 'min_split_loss': 5,\n",
    " 'n_estimators': 100,\n",
    " 'reg_alpha': 0.1,\n",
    " 'reg_lambda': 5,\n",
    " 'subsample': 0.75}\n",
    "\n",
    "xgbrf = xgb.XGBRFClassifier(scale_pos_weight=7, objective='binary:logistic', \\\n",
    "                         eval_metric=['aucpr'], \\\n",
    "                             random_state=random_state, boosting_rounds=50, early_stopping_rounds=10, **params)\n",
    "\n",
    "#X_train_2folds = pd.concat([fold1[columns], fold2[columns]], axis=0)\n",
    "# y_train_2folds = pd.concat([fold1['positive_window'], fold2['positive_window']], axis=0)\n",
    "\n",
    "# eval_set = [(X_val, y_val)]\n",
    "# evallist = [(X_train_2folds,y_train_2folds), (X_val, y_val)]\n",
    "\n",
    "xgbrf.fit(X_train_2folds, y_train_2folds, eval_metric='aucpr', eval_set=evallist, verbose=True)"
   ]
  },
  {
   "cell_type": "code",
   "execution_count": 108,
   "metadata": {},
   "outputs": [
    {
     "data": {
      "text/plain": [
       "0.34421353431239915"
      ]
     },
     "execution_count": 108,
     "metadata": {},
     "output_type": "execute_result"
    }
   ],
   "source": [
    "y_predrf = xgbrf.predict_proba(X_test)[:,1]\n",
    "ap = average_precision_score(y_test, y_predrf)\n",
    "ap"
   ]
  },
  {
   "cell_type": "code",
   "execution_count": 109,
   "metadata": {},
   "outputs": [
    {
     "name": "stdout",
     "output_type": "stream",
     "text": [
      "[[0.78299546 0.21700454]\n",
      " [0.38536669 0.61463331]]\n",
      "              precision    recall  f1-score   support\n",
      "\n",
      "         0.0       0.93      0.78      0.85     37884\n",
      "         1.0       0.30      0.61      0.41      5836\n",
      "\n",
      "    accuracy                           0.76     43720\n",
      "   macro avg       0.62      0.70      0.63     43720\n",
      "weighted avg       0.85      0.76      0.79     43720\n",
      "\n"
     ]
    },
    {
     "data": {
      "image/png": "[encoded data removed]",
      "text/plain": [
       "<Figure size 432x288 with 1 Axes>"
      ]
     },
     "metadata": {
      "needs_background": "light"
     },
     "output_type": "display_data"
    },
    {
     "data": {
      "image/png": "[encoded data removed]",
      "text/plain": [
       "<Figure size 432x288 with 1 Axes>"
      ]
     },
     "metadata": {
      "needs_background": "light"
     },
     "output_type": "display_data"
    }
   ],
   "source": [
    "y_scorerf = xgbrf.predict(X_test)\n",
    "\n",
    "print(confusion_matrix(y_test,y_scorerf, normalize='true'))\n",
    "print(classification_report(y_test,y_scorerf))\n",
    "\n",
    "fpr, tpr, auc_th = roc_curve(y_test, y_predrf)\n",
    "precision, recall, pr_th = precision_recall_curve(y_test, y_predrf)\n",
    "\n",
    "plt.plot(fpr, tpr)\n",
    "plt.xlabel('False positive rate')\n",
    "plt.ylabel('True positive rate')\n",
    "plt.title('ROC curve')\n",
    "plt.show()\n",
    "plt.plot(recall, precision)\n",
    "plt.xlabel('Recall')\n",
    "plt.ylabel('Precision')\n",
    "plt.title('Precision-recall curve')\n",
    "plt.show()"
   ]
  },
  {
   "cell_type": "code",
   "execution_count": 131,
   "metadata": {},
   "outputs": [],
   "source": [
    "pr_th = np.append(pr_th, pr_th[-1])\n",
    "xgb_pr = pd.DataFrame({'Precision_xgb': precision, 'Recall_xgb': recall, 'Threshold_xgb': pr_th})\n",
    "xgb_pr.to_csv('../models/xgb_pr.csv')\n"
   ]
  },
  {
   "cell_type": "code",
   "execution_count": 124,
   "metadata": {},
   "outputs": [
    {
     "name": "stdout",
     "output_type": "stream",
     "text": [
      "F1:  0.4065971435048742\n",
      "F2:  0.5102127901684116\n"
     ]
    }
   ],
   "source": [
    "from sklearn.metrics import fbeta_score\n",
    "f1 = fbeta_score(y_test, y_scorerf, beta=1.0)\n",
    "f2 = fbeta_score(y_test, y_scorerf, beta=2.0)\n",
    "print('F1: ', f1)\n",
    "print('F2: ', f2)"
   ]
  },
  {
   "cell_type": "code",
   "execution_count": 110,
   "metadata": {},
   "outputs": [],
   "source": [
    "import pickle\n",
    "# save model to file\n",
    "pickle.dump(xgbrf, open('../models/xgbrf.pkl', 'wb'))"
   ]
  },
  {
   "cell_type": "code",
   "execution_count": 151,
   "metadata": {},
   "outputs": [
    {
     "data": {
      "text/plain": [
       "(array([    0,     1,     2, ..., 32142, 32143, 32144]),)"
      ]
     },
     "execution_count": 151,
     "metadata": {},
     "output_type": "execute_result"
    }
   ],
   "source": [
    "np.where(recall>=0.6)"
   ]
  },
  {
   "cell_type": "code",
   "execution_count": 154,
   "metadata": {},
   "outputs": [
    {
     "data": {
      "text/plain": [
       "(array([33797, 33798, 33803, ..., 43465, 43466, 43467]),)"
      ]
     },
     "execution_count": 154,
     "metadata": {},
     "output_type": "execute_result"
    }
   ],
   "source": [
    "np.where(precision>=0.33)"
   ]
  },
  {
   "cell_type": "code",
   "execution_count": 156,
   "metadata": {},
   "outputs": [
    {
     "data": {
      "text/plain": [
       "0.3300319818425668"
      ]
     },
     "execution_count": 156,
     "metadata": {},
     "output_type": "execute_result"
    }
   ],
   "source": [
    "precision[33797]"
   ]
  },
  {
   "cell_type": "code",
   "execution_count": 157,
   "metadata": {},
   "outputs": [
    {
     "data": {
      "text/plain": [
       "0.5481494174091843"
      ]
     },
     "execution_count": 157,
     "metadata": {},
     "output_type": "execute_result"
    }
   ],
   "source": [
    "recall[33797]"
   ]
  },
  {
   "cell_type": "code",
   "execution_count": 174,
   "metadata": {},
   "outputs": [
    {
     "data": {
      "text/plain": [
       "0.5190987"
      ]
     },
     "execution_count": 174,
     "metadata": {},
     "output_type": "execute_result"
    }
   ],
   "source": [
    "pr_th[33797]"
   ]
  },
  {
   "cell_type": "code",
   "execution_count": 115,
   "metadata": {},
   "outputs": [
    {
     "name": "stdout",
     "output_type": "stream",
     "text": [
      "precision 0.3\n",
      "recall 0.6250856751199452\n",
      "threshold 0.49723825\n"
     ]
    }
   ],
   "source": [
    "print('precision', precision[31342])\n",
    "print('recall', recall[31342])\n",
    "print('threshold', pr_th[31342])"
   ]
  },
  {
   "cell_type": "code",
   "execution_count": 160,
   "metadata": {},
   "outputs": [
    {
     "data": {
      "image/png": "[encoded data removed]",
      "text/plain": [
       "<Figure size 576x684 with 2 Axes>"
      ]
     },
     "metadata": {
      "needs_background": "light"
     },
     "output_type": "display_data"
    }
   ],
   "source": [
    "# import shap\n",
    "\n",
    "# # Create object that can calculate shap values\n",
    "# explainer = shap.TreeExplainer(xgbrf)\n",
    "\n",
    "# # calculate shap values. This is what we will plot.\n",
    "# # Calculate shap_values for all of val_X rather than a single row, to have more data for plot.\n",
    "# shap_values = explainer.shap_values(X_test)\n",
    "\n",
    "# Make plot. Index of [1] is explained in text below.\n",
    "shap.summary_plot(shap_values, X_test, show=False)\n",
    "plt.yticks(np.arange(20), ['Min calcium', 'Calcium', 'Max BUN', 'Var calcium', 'Var bicarbonate', \\\n",
    "                           'Max glucose', 'Var BUN', 'Min BUN', 'Glucose', 'Mean glucose', 'Potassium', \\\n",
    "                             'Chloride', 'Bicarbonate', 'Mean BUN', 'BUN', 'Mean creatinine', \\\n",
    "                           'Max creatinine', 'Min creatinine', 'Var creatinine', 'Creatinine'\n",
    "                          ])\n",
    "plt.xticks(fontsize=20)\n",
    "plt.yticks(fontsize=20)\n",
    "plt.xlabel('SHAP value (impact on model output)', fontsize=20)\n",
    "plt.tight_layout()\n",
    "plt.savefig('../images/xgb_shap.png')"
   ]
  },
  {
   "cell_type": "code",
   "execution_count": 176,
   "metadata": {},
   "outputs": [
    {
     "data": {
      "text/html": [
       "<div>\n",
       "<style scoped>\n",
       "    .dataframe tbody tr th:only-of-type {\n",
       "        vertical-align: middle;\n",
       "    }\n",
       "\n",
       "    .dataframe tbody tr th {\n",
       "        vertical-align: top;\n",
       "    }\n",
       "\n",
       "    .dataframe thead th {\n",
       "        text-align: right;\n",
       "    }\n",
       "</style>\n",
       "<table border=\"1\" class=\"dataframe\">\n",
       "  <thead>\n",
       "    <tr style=\"text-align: right;\">\n",
       "      <th></th>\n",
       "      <th>y_test</th>\n",
       "      <th>y_score</th>\n",
       "      <th>y_pred</th>\n",
       "    </tr>\n",
       "    <tr>\n",
       "      <th>index</th>\n",
       "      <th></th>\n",
       "      <th></th>\n",
       "      <th></th>\n",
       "    </tr>\n",
       "  </thead>\n",
       "  <tbody>\n",
       "    <tr>\n",
       "      <th>0</th>\n",
       "      <td>1.0</td>\n",
       "      <td>0.0</td>\n",
       "      <td>0.481117</td>\n",
       "    </tr>\n",
       "    <tr>\n",
       "      <th>1</th>\n",
       "      <td>1.0</td>\n",
       "      <td>1.0</td>\n",
       "      <td>0.570907</td>\n",
       "    </tr>\n",
       "    <tr>\n",
       "      <th>2</th>\n",
       "      <td>0.0</td>\n",
       "      <td>0.0</td>\n",
       "      <td>0.464456</td>\n",
       "    </tr>\n",
       "    <tr>\n",
       "      <th>3</th>\n",
       "      <td>0.0</td>\n",
       "      <td>1.0</td>\n",
       "      <td>0.583454</td>\n",
       "    </tr>\n",
       "    <tr>\n",
       "      <th>4</th>\n",
       "      <td>1.0</td>\n",
       "      <td>1.0</td>\n",
       "      <td>0.593227</td>\n",
       "    </tr>\n",
       "    <tr>\n",
       "      <th>...</th>\n",
       "      <td>...</td>\n",
       "      <td>...</td>\n",
       "      <td>...</td>\n",
       "    </tr>\n",
       "    <tr>\n",
       "      <th>89294</th>\n",
       "      <td>0.0</td>\n",
       "      <td>0.0</td>\n",
       "      <td>0.405889</td>\n",
       "    </tr>\n",
       "    <tr>\n",
       "      <th>89295</th>\n",
       "      <td>0.0</td>\n",
       "      <td>0.0</td>\n",
       "      <td>0.486689</td>\n",
       "    </tr>\n",
       "    <tr>\n",
       "      <th>89324</th>\n",
       "      <td>0.0</td>\n",
       "      <td>0.0</td>\n",
       "      <td>0.442948</td>\n",
       "    </tr>\n",
       "    <tr>\n",
       "      <th>89325</th>\n",
       "      <td>0.0</td>\n",
       "      <td>0.0</td>\n",
       "      <td>0.399815</td>\n",
       "    </tr>\n",
       "    <tr>\n",
       "      <th>89326</th>\n",
       "      <td>0.0</td>\n",
       "      <td>0.0</td>\n",
       "      <td>0.416016</td>\n",
       "    </tr>\n",
       "  </tbody>\n",
       "</table>\n",
       "<p>43720 rows × 3 columns</p>\n",
       "</div>"
      ],
      "text/plain": [
       "       y_test  y_score    y_pred\n",
       "index                           \n",
       "0         1.0      0.0  0.481117\n",
       "1         1.0      1.0  0.570907\n",
       "2         0.0      0.0  0.464456\n",
       "3         0.0      1.0  0.583454\n",
       "4         1.0      1.0  0.593227\n",
       "...       ...      ...       ...\n",
       "89294     0.0      0.0  0.405889\n",
       "89295     0.0      0.0  0.486689\n",
       "89324     0.0      0.0  0.442948\n",
       "89325     0.0      0.0  0.399815\n",
       "89326     0.0      0.0  0.416016\n",
       "\n",
       "[43720 rows x 3 columns]"
      ]
     },
     "execution_count": 176,
     "metadata": {},
     "output_type": "execute_result"
    }
   ],
   "source": [
    "y_test_score_pred = pd.DataFrame({'index': y_test.index, 'y_test':y_test.values, 'y_score':y_scorerf, 'y_pred': y_predrf})\n",
    "y_test_score_pred.set_index('index', inplace=True)\n",
    "y_test_score_pred"
   ]
  },
  {
   "cell_type": "code",
   "execution_count": 177,
   "metadata": {},
   "outputs": [
    {
     "data": {
      "text/html": [
       "<div>\n",
       "<style scoped>\n",
       "    .dataframe tbody tr th:only-of-type {\n",
       "        vertical-align: middle;\n",
       "    }\n",
       "\n",
       "    .dataframe tbody tr th {\n",
       "        vertical-align: top;\n",
       "    }\n",
       "\n",
       "    .dataframe thead th {\n",
       "        text-align: right;\n",
       "    }\n",
       "</style>\n",
       "<table border=\"1\" class=\"dataframe\">\n",
       "  <thead>\n",
       "    <tr style=\"text-align: right;\">\n",
       "      <th></th>\n",
       "      <th>patientunitstayid</th>\n",
       "      <th>time_to_detect</th>\n",
       "      <th>labresultoffset</th>\n",
       "      <th>creatinine</th>\n",
       "      <th>BUN</th>\n",
       "      <th>positive_window</th>\n",
       "      <th>y_test</th>\n",
       "      <th>y_score</th>\n",
       "      <th>y_pred</th>\n",
       "    </tr>\n",
       "  </thead>\n",
       "  <tbody>\n",
       "    <tr>\n",
       "      <th>0</th>\n",
       "      <td>141227</td>\n",
       "      <td>1 days 00:50:00</td>\n",
       "      <td>-128</td>\n",
       "      <td>1.40</td>\n",
       "      <td>26.0</td>\n",
       "      <td>1.0</td>\n",
       "      <td>1.0</td>\n",
       "      <td>0.0</td>\n",
       "      <td>0.481117</td>\n",
       "    </tr>\n",
       "    <tr>\n",
       "      <th>1</th>\n",
       "      <td>141227</td>\n",
       "      <td>0 days 22:55:00</td>\n",
       "      <td>-13</td>\n",
       "      <td>1.50</td>\n",
       "      <td>26.0</td>\n",
       "      <td>1.0</td>\n",
       "      <td>1.0</td>\n",
       "      <td>1.0</td>\n",
       "      <td>0.570907</td>\n",
       "    </tr>\n",
       "    <tr>\n",
       "      <th>2</th>\n",
       "      <td>141462</td>\n",
       "      <td>2 days 20:56:00</td>\n",
       "      <td>-1114</td>\n",
       "      <td>1.07</td>\n",
       "      <td>14.0</td>\n",
       "      <td>0.0</td>\n",
       "      <td>0.0</td>\n",
       "      <td>0.0</td>\n",
       "      <td>0.464456</td>\n",
       "    </tr>\n",
       "    <tr>\n",
       "      <th>3</th>\n",
       "      <td>141462</td>\n",
       "      <td>1 days 23:10:00</td>\n",
       "      <td>192</td>\n",
       "      <td>1.29</td>\n",
       "      <td>18.0</td>\n",
       "      <td>0.0</td>\n",
       "      <td>0.0</td>\n",
       "      <td>1.0</td>\n",
       "      <td>0.583454</td>\n",
       "    </tr>\n",
       "    <tr>\n",
       "      <th>4</th>\n",
       "      <td>141462</td>\n",
       "      <td>0 days 23:35:00</td>\n",
       "      <td>1607</td>\n",
       "      <td>1.34</td>\n",
       "      <td>18.0</td>\n",
       "      <td>1.0</td>\n",
       "      <td>1.0</td>\n",
       "      <td>1.0</td>\n",
       "      <td>0.593227</td>\n",
       "    </tr>\n",
       "    <tr>\n",
       "      <th>...</th>\n",
       "      <td>...</td>\n",
       "      <td>...</td>\n",
       "      <td>...</td>\n",
       "      <td>...</td>\n",
       "      <td>...</td>\n",
       "      <td>...</td>\n",
       "      <td>...</td>\n",
       "      <td>...</td>\n",
       "      <td>...</td>\n",
       "    </tr>\n",
       "    <tr>\n",
       "      <th>89294</th>\n",
       "      <td>3352755</td>\n",
       "      <td>NaT</td>\n",
       "      <td>3 days 20:49:00</td>\n",
       "      <td>1.02</td>\n",
       "      <td>57.0</td>\n",
       "      <td>0.0</td>\n",
       "      <td>0.0</td>\n",
       "      <td>0.0</td>\n",
       "      <td>0.405889</td>\n",
       "    </tr>\n",
       "    <tr>\n",
       "      <th>89295</th>\n",
       "      <td>3352755</td>\n",
       "      <td>NaT</td>\n",
       "      <td>4 days 19:36:00</td>\n",
       "      <td>1.00</td>\n",
       "      <td>54.0</td>\n",
       "      <td>0.0</td>\n",
       "      <td>0.0</td>\n",
       "      <td>0.0</td>\n",
       "      <td>0.486689</td>\n",
       "    </tr>\n",
       "    <tr>\n",
       "      <th>89324</th>\n",
       "      <td>3353147</td>\n",
       "      <td>NaT</td>\n",
       "      <td>0 days 02:02:00</td>\n",
       "      <td>1.05</td>\n",
       "      <td>11.0</td>\n",
       "      <td>0.0</td>\n",
       "      <td>0.0</td>\n",
       "      <td>0.0</td>\n",
       "      <td>0.442948</td>\n",
       "    </tr>\n",
       "    <tr>\n",
       "      <th>89325</th>\n",
       "      <td>3353147</td>\n",
       "      <td>NaT</td>\n",
       "      <td>0 days 11:16:00</td>\n",
       "      <td>0.94</td>\n",
       "      <td>8.0</td>\n",
       "      <td>0.0</td>\n",
       "      <td>0.0</td>\n",
       "      <td>0.0</td>\n",
       "      <td>0.399815</td>\n",
       "    </tr>\n",
       "    <tr>\n",
       "      <th>89326</th>\n",
       "      <td>3353147</td>\n",
       "      <td>NaT</td>\n",
       "      <td>0 days 15:01:00</td>\n",
       "      <td>0.97</td>\n",
       "      <td>8.0</td>\n",
       "      <td>0.0</td>\n",
       "      <td>0.0</td>\n",
       "      <td>0.0</td>\n",
       "      <td>0.416016</td>\n",
       "    </tr>\n",
       "  </tbody>\n",
       "</table>\n",
       "<p>43720 rows × 9 columns</p>\n",
       "</div>"
      ],
      "text/plain": [
       "       patientunitstayid  time_to_detect  labresultoffset  creatinine   BUN  \\\n",
       "0                 141227 1 days 00:50:00             -128        1.40  26.0   \n",
       "1                 141227 0 days 22:55:00              -13        1.50  26.0   \n",
       "2                 141462 2 days 20:56:00            -1114        1.07  14.0   \n",
       "3                 141462 1 days 23:10:00              192        1.29  18.0   \n",
       "4                 141462 0 days 23:35:00             1607        1.34  18.0   \n",
       "...                  ...             ...              ...         ...   ...   \n",
       "89294            3352755             NaT  3 days 20:49:00        1.02  57.0   \n",
       "89295            3352755             NaT  4 days 19:36:00        1.00  54.0   \n",
       "89324            3353147             NaT  0 days 02:02:00        1.05  11.0   \n",
       "89325            3353147             NaT  0 days 11:16:00        0.94   8.0   \n",
       "89326            3353147             NaT  0 days 15:01:00        0.97   8.0   \n",
       "\n",
       "       positive_window  y_test  y_score    y_pred  \n",
       "0                  1.0     1.0      0.0  0.481117  \n",
       "1                  1.0     1.0      1.0  0.570907  \n",
       "2                  0.0     0.0      0.0  0.464456  \n",
       "3                  0.0     0.0      1.0  0.583454  \n",
       "4                  1.0     1.0      1.0  0.593227  \n",
       "...                ...     ...      ...       ...  \n",
       "89294              0.0     0.0      0.0  0.405889  \n",
       "89295              0.0     0.0      0.0  0.486689  \n",
       "89324              0.0     0.0      0.0  0.442948  \n",
       "89325              0.0     0.0      0.0  0.399815  \n",
       "89326              0.0     0.0      0.0  0.416016  \n",
       "\n",
       "[43720 rows x 9 columns]"
      ]
     },
     "execution_count": 177,
     "metadata": {},
     "output_type": "execute_result"
    }
   ],
   "source": [
    "class_gt_pred = pd.concat([fold4[['patientunitstayid', 'time_to_detect', 'labresultoffset', 'creatinine', 'BUN',\\\n",
    "                                  'positive_window']], y_test_score_pred], axis=1, ignore_index=False)\n",
    "class_gt_pred"
   ]
  },
  {
   "cell_type": "code",
   "execution_count": 178,
   "metadata": {},
   "outputs": [
    {
     "data": {
      "text/plain": [
       "0.16062785543040667"
      ]
     },
     "execution_count": 178,
     "metadata": {},
     "output_type": "execute_result"
    }
   ],
   "source": [
    "class_gt_pred[class_gt_pred['time_to_detect'].isna()]['y_score'].sum()/len(class_gt_pred[class_gt_pred['time_to_detect'].isna()])"
   ]
  },
  {
   "cell_type": "code",
   "execution_count": 180,
   "metadata": {},
   "outputs": [
    {
     "data": {
      "text/plain": [
       "0.2960005070672498"
      ]
     },
     "execution_count": 180,
     "metadata": {},
     "output_type": "execute_result"
    }
   ],
   "source": [
    "class_gt_pred[(~class_gt_pred['time_to_detect'].isna()) & (class_gt_pred['y_test']==0)]['y_score'].sum()/len(class_gt_pred[(~class_gt_pred['time_to_detect'].isna()) & (class_gt_pred['y_test']==0)])"
   ]
  },
  {
   "cell_type": "code",
   "execution_count": null,
   "metadata": {},
   "outputs": [],
   "source": []
  }
 ],
 "metadata": {
  "kernelspec": {
   "display_name": "Python 3",
   "language": "python",
   "name": "python3"
  },
  "language_info": {
   "codemirror_mode": {
    "name": "ipython",
    "version": 3
   },
   "file_extension": ".py",
   "mimetype": "text/x-python",
   "name": "python",
   "nbconvert_exporter": "python",
   "pygments_lexer": "ipython3",
   "version": "3.8.3"
  }
 },
 "nbformat": 4,
 "nbformat_minor": 4
}
