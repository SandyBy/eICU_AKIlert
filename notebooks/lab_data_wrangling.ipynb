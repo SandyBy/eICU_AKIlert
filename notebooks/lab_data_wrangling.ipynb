{
 "cells": [
  {
   "cell_type": "code",
   "execution_count": 1,
   "metadata": {},
   "outputs": [],
   "source": [
    "import pandas as pd\n",
    "pat_id_offset = pd.read_csv('../data/intermediate/id_offset.csv', header=None)\n",
    "test_lab = pd.read_csv('../data/intermediate/test_lab_data.csv', header=None)"
   ]
  },
  {
   "cell_type": "code",
   "execution_count": 2,
   "metadata": {},
   "outputs": [],
   "source": [
    "columns = ['patientunitstayid', 'labname', 'labresult', 'labresultoffset']\n",
    "test_lab.columns=columns\n",
    "pat_id_offset.columns=['patientunitstayid', 'earlier_time']\n",
    "pat_id_offset.set_index('patientunitstayid', inplace=True)"
   ]
  },
  {
   "cell_type": "code",
   "execution_count": 3,
   "metadata": {},
   "outputs": [],
   "source": [
    "test_lab.set_index(['patientunitstayid','labresultoffset', 'labname'], inplace=True)\n",
    "test_lab = test_lab.unstack(level=2)"
   ]
  },
  {
   "cell_type": "code",
   "execution_count": 4,
   "metadata": {},
   "outputs": [],
   "source": [
    "test_lab.columns = test_lab.columns.droplevel()"
   ]
  },
  {
   "cell_type": "code",
   "execution_count": 5,
   "metadata": {},
   "outputs": [],
   "source": [
    "test_lab.reset_index(level=1, inplace=True)"
   ]
  },
  {
   "cell_type": "code",
   "execution_count": 6,
   "metadata": {},
   "outputs": [],
   "source": [
    "test_lab = test_lab.merge(pat_id_offset, left_index=True, right_index=True)"
   ]
  },
  {
   "cell_type": "code",
   "execution_count": 7,
   "metadata": {},
   "outputs": [],
   "source": [
    "test_lab['time_to_detect'] = test_lab['earlier_time'] - test_lab['labresultoffset']"
   ]
  },
  {
   "cell_type": "code",
   "execution_count": 8,
   "metadata": {},
   "outputs": [],
   "source": [
    "pd.option_context(\"mode.chained_assignment\", None)\n",
    "test_lab = test_lab[test_lab['time_to_detect']/60>=12]\n",
    "test_lab.loc[test_lab['time_to_detect']/60<=24, 'positive_window'] = 1"
   ]
  },
  {
   "cell_type": "code",
   "execution_count": 9,
   "metadata": {},
   "outputs": [],
   "source": [
    "test_lab.fillna(0, inplace=True)"
   ]
  },
  {
   "cell_type": "code",
   "execution_count": 10,
   "metadata": {},
   "outputs": [],
   "source": [
    "test_lab.reset_index(inplace=True)\n",
    "test_lab['time_to_detect'] = pd.to_timedelta(test_lab['time_to_detect'], unit='minute')"
   ]
  },
  {
   "cell_type": "code",
   "execution_count": 11,
   "metadata": {},
   "outputs": [],
   "source": [
    "import sys, os\n",
    "sys.path.insert(0, os.path.abspath('../src/'))\n",
    "import lab_wrangling\n",
    "import importlib"
   ]
  },
  {
   "cell_type": "code",
   "execution_count": 12,
   "metadata": {},
   "outputs": [],
   "source": [
    "columns = ['creatinine', 'BUN', 'WBC x 1000']\n",
    "funcs = ['min', 'median', 'max', 'var']\n",
    "test_lab.reset_index(inplace=True)\n",
    "df = test_lab\n",
    "test_lab = lab_wrangling.calc_stats_windows(df, columns, funcs)"
   ]
  },
  {
   "cell_type": "code",
   "execution_count": 1,
   "metadata": {},
   "outputs": [],
   "source": [
    "test_lab"
   ]
  },
  {
   "cell_type": "code",
   "execution_count": 14,
   "metadata": {},
   "outputs": [
    {
     "name": "stdout",
     "output_type": "stream",
     "text": [
      "7\n",
      "3\n"
     ]
    }
   ],
   "source": [
    "print(len(test_lab))\n",
    "test_lab.dropna(inplace=True)\n",
    "print(len(test_lab))"
   ]
  },
  {
   "cell_type": "code",
   "execution_count": 2,
   "metadata": {},
   "outputs": [],
   "source": [
    "test_lab"
   ]
  },
  {
   "cell_type": "code",
   "execution_count": 58,
   "metadata": {},
   "outputs": [],
   "source": [
    "def calc_stats_windows(df, columns, funcs):\n",
    "    df['time_to_detect'] = pd.to_timedelta(test_lab['time_to_detect'], unit='minute')\n",
    "    df.set_index('time_to_detect', inplace=True)\n",
    "    sum_df = df.groupby('patientunitstayid')[columns].apply(lambda x: x.rolling('2d', min_periods=2).agg(funcs)) \n",
    "    sum_df.columns = sum_df.columns.map('_'.join)\n",
    "    columns = sum_df.columns.tolist()\n",
    "    columns.append('patientunitstayid')\n",
    "    sum_df = pd.concat([sum_df, df['patientunitstayid']], axis=1, ignore_index=True)\n",
    "    sum_df.columns = columns\n",
    "    sum_df.reset_index(inplace=True)\n",
    "    sum_df.set_index(['patientunitstayid', 'time_to_detect'], inplace=True)\n",
    "    df.reset_index(inplace=True)\n",
    "    df.set_index(['patientunitstayid', 'time_to_detect'], inplace=True)\n",
    "    df = pd.concat([df, sum_df], axis=1, ignore_index=False)\n",
    "    return df"
   ]
  },
  {
   "cell_type": "code",
   "execution_count": 3,
   "metadata": {},
   "outputs": [],
   "source": [
    "test_lab"
   ]
  },
  {
   "cell_type": "code",
   "execution_count": null,
   "metadata": {},
   "outputs": [],
   "source": []
  }
 ],
 "metadata": {
  "kernelspec": {
   "display_name": "Python 3",
   "language": "python",
   "name": "python3"
  },
  "language_info": {
   "codemirror_mode": {
    "name": "ipython",
    "version": 3
   },
   "file_extension": ".py",
   "mimetype": "text/x-python",
   "name": "python",
   "nbconvert_exporter": "python",
   "pygments_lexer": "ipython3",
   "version": "3.8.3"
  }
 },
 "nbformat": 4,
 "nbformat_minor": 4
}
